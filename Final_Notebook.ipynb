{
 "cells": [
  {
   "cell_type": "markdown",
   "metadata": {},
   "source": [
    "# Movie Industry Trends"
   ]
  },
  {
   "cell_type": "markdown",
   "metadata": {},
   "source": [
    "![aesthetics.jpg](images/aesthetics.jpg)\n",
    "\n",
    "*Sponsored by Microsoft* ;)\n",
    "\n",
    "**Authors:** [Christos Maglaras](mailto:Christo111M@gmail.com) and [Jamie Dowat](mailto:jamie_dowat44@yahoo.com)\n",
    "\n",
    "## Overview\n",
    "\n",
    "In light of Microsoft's desire to expand their enterprise into the movie sector, we have analyzed various aspects of movie data to help develop some insights to help maximize Microsoft's ROI for their potential startup. \n",
    "\n",
    "Since we are both relatively unfamiliar with the business end of the industry, supplementary research on the working of the industry as a whole were considered to help drive and focus our analysis. (See hyperlinks in *Next Steps*)\n",
    "\n",
    "Our insights were from the following categories:\n",
    "* *Budget vs Total Gross* \n",
    "    * Movies such as **Minions**, **Beauty and the Beast (1991)**, and **Rocky** had the greatest ROI.\n",
    "* *Genre vs Total Gross*\n",
    "    * The genres that produce the largest total gross (on average) are **Animation, Adventure, and [Sci-Fi](https://www.denofgeek.com/movies/movies-of-the-decade-arrival-and-the-rise-in-popularity-of-smart-sci-fi/)**.\n",
    "* *Release Month vs Total Gross*\n",
    "    * On average, the summer months have the highest average total gross.\n",
    "* *Popularity vs Revenue vs Genre*\n",
    "    * **Action** movies are the most frequently correlated to growth in popularity if there is a growth in revenue.\n",
    "* *Movie Runtime*\n",
    "    * For all genres (generally speaking), an optimal run-time is under 120 minutes.\n",
    "    * More 'serious' genres have a higher runtime limit (before their 'popularity' decreases)\n",
    "        * For example, Drama films have the highest runtime threshold, at 220 minutes.\n",
    "        \n",
    "\n",
    "## Business Understanding\n",
    "\n",
    "Beginning a new branch of a business is not easy, especially in the [entertainment sector](https://www.latimes.com/entertainment-arts/business/story/2020-12-09/everything-hollywood-lost-during-the-pandemic). Thankfully, Microsoft is one of the leaders of technology worldwide (has the second highest [brand value](https://www.visualcapitalist.com/the-worlds-tech-giants-ranked/) behind Apple), so distribution of the content should be relatively easy as, for example, Microsoft's in house Azure servers could be employed. This could leed to the development of a *Microsoft streaming service*, which is the route that many competitors have taken; Amazon has Prime Video, Apple has [Apple TV+](https://www.techradar.com/news/did-apple-tv-plus-secretly-become-one-of-the-best-streaming-services-in-2020), and Google owns YouTube. This potentially gives Microsoft an advantage, to enter the rapidly changing market with substantial data to observe from its competitors.  \n",
    "\n",
    "This notebook's purpose is to provide as much relevant data as is reasonable to aid Microsoft in building a business plan to produce successful movies.\n",
    "\n",
    "## Unpacking the Data\n",
    "\n",
    "Data was analyzed from [IMDB](https://www.imdb.com/), [Box Office Mojo](https://www.boxofficemojo.com/), [The Movie Data Base](https://www.themoviedb.org/), [Kaggle](https://www.kaggle.com/rounakbanik/the-movies-dataset?select=movies_metadata.csv) and [The-Numbers.com](https://www.the-numbers.com/).\n",
    "\n",
    "IMDb, or The International Movie Data Base, is the internet's primary source for general movie and television data. Since 1990, they have collected data from both professional and public sources, with much of their data being generated from their users' activity.\n",
    "\n",
    "Kaggle is known as one of the most popular websites hosting datasets for use by data scientists. They also create their own content, but much of their content is user generated. The main source of data for the Kaggle dataset used in this notebook is IMDb.\n",
    "\n",
    "Box Office Mojo is an alternate source of data, and was bought by IMDB in 2008.\n",
    "\n",
    "The Numbers is another alternate source, they aggregate data from the previous sites and more to create datasets of their own. "
   ]
  },
  {
   "cell_type": "code",
   "execution_count": 149,
   "metadata": {},
   "outputs": [],
   "source": [
    "import pandas as pd"
   ]
  },
  {
   "cell_type": "markdown",
   "metadata": {},
   "source": [
    "We adjusted each of the monetary values to accomodate for inflation. [Here](https://github.com/datadesk/cpi#:~:text=Working%20with%20Python,the%20Bureau%20of%20Labor%20Statistics) is the link to the package info."
   ]
  },
  {
   "cell_type": "code",
   "execution_count": 150,
   "metadata": {},
   "outputs": [],
   "source": [
    "# if you do not have this cpi package, you can download as:\n",
    "\n",
    "# pip install cpi (!pip install cpi if you'd like in your Jupyter notebook)"
   ]
  },
  {
   "cell_type": "code",
   "execution_count": 151,
   "metadata": {},
   "outputs": [],
   "source": [
    "import cpi\n",
    "cpi.update() # run to make sure current Consumer Price Index is being used in calculations"
   ]
  },
  {
   "cell_type": "code",
   "execution_count": 152,
   "metadata": {},
   "outputs": [],
   "source": [
    "bomMovieGross = pd.read_csv('data/bom.movie_gross.csv.gz')\n",
    "\n",
    "imdbNameBasics = pd.read_csv('data/imdb.name.basics.csv.gz')\n",
    "\n",
    "imdbTitleAkas = pd.read_csv('data/imdb.title.akas.csv.gz')\n",
    "\n",
    "imdbTitleBasics = pd.read_csv('data/imdb.title.basics.csv.gz')\n",
    "\n",
    "imdbTitleCrew = pd.read_csv('data/imdb.title.crew.csv.gz')\n",
    "\n",
    "imdbTitlePrincipals = pd.read_csv('data/imdb.title.principals.csv.gz')\n",
    "\n",
    "imdbTitleRatings = pd.read_csv('data/imdb.title.ratings.csv.gz')\n",
    "\n",
    "rtMovieInfo = pd.read_csv('data/rt.reviews.tsv.gz', sep='\\t', encoding='windows-1252')\n",
    "\n",
    "rtReviews = pd.read_csv('data/rt.reviews.tsv.gz', sep='\\t', encoding='windows-1252')\n",
    "\n",
    "tmdbMovies = pd.read_csv('data/tmdb.movies.csv.gz')\n",
    "\n",
    "tnMovieBudgets = pd.read_csv('data/tn.movie_budgets.csv.gz')"
   ]
  },
  {
   "cell_type": "markdown",
   "metadata": {},
   "source": [
    "### Cleaning Movie Budget data from [The-Numbers.com](https://www.the-numbers.com/)"
   ]
  },
  {
   "cell_type": "code",
   "execution_count": 153,
   "metadata": {},
   "outputs": [
    {
     "data": {
      "text/html": [
       "<div>\n",
       "<style scoped>\n",
       "    .dataframe tbody tr th:only-of-type {\n",
       "        vertical-align: middle;\n",
       "    }\n",
       "\n",
       "    .dataframe tbody tr th {\n",
       "        vertical-align: top;\n",
       "    }\n",
       "\n",
       "    .dataframe thead th {\n",
       "        text-align: right;\n",
       "    }\n",
       "</style>\n",
       "<table border=\"1\" class=\"dataframe\">\n",
       "  <thead>\n",
       "    <tr style=\"text-align: right;\">\n",
       "      <th></th>\n",
       "      <th>id</th>\n",
       "      <th>release_date</th>\n",
       "      <th>movie</th>\n",
       "      <th>production_budget</th>\n",
       "      <th>domestic_gross</th>\n",
       "      <th>worldwide_gross</th>\n",
       "    </tr>\n",
       "  </thead>\n",
       "  <tbody>\n",
       "    <tr>\n",
       "      <th>0</th>\n",
       "      <td>1</td>\n",
       "      <td>Dec 18, 2009</td>\n",
       "      <td>Avatar</td>\n",
       "      <td>$425,000,000</td>\n",
       "      <td>$760,507,625</td>\n",
       "      <td>$2,776,345,279</td>\n",
       "    </tr>\n",
       "    <tr>\n",
       "      <th>1</th>\n",
       "      <td>2</td>\n",
       "      <td>May 20, 2011</td>\n",
       "      <td>Pirates of the Caribbean: On Stranger Tides</td>\n",
       "      <td>$410,600,000</td>\n",
       "      <td>$241,063,875</td>\n",
       "      <td>$1,045,663,875</td>\n",
       "    </tr>\n",
       "    <tr>\n",
       "      <th>2</th>\n",
       "      <td>3</td>\n",
       "      <td>Jun 7, 2019</td>\n",
       "      <td>Dark Phoenix</td>\n",
       "      <td>$350,000,000</td>\n",
       "      <td>$42,762,350</td>\n",
       "      <td>$149,762,350</td>\n",
       "    </tr>\n",
       "    <tr>\n",
       "      <th>3</th>\n",
       "      <td>4</td>\n",
       "      <td>May 1, 2015</td>\n",
       "      <td>Avengers: Age of Ultron</td>\n",
       "      <td>$330,600,000</td>\n",
       "      <td>$459,005,868</td>\n",
       "      <td>$1,403,013,963</td>\n",
       "    </tr>\n",
       "    <tr>\n",
       "      <th>4</th>\n",
       "      <td>5</td>\n",
       "      <td>Dec 15, 2017</td>\n",
       "      <td>Star Wars Ep. VIII: The Last Jedi</td>\n",
       "      <td>$317,000,000</td>\n",
       "      <td>$620,181,382</td>\n",
       "      <td>$1,316,721,747</td>\n",
       "    </tr>\n",
       "  </tbody>\n",
       "</table>\n",
       "</div>"
      ],
      "text/plain": [
       "   id  release_date                                        movie  \\\n",
       "0   1  Dec 18, 2009                                       Avatar   \n",
       "1   2  May 20, 2011  Pirates of the Caribbean: On Stranger Tides   \n",
       "2   3   Jun 7, 2019                                 Dark Phoenix   \n",
       "3   4   May 1, 2015                      Avengers: Age of Ultron   \n",
       "4   5  Dec 15, 2017            Star Wars Ep. VIII: The Last Jedi   \n",
       "\n",
       "  production_budget domestic_gross worldwide_gross  \n",
       "0      $425,000,000   $760,507,625  $2,776,345,279  \n",
       "1      $410,600,000   $241,063,875  $1,045,663,875  \n",
       "2      $350,000,000    $42,762,350    $149,762,350  \n",
       "3      $330,600,000   $459,005,868  $1,403,013,963  \n",
       "4      $317,000,000   $620,181,382  $1,316,721,747  "
      ]
     },
     "execution_count": 153,
     "metadata": {},
     "output_type": "execute_result"
    }
   ],
   "source": [
    "tnMovieBudgets.head()"
   ]
  },
  {
   "cell_type": "markdown",
   "metadata": {},
   "source": [
    "The production budget, domestic gross, and worldwide gross columns need to be converted into numbers:"
   ]
  },
  {
   "cell_type": "code",
   "execution_count": 154,
   "metadata": {},
   "outputs": [],
   "source": [
    "money_cols = ['worldwide_gross', 'domestic_gross', 'production_budget']\n",
    "tnMovieBudgets[money_cols] = tnMovieBudgets[money_cols].applymap(lambda x: int(x.replace('$','').replace(',','')))"
   ]
  },
  {
   "cell_type": "code",
   "execution_count": 155,
   "metadata": {},
   "outputs": [
    {
     "data": {
      "text/html": [
       "<div>\n",
       "<style scoped>\n",
       "    .dataframe tbody tr th:only-of-type {\n",
       "        vertical-align: middle;\n",
       "    }\n",
       "\n",
       "    .dataframe tbody tr th {\n",
       "        vertical-align: top;\n",
       "    }\n",
       "\n",
       "    .dataframe thead th {\n",
       "        text-align: right;\n",
       "    }\n",
       "</style>\n",
       "<table border=\"1\" class=\"dataframe\">\n",
       "  <thead>\n",
       "    <tr style=\"text-align: right;\">\n",
       "      <th></th>\n",
       "      <th>worldwide_gross</th>\n",
       "      <th>domestic_gross</th>\n",
       "      <th>production_budget</th>\n",
       "    </tr>\n",
       "  </thead>\n",
       "  <tbody>\n",
       "    <tr>\n",
       "      <th>0</th>\n",
       "      <td>2776345279</td>\n",
       "      <td>760507625</td>\n",
       "      <td>425000000</td>\n",
       "    </tr>\n",
       "  </tbody>\n",
       "</table>\n",
       "</div>"
      ],
      "text/plain": [
       "   worldwide_gross  domestic_gross  production_budget\n",
       "0       2776345279       760507625          425000000"
      ]
     },
     "execution_count": 155,
     "metadata": {},
     "output_type": "execute_result"
    }
   ],
   "source": [
    "tnMovieBudgets[money_cols].head(1)"
   ]
  },
  {
   "cell_type": "markdown",
   "metadata": {},
   "source": [
    "Then, we adjusted the dates to create separate columns for month and year released:"
   ]
  },
  {
   "cell_type": "code",
   "execution_count": 156,
   "metadata": {
    "scrolled": true
   },
   "outputs": [],
   "source": [
    "tnMovieBudgets['release_date'] = pd.to_datetime(tnMovieBudgets['release_date'], errors='coerce') # what does coerce do?\n",
    "tnMovieBudgets['release_date']\n",
    "\n",
    "tnMovieBudgets['month_released'] = tnMovieBudgets['release_date'].apply(lambda x: str(x))\n",
    "tnMovieBudgets['month_released'] = tnMovieBudgets['month_released'].apply(lambda x: int(x[5:7]))\n",
    "\n",
    "tnMovieBudgets['year'] = tnMovieBudgets['release_date'].apply(lambda x: str(x))\n",
    "tnMovieBudgets['year'] = tnMovieBudgets['year'].apply(lambda x: int(x[:4]))\n",
    "\n",
    "tnMovieBudgets.drop(labels='release_date', axis=1, inplace=True)"
   ]
  },
  {
   "cell_type": "code",
   "execution_count": 157,
   "metadata": {},
   "outputs": [
    {
     "data": {
      "text/html": [
       "<div>\n",
       "<style scoped>\n",
       "    .dataframe tbody tr th:only-of-type {\n",
       "        vertical-align: middle;\n",
       "    }\n",
       "\n",
       "    .dataframe tbody tr th {\n",
       "        vertical-align: top;\n",
       "    }\n",
       "\n",
       "    .dataframe thead th {\n",
       "        text-align: right;\n",
       "    }\n",
       "</style>\n",
       "<table border=\"1\" class=\"dataframe\">\n",
       "  <thead>\n",
       "    <tr style=\"text-align: right;\">\n",
       "      <th></th>\n",
       "      <th>month_released</th>\n",
       "      <th>year</th>\n",
       "    </tr>\n",
       "  </thead>\n",
       "  <tbody>\n",
       "    <tr>\n",
       "      <th>0</th>\n",
       "      <td>12</td>\n",
       "      <td>2009</td>\n",
       "    </tr>\n",
       "  </tbody>\n",
       "</table>\n",
       "</div>"
      ],
      "text/plain": [
       "   month_released  year\n",
       "0              12  2009"
      ]
     },
     "execution_count": 157,
     "metadata": {},
     "output_type": "execute_result"
    }
   ],
   "source": [
    "tnMovieBudgets[['month_released', 'year']].head(1)"
   ]
  },
  {
   "cell_type": "markdown",
   "metadata": {},
   "source": [
    "### Cleaning [Box Office Mojo](https://www.boxofficemojo.com/) data"
   ]
  },
  {
   "cell_type": "code",
   "execution_count": 158,
   "metadata": {},
   "outputs": [
    {
     "data": {
      "text/html": [
       "<div>\n",
       "<style scoped>\n",
       "    .dataframe tbody tr th:only-of-type {\n",
       "        vertical-align: middle;\n",
       "    }\n",
       "\n",
       "    .dataframe tbody tr th {\n",
       "        vertical-align: top;\n",
       "    }\n",
       "\n",
       "    .dataframe thead th {\n",
       "        text-align: right;\n",
       "    }\n",
       "</style>\n",
       "<table border=\"1\" class=\"dataframe\">\n",
       "  <thead>\n",
       "    <tr style=\"text-align: right;\">\n",
       "      <th></th>\n",
       "      <th>title</th>\n",
       "      <th>studio</th>\n",
       "      <th>domestic_gross</th>\n",
       "      <th>foreign_gross</th>\n",
       "      <th>year</th>\n",
       "    </tr>\n",
       "  </thead>\n",
       "  <tbody>\n",
       "    <tr>\n",
       "      <th>0</th>\n",
       "      <td>Toy Story 3</td>\n",
       "      <td>BV</td>\n",
       "      <td>415000000.0</td>\n",
       "      <td>652000000</td>\n",
       "      <td>2010</td>\n",
       "    </tr>\n",
       "    <tr>\n",
       "      <th>1</th>\n",
       "      <td>Alice in Wonderland (2010)</td>\n",
       "      <td>BV</td>\n",
       "      <td>334200000.0</td>\n",
       "      <td>691300000</td>\n",
       "      <td>2010</td>\n",
       "    </tr>\n",
       "    <tr>\n",
       "      <th>2</th>\n",
       "      <td>Harry Potter and the Deathly Hallows Part 1</td>\n",
       "      <td>WB</td>\n",
       "      <td>296000000.0</td>\n",
       "      <td>664300000</td>\n",
       "      <td>2010</td>\n",
       "    </tr>\n",
       "    <tr>\n",
       "      <th>3</th>\n",
       "      <td>Inception</td>\n",
       "      <td>WB</td>\n",
       "      <td>292600000.0</td>\n",
       "      <td>535700000</td>\n",
       "      <td>2010</td>\n",
       "    </tr>\n",
       "    <tr>\n",
       "      <th>4</th>\n",
       "      <td>Shrek Forever After</td>\n",
       "      <td>P/DW</td>\n",
       "      <td>238700000.0</td>\n",
       "      <td>513900000</td>\n",
       "      <td>2010</td>\n",
       "    </tr>\n",
       "  </tbody>\n",
       "</table>\n",
       "</div>"
      ],
      "text/plain": [
       "                                         title studio  domestic_gross  \\\n",
       "0                                  Toy Story 3     BV     415000000.0   \n",
       "1                   Alice in Wonderland (2010)     BV     334200000.0   \n",
       "2  Harry Potter and the Deathly Hallows Part 1     WB     296000000.0   \n",
       "3                                    Inception     WB     292600000.0   \n",
       "4                          Shrek Forever After   P/DW     238700000.0   \n",
       "\n",
       "  foreign_gross  year  \n",
       "0     652000000  2010  \n",
       "1     691300000  2010  \n",
       "2     664300000  2010  \n",
       "3     535700000  2010  \n",
       "4     513900000  2010  "
      ]
     },
     "execution_count": 158,
     "metadata": {},
     "output_type": "execute_result"
    }
   ],
   "source": [
    "bomMovieGross.head()"
   ]
  },
  {
   "cell_type": "code",
   "execution_count": 159,
   "metadata": {},
   "outputs": [],
   "source": [
    "bomMovieGross['foreign_gross'] = bomMovieGross['foreign_gross'].apply(lambda x: float(str(x).replace(',','')))"
   ]
  },
  {
   "cell_type": "markdown",
   "metadata": {},
   "source": [
    "### Adjusting tnMovieBudgets and bomMovieGross for inflation"
   ]
  },
  {
   "cell_type": "markdown",
   "metadata": {},
   "source": [
    "First, we made sure all NaN values were an integer:"
   ]
  },
  {
   "cell_type": "code",
   "execution_count": 160,
   "metadata": {},
   "outputs": [],
   "source": [
    "bomMovieGross['foreign_gross'].fillna(value=0, inplace=True)"
   ]
  },
  {
   "cell_type": "markdown",
   "metadata": {},
   "source": [
    "Then, we converted the numbers using **cpi.inflate**:"
   ]
  },
  {
   "cell_type": "code",
   "execution_count": 161,
   "metadata": {},
   "outputs": [],
   "source": [
    "tnMovieYA = tnMovieBudgets[tnMovieBudgets['year']<2019]\n",
    "\n",
    "tnMovieBudgets['domestic_adj'] = tnMovieYA.apply(lambda x: cpi.inflate(x.domestic_gross, x.year), axis=1)\n",
    "\n",
    "tnMovieBudgets['worldwide_adj'] = tnMovieYA.apply(lambda x: cpi.inflate(x.worldwide_gross, x.year), axis=1)\n",
    "\n",
    "tnMovieBudgets['budget_adj'] = tnMovieYA.apply(lambda x: cpi.inflate(x.production_budget, x.year), axis=1)"
   ]
  },
  {
   "cell_type": "code",
   "execution_count": 162,
   "metadata": {},
   "outputs": [],
   "source": [
    "bomMovieGross['domestic_adj'] = bomMovieGross.apply(lambda x: cpi.inflate(x.domestic_gross, x.year), axis=1)\n",
    "\n",
    "bomMovieGross['foreign_adj'] = bomMovieGross.apply(lambda x: cpi.inflate(x.foreign_gross, x.year), axis=1)"
   ]
  },
  {
   "cell_type": "markdown",
   "metadata": {},
   "source": [
    "To account for data that was NOT adjusted (the CPI does not inflate any data that came after 2018), we filled the NaNs with their original numbers:"
   ]
  },
  {
   "cell_type": "code",
   "execution_count": 163,
   "metadata": {},
   "outputs": [],
   "source": [
    "tnMovieBudgets['domestic_adj'].fillna(value=tnMovieBudgets['domestic_gross'], inplace=True)\n",
    "tnMovieBudgets['worldwide_adj'].fillna(value=tnMovieBudgets['worldwide_gross'], inplace=True)"
   ]
  },
  {
   "cell_type": "code",
   "execution_count": 164,
   "metadata": {},
   "outputs": [],
   "source": [
    "tnMovieBudgets['budget_adj'].fillna(value=tnMovieBudgets['production_budget'], inplace=True)"
   ]
  },
  {
   "cell_type": "code",
   "execution_count": 165,
   "metadata": {},
   "outputs": [],
   "source": [
    "bomMovieGross['domestic_adj'].fillna(value=bomMovieGross['domestic_gross'], inplace=True)\n",
    "bomMovieGross['foreign_adj'].fillna(value=bomMovieGross['foreign_gross'], inplace=True)"
   ]
  },
  {
   "cell_type": "code",
   "execution_count": 166,
   "metadata": {
    "scrolled": true
   },
   "outputs": [
    {
     "data": {
      "text/html": [
       "<div>\n",
       "<style scoped>\n",
       "    .dataframe tbody tr th:only-of-type {\n",
       "        vertical-align: middle;\n",
       "    }\n",
       "\n",
       "    .dataframe tbody tr th {\n",
       "        vertical-align: top;\n",
       "    }\n",
       "\n",
       "    .dataframe thead th {\n",
       "        text-align: right;\n",
       "    }\n",
       "</style>\n",
       "<table border=\"1\" class=\"dataframe\">\n",
       "  <thead>\n",
       "    <tr style=\"text-align: right;\">\n",
       "      <th></th>\n",
       "      <th>title</th>\n",
       "      <th>studio</th>\n",
       "      <th>domestic_gross</th>\n",
       "      <th>foreign_gross</th>\n",
       "      <th>year</th>\n",
       "      <th>domestic_adj</th>\n",
       "      <th>foreign_adj</th>\n",
       "    </tr>\n",
       "  </thead>\n",
       "  <tbody>\n",
       "    <tr>\n",
       "      <th>0</th>\n",
       "      <td>Toy Story 3</td>\n",
       "      <td>BV</td>\n",
       "      <td>415000000.0</td>\n",
       "      <td>652000000.0</td>\n",
       "      <td>2010</td>\n",
       "      <td>4.925641e+08</td>\n",
       "      <td>7.738598e+08</td>\n",
       "    </tr>\n",
       "    <tr>\n",
       "      <th>1</th>\n",
       "      <td>Alice in Wonderland (2010)</td>\n",
       "      <td>BV</td>\n",
       "      <td>334200000.0</td>\n",
       "      <td>691300000.0</td>\n",
       "      <td>2010</td>\n",
       "      <td>3.966625e+08</td>\n",
       "      <td>8.205050e+08</td>\n",
       "    </tr>\n",
       "    <tr>\n",
       "      <th>2</th>\n",
       "      <td>Harry Potter and the Deathly Hallows Part 1</td>\n",
       "      <td>WB</td>\n",
       "      <td>296000000.0</td>\n",
       "      <td>664300000.0</td>\n",
       "      <td>2010</td>\n",
       "      <td>3.513229e+08</td>\n",
       "      <td>7.884587e+08</td>\n",
       "    </tr>\n",
       "    <tr>\n",
       "      <th>3</th>\n",
       "      <td>Inception</td>\n",
       "      <td>WB</td>\n",
       "      <td>292600000.0</td>\n",
       "      <td>535700000.0</td>\n",
       "      <td>2010</td>\n",
       "      <td>3.472874e+08</td>\n",
       "      <td>6.358231e+08</td>\n",
       "    </tr>\n",
       "    <tr>\n",
       "      <th>4</th>\n",
       "      <td>Shrek Forever After</td>\n",
       "      <td>P/DW</td>\n",
       "      <td>238700000.0</td>\n",
       "      <td>513900000.0</td>\n",
       "      <td>2010</td>\n",
       "      <td>2.833134e+08</td>\n",
       "      <td>6.099487e+08</td>\n",
       "    </tr>\n",
       "  </tbody>\n",
       "</table>\n",
       "</div>"
      ],
      "text/plain": [
       "                                         title studio  domestic_gross  \\\n",
       "0                                  Toy Story 3     BV     415000000.0   \n",
       "1                   Alice in Wonderland (2010)     BV     334200000.0   \n",
       "2  Harry Potter and the Deathly Hallows Part 1     WB     296000000.0   \n",
       "3                                    Inception     WB     292600000.0   \n",
       "4                          Shrek Forever After   P/DW     238700000.0   \n",
       "\n",
       "   foreign_gross  year  domestic_adj   foreign_adj  \n",
       "0    652000000.0  2010  4.925641e+08  7.738598e+08  \n",
       "1    691300000.0  2010  3.966625e+08  8.205050e+08  \n",
       "2    664300000.0  2010  3.513229e+08  7.884587e+08  \n",
       "3    535700000.0  2010  3.472874e+08  6.358231e+08  \n",
       "4    513900000.0  2010  2.833134e+08  6.099487e+08  "
      ]
     },
     "execution_count": 166,
     "metadata": {},
     "output_type": "execute_result"
    }
   ],
   "source": [
    "bomMovieGross.head()"
   ]
  },
  {
   "cell_type": "code",
   "execution_count": 167,
   "metadata": {},
   "outputs": [
    {
     "data": {
      "text/html": [
       "<div>\n",
       "<style scoped>\n",
       "    .dataframe tbody tr th:only-of-type {\n",
       "        vertical-align: middle;\n",
       "    }\n",
       "\n",
       "    .dataframe tbody tr th {\n",
       "        vertical-align: top;\n",
       "    }\n",
       "\n",
       "    .dataframe thead th {\n",
       "        text-align: right;\n",
       "    }\n",
       "</style>\n",
       "<table border=\"1\" class=\"dataframe\">\n",
       "  <thead>\n",
       "    <tr style=\"text-align: right;\">\n",
       "      <th></th>\n",
       "      <th>id</th>\n",
       "      <th>movie</th>\n",
       "      <th>production_budget</th>\n",
       "      <th>domestic_gross</th>\n",
       "      <th>worldwide_gross</th>\n",
       "      <th>month_released</th>\n",
       "      <th>year</th>\n",
       "      <th>domestic_adj</th>\n",
       "      <th>worldwide_adj</th>\n",
       "      <th>budget_adj</th>\n",
       "    </tr>\n",
       "  </thead>\n",
       "  <tbody>\n",
       "    <tr>\n",
       "      <th>0</th>\n",
       "      <td>1</td>\n",
       "      <td>Avatar</td>\n",
       "      <td>425000000</td>\n",
       "      <td>760507625</td>\n",
       "      <td>2776345279</td>\n",
       "      <td>12</td>\n",
       "      <td>2009</td>\n",
       "      <td>9.174536e+08</td>\n",
       "      <td>3.349300e+09</td>\n",
       "      <td>5.127072e+08</td>\n",
       "    </tr>\n",
       "    <tr>\n",
       "      <th>1</th>\n",
       "      <td>2</td>\n",
       "      <td>Pirates of the Caribbean: On Stranger Tides</td>\n",
       "      <td>410600000</td>\n",
       "      <td>241063875</td>\n",
       "      <td>1045663875</td>\n",
       "      <td>5</td>\n",
       "      <td>2011</td>\n",
       "      <td>2.773640e+08</td>\n",
       "      <td>1.203123e+09</td>\n",
       "      <td>4.724294e+08</td>\n",
       "    </tr>\n",
       "    <tr>\n",
       "      <th>2</th>\n",
       "      <td>3</td>\n",
       "      <td>Dark Phoenix</td>\n",
       "      <td>350000000</td>\n",
       "      <td>42762350</td>\n",
       "      <td>149762350</td>\n",
       "      <td>6</td>\n",
       "      <td>2019</td>\n",
       "      <td>4.276235e+07</td>\n",
       "      <td>1.497624e+08</td>\n",
       "      <td>3.500000e+08</td>\n",
       "    </tr>\n",
       "    <tr>\n",
       "      <th>3</th>\n",
       "      <td>4</td>\n",
       "      <td>Avengers: Age of Ultron</td>\n",
       "      <td>330600000</td>\n",
       "      <td>459005868</td>\n",
       "      <td>1403013963</td>\n",
       "      <td>5</td>\n",
       "      <td>2015</td>\n",
       "      <td>5.012120e+08</td>\n",
       "      <td>1.532023e+09</td>\n",
       "      <td>3.609991e+08</td>\n",
       "    </tr>\n",
       "    <tr>\n",
       "      <th>4</th>\n",
       "      <td>5</td>\n",
       "      <td>Star Wars Ep. VIII: The Last Jedi</td>\n",
       "      <td>317000000</td>\n",
       "      <td>620181382</td>\n",
       "      <td>1316721747</td>\n",
       "      <td>12</td>\n",
       "      <td>2017</td>\n",
       "      <td>6.548212e+08</td>\n",
       "      <td>1.390266e+09</td>\n",
       "      <td>3.347058e+08</td>\n",
       "    </tr>\n",
       "  </tbody>\n",
       "</table>\n",
       "</div>"
      ],
      "text/plain": [
       "   id                                        movie  production_budget  \\\n",
       "0   1                                       Avatar          425000000   \n",
       "1   2  Pirates of the Caribbean: On Stranger Tides          410600000   \n",
       "2   3                                 Dark Phoenix          350000000   \n",
       "3   4                      Avengers: Age of Ultron          330600000   \n",
       "4   5            Star Wars Ep. VIII: The Last Jedi          317000000   \n",
       "\n",
       "   domestic_gross  worldwide_gross  month_released  year  domestic_adj  \\\n",
       "0       760507625       2776345279              12  2009  9.174536e+08   \n",
       "1       241063875       1045663875               5  2011  2.773640e+08   \n",
       "2        42762350        149762350               6  2019  4.276235e+07   \n",
       "3       459005868       1403013963               5  2015  5.012120e+08   \n",
       "4       620181382       1316721747              12  2017  6.548212e+08   \n",
       "\n",
       "   worldwide_adj    budget_adj  \n",
       "0   3.349300e+09  5.127072e+08  \n",
       "1   1.203123e+09  4.724294e+08  \n",
       "2   1.497624e+08  3.500000e+08  \n",
       "3   1.532023e+09  3.609991e+08  \n",
       "4   1.390266e+09  3.347058e+08  "
      ]
     },
     "execution_count": 167,
     "metadata": {},
     "output_type": "execute_result"
    }
   ],
   "source": [
    "tnMovieBudgets.head()"
   ]
  },
  {
   "cell_type": "markdown",
   "metadata": {},
   "source": [
    "After some cursory analysis, we realized that we wanted to measure averages of domestic and worldwide gross **combined**, so we created a new column, 'total_gross':"
   ]
  },
  {
   "cell_type": "code",
   "execution_count": 168,
   "metadata": {},
   "outputs": [],
   "source": [
    "tnMovieBudgets['total_gross'] = tnMovieBudgets['worldwide_adj'] + tnMovieBudgets['domestic_adj']"
   ]
  },
  {
   "cell_type": "code",
   "execution_count": 169,
   "metadata": {},
   "outputs": [],
   "source": [
    "bomMovieGross['total_BOM_gross'] = bomMovieGross['foreign_adj'] + bomMovieGross['domestic_adj']"
   ]
  },
  {
   "cell_type": "markdown",
   "metadata": {},
   "source": [
    "### Cleaning [The Movie DataBase](https://www.themoviedb.org/) Data"
   ]
  },
  {
   "cell_type": "code",
   "execution_count": 170,
   "metadata": {},
   "outputs": [
    {
     "data": {
      "text/html": [
       "<div>\n",
       "<style scoped>\n",
       "    .dataframe tbody tr th:only-of-type {\n",
       "        vertical-align: middle;\n",
       "    }\n",
       "\n",
       "    .dataframe tbody tr th {\n",
       "        vertical-align: top;\n",
       "    }\n",
       "\n",
       "    .dataframe thead th {\n",
       "        text-align: right;\n",
       "    }\n",
       "</style>\n",
       "<table border=\"1\" class=\"dataframe\">\n",
       "  <thead>\n",
       "    <tr style=\"text-align: right;\">\n",
       "      <th></th>\n",
       "      <th>Unnamed: 0</th>\n",
       "      <th>genre_ids</th>\n",
       "      <th>id</th>\n",
       "      <th>original_language</th>\n",
       "      <th>original_title</th>\n",
       "      <th>popularity</th>\n",
       "      <th>release_date</th>\n",
       "      <th>title</th>\n",
       "      <th>vote_average</th>\n",
       "      <th>vote_count</th>\n",
       "    </tr>\n",
       "  </thead>\n",
       "  <tbody>\n",
       "    <tr>\n",
       "      <th>0</th>\n",
       "      <td>0</td>\n",
       "      <td>[12, 14, 10751]</td>\n",
       "      <td>12444</td>\n",
       "      <td>en</td>\n",
       "      <td>Harry Potter and the Deathly Hallows: Part 1</td>\n",
       "      <td>33.533</td>\n",
       "      <td>2010-11-19</td>\n",
       "      <td>Harry Potter and the Deathly Hallows: Part 1</td>\n",
       "      <td>7.7</td>\n",
       "      <td>10788</td>\n",
       "    </tr>\n",
       "    <tr>\n",
       "      <th>1</th>\n",
       "      <td>1</td>\n",
       "      <td>[14, 12, 16, 10751]</td>\n",
       "      <td>10191</td>\n",
       "      <td>en</td>\n",
       "      <td>How to Train Your Dragon</td>\n",
       "      <td>28.734</td>\n",
       "      <td>2010-03-26</td>\n",
       "      <td>How to Train Your Dragon</td>\n",
       "      <td>7.7</td>\n",
       "      <td>7610</td>\n",
       "    </tr>\n",
       "    <tr>\n",
       "      <th>2</th>\n",
       "      <td>2</td>\n",
       "      <td>[12, 28, 878]</td>\n",
       "      <td>10138</td>\n",
       "      <td>en</td>\n",
       "      <td>Iron Man 2</td>\n",
       "      <td>28.515</td>\n",
       "      <td>2010-05-07</td>\n",
       "      <td>Iron Man 2</td>\n",
       "      <td>6.8</td>\n",
       "      <td>12368</td>\n",
       "    </tr>\n",
       "  </tbody>\n",
       "</table>\n",
       "</div>"
      ],
      "text/plain": [
       "   Unnamed: 0            genre_ids     id original_language  \\\n",
       "0           0      [12, 14, 10751]  12444                en   \n",
       "1           1  [14, 12, 16, 10751]  10191                en   \n",
       "2           2        [12, 28, 878]  10138                en   \n",
       "\n",
       "                                 original_title  popularity release_date  \\\n",
       "0  Harry Potter and the Deathly Hallows: Part 1      33.533   2010-11-19   \n",
       "1                      How to Train Your Dragon      28.734   2010-03-26   \n",
       "2                                    Iron Man 2      28.515   2010-05-07   \n",
       "\n",
       "                                          title  vote_average  vote_count  \n",
       "0  Harry Potter and the Deathly Hallows: Part 1           7.7       10788  \n",
       "1                      How to Train Your Dragon           7.7        7610  \n",
       "2                                    Iron Man 2           6.8       12368  "
      ]
     },
     "execution_count": 170,
     "metadata": {},
     "output_type": "execute_result"
    }
   ],
   "source": [
    "tmdbMovies.head(3)"
   ]
  },
  {
   "cell_type": "markdown",
   "metadata": {},
   "source": [
    "Drop some unnecessary columns:"
   ]
  },
  {
   "cell_type": "code",
   "execution_count": 171,
   "metadata": {},
   "outputs": [],
   "source": [
    "dropcols = ['Unnamed: 0', 'original_title', 'original_language']\n",
    "\n",
    "tmdbMovies.drop(dropcols, axis=1, inplace=True)"
   ]
  },
  {
   "cell_type": "markdown",
   "metadata": {},
   "source": [
    "### Inspecting [IMDb](https://www.imdb.com/) Data"
   ]
  },
  {
   "cell_type": "code",
   "execution_count": 172,
   "metadata": {},
   "outputs": [
    {
     "data": {
      "text/html": [
       "<div>\n",
       "<style scoped>\n",
       "    .dataframe tbody tr th:only-of-type {\n",
       "        vertical-align: middle;\n",
       "    }\n",
       "\n",
       "    .dataframe tbody tr th {\n",
       "        vertical-align: top;\n",
       "    }\n",
       "\n",
       "    .dataframe thead th {\n",
       "        text-align: right;\n",
       "    }\n",
       "</style>\n",
       "<table border=\"1\" class=\"dataframe\">\n",
       "  <thead>\n",
       "    <tr style=\"text-align: right;\">\n",
       "      <th></th>\n",
       "      <th>nconst</th>\n",
       "      <th>primary_name</th>\n",
       "      <th>birth_year</th>\n",
       "      <th>death_year</th>\n",
       "      <th>primary_profession</th>\n",
       "      <th>known_for_titles</th>\n",
       "    </tr>\n",
       "  </thead>\n",
       "  <tbody>\n",
       "    <tr>\n",
       "      <th>0</th>\n",
       "      <td>nm0061671</td>\n",
       "      <td>Mary Ellen Bauder</td>\n",
       "      <td>NaN</td>\n",
       "      <td>NaN</td>\n",
       "      <td>miscellaneous,production_manager,producer</td>\n",
       "      <td>tt0837562,tt2398241,tt0844471,tt0118553</td>\n",
       "    </tr>\n",
       "    <tr>\n",
       "      <th>1</th>\n",
       "      <td>nm0061865</td>\n",
       "      <td>Joseph Bauer</td>\n",
       "      <td>NaN</td>\n",
       "      <td>NaN</td>\n",
       "      <td>composer,music_department,sound_department</td>\n",
       "      <td>tt0896534,tt6791238,tt0287072,tt1682940</td>\n",
       "    </tr>\n",
       "  </tbody>\n",
       "</table>\n",
       "</div>"
      ],
      "text/plain": [
       "      nconst       primary_name  birth_year  death_year  \\\n",
       "0  nm0061671  Mary Ellen Bauder         NaN         NaN   \n",
       "1  nm0061865       Joseph Bauer         NaN         NaN   \n",
       "\n",
       "                           primary_profession  \\\n",
       "0   miscellaneous,production_manager,producer   \n",
       "1  composer,music_department,sound_department   \n",
       "\n",
       "                          known_for_titles  \n",
       "0  tt0837562,tt2398241,tt0844471,tt0118553  \n",
       "1  tt0896534,tt6791238,tt0287072,tt1682940  "
      ]
     },
     "execution_count": 172,
     "metadata": {},
     "output_type": "execute_result"
    }
   ],
   "source": [
    "imdbNameBasics.head(2)"
   ]
  },
  {
   "cell_type": "code",
   "execution_count": 173,
   "metadata": {},
   "outputs": [
    {
     "data": {
      "text/html": [
       "<div>\n",
       "<style scoped>\n",
       "    .dataframe tbody tr th:only-of-type {\n",
       "        vertical-align: middle;\n",
       "    }\n",
       "\n",
       "    .dataframe tbody tr th {\n",
       "        vertical-align: top;\n",
       "    }\n",
       "\n",
       "    .dataframe thead th {\n",
       "        text-align: right;\n",
       "    }\n",
       "</style>\n",
       "<table border=\"1\" class=\"dataframe\">\n",
       "  <thead>\n",
       "    <tr style=\"text-align: right;\">\n",
       "      <th></th>\n",
       "      <th>tconst</th>\n",
       "      <th>primary_title</th>\n",
       "      <th>original_title</th>\n",
       "      <th>start_year</th>\n",
       "      <th>runtime_minutes</th>\n",
       "      <th>genres</th>\n",
       "    </tr>\n",
       "  </thead>\n",
       "  <tbody>\n",
       "    <tr>\n",
       "      <th>0</th>\n",
       "      <td>tt0063540</td>\n",
       "      <td>Sunghursh</td>\n",
       "      <td>Sunghursh</td>\n",
       "      <td>2013</td>\n",
       "      <td>175.0</td>\n",
       "      <td>Action,Crime,Drama</td>\n",
       "    </tr>\n",
       "    <tr>\n",
       "      <th>1</th>\n",
       "      <td>tt0066787</td>\n",
       "      <td>One Day Before the Rainy Season</td>\n",
       "      <td>Ashad Ka Ek Din</td>\n",
       "      <td>2019</td>\n",
       "      <td>114.0</td>\n",
       "      <td>Biography,Drama</td>\n",
       "    </tr>\n",
       "  </tbody>\n",
       "</table>\n",
       "</div>"
      ],
      "text/plain": [
       "      tconst                    primary_title   original_title  start_year  \\\n",
       "0  tt0063540                        Sunghursh        Sunghursh        2013   \n",
       "1  tt0066787  One Day Before the Rainy Season  Ashad Ka Ek Din        2019   \n",
       "\n",
       "   runtime_minutes              genres  \n",
       "0            175.0  Action,Crime,Drama  \n",
       "1            114.0     Biography,Drama  "
      ]
     },
     "execution_count": 173,
     "metadata": {},
     "output_type": "execute_result"
    }
   ],
   "source": [
    "imdbTitleBasics.head(2)"
   ]
  },
  {
   "cell_type": "code",
   "execution_count": 174,
   "metadata": {},
   "outputs": [
    {
     "data": {
      "text/html": [
       "<div>\n",
       "<style scoped>\n",
       "    .dataframe tbody tr th:only-of-type {\n",
       "        vertical-align: middle;\n",
       "    }\n",
       "\n",
       "    .dataframe tbody tr th {\n",
       "        vertical-align: top;\n",
       "    }\n",
       "\n",
       "    .dataframe thead th {\n",
       "        text-align: right;\n",
       "    }\n",
       "</style>\n",
       "<table border=\"1\" class=\"dataframe\">\n",
       "  <thead>\n",
       "    <tr style=\"text-align: right;\">\n",
       "      <th></th>\n",
       "      <th>tconst</th>\n",
       "      <th>primary_title</th>\n",
       "      <th>original_title</th>\n",
       "      <th>start_year</th>\n",
       "      <th>runtime_minutes</th>\n",
       "      <th>genres</th>\n",
       "    </tr>\n",
       "  </thead>\n",
       "  <tbody>\n",
       "    <tr>\n",
       "      <th>0</th>\n",
       "      <td>tt0063540</td>\n",
       "      <td>Sunghursh</td>\n",
       "      <td>Sunghursh</td>\n",
       "      <td>2013</td>\n",
       "      <td>175.0</td>\n",
       "      <td>Action,Crime,Drama</td>\n",
       "    </tr>\n",
       "    <tr>\n",
       "      <th>1</th>\n",
       "      <td>tt0066787</td>\n",
       "      <td>One Day Before the Rainy Season</td>\n",
       "      <td>Ashad Ka Ek Din</td>\n",
       "      <td>2019</td>\n",
       "      <td>114.0</td>\n",
       "      <td>Biography,Drama</td>\n",
       "    </tr>\n",
       "  </tbody>\n",
       "</table>\n",
       "</div>"
      ],
      "text/plain": [
       "      tconst                    primary_title   original_title  start_year  \\\n",
       "0  tt0063540                        Sunghursh        Sunghursh        2013   \n",
       "1  tt0066787  One Day Before the Rainy Season  Ashad Ka Ek Din        2019   \n",
       "\n",
       "   runtime_minutes              genres  \n",
       "0            175.0  Action,Crime,Drama  \n",
       "1            114.0     Biography,Drama  "
      ]
     },
     "execution_count": 174,
     "metadata": {},
     "output_type": "execute_result"
    }
   ],
   "source": [
    "imdbTitleBasics.head(2)"
   ]
  },
  {
   "cell_type": "code",
   "execution_count": 175,
   "metadata": {},
   "outputs": [
    {
     "data": {
      "text/html": [
       "<div>\n",
       "<style scoped>\n",
       "    .dataframe tbody tr th:only-of-type {\n",
       "        vertical-align: middle;\n",
       "    }\n",
       "\n",
       "    .dataframe tbody tr th {\n",
       "        vertical-align: top;\n",
       "    }\n",
       "\n",
       "    .dataframe thead th {\n",
       "        text-align: right;\n",
       "    }\n",
       "</style>\n",
       "<table border=\"1\" class=\"dataframe\">\n",
       "  <thead>\n",
       "    <tr style=\"text-align: right;\">\n",
       "      <th></th>\n",
       "      <th>tconst</th>\n",
       "      <th>directors</th>\n",
       "      <th>writers</th>\n",
       "    </tr>\n",
       "  </thead>\n",
       "  <tbody>\n",
       "    <tr>\n",
       "      <th>0</th>\n",
       "      <td>tt0285252</td>\n",
       "      <td>nm0899854</td>\n",
       "      <td>nm0899854</td>\n",
       "    </tr>\n",
       "    <tr>\n",
       "      <th>1</th>\n",
       "      <td>tt0438973</td>\n",
       "      <td>NaN</td>\n",
       "      <td>nm0175726,nm1802864</td>\n",
       "    </tr>\n",
       "  </tbody>\n",
       "</table>\n",
       "</div>"
      ],
      "text/plain": [
       "      tconst  directors              writers\n",
       "0  tt0285252  nm0899854            nm0899854\n",
       "1  tt0438973        NaN  nm0175726,nm1802864"
      ]
     },
     "execution_count": 175,
     "metadata": {},
     "output_type": "execute_result"
    }
   ],
   "source": [
    "imdbTitleCrew.head(2)"
   ]
  },
  {
   "cell_type": "code",
   "execution_count": 176,
   "metadata": {},
   "outputs": [
    {
     "data": {
      "text/html": [
       "<div>\n",
       "<style scoped>\n",
       "    .dataframe tbody tr th:only-of-type {\n",
       "        vertical-align: middle;\n",
       "    }\n",
       "\n",
       "    .dataframe tbody tr th {\n",
       "        vertical-align: top;\n",
       "    }\n",
       "\n",
       "    .dataframe thead th {\n",
       "        text-align: right;\n",
       "    }\n",
       "</style>\n",
       "<table border=\"1\" class=\"dataframe\">\n",
       "  <thead>\n",
       "    <tr style=\"text-align: right;\">\n",
       "      <th></th>\n",
       "      <th>tconst</th>\n",
       "      <th>ordering</th>\n",
       "      <th>nconst</th>\n",
       "      <th>category</th>\n",
       "      <th>job</th>\n",
       "      <th>characters</th>\n",
       "    </tr>\n",
       "  </thead>\n",
       "  <tbody>\n",
       "    <tr>\n",
       "      <th>0</th>\n",
       "      <td>tt0111414</td>\n",
       "      <td>1</td>\n",
       "      <td>nm0246005</td>\n",
       "      <td>actor</td>\n",
       "      <td>NaN</td>\n",
       "      <td>[\"The Man\"]</td>\n",
       "    </tr>\n",
       "    <tr>\n",
       "      <th>1</th>\n",
       "      <td>tt0111414</td>\n",
       "      <td>2</td>\n",
       "      <td>nm0398271</td>\n",
       "      <td>director</td>\n",
       "      <td>NaN</td>\n",
       "      <td>NaN</td>\n",
       "    </tr>\n",
       "  </tbody>\n",
       "</table>\n",
       "</div>"
      ],
      "text/plain": [
       "      tconst  ordering     nconst  category  job   characters\n",
       "0  tt0111414         1  nm0246005     actor  NaN  [\"The Man\"]\n",
       "1  tt0111414         2  nm0398271  director  NaN          NaN"
      ]
     },
     "execution_count": 176,
     "metadata": {},
     "output_type": "execute_result"
    }
   ],
   "source": [
    "imdbTitlePrincipals.head(2)"
   ]
  },
  {
   "cell_type": "code",
   "execution_count": 177,
   "metadata": {},
   "outputs": [
    {
     "data": {
      "text/html": [
       "<div>\n",
       "<style scoped>\n",
       "    .dataframe tbody tr th:only-of-type {\n",
       "        vertical-align: middle;\n",
       "    }\n",
       "\n",
       "    .dataframe tbody tr th {\n",
       "        vertical-align: top;\n",
       "    }\n",
       "\n",
       "    .dataframe thead th {\n",
       "        text-align: right;\n",
       "    }\n",
       "</style>\n",
       "<table border=\"1\" class=\"dataframe\">\n",
       "  <thead>\n",
       "    <tr style=\"text-align: right;\">\n",
       "      <th></th>\n",
       "      <th>tconst</th>\n",
       "      <th>averagerating</th>\n",
       "      <th>numvotes</th>\n",
       "    </tr>\n",
       "  </thead>\n",
       "  <tbody>\n",
       "    <tr>\n",
       "      <th>0</th>\n",
       "      <td>tt10356526</td>\n",
       "      <td>8.3</td>\n",
       "      <td>31</td>\n",
       "    </tr>\n",
       "    <tr>\n",
       "      <th>1</th>\n",
       "      <td>tt10384606</td>\n",
       "      <td>8.9</td>\n",
       "      <td>559</td>\n",
       "    </tr>\n",
       "  </tbody>\n",
       "</table>\n",
       "</div>"
      ],
      "text/plain": [
       "       tconst  averagerating  numvotes\n",
       "0  tt10356526            8.3        31\n",
       "1  tt10384606            8.9       559"
      ]
     },
     "execution_count": 177,
     "metadata": {},
     "output_type": "execute_result"
    }
   ],
   "source": [
    "imdbTitleRatings.head(2)"
   ]
  },
  {
   "cell_type": "code",
   "execution_count": 178,
   "metadata": {},
   "outputs": [
    {
     "data": {
      "text/html": [
       "<div>\n",
       "<style scoped>\n",
       "    .dataframe tbody tr th:only-of-type {\n",
       "        vertical-align: middle;\n",
       "    }\n",
       "\n",
       "    .dataframe tbody tr th {\n",
       "        vertical-align: top;\n",
       "    }\n",
       "\n",
       "    .dataframe thead th {\n",
       "        text-align: right;\n",
       "    }\n",
       "</style>\n",
       "<table border=\"1\" class=\"dataframe\">\n",
       "  <thead>\n",
       "    <tr style=\"text-align: right;\">\n",
       "      <th></th>\n",
       "      <th>title_id</th>\n",
       "      <th>ordering</th>\n",
       "      <th>title</th>\n",
       "      <th>region</th>\n",
       "      <th>language</th>\n",
       "      <th>types</th>\n",
       "      <th>attributes</th>\n",
       "      <th>is_original_title</th>\n",
       "    </tr>\n",
       "  </thead>\n",
       "  <tbody>\n",
       "    <tr>\n",
       "      <th>0</th>\n",
       "      <td>tt0369610</td>\n",
       "      <td>10</td>\n",
       "      <td>Джурасик свят</td>\n",
       "      <td>BG</td>\n",
       "      <td>bg</td>\n",
       "      <td>NaN</td>\n",
       "      <td>NaN</td>\n",
       "      <td>0.0</td>\n",
       "    </tr>\n",
       "    <tr>\n",
       "      <th>1</th>\n",
       "      <td>tt0369610</td>\n",
       "      <td>11</td>\n",
       "      <td>Jurashikku warudo</td>\n",
       "      <td>JP</td>\n",
       "      <td>NaN</td>\n",
       "      <td>imdbDisplay</td>\n",
       "      <td>NaN</td>\n",
       "      <td>0.0</td>\n",
       "    </tr>\n",
       "  </tbody>\n",
       "</table>\n",
       "</div>"
      ],
      "text/plain": [
       "    title_id  ordering              title region language        types  \\\n",
       "0  tt0369610        10      Джурасик свят     BG       bg          NaN   \n",
       "1  tt0369610        11  Jurashikku warudo     JP      NaN  imdbDisplay   \n",
       "\n",
       "  attributes  is_original_title  \n",
       "0        NaN                0.0  \n",
       "1        NaN                0.0  "
      ]
     },
     "execution_count": 178,
     "metadata": {},
     "output_type": "execute_result"
    }
   ],
   "source": [
    "imdbTitleAkas.head(2)"
   ]
  },
  {
   "cell_type": "markdown",
   "metadata": {},
   "source": [
    "### Merging the data"
   ]
  },
  {
   "cell_type": "markdown",
   "metadata": {},
   "source": [
    "Since we want to merge across the **'tconst'** column, we have to rename **'title_id'** of imdbTitleAkas:"
   ]
  },
  {
   "cell_type": "code",
   "execution_count": 179,
   "metadata": {},
   "outputs": [],
   "source": [
    "imdbTitleAkas.rename(mapper={'title_id' : 'tconst'}, axis=1, inplace=True)"
   ]
  },
  {
   "cell_type": "markdown",
   "metadata": {},
   "source": [
    "First, we are going to merge all of the imdb data together on the column 'tconst':"
   ]
  },
  {
   "cell_type": "code",
   "execution_count": 180,
   "metadata": {},
   "outputs": [],
   "source": [
    "imdb_dfs = [imdbTitleBasics, imdbTitleAkas, imdbTitleCrew, imdbTitlePrincipals, imdbTitleRatings]"
   ]
  },
  {
   "cell_type": "code",
   "execution_count": 181,
   "metadata": {},
   "outputs": [],
   "source": [
    "imdb_master = pd.merge(\n",
    "                    pd.merge(\n",
    "                            pd.merge(\n",
    "                                    pd.merge(\n",
    "                                        imdb_dfs[0], imdb_dfs[1], on='tconst', how = 'outer'\n",
    "                                        ), \n",
    "                                imdb_dfs[2], on='tconst', how = 'outer'\n",
    "                                ), \n",
    "                        imdb_dfs[3], on='tconst', how = 'outer', suffixes=('_akas', '_princ')\n",
    "                        ),\n",
    "                  imdb_dfs[4], on='tconst', how = 'outer')"
   ]
  },
  {
   "cell_type": "markdown",
   "metadata": {},
   "source": [
    "We found some weird data, so we made sure to get rid of any movies whose 'start_year' was after 2021:"
   ]
  },
  {
   "cell_type": "code",
   "execution_count": 183,
   "metadata": {},
   "outputs": [
    {
     "data": {
      "text/html": [
       "<div>\n",
       "<style scoped>\n",
       "    .dataframe tbody tr th:only-of-type {\n",
       "        vertical-align: middle;\n",
       "    }\n",
       "\n",
       "    .dataframe tbody tr th {\n",
       "        vertical-align: top;\n",
       "    }\n",
       "\n",
       "    .dataframe thead th {\n",
       "        text-align: right;\n",
       "    }\n",
       "</style>\n",
       "<table border=\"1\" class=\"dataframe\">\n",
       "  <thead>\n",
       "    <tr style=\"text-align: right;\">\n",
       "      <th></th>\n",
       "      <th>tconst</th>\n",
       "      <th>primary_title</th>\n",
       "      <th>original_title</th>\n",
       "      <th>start_year</th>\n",
       "      <th>runtime_minutes</th>\n",
       "      <th>genres</th>\n",
       "      <th>ordering_akas</th>\n",
       "      <th>title</th>\n",
       "      <th>region</th>\n",
       "      <th>language</th>\n",
       "      <th>...</th>\n",
       "      <th>is_original_title</th>\n",
       "      <th>directors</th>\n",
       "      <th>writers</th>\n",
       "      <th>ordering_princ</th>\n",
       "      <th>nconst</th>\n",
       "      <th>category</th>\n",
       "      <th>job</th>\n",
       "      <th>characters</th>\n",
       "      <th>averagerating</th>\n",
       "      <th>numvotes</th>\n",
       "    </tr>\n",
       "  </thead>\n",
       "  <tbody>\n",
       "    <tr>\n",
       "      <th>64501</th>\n",
       "      <td>tt10042446</td>\n",
       "      <td>Untitled Disney Marvel Film</td>\n",
       "      <td>Untitled Disney Marvel Film</td>\n",
       "      <td>2022</td>\n",
       "      <td>NaN</td>\n",
       "      <td>Action</td>\n",
       "      <td>NaN</td>\n",
       "      <td>NaN</td>\n",
       "      <td>NaN</td>\n",
       "      <td>NaN</td>\n",
       "      <td>...</td>\n",
       "      <td>NaN</td>\n",
       "      <td>NaN</td>\n",
       "      <td>NaN</td>\n",
       "      <td>NaN</td>\n",
       "      <td>NaN</td>\n",
       "      <td>NaN</td>\n",
       "      <td>NaN</td>\n",
       "      <td>NaN</td>\n",
       "      <td>NaN</td>\n",
       "      <td>NaN</td>\n",
       "    </tr>\n",
       "    <tr>\n",
       "      <th>65686</th>\n",
       "      <td>tt10064536</td>\n",
       "      <td>Untitled Disney Marvel Film</td>\n",
       "      <td>Untitled Disney Marvel Film</td>\n",
       "      <td>2022</td>\n",
       "      <td>NaN</td>\n",
       "      <td>Action</td>\n",
       "      <td>NaN</td>\n",
       "      <td>NaN</td>\n",
       "      <td>NaN</td>\n",
       "      <td>NaN</td>\n",
       "      <td>...</td>\n",
       "      <td>NaN</td>\n",
       "      <td>NaN</td>\n",
       "      <td>NaN</td>\n",
       "      <td>NaN</td>\n",
       "      <td>NaN</td>\n",
       "      <td>NaN</td>\n",
       "      <td>NaN</td>\n",
       "      <td>NaN</td>\n",
       "      <td>NaN</td>\n",
       "      <td>NaN</td>\n",
       "    </tr>\n",
       "    <tr>\n",
       "      <th>69070</th>\n",
       "      <td>tt10108854</td>\n",
       "      <td>The Hunchback of the Lighthouse</td>\n",
       "      <td>The Hunchback of the Lighthouse</td>\n",
       "      <td>2022</td>\n",
       "      <td>120.0</td>\n",
       "      <td>Drama</td>\n",
       "      <td>NaN</td>\n",
       "      <td>NaN</td>\n",
       "      <td>NaN</td>\n",
       "      <td>NaN</td>\n",
       "      <td>...</td>\n",
       "      <td>NaN</td>\n",
       "      <td>nm5857646</td>\n",
       "      <td>nm5857646</td>\n",
       "      <td>10.0</td>\n",
       "      <td>nm9610047</td>\n",
       "      <td>actress</td>\n",
       "      <td>NaN</td>\n",
       "      <td>[\"Mandy Stone\"]</td>\n",
       "      <td>NaN</td>\n",
       "      <td>NaN</td>\n",
       "    </tr>\n",
       "    <tr>\n",
       "      <th>69071</th>\n",
       "      <td>tt10108854</td>\n",
       "      <td>The Hunchback of the Lighthouse</td>\n",
       "      <td>The Hunchback of the Lighthouse</td>\n",
       "      <td>2022</td>\n",
       "      <td>120.0</td>\n",
       "      <td>Drama</td>\n",
       "      <td>NaN</td>\n",
       "      <td>NaN</td>\n",
       "      <td>NaN</td>\n",
       "      <td>NaN</td>\n",
       "      <td>...</td>\n",
       "      <td>NaN</td>\n",
       "      <td>nm5857646</td>\n",
       "      <td>nm5857646</td>\n",
       "      <td>1.0</td>\n",
       "      <td>nm5857646</td>\n",
       "      <td>actor</td>\n",
       "      <td>NaN</td>\n",
       "      <td>[\"David\"]</td>\n",
       "      <td>NaN</td>\n",
       "      <td>NaN</td>\n",
       "    </tr>\n",
       "    <tr>\n",
       "      <th>69072</th>\n",
       "      <td>tt10108854</td>\n",
       "      <td>The Hunchback of the Lighthouse</td>\n",
       "      <td>The Hunchback of the Lighthouse</td>\n",
       "      <td>2022</td>\n",
       "      <td>120.0</td>\n",
       "      <td>Drama</td>\n",
       "      <td>NaN</td>\n",
       "      <td>NaN</td>\n",
       "      <td>NaN</td>\n",
       "      <td>NaN</td>\n",
       "      <td>...</td>\n",
       "      <td>NaN</td>\n",
       "      <td>nm5857646</td>\n",
       "      <td>nm5857646</td>\n",
       "      <td>2.0</td>\n",
       "      <td>nm9207883</td>\n",
       "      <td>actor</td>\n",
       "      <td>NaN</td>\n",
       "      <td>[\"Fletcher\"]</td>\n",
       "      <td>NaN</td>\n",
       "      <td>NaN</td>\n",
       "    </tr>\n",
       "  </tbody>\n",
       "</table>\n",
       "<p>5 rows × 22 columns</p>\n",
       "</div>"
      ],
      "text/plain": [
       "           tconst                    primary_title  \\\n",
       "64501  tt10042446      Untitled Disney Marvel Film   \n",
       "65686  tt10064536      Untitled Disney Marvel Film   \n",
       "69070  tt10108854  The Hunchback of the Lighthouse   \n",
       "69071  tt10108854  The Hunchback of the Lighthouse   \n",
       "69072  tt10108854  The Hunchback of the Lighthouse   \n",
       "\n",
       "                        original_title  start_year  runtime_minutes  genres  \\\n",
       "64501      Untitled Disney Marvel Film        2022              NaN  Action   \n",
       "65686      Untitled Disney Marvel Film        2022              NaN  Action   \n",
       "69070  The Hunchback of the Lighthouse        2022            120.0   Drama   \n",
       "69071  The Hunchback of the Lighthouse        2022            120.0   Drama   \n",
       "69072  The Hunchback of the Lighthouse        2022            120.0   Drama   \n",
       "\n",
       "       ordering_akas title region language  ... is_original_title  directors  \\\n",
       "64501            NaN   NaN    NaN      NaN  ...               NaN        NaN   \n",
       "65686            NaN   NaN    NaN      NaN  ...               NaN        NaN   \n",
       "69070            NaN   NaN    NaN      NaN  ...               NaN  nm5857646   \n",
       "69071            NaN   NaN    NaN      NaN  ...               NaN  nm5857646   \n",
       "69072            NaN   NaN    NaN      NaN  ...               NaN  nm5857646   \n",
       "\n",
       "         writers ordering_princ     nconst  category  job       characters  \\\n",
       "64501        NaN            NaN        NaN       NaN  NaN              NaN   \n",
       "65686        NaN            NaN        NaN       NaN  NaN              NaN   \n",
       "69070  nm5857646           10.0  nm9610047   actress  NaN  [\"Mandy Stone\"]   \n",
       "69071  nm5857646            1.0  nm5857646     actor  NaN        [\"David\"]   \n",
       "69072  nm5857646            2.0  nm9207883     actor  NaN     [\"Fletcher\"]   \n",
       "\n",
       "      averagerating numvotes  \n",
       "64501           NaN      NaN  \n",
       "65686           NaN      NaN  \n",
       "69070           NaN      NaN  \n",
       "69071           NaN      NaN  \n",
       "69072           NaN      NaN  \n",
       "\n",
       "[5 rows x 22 columns]"
      ]
     },
     "execution_count": 183,
     "metadata": {},
     "output_type": "execute_result"
    }
   ],
   "source": [
    "imdb_master.loc[imdb_master['start_year'] > 2021].head()"
   ]
  },
  {
   "cell_type": "code",
   "execution_count": 184,
   "metadata": {},
   "outputs": [],
   "source": [
    "imdb_master = imdb_master.loc[imdb_master['start_year'] <= 2021]"
   ]
  },
  {
   "cell_type": "markdown",
   "metadata": {},
   "source": [
    "We also removed any movie duplicates by their 'tconst' id:"
   ]
  },
  {
   "cell_type": "code",
   "execution_count": 185,
   "metadata": {},
   "outputs": [],
   "source": [
    "imdb_master.drop_duplicates(subset=['tconst'], inplace=True)"
   ]
  },
  {
   "cell_type": "markdown",
   "metadata": {},
   "source": [
    "**Merging in tmdbMovies to IMDb_master by 'primary_title':**\n",
    "\n",
    "Before merging, we had to rename the 'title' column 'primary_title' so we could merge on that column."
   ]
  },
  {
   "cell_type": "code",
   "execution_count": 186,
   "metadata": {},
   "outputs": [],
   "source": [
    "tmdbMovies.rename(mapper={'title' : 'primary_title'}, axis=1, inplace=True)"
   ]
  },
  {
   "cell_type": "code",
   "execution_count": 187,
   "metadata": {},
   "outputs": [],
   "source": [
    "imdb_master = pd.merge(imdb_master, tmdbMovies, on='primary_title', how = 'outer')"
   ]
  },
  {
   "cell_type": "markdown",
   "metadata": {},
   "source": [
    "**Making IMDB_master with BOM GROSS**"
   ]
  },
  {
   "cell_type": "code",
   "execution_count": 188,
   "metadata": {},
   "outputs": [],
   "source": [
    "bomMovieGross.rename(mapper={'title' : 'primary_title'}, axis=1, inplace=True)"
   ]
  },
  {
   "cell_type": "code",
   "execution_count": 189,
   "metadata": {},
   "outputs": [],
   "source": [
    "imdb_BOM = pd.merge(imdb_master, bomMovieGross, on='primary_title', how='outer')"
   ]
  },
  {
   "cell_type": "markdown",
   "metadata": {},
   "source": [
    "Fill all NaN values with 'Unknown':"
   ]
  },
  {
   "cell_type": "code",
   "execution_count": 190,
   "metadata": {},
   "outputs": [],
   "source": [
    "imdb_BOM.fillna(value='Unknown', inplace=True)"
   ]
  },
  {
   "cell_type": "markdown",
   "metadata": {},
   "source": [
    "Looking at the 'genres' column, we need to make the single string into a list of multiple genres:"
   ]
  },
  {
   "cell_type": "code",
   "execution_count": 191,
   "metadata": {},
   "outputs": [],
   "source": [
    "imdb_BOM['genres'] = imdb_BOM['genres'].apply(\n",
    "    lambda x: x.split(',') if (',' in x) else ([x] if (x != 'Unknown') else x)\n",
    "    )"
   ]
  },
  {
   "cell_type": "markdown",
   "metadata": {},
   "source": [
    "**Making IMDb_master with tnMovieBudgets**"
   ]
  },
  {
   "cell_type": "code",
   "execution_count": 192,
   "metadata": {},
   "outputs": [],
   "source": [
    "tnMovieBudgets.rename(mapper={'movie' : 'primary_title'}, axis=1, inplace=True)"
   ]
  },
  {
   "cell_type": "code",
   "execution_count": 193,
   "metadata": {},
   "outputs": [],
   "source": [
    "tnMoviesAdj = tnMovieBudgets[['primary_title', 'month_released', 'year', 'domestic_adj', 'worldwide_adj', 'budget_adj', 'total_gross']]"
   ]
  },
  {
   "cell_type": "code",
   "execution_count": 194,
   "metadata": {},
   "outputs": [],
   "source": [
    "imdb_master_money = pd.merge(imdb_master, tnMoviesAdj, on='primary_title')"
   ]
  },
  {
   "cell_type": "code",
   "execution_count": 195,
   "metadata": {},
   "outputs": [],
   "source": [
    "imdb_master_money.fillna(value='Unknown', inplace=True)"
   ]
  },
  {
   "cell_type": "code",
   "execution_count": 196,
   "metadata": {},
   "outputs": [],
   "source": [
    "imdb_master_money['genres'] = imdb_master_money['genres'].apply(\n",
    "    lambda x: x.split(',') if (',' in x) else ([x] if (x != 'Unknown') else x)\n",
    "    )"
   ]
  },
  {
   "cell_type": "markdown",
   "metadata": {},
   "source": [
    "**Making IMDb_master with BOTH tnMovieBudgets and bomMovieGross**"
   ]
  },
  {
   "cell_type": "code",
   "execution_count": 197,
   "metadata": {},
   "outputs": [],
   "source": [
    "imdb_BOM_tn = pd.merge(imdb_BOM, tnMoviesAdj, on='primary_title')"
   ]
  },
  {
   "cell_type": "code",
   "execution_count": 198,
   "metadata": {},
   "outputs": [],
   "source": [
    "imdb_BOM_tn.fillna(value='Unknown', inplace=True)"
   ]
  },
  {
   "cell_type": "markdown",
   "metadata": {},
   "source": [
    "### Making a list of genres, and a genre dictionary"
   ]
  },
  {
   "cell_type": "markdown",
   "metadata": {},
   "source": [
    "Upon initial observation of the data, we knew we wanted to see if we could find any patterns related to genre. This required us to create a list of all the unique genres, as well as a **dictionary** whose keys were the genre names, and whose values were the DataFrame with all the movies containing that genre."
   ]
  },
  {
   "cell_type": "code",
   "execution_count": 199,
   "metadata": {},
   "outputs": [],
   "source": [
    "genres = []\n",
    "for movie in imdb_BOM_tn['genres']:\n",
    "    if type(movie)==list:\n",
    "        for genre in movie:\n",
    "            if genre not in genres:\n",
    "                genres.append(genre)\n",
    " "
   ]
  },
  {
   "cell_type": "code",
   "execution_count": 200,
   "metadata": {},
   "outputs": [
    {
     "name": "stdout",
     "output_type": "stream",
     "text": [
      "['Action', 'Animation', 'Comedy', 'Adventure', 'Fantasy', 'Mystery', 'Drama', 'Romance', 'Documentary', 'Crime', 'Sci-Fi', 'Family', 'Thriller', 'Horror', 'Biography', 'History', 'News', 'War', 'Sport', 'Music', 'Musical', 'Western', 'Reality-TV']\n"
     ]
    }
   ],
   "source": [
    "print(genres)"
   ]
  },
  {
   "cell_type": "markdown",
   "metadata": {},
   "source": [
    "We created a function called **genre_contained()** that takes in a single genre and a DataFrame, and returns a list of indices that can be used to locate all the movies that contain that genre."
   ]
  },
  {
   "cell_type": "code",
   "execution_count": 201,
   "metadata": {},
   "outputs": [],
   "source": [
    "def genre_contained(genre, df):\n",
    "    index_list = []\n",
    "    ctr = 0\n",
    "    for row in df['genres']:\n",
    "        if type(row) == list:\n",
    "            for i in row:\n",
    "                if i == genre:\n",
    "                    index_list.append(ctr) # should i add continue here          \n",
    "        ctr += 1\n",
    "    return index_list"
   ]
  },
  {
   "cell_type": "markdown",
   "metadata": {},
   "source": [
    "Now, we can update genre_dict with all the info for each genre!"
   ]
  },
  {
   "cell_type": "code",
   "execution_count": 202,
   "metadata": {},
   "outputs": [],
   "source": [
    "genre_dict = {}\n",
    "\n",
    "for genre in genres:\n",
    "    genre_dict[genre] = imdb_master_money.iloc[genre_contained(genre, imdb_master_money)]"
   ]
  },
  {
   "cell_type": "markdown",
   "metadata": {},
   "source": [
    "We made **2** other dictionaries for imdb_BOM_tn, and a version of imdb_BOM_tn with some additional genre \"combos\":"
   ]
  },
  {
   "cell_type": "code",
   "execution_count": 203,
   "metadata": {},
   "outputs": [],
   "source": [
    "genre_dict_2 = {}\n",
    "\n",
    "for genre in genres:\n",
    "    genre_dict_2[genre] = imdb_BOM_tn.iloc[genre_contained(genre, imdb_BOM_tn)]"
   ]
  },
  {
   "cell_type": "markdown",
   "metadata": {},
   "source": [
    "To create the **3rd** genre dictionary, we had to create a function **genre_contained_combos()** which would take in a dataframe and return a dictionary of the additional genres and their respective data. (i.e movies were listed as BOTH a romance & and comedy)"
   ]
  },
  {
   "cell_type": "code",
   "execution_count": 204,
   "metadata": {},
   "outputs": [],
   "source": [
    "def genre_contained_combos(df):\n",
    "    combo_dict = {}\n",
    "    \n",
    "    combo_list = [(\"Romance\",\"Comedy\"), (\"Animation\",\"Comedy\"), (\"Adventure\",\"Comedy\"), \n",
    "                  (\"Adventure\",\"Drama\"), (\"Romance\",\"Drama\"), (\"Animation\", \"Drama\"), \n",
    "                 (\"Family\", \"Comedy\"), (\"Family\", \"Drama\")]\n",
    "    \n",
    "    for k in range(0, len(combo_list)):\n",
    "        pair_name = combo_list[k][0] + '/' + combo_list[k][1]\n",
    "        index_list = []\n",
    "        ctr = 0\n",
    "        rel_genres = ['Romance', 'Comedy', 'Animation', 'Drama', 'Adventure', 'Family']\n",
    "        for row in df['genres']:\n",
    "            if type(row) == list:\n",
    "                row_pair_keepr = []\n",
    "                for i in row:\n",
    "                    #print(row)\n",
    "                    if i in rel_genres:\n",
    "                        row_pair_keepr.append(i)\n",
    "                        if len(row_pair_keepr) == 2:\n",
    "                            if (row_pair_keepr[0] in combo_list[k]) & (row_pair_keepr[1] in combo_list[k]):\n",
    "                                index_list.append(ctr)                 \n",
    "            ctr += 1\n",
    "        combo_dict[pair_name] = imdb_BOM_tn.iloc[index_list]\n",
    "        \n",
    "    return combo_dict"
   ]
  },
  {
   "cell_type": "code",
   "execution_count": 205,
   "metadata": {},
   "outputs": [],
   "source": [
    "genre_dict_3 = genre_contained_combos(imdb_BOM_tn)\n",
    "genre_dict_3.update(genre_dict_2)"
   ]
  },
  {
   "cell_type": "markdown",
   "metadata": {},
   "source": [
    "**Here are some variations of the genre data.**\n",
    "We found the top 15 genres based on *popularity index* and *the number of movies of that genre*."
   ]
  },
  {
   "cell_type": "code",
   "execution_count": 206,
   "metadata": {
    "scrolled": true
   },
   "outputs": [
    {
     "data": {
      "text/plain": [
       "[('Drama', 2621),\n",
       " ('Comedy', 1018),\n",
       " ('Action', 882),\n",
       " ('Documentary', 855),\n",
       " ('Thriller', 829),\n",
       " ('Adventure', 600),\n",
       " ('Horror', 561),\n",
       " ('Romance', 510),\n",
       " ('Crime', 499),\n",
       " ('Biography', 367),\n",
       " ('Family', 315),\n",
       " ('Mystery', 314),\n",
       " ('Sci-Fi', 280),\n",
       " ('Fantasy', 262),\n",
       " ('Animation', 218)]"
      ]
     },
     "execution_count": 206,
     "metadata": {},
     "output_type": "execute_result"
    }
   ],
   "source": [
    "# top 15 genres by their frequency in the DataFrame (how many movies classified with this descriptor)\n",
    "top_15_genres = {i:len(genre_dict_2[i]) for i in genres}\n",
    "sorted_top_15_genres = sorted(top_15_genres.items(), key=lambda kv: kv[1], reverse=True)[:15]\n",
    "sorted_top_15_genres"
   ]
  },
  {
   "cell_type": "code",
   "execution_count": 207,
   "metadata": {},
   "outputs": [],
   "source": [
    "# split above tuple list into lists\n",
    "top_genre_ct_names = [name[0] for name in sorted_top_15_genres]\n",
    "top_genre_cts = [name[1] for name in sorted_top_15_genres]"
   ]
  },
  {
   "cell_type": "code",
   "execution_count": 208,
   "metadata": {
    "scrolled": true
   },
   "outputs": [
    {
     "data": {
      "text/plain": [
       "[('Adventure', 15.095243856332699),\n",
       " ('Sci-Fi', 13.994958847736621),\n",
       " ('Fantasy', 13.945504310344825),\n",
       " ('Action', 12.811314028314042),\n",
       " ('Musical', 12.798750000000002),\n",
       " ('Animation', 10.666538071065986),\n",
       " ('Crime', 9.799903587443943),\n",
       " ('Comedy', 9.517845022624453),\n",
       " ('News', 9.405199999999999),\n",
       " ('Mystery', 8.935328301886779),\n",
       " ('Biography', 8.716847560975598),\n",
       " ('Music', 8.05258947368421),\n",
       " ('Family', 7.98819850187265),\n",
       " ('Thriller', 7.963337001375514),\n",
       " ('Horror', 7.702130260521035),\n",
       " ('History', 7.682735099337755),\n",
       " ('Romance', 7.358340757238301),\n",
       " ('Drama', 7.3189532085561835),\n",
       " ('Western', 7.16492),\n",
       " ('Sport', 6.454721649484536),\n",
       " ('Reality-TV', 6.397),\n",
       " ('Documentary', 4.741005689900416),\n",
       " ('War', 4.409105263157893)]"
      ]
     },
     "execution_count": 208,
     "metadata": {},
     "output_type": "execute_result"
    }
   ],
   "source": [
    "top_genres_popularity = {i:genre_dict_2[i]['popularity'][genre_dict_2[i]['popularity']!='Unknown'].mean() for i in genres}\n",
    "\n",
    "sorted_top_genres_popularity = sorted(top_genres_popularity.items(), key=lambda kv: kv[1], reverse=True)\n",
    "\n",
    "sorted_top_genres_popularity"
   ]
  },
  {
   "cell_type": "code",
   "execution_count": 209,
   "metadata": {},
   "outputs": [
    {
     "name": "stdout",
     "output_type": "stream",
     "text": [
      "['Adventure', 'Sci-Fi', 'Fantasy', 'Action', 'Musical', 'Animation', 'Crime', 'Comedy', 'News', 'Mystery', 'Biography', 'Music', 'Family', 'Thriller', 'Horror']\n"
     ]
    }
   ],
   "source": [
    "most_popular_names = [name[0] for name in sorted_top_genres_popularity][:15]\n",
    "most_popular_avgs = [avg[1] for avg in sorted_top_genres_popularity][:15]\n",
    "\n",
    "print(most_popular_names)"
   ]
  },
  {
   "cell_type": "markdown",
   "metadata": {},
   "source": [
    "### Cleaning Kaggle Dataset"
   ]
  },
  {
   "cell_type": "code",
   "execution_count": 210,
   "metadata": {},
   "outputs": [],
   "source": [
    "from datetime import datetime\n",
    "import ast\n",
    "import warnings\n",
    "warnings.filterwarnings(\"ignore\")"
   ]
  },
  {
   "cell_type": "code",
   "execution_count": 212,
   "metadata": {},
   "outputs": [],
   "source": [
    "kaggleMovies = pd.read_csv('data/movies_metadata.csv')"
   ]
  },
  {
   "cell_type": "markdown",
   "metadata": {},
   "source": [
    "This pandas method, pd.set_option() remedies an issue we encounter later on with infinite ratios:"
   ]
  },
  {
   "cell_type": "code",
   "execution_count": 213,
   "metadata": {},
   "outputs": [],
   "source": [
    "pd.set_option('use_inf_as_na', True)"
   ]
  },
  {
   "cell_type": "markdown",
   "metadata": {},
   "source": [
    "Starting with the kaggle dataset, we can see that all values are strings, even the interger/float values. Let's fix that for two metrics below."
   ]
  },
  {
   "cell_type": "code",
   "execution_count": 214,
   "metadata": {},
   "outputs": [],
   "source": [
    "kaggleMovies['budget'] = pd.to_numeric(kaggleMovies['budget'], errors='coerce')\n",
    "kaggleMovies['popularity'] = pd.to_numeric(kaggleMovies['popularity'], errors='coerce')"
   ]
  },
  {
   "cell_type": "markdown",
   "metadata": {},
   "source": [
    "Added a column that represents the return over initial investment here:"
   ]
  },
  {
   "cell_type": "code",
   "execution_count": 215,
   "metadata": {},
   "outputs": [],
   "source": [
    "kaggleMovies['percent returns'] = (kaggleMovies['revenue'] / kaggleMovies['budget'])*100"
   ]
  },
  {
   "cell_type": "markdown",
   "metadata": {},
   "source": [
    "We see a pair of illegitimate values inhibiting us from converting all to datetime values, I reassign them as NaN:"
   ]
  },
  {
   "cell_type": "code",
   "execution_count": 216,
   "metadata": {},
   "outputs": [],
   "source": [
    "kaggleMovies.loc[[19730,29503], [\"release_date\"]] = np.nan"
   ]
  },
  {
   "cell_type": "markdown",
   "metadata": {},
   "source": [
    "Here, the dates are all converted to datetime objects, errors = 'coerce' forces values such as NaN to become datetime objects, instead of failing the process"
   ]
  },
  {
   "cell_type": "code",
   "execution_count": 217,
   "metadata": {},
   "outputs": [],
   "source": [
    "kaggleMovies['release_date'] = pd.to_datetime(kaggleMovies['release_date'], errors = 'coerce')"
   ]
  },
  {
   "cell_type": "markdown",
   "metadata": {},
   "source": [
    "Next, let's repair the 'genres' column. The issue is that it is a list of dictionaries represented as a string. We will use the *ast library* to de-string these two columns. "
   ]
  },
  {
   "cell_type": "code",
   "execution_count": 218,
   "metadata": {},
   "outputs": [],
   "source": [
    "kaggleMovies['genres'] = list(map(lambda x:ast.literal_eval(x),kaggleMovies['genres']))"
   ]
  },
  {
   "cell_type": "markdown",
   "metadata": {},
   "source": [
    "There are over 2000 empty lists in 'genres', let's remove them: "
   ]
  },
  {
   "cell_type": "code",
   "execution_count": 219,
   "metadata": {},
   "outputs": [],
   "source": [
    "kaggleMovies['genres'] = kaggleMovies['genres'][kaggleMovies['genres'].apply(len)>0]\n",
    "kaggleMovies.dropna(subset = ['genres'], inplace = True)\n",
    "kaggleMovies['main_genre'] = list(map(lambda x: x[0]['name'] ,kaggleMovies['genres']))"
   ]
  },
  {
   "cell_type": "markdown",
   "metadata": {},
   "source": [
    "The 'adult' column only has nine positive values out of over **45k entries**, offering us no statistical value. Drop it.\n",
    "\n",
    "Drop the following columns as well, each is irrelevent to our topic."
   ]
  },
  {
   "cell_type": "code",
   "execution_count": 220,
   "metadata": {},
   "outputs": [],
   "source": [
    "kaggleMovies.drop(['adult',\n",
    "                   'belongs_to_collection',\n",
    "                   'tagline',\n",
    "                   'video',\n",
    "                   'poster_path',\n",
    "                   'overview',\n",
    "                   'homepage'], axis = 1, inplace = True)"
   ]
  },
  {
   "cell_type": "markdown",
   "metadata": {},
   "source": [
    "Drop duplicates of the same movie appearing more than once, using  'imdb_id' leads us to forty eight duplicates to drop."
   ]
  },
  {
   "cell_type": "code",
   "execution_count": 221,
   "metadata": {},
   "outputs": [],
   "source": [
    "kaggleMovies.drop_duplicates(subset = 'imdb_id', inplace = True)"
   ]
  },
  {
   "cell_type": "markdown",
   "metadata": {},
   "source": [
    "Remove all unreleased movies under 'status':"
   ]
  },
  {
   "cell_type": "code",
   "execution_count": 222,
   "metadata": {},
   "outputs": [],
   "source": [
    "kaggleMovies = kaggleMovies.drop(kaggleMovies['status'][kaggleMovies['status'] != 'Released'].index)"
   ]
  },
  {
   "cell_type": "markdown",
   "metadata": {},
   "source": [
    "Added year, month, day, day of week, and week columns for use in visualization:"
   ]
  },
  {
   "cell_type": "code",
   "execution_count": 223,
   "metadata": {},
   "outputs": [],
   "source": [
    "kaggleMovies['year']        = list(map(lambda x: x.year, kaggleMovies['release_date']))\n",
    "kaggleMovies['month']       = list(map(lambda x: x.month, kaggleMovies['release_date']))\n",
    "kaggleMovies['day']         = list(map(lambda x: x.day, kaggleMovies['release_date']))\n",
    "\n",
    "kaggleMovies['day_of_week'] = list(map(lambda x: x.dayofweek, kaggleMovies['release_date']))\n",
    "kaggleMovies['week']        = list(map(lambda x: x.week, kaggleMovies['release_date']))"
   ]
  },
  {
   "cell_type": "markdown",
   "metadata": {},
   "source": [
    "Now, time for some *Analysis!!"
   ]
  },
  {
   "cell_type": "markdown",
   "metadata": {},
   "source": [
    "![moviecollage](images/moviecollage.png)\n",
    "\n",
    "\n",
    "## Analysis"
   ]
  },
  {
   "cell_type": "markdown",
   "metadata": {},
   "source": [
    "Analysis is split into five sections:\n",
    "1. Analyzing Budget vs. Total Gross\n",
    "2. Analyzing Genre type vs. Total Gross\n",
    "3. Analyzing Release Year vs. Total Gross\n",
    "4. Analyzing Release Month vs. Total Gross\n",
    "5. Measuring Correlation between Variables in Kaggle Dataset"
   ]
  },
  {
   "cell_type": "code",
   "execution_count": 224,
   "metadata": {},
   "outputs": [],
   "source": [
    "import matplotlib\n",
    "import matplotlib.pyplot as plt\n",
    "\n",
    "%matplotlib inline"
   ]
  },
  {
   "cell_type": "markdown",
   "metadata": {},
   "source": [
    "### 1. Analyzing Budget vs. Total Gross"
   ]
  },
  {
   "cell_type": "markdown",
   "metadata": {},
   "source": [
    "We wanted to see if there was a strong enough correlation between BUDGET and TOTAL GROSS.\n",
    "\n",
    "TOTAL GROSS is the sum of DOMESTIC GROSS and WORLDWIDE GROSS."
   ]
  },
  {
   "cell_type": "code",
   "execution_count": 225,
   "metadata": {},
   "outputs": [],
   "source": [
    "import seaborn as sns\n",
    "from scipy import stats"
   ]
  },
  {
   "cell_type": "markdown",
   "metadata": {},
   "source": [
    "For the y values (total gross values), we found that there were **old** movies (such as the the original release of Snow White in 1937) that were proving to be outliers. We removed those items from the dataset."
   ]
  },
  {
   "cell_type": "code",
   "execution_count": 226,
   "metadata": {},
   "outputs": [],
   "source": [
    "budget_nums = list(imdb_master_money[imdb_master_money['total_gross']<3000000000]['budget_adj'].values)\n",
    "total_gross_nums = list(imdb_master_money[imdb_master_money['total_gross']<3000000000]['total_gross'].values)"
   ]
  },
  {
   "cell_type": "markdown",
   "metadata": {},
   "source": [
    "In order to figure out how to calculate the *correlation coefficent*, I had to use some code outlined by this [stack overflow post](https://stackoverflow.com/questions/45902739/seaborn-annotate-the-linear-regression-equation)."
   ]
  },
  {
   "cell_type": "code",
   "execution_count": 227,
   "metadata": {},
   "outputs": [
    {
     "data": {
      "text/plain": [
       "<matplotlib.legend.Legend at 0x7fbd42016790>"
      ]
     },
     "execution_count": 227,
     "metadata": {},
     "output_type": "execute_result"
    },
    {
     "data": {
      "image/png": "[encoded data removed]",
      "text/plain": [
       "<Figure size 432x288 with 1 Axes>"
      ]
     },
     "metadata": {
      "needs_background": "light"
     },
     "output_type": "display_data"
    }
   ],
   "source": [
    "slope, intercept, r_value, p_value, std_err = stats.linregress(budget_nums, total_gross_nums)\n",
    "\n",
    "ax = sns.regplot(x=budget_nums, y=total_gross_nums, scatter_kws={\"color\": \"mediumseagreen\"}, line_kws={\"color\": \"black\", \"label\":\"y={0:.1f}x+{1:.1f}\".format(slope,intercept)})\n",
    "ax.set(xlabel=\"Budget (Hundred Million)\", ylabel = \"Total Gross (Hundred Million)\")\n",
    "ax.set_title('Relation between Budget and Total Gross (with corresponding regression line)', size=12)\n",
    "\n",
    "ax.legend()"
   ]
  },
  {
   "cell_type": "markdown",
   "metadata": {},
   "source": [
    "The **r** value (correlation coefficient) will tell us the strength of the correlation:"
   ]
  },
  {
   "cell_type": "code",
   "execution_count": 228,
   "metadata": {},
   "outputs": [
    {
     "data": {
      "text/plain": [
       "0.725499618332788"
      ]
     },
     "execution_count": 228,
     "metadata": {},
     "output_type": "execute_result"
    }
   ],
   "source": [
    "r_value"
   ]
  },
  {
   "cell_type": "markdown",
   "metadata": {},
   "source": [
    "*We found the correlation between BUDGET and TOTAL GROSS to be substantial enough to conclude that, given the correlation, one stands to increase their TOTAL GROSS by **4.2x** by choosing to invest **200 million dollars instead of 100 million dollars** in their production budget.*\n",
    "\n",
    "Bearing this in mind, we decided to investigate the data for a few examples of movies that had the LARGEST ratio of **Total-Gross : Budget** (per every dollar in budget, how many dollars of total gross)."
   ]
  },
  {
   "cell_type": "markdown",
   "metadata": {},
   "source": [
    "![scatter3](images/scattertop3.png)\n",
    "\n",
    "Here is the data for the three *circled* points:"
   ]
  },
  {
   "cell_type": "code",
   "execution_count": 232,
   "metadata": {},
   "outputs": [
    {
     "data": {
      "text/plain": [
       "'Beauty and the Beast'"
      ]
     },
     "execution_count": 232,
     "metadata": {},
     "output_type": "execute_result"
    }
   ],
   "source": [
    "blue = imdb_master_money.loc[3913]['primary_title']\n",
    "blue"
   ]
  },
  {
   "cell_type": "code",
   "execution_count": 233,
   "metadata": {},
   "outputs": [
    {
     "data": {
      "text/plain": [
       "'Rocky'"
      ]
     },
     "execution_count": 233,
     "metadata": {},
     "output_type": "execute_result"
    }
   ],
   "source": [
    "red = imdb_master_money.loc[4452]['primary_title']\n",
    "red"
   ]
  },
  {
   "cell_type": "code",
   "execution_count": 234,
   "metadata": {},
   "outputs": [
    {
     "data": {
      "text/plain": [
       "'Minions'"
      ]
     },
     "execution_count": 234,
     "metadata": {},
     "output_type": "execute_result"
    }
   ],
   "source": [
    "orange = imdb_master_money.loc[3872]['primary_title']\n",
    "orange"
   ]
  },
  {
   "cell_type": "markdown",
   "metadata": {},
   "source": [
    "Here is the Total Gross to Budget Ratio for each movie:"
   ]
  },
  {
   "cell_type": "code",
   "execution_count": 235,
   "metadata": {},
   "outputs": [
    {
     "data": {
      "text/plain": [
       "49.224419899999994"
      ]
     },
     "execution_count": 235,
     "metadata": {},
     "output_type": "execute_result"
    }
   ],
   "source": [
    "# Beauty and the Beast (1991)\n",
    "imdb_master_money.loc[3913]['total_gross'] / imdb_master_money.loc[3913]['budget_adj']"
   ]
  },
  {
   "cell_type": "code",
   "execution_count": 236,
   "metadata": {},
   "outputs": [
    {
     "data": {
      "text/plain": [
       "342.23514700000004"
      ]
     },
     "execution_count": 236,
     "metadata": {},
     "output_type": "execute_result"
    }
   ],
   "source": [
    "# Rocky (1976)\n",
    "imdb_master_money.loc[4452]['total_gross'] / imdb_master_money.loc[4452]['budget_adj']"
   ]
  },
  {
   "cell_type": "code",
   "execution_count": 237,
   "metadata": {},
   "outputs": [
    {
     "data": {
      "text/plain": [
       "20.221377608108106"
      ]
     },
     "execution_count": 237,
     "metadata": {},
     "output_type": "execute_result"
    }
   ],
   "source": [
    "# Minions (2015)\n",
    "imdb_master_money.loc[3872]['total_gross'] / imdb_master_money.loc[3872]['budget_adj']"
   ]
  },
  {
   "cell_type": "markdown",
   "metadata": {},
   "source": [
    "### 2. Analyzing Genre type vs. Total Gross"
   ]
  },
  {
   "cell_type": "markdown",
   "metadata": {},
   "source": [
    "Here we were able to clearly see the top 5 genres: **Animation, Adventure, Sci-Fi, Action, and Fantasy.**"
   ]
  },
  {
   "cell_type": "code",
   "execution_count": 239,
   "metadata": {},
   "outputs": [
    {
     "data": {
      "text/plain": [
       "Text(0.5, 1.0, 'Average Total Gross per Genre')"
      ]
     },
     "execution_count": 239,
     "metadata": {},
     "output_type": "execute_result"
    },
    {
     "data": {
      "image/png": "[encoded data removed]",
      "text/plain": [
       "<Figure size 936x504 with 1 Axes>"
      ]
     },
     "metadata": {
      "needs_background": "light"
     },
     "output_type": "display_data"
    }
   ],
   "source": [
    "popular_genres, ax = plt.subplots(nrows=1, ncols=1, figsize=(13,7))\n",
    "\n",
    "total_gross_avgs = [genre_dict_2[i]['total_BOM_gross'][genre_dict_2[i]['total_BOM_gross']!='Unknown'].mean() \n",
    "                 for i in genres]\n",
    "lc = [0,1,3,4,10]\n",
    "color_list = ['palevioletred' if i in lc else 'skyblue' for i in range(0,len(genres))]\n",
    "\n",
    "ax.bar(genres, total_gross_avgs, color=color_list)\n",
    "\n",
    "ax.set_xlabel('Genres')\n",
    "ax.set_ylabel('Average Total Gross')\n",
    "\n",
    "ax.set_xticklabels(genres, rotation = 45)\n",
    "\n",
    "ax.set_title('Average Total Gross per Genre')\n"
   ]
  },
  {
   "cell_type": "markdown",
   "metadata": {},
   "source": [
    "### 3. Analyzing Release Year vs. Total Gross (for Top 5 Genres)"
   ]
  },
  {
   "cell_type": "markdown",
   "metadata": {},
   "source": [
    "Now that we have the top 5 genres, we looked to see if there were any notable yearly trends:"
   ]
  },
  {
   "cell_type": "code",
   "execution_count": 240,
   "metadata": {
    "scrolled": true
   },
   "outputs": [
    {
     "data": {
      "text/plain": [
       "Text(0.5, 1.0, 'Average Total Gross for the TOP 5 Genres between 2010-2018')"
      ]
     },
     "execution_count": 240,
     "metadata": {},
     "output_type": "execute_result"
    },
    {
     "data": {
      "image/png": "[encoded data removed]",
      "text/plain": [
       "<Figure size 576x288 with 1 Axes>"
      ]
     },
     "metadata": {
      "needs_background": "light"
     },
     "output_type": "display_data"
    }
   ],
   "source": [
    "year_tix = sorted(list(imdb_BOM_tn['year_y'][(imdb_BOM_tn['year_y']>2009) & (imdb_BOM_tn['year_y']<2019)].value_counts().index))\n",
    "\n",
    "adventure = [genre_dict_3['Adventure'][(genre_dict_3['Adventure']['year_y']==i)&(genre_dict_3['Adventure']['total_BOM_gross']!='Unknown')]['total_BOM_gross'].mean() for i in year_tix]\n",
    "animation = [genre_dict_3['Animation'][(genre_dict_3['Animation']['year_y']==i)&(genre_dict_3['Animation']['total_BOM_gross']!='Unknown')]['total_BOM_gross'].mean() for i in year_tix]\n",
    "scifi = [genre_dict_3['Sci-Fi'][(genre_dict_3['Sci-Fi']['year_y']==i)&(genre_dict_3['Sci-Fi']['total_BOM_gross']!='Unknown')]['total_BOM_gross'].mean() for i in year_tix]\n",
    "fantasy = [genre_dict_3['Fantasy'][(genre_dict_3['Fantasy']['year_y']==i)&(genre_dict_3['Fantasy']['total_BOM_gross']!='Unknown')]['total_BOM_gross'].mean() for i in year_tix]\n",
    "action = [genre_dict_3['Action'][(genre_dict_3['Action']['year_y']==i)&(genre_dict_3['Action']['total_BOM_gross']!='Unknown')]['total_BOM_gross'].mean() for i in year_tix]\n",
    "\n",
    "plt.figure(figsize=(8,4))\n",
    "\n",
    "plt.plot( year_tix, adventure, marker='o', markerfacecolor='limegreen', markersize=6, color='limegreen', label='Adventure', linewidth=4)\n",
    "plt.plot( year_tix, animation, marker='o', markerfacecolor='orange', markersize=6, color='orange', label='Animation', linewidth=4)\n",
    "plt.plot( year_tix, scifi, marker='o', markerfacecolor='mediumorchid', markersize=6, color='mediumorchid', label='Sci-Fi', linewidth=4)\n",
    "plt.plot( year_tix, fantasy, marker='o', markerfacecolor='maroon', markersize=6, color='maroon', label='Fantasy', linewidth=4)\n",
    "plt.plot( year_tix, action, marker='o', markerfacecolor='darkgoldenrod', markersize=6, color='darkgoldenrod', label='Action', linewidth=4)\n",
    "\n",
    "plt.xticks(year_tix, year_tix, rotation=45)\n",
    "\n",
    "plt.xlabel('Year')\n",
    "plt.ylabel('Average Total Gross (Hundred Million)')\n",
    "plt.legend()\n",
    "\n",
    "plt.title('Average Total Gross for the TOP 5 Genres between 2010-2018')"
   ]
  },
  {
   "cell_type": "markdown",
   "metadata": {},
   "source": [
    "**Takeaways:**\n",
    "* Since the graph is only showing an 8 year range, we didn't want to draw any conclusions or make any recommendations based on yearly total gross *trends*.\n",
    "* We found it beneficial to hone in on 2 key points in the graph: Total Gross for SCI-FI in 2013 (after a significant growth period) *and* Total Gross for ANIMATION in 2013 (largest point in 2013). \n",
    "* After examining the data for Sci-Fi and Animation in 2013, we thought it would be beneficial for Microsoft to be aware of the \"best\" movies in terms of total gross to budget ratio."
   ]
  },
  {
   "cell_type": "code",
   "execution_count": 241,
   "metadata": {},
   "outputs": [
    {
     "data": {
      "text/html": [
       "<div>\n",
       "<style scoped>\n",
       "    .dataframe tbody tr th:only-of-type {\n",
       "        vertical-align: middle;\n",
       "    }\n",
       "\n",
       "    .dataframe tbody tr th {\n",
       "        vertical-align: top;\n",
       "    }\n",
       "\n",
       "    .dataframe thead th {\n",
       "        text-align: right;\n",
       "    }\n",
       "</style>\n",
       "<table border=\"1\" class=\"dataframe\">\n",
       "  <thead>\n",
       "    <tr style=\"text-align: right;\">\n",
       "      <th></th>\n",
       "      <th>tconst</th>\n",
       "      <th>primary_title</th>\n",
       "      <th>original_title</th>\n",
       "      <th>start_year</th>\n",
       "      <th>runtime_minutes</th>\n",
       "      <th>genres</th>\n",
       "      <th>ordering_akas</th>\n",
       "      <th>title</th>\n",
       "      <th>region</th>\n",
       "      <th>language</th>\n",
       "      <th>...</th>\n",
       "      <th>popularity</th>\n",
       "      <th>release_date</th>\n",
       "      <th>vote_average</th>\n",
       "      <th>vote_count</th>\n",
       "      <th>month_released</th>\n",
       "      <th>year</th>\n",
       "      <th>domestic_adj</th>\n",
       "      <th>worldwide_adj</th>\n",
       "      <th>budget_adj</th>\n",
       "      <th>total_gross</th>\n",
       "    </tr>\n",
       "  </thead>\n",
       "  <tbody>\n",
       "    <tr>\n",
       "      <th>75</th>\n",
       "      <td>tt0481499</td>\n",
       "      <td>The Croods</td>\n",
       "      <td>The Croods</td>\n",
       "      <td>2013</td>\n",
       "      <td>98</td>\n",
       "      <td>[Action, Adventure, Animation]</td>\n",
       "      <td>10</td>\n",
       "      <td>Crood Awakening</td>\n",
       "      <td>US</td>\n",
       "      <td>Unknown</td>\n",
       "      <td>...</td>\n",
       "      <td>16.29</td>\n",
       "      <td>2013-03-22</td>\n",
       "      <td>6.8</td>\n",
       "      <td>3873</td>\n",
       "      <td>3</td>\n",
       "      <td>2013</td>\n",
       "      <td>2.079407e+08</td>\n",
       "      <td>6.366686e+08</td>\n",
       "      <td>1.499826e+08</td>\n",
       "      <td>8.446093e+08</td>\n",
       "    </tr>\n",
       "    <tr>\n",
       "      <th>1134</th>\n",
       "      <td>tt2294629</td>\n",
       "      <td>Frozen</td>\n",
       "      <td>Frozen</td>\n",
       "      <td>2013</td>\n",
       "      <td>102</td>\n",
       "      <td>[Adventure, Animation, Comedy]</td>\n",
       "      <td>10</td>\n",
       "      <td>Frost</td>\n",
       "      <td>SE</td>\n",
       "      <td>Unknown</td>\n",
       "      <td>...</td>\n",
       "      <td>9.678</td>\n",
       "      <td>2010-02-05</td>\n",
       "      <td>5.8</td>\n",
       "      <td>987</td>\n",
       "      <td>11</td>\n",
       "      <td>2013</td>\n",
       "      <td>4.452127e+08</td>\n",
       "      <td>1.413691e+09</td>\n",
       "      <td>1.666473e+08</td>\n",
       "      <td>1.858904e+09</td>\n",
       "    </tr>\n",
       "    <tr>\n",
       "      <th>1135</th>\n",
       "      <td>tt2294629</td>\n",
       "      <td>Frozen</td>\n",
       "      <td>Frozen</td>\n",
       "      <td>2013</td>\n",
       "      <td>102</td>\n",
       "      <td>[Adventure, Animation, Comedy]</td>\n",
       "      <td>10</td>\n",
       "      <td>Frost</td>\n",
       "      <td>SE</td>\n",
       "      <td>Unknown</td>\n",
       "      <td>...</td>\n",
       "      <td>26.183</td>\n",
       "      <td>2013-11-27</td>\n",
       "      <td>7.3</td>\n",
       "      <td>9767</td>\n",
       "      <td>11</td>\n",
       "      <td>2013</td>\n",
       "      <td>4.452127e+08</td>\n",
       "      <td>1.413691e+09</td>\n",
       "      <td>1.666473e+08</td>\n",
       "      <td>1.858904e+09</td>\n",
       "    </tr>\n",
       "    <tr>\n",
       "      <th>1434</th>\n",
       "      <td>tt1453405</td>\n",
       "      <td>Monsters University</td>\n",
       "      <td>Monsters University</td>\n",
       "      <td>2013</td>\n",
       "      <td>104</td>\n",
       "      <td>[Adventure, Animation, Comedy]</td>\n",
       "      <td>10</td>\n",
       "      <td>Sevimli Canavarlar Üniversitesi</td>\n",
       "      <td>TR</td>\n",
       "      <td>tr</td>\n",
       "      <td>...</td>\n",
       "      <td>20.33</td>\n",
       "      <td>2013-06-21</td>\n",
       "      <td>7</td>\n",
       "      <td>6362</td>\n",
       "      <td>6</td>\n",
       "      <td>2013</td>\n",
       "      <td>2.982857e+08</td>\n",
       "      <td>8.261131e+08</td>\n",
       "      <td>2.221964e+08</td>\n",
       "      <td>1.124399e+09</td>\n",
       "    </tr>\n",
       "    <tr>\n",
       "      <th>2183</th>\n",
       "      <td>tt1690953</td>\n",
       "      <td>Despicable Me 2</td>\n",
       "      <td>Despicable Me 2</td>\n",
       "      <td>2013</td>\n",
       "      <td>98</td>\n",
       "      <td>[Adventure, Animation, Comedy]</td>\n",
       "      <td>10</td>\n",
       "      <td>Ke Trôm Mat Trang 2</td>\n",
       "      <td>VN</td>\n",
       "      <td>Unknown</td>\n",
       "      <td>...</td>\n",
       "      <td>19.014</td>\n",
       "      <td>2013-07-03</td>\n",
       "      <td>6.9</td>\n",
       "      <td>7319</td>\n",
       "      <td>7</td>\n",
       "      <td>2013</td>\n",
       "      <td>4.089140e+08</td>\n",
       "      <td>1.083448e+09</td>\n",
       "      <td>8.443462e+07</td>\n",
       "      <td>1.492362e+09</td>\n",
       "    </tr>\n",
       "  </tbody>\n",
       "</table>\n",
       "<p>5 rows × 34 columns</p>\n",
       "</div>"
      ],
      "text/plain": [
       "         tconst        primary_title       original_title start_year  \\\n",
       "75    tt0481499           The Croods           The Croods       2013   \n",
       "1134  tt2294629               Frozen               Frozen       2013   \n",
       "1135  tt2294629               Frozen               Frozen       2013   \n",
       "1434  tt1453405  Monsters University  Monsters University       2013   \n",
       "2183  tt1690953      Despicable Me 2      Despicable Me 2       2013   \n",
       "\n",
       "     runtime_minutes                          genres ordering_akas  \\\n",
       "75                98  [Action, Adventure, Animation]            10   \n",
       "1134             102  [Adventure, Animation, Comedy]            10   \n",
       "1135             102  [Adventure, Animation, Comedy]            10   \n",
       "1434             104  [Adventure, Animation, Comedy]            10   \n",
       "2183              98  [Adventure, Animation, Comedy]            10   \n",
       "\n",
       "                                title region language  ... popularity  \\\n",
       "75                    Crood Awakening     US  Unknown  ...      16.29   \n",
       "1134                            Frost     SE  Unknown  ...      9.678   \n",
       "1135                            Frost     SE  Unknown  ...     26.183   \n",
       "1434  Sevimli Canavarlar Üniversitesi     TR       tr  ...      20.33   \n",
       "2183              Ke Trôm Mat Trang 2     VN  Unknown  ...     19.014   \n",
       "\n",
       "     release_date vote_average vote_count month_released  year  domestic_adj  \\\n",
       "75     2013-03-22          6.8       3873              3  2013  2.079407e+08   \n",
       "1134   2010-02-05          5.8        987             11  2013  4.452127e+08   \n",
       "1135   2013-11-27          7.3       9767             11  2013  4.452127e+08   \n",
       "1434   2013-06-21            7       6362              6  2013  2.982857e+08   \n",
       "2183   2013-07-03          6.9       7319              7  2013  4.089140e+08   \n",
       "\n",
       "     worldwide_adj    budget_adj   total_gross  \n",
       "75    6.366686e+08  1.499826e+08  8.446093e+08  \n",
       "1134  1.413691e+09  1.666473e+08  1.858904e+09  \n",
       "1135  1.413691e+09  1.666473e+08  1.858904e+09  \n",
       "1434  8.261131e+08  2.221964e+08  1.124399e+09  \n",
       "2183  1.083448e+09  8.443462e+07  1.492362e+09  \n",
       "\n",
       "[5 rows x 34 columns]"
      ]
     },
     "execution_count": 241,
     "metadata": {},
     "output_type": "execute_result"
    }
   ],
   "source": [
    "df_animation = genre_dict['Animation'][(genre_dict['Animation']['year']==2013)&(genre_dict['Animation']['total_gross']>600000000)]\n",
    "df_animation"
   ]
  },
  {
   "cell_type": "markdown",
   "metadata": {},
   "source": [
    "Despite the theoretical possibility of a more pythonic way to accomplish this, we used the indices shown in the above dataframe to locate the movie and calculate its ratio."
   ]
  },
  {
   "cell_type": "code",
   "execution_count": 242,
   "metadata": {},
   "outputs": [
    {
     "data": {
      "text/plain": [
       "5.631384074074073"
      ]
     },
     "execution_count": 242,
     "metadata": {},
     "output_type": "execute_result"
    }
   ],
   "source": [
    "# The Croods\n",
    "df_animation.loc[75]['total_gross'] / df_animation.loc[75]['budget_adj']"
   ]
  },
  {
   "cell_type": "code",
   "execution_count": 243,
   "metadata": {},
   "outputs": [
    {
     "data": {
      "text/plain": [
       "11.154719459999997"
      ]
     },
     "execution_count": 243,
     "metadata": {},
     "output_type": "execute_result"
    }
   ],
   "source": [
    "# Frozen\n",
    "df_animation.loc[1134]['total_gross'] / df_animation.loc[1134]['budget_adj']"
   ]
  },
  {
   "cell_type": "code",
   "execution_count": 244,
   "metadata": {},
   "outputs": [
    {
     "data": {
      "text/plain": [
       "5.060383290000001"
      ]
     },
     "execution_count": 244,
     "metadata": {},
     "output_type": "execute_result"
    }
   ],
   "source": [
    "# Monsters University\n",
    "df_animation.loc[1434]['total_gross'] / df_animation.loc[1434]['budget_adj']"
   ]
  },
  {
   "cell_type": "code",
   "execution_count": 245,
   "metadata": {
    "scrolled": true
   },
   "outputs": [
    {
     "data": {
      "text/plain": [
       "17.674766052631576"
      ]
     },
     "execution_count": 245,
     "metadata": {},
     "output_type": "execute_result"
    }
   ],
   "source": [
    "# Despicable Me 2\n",
    "df_animation.loc[2183]['total_gross'] / df_animation.loc[2183]['budget_adj']"
   ]
  },
  {
   "cell_type": "markdown",
   "metadata": {},
   "source": [
    "From the above, we concluded and emphasized the fact that the Animated movie with the HIGHEST ratio is **Despicable Me 2**, with an *18 : 1* ratio.\n",
    "\n",
    "This is interesting compared to the 2nd largest average gross for Animation, which was in 2010, the release year of **Despicable Me**, which has an *11 : 1* ratio."
   ]
  },
  {
   "cell_type": "markdown",
   "metadata": {},
   "source": [
    "### 4. Analyzing Release Month vs. Total Gross"
   ]
  },
  {
   "cell_type": "markdown",
   "metadata": {},
   "source": [
    "After doing some [research](), we found that **release strategies** are a significant part of movie company decision making. We decided to corral the data in that direction to see if there were some helpful suggestions for which **month** is most/least optimal to release a film."
   ]
  },
  {
   "cell_type": "code",
   "execution_count": 246,
   "metadata": {
    "scrolled": true
   },
   "outputs": [
    {
     "data": {
      "text/plain": [
       "Text(0, 0.5, 'Average Total Gross (Billions)')"
      ]
     },
     "execution_count": 246,
     "metadata": {},
     "output_type": "execute_result"
    },
    {
     "data": {
      "image/png": "[encoded data removed]",
      "text/plain": [
       "<Figure size 576x288 with 1 Axes>"
      ]
     },
     "metadata": {
      "needs_background": "light"
     },
     "output_type": "display_data"
    }
   ],
   "source": [
    "month_avg, ax = plt.subplots(ncols=1, figsize=(8,4))\n",
    "\n",
    "# x and y values\n",
    "months = [sorted(tnMovieBudgets['month_released'].value_counts().index)[i] \n",
    "     for i in range(0, len(tnMovieBudgets['month_released'].value_counts().index))]\n",
    "mean_total_grosses = [tnMovieBudgets[tnMovieBudgets['month_released']==i]['total_gross'].mean() for i in range(1,13)]\n",
    "\n",
    "ax.bar(months, mean_total_grosses, color='grey')   \n",
    "ax.set_title('Average Total Gross per Month')\n",
    "ax.set_xlabel('Month')\n",
    "ax.set_ylabel('Average Total Gross (Billions)')\n"
   ]
  },
  {
   "cell_type": "markdown",
   "metadata": {},
   "source": [
    "To confirm this pattern of Average Gross per month, we looked to see if the same pattern would occur when calculating the Average Gross by **genre**:"
   ]
  },
  {
   "cell_type": "code",
   "execution_count": 247,
   "metadata": {},
   "outputs": [],
   "source": [
    "import numpy as np"
   ]
  },
  {
   "cell_type": "code",
   "execution_count": 248,
   "metadata": {},
   "outputs": [
    {
     "data": {
      "text/plain": [
       "<matplotlib.legend.Legend at 0x7fbd3667ae50>"
      ]
     },
     "execution_count": 248,
     "metadata": {},
     "output_type": "execute_result"
    },
    {
     "data": {
      "image/png": "[encoded data removed]",
      "text/plain": [
       "<Figure size 1296x1008 with 4 Axes>"
      ]
     },
     "metadata": {
      "needs_background": "light"
     },
     "output_type": "display_data"
    }
   ],
   "source": [
    "# FIG \n",
    "fig, ax = plt.subplots(nrows=2, ncols=2, figsize=(18,14))\n",
    "months = list(range(1,13))\n",
    "\n",
    "# Comedy and avg COMPARE\n",
    "\n",
    "total_gross_avgs_comedy = [genre_dict['Comedy']['total_gross'][\n",
    "    (genre_dict['Comedy']['month_released']==i)&(genre_dict['Comedy']['total_gross']!='Unknown')].mean() for i in months\n",
    "    ]\n",
    "\n",
    "w = 0.4\n",
    "bar1 = months\n",
    "bar2 = [i+w for i in bar1]\n",
    "\n",
    "ax[0][0].bar(bar1, total_gross_avgs_comedy, width=w, color='firebrick', label='Comedy Averages', align='center')\n",
    "ax[0][0].bar(bar2, mean_total_grosses, width=w, color='mediumturquoise', label='Averages (all genres)', align='center')\n",
    "\n",
    "# x and y vals; use bottom parameter to make stacked\n",
    "ax[0][0].set_xlabel('Month')\n",
    "ax[0][0].set_ylabel('Average Total Gross (Hundred Million)')\n",
    "ax[0][0].set_title('Comparing Comedy Genre Monthly Gross to Average Monthly Gross')\n",
    "ax[0][0].legend()\n",
    "\n",
    "#################\n",
    "\n",
    "# Drama and avg COMPARE\n",
    "\n",
    "total_gross_avgs_drama = [genre_dict['Drama']['total_gross'][\n",
    "    (genre_dict['Drama']['month_released']==i)&(genre_dict['Drama']['total_gross']!='Unknown')].mean() for i in months\n",
    "    ]\n",
    "\n",
    "w = 0.4\n",
    "bar1 = months\n",
    "bar2 = [i+w for i in bar1]\n",
    "\n",
    "ax[0][1].bar(bar1, total_gross_avgs_drama, width=w, color='mediumpurple', label='Drama Averages', align='center')\n",
    "ax[0][1].bar(bar2, mean_total_grosses, width=w, color='mediumturquoise', label='Averages (all genres)', align='center')\n",
    "\n",
    "ax[0][1].set_xlabel('Month')\n",
    "ax[0][1].set_ylabel('Average Total Gross (Hundred Million)')\n",
    "ax[0][1].set_title('Comparing Drama Genre Monthly Gross to Average Monthly Gross')\n",
    "ax[0][1].legend()\n",
    "\n",
    "##################\n",
    "\n",
    "# Fantasy and avg COMPARE\n",
    "\n",
    "total_gross_avgs_fantasy = [genre_dict['Fantasy']['total_gross'][\n",
    "    (genre_dict['Fantasy']['month_released']==i)&(genre_dict['Fantasy']['total_gross']!='Unknown')].mean() for i in months\n",
    "    ]\n",
    "\n",
    "w = 0.4\n",
    "bar1 = months\n",
    "bar2 = [i+w for i in bar1]\n",
    "\n",
    "ax[1][0].bar(bar1, total_gross_avgs_fantasy, width=w, color='forestgreen', label='Fantasy Averages', align='center')\n",
    "ax[1][0].bar(bar2, mean_total_grosses, width=w, color='mediumturquoise', label='Averages (all genres)', align='center')\n",
    "\n",
    "ax[1][0].set_xlabel('Month')\n",
    "ax[1][0].set_ylabel('Average Total Gross (Hundred Million)')\n",
    "ax[1][0].set_title('Comparing Fantasy Genre Monthly Gross to Average Monthly Gross')\n",
    "ax[1][0].legend()\n",
    "\n",
    "###################\n",
    "\n",
    "# Romance and avg COMPARE\n",
    "\n",
    "total_gross_avgs_romance = [genre_dict['Romance']['total_gross'][\n",
    "    (genre_dict['Romance']['month_released']==i)&(genre_dict['Romance']['total_gross']!='Unknown')].mean() for i in months\n",
    "    ]\n",
    "\n",
    "w = 0.4\n",
    "bar1 = months\n",
    "bar2 = [i+w for i in bar1]\n",
    "\n",
    "ax[1][1].bar(bar1, total_gross_avgs_romance, width=w, color='brown', label='Romance Averages', align='center')\n",
    "ax[1][1].bar(bar2, mean_total_grosses, width=w, color='mediumturquoise', label='Averages (all genres)', align='center')\n",
    "\n",
    "ax[1][1].set_xlabel('Month')\n",
    "ax[1][1].set_ylabel('Average Total Gross (Hundred Million)')\n",
    "ax[1][1].set_title('Comparing Romance Genre Monthly Gross to Average Monthly Gross')\n",
    "ax[1][1].legend()"
   ]
  },
  {
   "cell_type": "markdown",
   "metadata": {},
   "source": [
    "**Takeaways:**\n",
    "* MAY is the month with the largest Average Total Gross\n",
    "* The summer months (May, June, July) average significantly higher than other seasons.\n",
    "* When dissecting the averages into different genres, none of the above genres (Comedy, Genre, Fantasy, Romance) conformed to this trend, with higher Total Grosses during **winter** months."
   ]
  },
  {
   "cell_type": "markdown",
   "metadata": {},
   "source": [
    "## 5. Measuring Correlation between Variables in Kaggle Dataset"
   ]
  },
  {
   "cell_type": "markdown",
   "metadata": {},
   "source": [
    "We can take a quick look at correlations by using .corr(), this is a usefull diagram to refer to alongside it's histogram for discovering valubale data and its relavancy."
   ]
  },
  {
   "cell_type": "code",
   "execution_count": 249,
   "metadata": {},
   "outputs": [
    {
     "data": {
      "text/html": [
       "<div>\n",
       "<style scoped>\n",
       "    .dataframe tbody tr th:only-of-type {\n",
       "        vertical-align: middle;\n",
       "    }\n",
       "\n",
       "    .dataframe tbody tr th {\n",
       "        vertical-align: top;\n",
       "    }\n",
       "\n",
       "    .dataframe thead th {\n",
       "        text-align: right;\n",
       "    }\n",
       "</style>\n",
       "<table border=\"1\" class=\"dataframe\">\n",
       "  <thead>\n",
       "    <tr style=\"text-align: right;\">\n",
       "      <th></th>\n",
       "      <th>budget</th>\n",
       "      <th>popularity</th>\n",
       "      <th>revenue</th>\n",
       "      <th>runtime</th>\n",
       "      <th>vote_average</th>\n",
       "      <th>vote_count</th>\n",
       "      <th>percent returns</th>\n",
       "      <th>year</th>\n",
       "      <th>month</th>\n",
       "      <th>day</th>\n",
       "      <th>day_of_week</th>\n",
       "      <th>week</th>\n",
       "    </tr>\n",
       "  </thead>\n",
       "  <tbody>\n",
       "    <tr>\n",
       "      <th>budget</th>\n",
       "      <td>1.000000</td>\n",
       "      <td>0.447290</td>\n",
       "      <td>0.768350</td>\n",
       "      <td>0.136480</td>\n",
       "      <td>0.069929</td>\n",
       "      <td>0.675644</td>\n",
       "      <td>-0.012698</td>\n",
       "      <td>0.135826</td>\n",
       "      <td>0.037095</td>\n",
       "      <td>0.036675</td>\n",
       "      <td>-0.031794</td>\n",
       "      <td>0.020293</td>\n",
       "    </tr>\n",
       "    <tr>\n",
       "      <th>popularity</th>\n",
       "      <td>0.447290</td>\n",
       "      <td>1.000000</td>\n",
       "      <td>0.505706</td>\n",
       "      <td>0.124362</td>\n",
       "      <td>0.149801</td>\n",
       "      <td>0.558977</td>\n",
       "      <td>-0.004063</td>\n",
       "      <td>0.134619</td>\n",
       "      <td>0.037324</td>\n",
       "      <td>0.047755</td>\n",
       "      <td>-0.016882</td>\n",
       "      <td>0.014399</td>\n",
       "    </tr>\n",
       "    <tr>\n",
       "      <th>revenue</th>\n",
       "      <td>0.768350</td>\n",
       "      <td>0.505706</td>\n",
       "      <td>1.000000</td>\n",
       "      <td>0.105680</td>\n",
       "      <td>0.084395</td>\n",
       "      <td>0.811636</td>\n",
       "      <td>-0.005591</td>\n",
       "      <td>0.091122</td>\n",
       "      <td>0.030585</td>\n",
       "      <td>0.031271</td>\n",
       "      <td>-0.038363</td>\n",
       "      <td>0.018739</td>\n",
       "    </tr>\n",
       "    <tr>\n",
       "      <th>runtime</th>\n",
       "      <td>0.136480</td>\n",
       "      <td>0.124362</td>\n",
       "      <td>0.105680</td>\n",
       "      <td>1.000000</td>\n",
       "      <td>0.142789</td>\n",
       "      <td>0.114413</td>\n",
       "      <td>-0.005394</td>\n",
       "      <td>0.074289</td>\n",
       "      <td>0.059289</td>\n",
       "      <td>0.034421</td>\n",
       "      <td>0.009333</td>\n",
       "      <td>0.032890</td>\n",
       "    </tr>\n",
       "    <tr>\n",
       "      <th>vote_average</th>\n",
       "      <td>0.069929</td>\n",
       "      <td>0.149801</td>\n",
       "      <td>0.084395</td>\n",
       "      <td>0.142789</td>\n",
       "      <td>1.000000</td>\n",
       "      <td>0.125902</td>\n",
       "      <td>0.013354</td>\n",
       "      <td>0.024701</td>\n",
       "      <td>0.039058</td>\n",
       "      <td>0.030610</td>\n",
       "      <td>-0.002759</td>\n",
       "      <td>0.029937</td>\n",
       "    </tr>\n",
       "    <tr>\n",
       "      <th>vote_count</th>\n",
       "      <td>0.675644</td>\n",
       "      <td>0.558977</td>\n",
       "      <td>0.811636</td>\n",
       "      <td>0.114413</td>\n",
       "      <td>0.125902</td>\n",
       "      <td>1.000000</td>\n",
       "      <td>-0.003127</td>\n",
       "      <td>0.110074</td>\n",
       "      <td>0.032454</td>\n",
       "      <td>0.034457</td>\n",
       "      <td>-0.041175</td>\n",
       "      <td>0.018413</td>\n",
       "    </tr>\n",
       "    <tr>\n",
       "      <th>percent returns</th>\n",
       "      <td>-0.012698</td>\n",
       "      <td>-0.004063</td>\n",
       "      <td>-0.005591</td>\n",
       "      <td>-0.005394</td>\n",
       "      <td>0.013354</td>\n",
       "      <td>-0.003127</td>\n",
       "      <td>1.000000</td>\n",
       "      <td>-0.024828</td>\n",
       "      <td>0.001472</td>\n",
       "      <td>-0.014172</td>\n",
       "      <td>0.001333</td>\n",
       "      <td>-0.000023</td>\n",
       "    </tr>\n",
       "    <tr>\n",
       "      <th>year</th>\n",
       "      <td>0.135826</td>\n",
       "      <td>0.134619</td>\n",
       "      <td>0.091122</td>\n",
       "      <td>0.074289</td>\n",
       "      <td>0.024701</td>\n",
       "      <td>0.110074</td>\n",
       "      <td>-0.024828</td>\n",
       "      <td>1.000000</td>\n",
       "      <td>-0.020217</td>\n",
       "      <td>0.016616</td>\n",
       "      <td>0.016047</td>\n",
       "      <td>-0.035033</td>\n",
       "    </tr>\n",
       "    <tr>\n",
       "      <th>month</th>\n",
       "      <td>0.037095</td>\n",
       "      <td>0.037324</td>\n",
       "      <td>0.030585</td>\n",
       "      <td>0.059289</td>\n",
       "      <td>0.039058</td>\n",
       "      <td>0.032454</td>\n",
       "      <td>0.001472</td>\n",
       "      <td>-0.020217</td>\n",
       "      <td>1.000000</td>\n",
       "      <td>0.122528</td>\n",
       "      <td>-0.002054</td>\n",
       "      <td>0.860586</td>\n",
       "    </tr>\n",
       "    <tr>\n",
       "      <th>day</th>\n",
       "      <td>0.036675</td>\n",
       "      <td>0.047755</td>\n",
       "      <td>0.031271</td>\n",
       "      <td>0.034421</td>\n",
       "      <td>0.030610</td>\n",
       "      <td>0.034457</td>\n",
       "      <td>-0.014172</td>\n",
       "      <td>0.016616</td>\n",
       "      <td>0.122528</td>\n",
       "      <td>1.000000</td>\n",
       "      <td>0.014580</td>\n",
       "      <td>0.070272</td>\n",
       "    </tr>\n",
       "    <tr>\n",
       "      <th>day_of_week</th>\n",
       "      <td>-0.031794</td>\n",
       "      <td>-0.016882</td>\n",
       "      <td>-0.038363</td>\n",
       "      <td>0.009333</td>\n",
       "      <td>-0.002759</td>\n",
       "      <td>-0.041175</td>\n",
       "      <td>0.001333</td>\n",
       "      <td>0.016047</td>\n",
       "      <td>-0.002054</td>\n",
       "      <td>0.014580</td>\n",
       "      <td>1.000000</td>\n",
       "      <td>0.085473</td>\n",
       "    </tr>\n",
       "    <tr>\n",
       "      <th>week</th>\n",
       "      <td>0.020293</td>\n",
       "      <td>0.014399</td>\n",
       "      <td>0.018739</td>\n",
       "      <td>0.032890</td>\n",
       "      <td>0.029937</td>\n",
       "      <td>0.018413</td>\n",
       "      <td>-0.000023</td>\n",
       "      <td>-0.035033</td>\n",
       "      <td>0.860586</td>\n",
       "      <td>0.070272</td>\n",
       "      <td>0.085473</td>\n",
       "      <td>1.000000</td>\n",
       "    </tr>\n",
       "  </tbody>\n",
       "</table>\n",
       "</div>"
      ],
      "text/plain": [
       "                   budget  popularity   revenue   runtime  vote_average  \\\n",
       "budget           1.000000    0.447290  0.768350  0.136480      0.069929   \n",
       "popularity       0.447290    1.000000  0.505706  0.124362      0.149801   \n",
       "revenue          0.768350    0.505706  1.000000  0.105680      0.084395   \n",
       "runtime          0.136480    0.124362  0.105680  1.000000      0.142789   \n",
       "vote_average     0.069929    0.149801  0.084395  0.142789      1.000000   \n",
       "vote_count       0.675644    0.558977  0.811636  0.114413      0.125902   \n",
       "percent returns -0.012698   -0.004063 -0.005591 -0.005394      0.013354   \n",
       "year             0.135826    0.134619  0.091122  0.074289      0.024701   \n",
       "month            0.037095    0.037324  0.030585  0.059289      0.039058   \n",
       "day              0.036675    0.047755  0.031271  0.034421      0.030610   \n",
       "day_of_week     -0.031794   -0.016882 -0.038363  0.009333     -0.002759   \n",
       "week             0.020293    0.014399  0.018739  0.032890      0.029937   \n",
       "\n",
       "                 vote_count  percent returns      year     month       day  \\\n",
       "budget             0.675644        -0.012698  0.135826  0.037095  0.036675   \n",
       "popularity         0.558977        -0.004063  0.134619  0.037324  0.047755   \n",
       "revenue            0.811636        -0.005591  0.091122  0.030585  0.031271   \n",
       "runtime            0.114413        -0.005394  0.074289  0.059289  0.034421   \n",
       "vote_average       0.125902         0.013354  0.024701  0.039058  0.030610   \n",
       "vote_count         1.000000        -0.003127  0.110074  0.032454  0.034457   \n",
       "percent returns   -0.003127         1.000000 -0.024828  0.001472 -0.014172   \n",
       "year               0.110074        -0.024828  1.000000 -0.020217  0.016616   \n",
       "month              0.032454         0.001472 -0.020217  1.000000  0.122528   \n",
       "day                0.034457        -0.014172  0.016616  0.122528  1.000000   \n",
       "day_of_week       -0.041175         0.001333  0.016047 -0.002054  0.014580   \n",
       "week               0.018413        -0.000023 -0.035033  0.860586  0.070272   \n",
       "\n",
       "                 day_of_week      week  \n",
       "budget             -0.031794  0.020293  \n",
       "popularity         -0.016882  0.014399  \n",
       "revenue            -0.038363  0.018739  \n",
       "runtime             0.009333  0.032890  \n",
       "vote_average       -0.002759  0.029937  \n",
       "vote_count         -0.041175  0.018413  \n",
       "percent returns     0.001333 -0.000023  \n",
       "year                0.016047 -0.035033  \n",
       "month              -0.002054  0.860586  \n",
       "day                 0.014580  0.070272  \n",
       "day_of_week         1.000000  0.085473  \n",
       "week                0.085473  1.000000  "
      ]
     },
     "execution_count": 249,
     "metadata": {},
     "output_type": "execute_result"
    }
   ],
   "source": [
    "kaggleMovies.corr()"
   ]
  },
  {
   "cell_type": "markdown",
   "metadata": {},
   "source": [
    "The **heatmap** below displays the same information seen above as a graph, making it easier to gauge relevancy within the data. Unfortunately, it seems like there are only around *five strongly correlating columns in our data*.\n",
    "\n",
    "Keep in mind that some correlations are too self evident to mark as a useful datapoint, such as the 86% \n",
    "correlation between month and week."
   ]
  },
  {
   "cell_type": "code",
   "execution_count": 250,
   "metadata": {},
   "outputs": [
    {
     "data": {
      "text/plain": [
       "<AxesSubplot:>"
      ]
     },
     "execution_count": 250,
     "metadata": {},
     "output_type": "execute_result"
    },
    {
     "data": {
      "image/png": "[encoded data removed]",
      "text/plain": [
       "<Figure size 1152x648 with 2 Axes>"
      ]
     },
     "metadata": {
      "needs_background": "light"
     },
     "output_type": "display_data"
    }
   ],
   "source": [
    "heatmap, ax = plt.subplots(figsize=(16, 9))\n",
    "sns.heatmap(kaggleMovies.corr(), annot=True, linewidths = 0.1)"
   ]
  },
  {
   "cell_type": "markdown",
   "metadata": {},
   "source": [
    "Lets cut down the heatmap to it's most important correlations for ease of viewing\n",
    "\n",
    "As a note, the heatmap is mirrored across the diagonal filled with ones. This means that every box above or below the diagonal can be erased without losing any information."
   ]
  },
  {
   "cell_type": "code",
   "execution_count": 251,
   "metadata": {},
   "outputs": [
    {
     "data": {
      "text/plain": [
       "<AxesSubplot:>"
      ]
     },
     "execution_count": 251,
     "metadata": {},
     "output_type": "execute_result"
    },
    {
     "data": {
      "image/png": "[encoded data removed]",
      "text/plain": [
       "<Figure size 432x288 with 2 Axes>"
      ]
     },
     "metadata": {
      "needs_background": "light"
     },
     "output_type": "display_data"
    }
   ],
   "source": [
    "heatmapdb = kaggleMovies[['budget','popularity', 'revenue', 'vote_count','runtime']]\n",
    "sns.heatmap(heatmapdb.corr(), annot = True, linewidths = 0)"
   ]
  },
  {
   "cell_type": "markdown",
   "metadata": {},
   "source": [
    "I use the configuration below as a tool to display the correlation between two columns for every genre\n",
    "\n",
    "*If you'd like to get a closer look, right click on the image to open in a new window and zoom in.*"
   ]
  },
  {
   "cell_type": "code",
   "execution_count": 252,
   "metadata": {},
   "outputs": [
    {
     "data": {
      "text/plain": [
       "<seaborn.axisgrid.FacetGrid at 0x7fbd45d56730>"
      ]
     },
     "execution_count": 252,
     "metadata": {},
     "output_type": "execute_result"
    },
    {
     "data": {
      "image/png": "[encoded data removed]",
      "text/plain": [
       "<Figure size 7200x360 with 20 Axes>"
      ]
     },
     "metadata": {
      "needs_background": "light"
     },
     "output_type": "display_data"
    }
   ],
   "source": [
    "sns.lmplot(data = kaggleMovies\n",
    "          , x = 'runtime'\n",
    "          , y = 'popularity'\n",
    "          , col = 'main_genre'\n",
    "          , hue = 'main_genre'\n",
    "          , truncate = True\n",
    "          , )"
   ]
  },
  {
   "cell_type": "markdown",
   "metadata": {},
   "source": [
    "Changed seaborn settings to match project style:"
   ]
  },
  {
   "cell_type": "code",
   "execution_count": 253,
   "metadata": {},
   "outputs": [],
   "source": [
    "sns.set_theme(style=\"darkgrid\")\n",
    "new_palette = ['#00B799']\n",
    "sns.set_palette(new_palette)"
   ]
  },
  {
   "cell_type": "markdown",
   "metadata": {},
   "source": [
    "**Takeaways:**\n",
    "So far, I have noticed that there is a strong correlation between the **revenue and the general popularity** of the movie. As the revenue increases, due to people buying tickets or home media, the amount of reviews increase, which in turn inspires more people to watch the movie. This is a vicious cycle that ends mainly due to the target audience being depleted. Advertising could punch up both the popularity and the revenue."
   ]
  },
  {
   "cell_type": "code",
   "execution_count": 254,
   "metadata": {},
   "outputs": [
    {
     "data": {
      "text/plain": [
       "<seaborn.axisgrid.FacetGrid at 0x7fbd3f466c70>"
      ]
     },
     "execution_count": 254,
     "metadata": {},
     "output_type": "execute_result"
    },
    {
     "data": {
      "image/png": "[encoded data removed]",
      "text/plain": [
       "<Figure size 360x360 with 1 Axes>"
      ]
     },
     "metadata": {},
     "output_type": "display_data"
    }
   ],
   "source": [
    "sns.lmplot(data = kaggleMovies,\n",
    "          x = 'budget',\n",
    "          y = 'popularity')\n",
    "# Family\n",
    "# Science Fiction\n",
    "# Action"
   ]
  },
  {
   "cell_type": "code",
   "execution_count": 36,
   "metadata": {},
   "outputs": [
    {
     "data": {
      "text/plain": [
       "<seaborn.axisgrid.FacetGrid at 0x29a289a83a0>"
      ]
     },
     "execution_count": 36,
     "metadata": {},
     "output_type": "execute_result"
    },
    {
     "data": {
      "image/png": "[encoded data removed]",
      "text/plain": [
       "<Figure size 360x360 with 1 Axes>"
      ]
     },
     "metadata": {},
     "output_type": "display_data"
    }
   ],
   "source": [
    "sns.lmplot(data = kaggleMovies,\n",
    "          x = 'revenue',\n",
    "          y = 'vote_count')\n",
    "# Drama\n",
    "# Science Fiction\n",
    "# Action"
   ]
  },
  {
   "cell_type": "code",
   "execution_count": 37,
   "metadata": {},
   "outputs": [
    {
     "data": {
      "text/plain": [
       "<seaborn.axisgrid.FacetGrid at 0x29a30ad2d30>"
      ]
     },
     "execution_count": 37,
     "metadata": {},
     "output_type": "execute_result"
    },
    {
     "data": {
      "image/png": "[encoded data removed]",
      "text/plain": [
       "<Figure size 360x360 with 1 Axes>"
      ]
     },
     "metadata": {},
     "output_type": "display_data"
    }
   ],
   "source": [
    "sns.lmplot(data = kaggleMovies,\n",
    "          x = 'vote_count',\n",
    "          y = 'popularity')\n",
    "# Family\n",
    "# Mystery\n",
    "# Action"
   ]
  },
  {
   "cell_type": "code",
   "execution_count": 38,
   "metadata": {},
   "outputs": [
    {
     "data": {
      "text/plain": [
       "<seaborn.axisgrid.FacetGrid at 0x29a2a955d60>"
      ]
     },
     "execution_count": 38,
     "metadata": {},
     "output_type": "execute_result"
    },
    {
     "data": {
      "image/png": "[encoded data removed]",
      "text/plain": [
       "<Figure size 360x360 with 1 Axes>"
      ]
     },
     "metadata": {},
     "output_type": "display_data"
    }
   ],
   "source": [
    "sns.lmplot(data = kaggleMovies,\n",
    "          x = 'popularity',\n",
    "          y = 'revenue')\n",
    "# Adventure\n",
    "# Action\n",
    "# Family"
   ]
  },
  {
   "cell_type": "markdown",
   "metadata": {},
   "source": [
    "I used the the four scatter plots above to find which **genres** have the highest correlation for each of the above four plots. *The only genre in the top three of every plot is 'Action',* so I will consider it the primary recommended genre from the above.\n",
    "\n",
    "Before we continue, I would like to find a little information on **runtime**. Although the correlation between runtime and revenue (and runtime vs popularity) is low, it is still above 10% which is why I would still like to consider it in my analysis. Using the graphs below, we see that movies longer than two hours do not have a large return, with that time period slightly extending per the 'seriousness' of the genre. **Drama** has the highest limit at 220 minutes (almost 4 hours). Documentaries appear to be the exception with no time limit, but suffer from the second lowest returns after the Foreign category."
   ]
  },
  {
   "cell_type": "code",
   "execution_count": 255,
   "metadata": {},
   "outputs": [
    {
     "data": {
      "text/plain": [
       "<seaborn.axisgrid.FacetGrid at 0x7fbd37668c10>"
      ]
     },
     "execution_count": 255,
     "metadata": {},
     "output_type": "execute_result"
    },
    {
     "data": {
      "image/png": "[encoded data removed]",
      "text/plain": [
       "<Figure size 360x360 with 1 Axes>"
      ]
     },
     "metadata": {},
     "output_type": "display_data"
    }
   ],
   "source": [
    "sns.lmplot(data = kaggleMovies,\n",
    "          x = 'runtime',\n",
    "          y = 'revenue')"
   ]
  },
  {
   "cell_type": "code",
   "execution_count": 256,
   "metadata": {
    "scrolled": true
   },
   "outputs": [
    {
     "data": {
      "text/plain": [
       "<seaborn.axisgrid.FacetGrid at 0x7fbd3f44dfd0>"
      ]
     },
     "execution_count": 256,
     "metadata": {},
     "output_type": "execute_result"
    },
    {
     "data": {
      "image/png": "[encoded data removed]",
      "text/plain": [
       "<Figure size 360x360 with 1 Axes>"
      ]
     },
     "metadata": {},
     "output_type": "display_data"
    }
   ],
   "source": [
    "sns.lmplot(data = kaggleMovies,\n",
    "          x = 'runtime',\n",
    "          y = 'popularity')"
   ]
  },
  {
   "cell_type": "markdown",
   "metadata": {},
   "source": [
    "# Business Recommendations\n",
    "\n",
    "* Make **Action** and **Animated** movies a main part of your repertoire.\n",
    "* For the above genres, releasing the films in the summer months (esp. May) is optimal.\n",
    "* When choosing what types and how to go about making a given movie, use the movies with highest “bang for your buck” as a reference. (i.e Use \"Despicable Me\" as a reference for animated movies)\n",
    "\n",
    "\n",
    "# Next Steps\n",
    "\n",
    "* Reconciling the differences in results from different datasets -- the same graphs with different data sometimes revealed different results. (see Final-Notebook)\n",
    "* Scraping marketing data would've been useful for Microsoft to consider *how* they should divvy up their production budget.\n",
    "* Examining studio, producer, and actor popularity and their respective overall ROI.\n",
    "    * Analyzing Box Office success for individual studios to determine which studios have been the most successful at dominating the market.\n",
    "* Developing a more detailed understanding of [movie market](https://bombreport.com/articles/when-does-a-movie-break-even-at-the-box-office/), especially in the context of the effect of [streaming services](https://www.nytimes.com/2019/05/14/business/media/disney-hulu-comcast.html) on the market. \n",
    "* Further understanding of the cash flow in the movie market (i.e how movies can make money for the studio during AND [after](https://www.boxofficemojo.com/chart/top_lifetime_gross/?area=XWW) the release of a film.\n",
    "* Potentially utilizing [Natural Language Processing](https://machinelearningmastery.com/natural-language-processing/) software/stretegies to collect data from any sources related to movies, to find patterns in movie reviews for films with varying profitability."
   ]
  }
 ],
 "metadata": {
  "kernelspec": {
   "display_name": "Python 3",
   "language": "python",
   "name": "python3"
  },
  "language_info": {
   "codemirror_mode": {
    "name": "ipython",
    "version": 3
   },
   "file_extension": ".py",
   "mimetype": "text/x-python",
   "name": "python",
   "nbconvert_exporter": "python",
   "pygments_lexer": "ipython3",
   "version": "3.8.5"
  }
 },
 "nbformat": 4,
 "nbformat_minor": 4
}
