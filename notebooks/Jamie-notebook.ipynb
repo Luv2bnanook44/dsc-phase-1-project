{
 "cells": [
  {
   "cell_type": "markdown",
   "metadata": {},
   "source": [
    "# Jamie's Phase 1 Project Work!\n",
    "### hooray \n",
    "\n",
    "### also side note... highly recommend using command+F to navigate this sucker\n",
    "\n",
    "## Here's the outline for this notebook:\n",
    "1. \n",
    "2.\n",
    "3."
   ]
  },
  {
   "cell_type": "code",
   "execution_count": 2,
   "metadata": {},
   "outputs": [],
   "source": [
    "# imports\n",
    "import pandas as pd"
   ]
  },
  {
   "cell_type": "markdown",
   "metadata": {},
   "source": [
    "### CPI package sourced from https://github.com/datadesk/cpi#:~:text=Working%20with%20Python,the%20Bureau%20of%20Labor%20Statistics"
   ]
  },
  {
   "cell_type": "code",
   "execution_count": 4,
   "metadata": {},
   "outputs": [],
   "source": [
    "import cpi\n",
    "cpi.update() # run to make sure current Consumer Price Index is being used in calculations"
   ]
  },
  {
   "cell_type": "code",
   "execution_count": 5,
   "metadata": {},
   "outputs": [],
   "source": [
    "import numpy as np\n",
    "import matplotlib.pyplot as plt\n",
    "%matplotlib inline"
   ]
  },
  {
   "cell_type": "code",
   "execution_count": 281,
   "metadata": {},
   "outputs": [],
   "source": [
    "bomMovieGross = pd.read_csv('zippedData/bom.movie_gross.csv.gz')"
   ]
  },
  {
   "cell_type": "code",
   "execution_count": 282,
   "metadata": {},
   "outputs": [],
   "source": [
    "imdbNameBasics = pd.read_csv('zippedData/imdb.name.basics.csv.gz')\n",
    "\n",
    "imdbTitleAkas = pd.read_csv('zippedData/imdb.title.akas.csv.gz')\n",
    "\n",
    "imdbTitleBasics = pd.read_csv('zippedData/imdb.title.basics.csv.gz')\n",
    "\n",
    "imdbTitleCrew = pd.read_csv('zippedData/imdb.title.crew.csv.gz')\n",
    "\n",
    "imdbTitlePrincipals = pd.read_csv('zippedData/imdb.title.principals.csv.gz')\n",
    "\n",
    "imdbTitleRatings = pd.read_csv('zippedData/imdb.title.ratings.csv.gz')"
   ]
  },
  {
   "cell_type": "code",
   "execution_count": 283,
   "metadata": {},
   "outputs": [],
   "source": [
    "rtMovieInfo = pd.read_csv('zippedData/rt.reviews.tsv.gz', sep='\\t', encoding='windows-1252')\n",
    "\n",
    "rtReviews = pd.read_csv('zippedData/rt.reviews.tsv.gz', sep='\\t', encoding='windows-1252')\n",
    "\n",
    "tmdbMovies = pd.read_csv('zippedData/tmdb.movies.csv.gz')\n",
    "\n",
    "tnMovieBudgets = pd.read_csv('zippedData/tn.movie_budgets.csv.gz')"
   ]
  },
  {
   "cell_type": "code",
   "execution_count": 106,
   "metadata": {
    "scrolled": true
   },
   "outputs": [],
   "source": [
    "# kaggle_movies = pd.read_csv('movies_metadata.csv', dtype={'genres':list}) == not working"
   ]
  },
  {
   "cell_type": "code",
   "execution_count": 284,
   "metadata": {
    "scrolled": true
   },
   "outputs": [
    {
     "data": {
      "text/plain": [
       "[Index(['title', 'studio', 'domestic_gross', 'foreign_gross', 'year'], dtype='object'),\n",
       " Index(['nconst', 'primary_name', 'birth_year', 'death_year',\n",
       "        'primary_profession', 'known_for_titles'],\n",
       "       dtype='object'),\n",
       " Index(['tconst', 'primary_title', 'original_title', 'start_year',\n",
       "        'runtime_minutes', 'genres'],\n",
       "       dtype='object'),\n",
       " Index(['title_id', 'ordering', 'title', 'region', 'language', 'types',\n",
       "        'attributes', 'is_original_title'],\n",
       "       dtype='object'),\n",
       " Index(['tconst', 'directors', 'writers'], dtype='object'),\n",
       " Index(['tconst', 'ordering', 'nconst', 'category', 'job', 'characters'], dtype='object'),\n",
       " Index(['tconst', 'averagerating', 'numvotes'], dtype='object'),\n",
       " Index(['id', 'review', 'rating', 'fresh', 'critic', 'top_critic', 'publisher',\n",
       "        'date'],\n",
       "       dtype='object'),\n",
       " Index(['id', 'review', 'rating', 'fresh', 'critic', 'top_critic', 'publisher',\n",
       "        'date'],\n",
       "       dtype='object'),\n",
       " Index(['Unnamed: 0', 'genre_ids', 'id', 'original_language', 'original_title',\n",
       "        'popularity', 'release_date', 'title', 'vote_average', 'vote_count'],\n",
       "       dtype='object'),\n",
       " Index(['id', 'release_date', 'movie', 'production_budget', 'domestic_gross',\n",
       "        'worldwide_gross'],\n",
       "       dtype='object')]"
      ]
     },
     "execution_count": 284,
     "metadata": {},
     "output_type": "execute_result"
    }
   ],
   "source": [
    "# get list of all columns in files\n",
    "allFiles = [bomMovieGross, imdbNameBasics, imdbTitleBasics, imdbTitleAkas, imdbTitleCrew, imdbTitlePrincipals, imdbTitleRatings,\n",
    "           rtMovieInfo, rtReviews, tmdbMovies, tnMovieBudgets]\n",
    "\n",
    "allCols = list(map(lambda x: x.columns, allFiles))\n",
    "allCols"
   ]
  },
  {
   "cell_type": "markdown",
   "metadata": {},
   "source": [
    "# Cleaning tnMovieBudgets"
   ]
  },
  {
   "cell_type": "code",
   "execution_count": 285,
   "metadata": {},
   "outputs": [
    {
     "data": {
      "text/html": [
       "<div>\n",
       "<style scoped>\n",
       "    .dataframe tbody tr th:only-of-type {\n",
       "        vertical-align: middle;\n",
       "    }\n",
       "\n",
       "    .dataframe tbody tr th {\n",
       "        vertical-align: top;\n",
       "    }\n",
       "\n",
       "    .dataframe thead th {\n",
       "        text-align: right;\n",
       "    }\n",
       "</style>\n",
       "<table border=\"1\" class=\"dataframe\">\n",
       "  <thead>\n",
       "    <tr style=\"text-align: right;\">\n",
       "      <th></th>\n",
       "      <th>id</th>\n",
       "      <th>release_date</th>\n",
       "      <th>movie</th>\n",
       "      <th>production_budget</th>\n",
       "      <th>domestic_gross</th>\n",
       "      <th>worldwide_gross</th>\n",
       "    </tr>\n",
       "  </thead>\n",
       "  <tbody>\n",
       "    <tr>\n",
       "      <th>0</th>\n",
       "      <td>1</td>\n",
       "      <td>Dec 18, 2009</td>\n",
       "      <td>Avatar</td>\n",
       "      <td>$425,000,000</td>\n",
       "      <td>$760,507,625</td>\n",
       "      <td>$2,776,345,279</td>\n",
       "    </tr>\n",
       "    <tr>\n",
       "      <th>1</th>\n",
       "      <td>2</td>\n",
       "      <td>May 20, 2011</td>\n",
       "      <td>Pirates of the Caribbean: On Stranger Tides</td>\n",
       "      <td>$410,600,000</td>\n",
       "      <td>$241,063,875</td>\n",
       "      <td>$1,045,663,875</td>\n",
       "    </tr>\n",
       "    <tr>\n",
       "      <th>2</th>\n",
       "      <td>3</td>\n",
       "      <td>Jun 7, 2019</td>\n",
       "      <td>Dark Phoenix</td>\n",
       "      <td>$350,000,000</td>\n",
       "      <td>$42,762,350</td>\n",
       "      <td>$149,762,350</td>\n",
       "    </tr>\n",
       "    <tr>\n",
       "      <th>3</th>\n",
       "      <td>4</td>\n",
       "      <td>May 1, 2015</td>\n",
       "      <td>Avengers: Age of Ultron</td>\n",
       "      <td>$330,600,000</td>\n",
       "      <td>$459,005,868</td>\n",
       "      <td>$1,403,013,963</td>\n",
       "    </tr>\n",
       "    <tr>\n",
       "      <th>4</th>\n",
       "      <td>5</td>\n",
       "      <td>Dec 15, 2017</td>\n",
       "      <td>Star Wars Ep. VIII: The Last Jedi</td>\n",
       "      <td>$317,000,000</td>\n",
       "      <td>$620,181,382</td>\n",
       "      <td>$1,316,721,747</td>\n",
       "    </tr>\n",
       "  </tbody>\n",
       "</table>\n",
       "</div>"
      ],
      "text/plain": [
       "   id  release_date                                        movie  \\\n",
       "0   1  Dec 18, 2009                                       Avatar   \n",
       "1   2  May 20, 2011  Pirates of the Caribbean: On Stranger Tides   \n",
       "2   3   Jun 7, 2019                                 Dark Phoenix   \n",
       "3   4   May 1, 2015                      Avengers: Age of Ultron   \n",
       "4   5  Dec 15, 2017            Star Wars Ep. VIII: The Last Jedi   \n",
       "\n",
       "  production_budget domestic_gross worldwide_gross  \n",
       "0      $425,000,000   $760,507,625  $2,776,345,279  \n",
       "1      $410,600,000   $241,063,875  $1,045,663,875  \n",
       "2      $350,000,000    $42,762,350    $149,762,350  \n",
       "3      $330,600,000   $459,005,868  $1,403,013,963  \n",
       "4      $317,000,000   $620,181,382  $1,316,721,747  "
      ]
     },
     "execution_count": 285,
     "metadata": {},
     "output_type": "execute_result"
    }
   ],
   "source": [
    "tnMovieBudgets.head()"
   ]
  },
  {
   "cell_type": "code",
   "execution_count": 286,
   "metadata": {
    "scrolled": true
   },
   "outputs": [],
   "source": [
    "# looking for more efficient way to do this\n",
    "tnMovieBudgets['worldwide_gross'] = tnMovieBudgets['worldwide_gross'].apply(lambda x: int(x.replace('$','').replace(',','')))\n",
    "tnMovieBudgets['domestic_gross'] = tnMovieBudgets['domestic_gross'].apply(lambda x: int(x.replace('$','').replace(',','')))\n",
    "tnMovieBudgets['production_budget'] = tnMovieBudgets['production_budget'].apply(lambda x: int(x.replace('$','').replace(',','')))\n",
    "# tnMovieBudgets[tnMovieBudgets['worldwide_gross']=='$0'] = 'None'\n",
    "# try applymap\n",
    "\n",
    "# don't have to run again, but why??"
   ]
  },
  {
   "cell_type": "code",
   "execution_count": 287,
   "metadata": {},
   "outputs": [
    {
     "data": {
      "text/plain": [
       "0      2009-12-18\n",
       "1      2011-05-20\n",
       "2      2019-06-07\n",
       "3      2015-05-01\n",
       "4      2017-12-15\n",
       "          ...    \n",
       "5777   2018-12-31\n",
       "5778   1999-04-02\n",
       "5779   2005-07-13\n",
       "5780   2015-09-29\n",
       "5781   2005-08-05\n",
       "Name: release_date, Length: 5782, dtype: datetime64[ns]"
      ]
     },
     "execution_count": 287,
     "metadata": {},
     "output_type": "execute_result"
    }
   ],
   "source": [
    "# convert \"release_date\" to date-time format\n",
    "\n",
    "tnMovieBudgets['release_date'] = pd.to_datetime(tnMovieBudgets['release_date'], errors='coerce') # what does coerce do?\n",
    "tnMovieBudgets['release_date']"
   ]
  },
  {
   "cell_type": "code",
   "execution_count": 288,
   "metadata": {},
   "outputs": [],
   "source": [
    "# adding 'month_released' and year released column\n",
    "tnMovieBudgets['month_released'] = tnMovieBudgets['release_date'].apply(lambda x: str(x))\n",
    "tnMovieBudgets['month_released'] = tnMovieBudgets['month_released'].apply(lambda x: int(x[5:7]))\n",
    "\n",
    "tnMovieBudgets['year'] = tnMovieBudgets['release_date'].apply(lambda x: str(x))\n",
    "tnMovieBudgets['year'] = tnMovieBudgets['year'].apply(lambda x: int(x[:4]))\n",
    "\n",
    "#oopsie gotta drop some stuff\n",
    "tnMovieBudgets.drop(labels='release_date', axis=1, inplace=True)"
   ]
  },
  {
   "cell_type": "code",
   "execution_count": 289,
   "metadata": {
    "scrolled": true
   },
   "outputs": [
    {
     "data": {
      "text/html": [
       "<div>\n",
       "<style scoped>\n",
       "    .dataframe tbody tr th:only-of-type {\n",
       "        vertical-align: middle;\n",
       "    }\n",
       "\n",
       "    .dataframe tbody tr th {\n",
       "        vertical-align: top;\n",
       "    }\n",
       "\n",
       "    .dataframe thead th {\n",
       "        text-align: right;\n",
       "    }\n",
       "</style>\n",
       "<table border=\"1\" class=\"dataframe\">\n",
       "  <thead>\n",
       "    <tr style=\"text-align: right;\">\n",
       "      <th></th>\n",
       "      <th>id</th>\n",
       "      <th>movie</th>\n",
       "      <th>production_budget</th>\n",
       "      <th>domestic_gross</th>\n",
       "      <th>worldwide_gross</th>\n",
       "      <th>month_released</th>\n",
       "      <th>year</th>\n",
       "    </tr>\n",
       "  </thead>\n",
       "  <tbody>\n",
       "    <tr>\n",
       "      <th>0</th>\n",
       "      <td>1</td>\n",
       "      <td>Avatar</td>\n",
       "      <td>425000000</td>\n",
       "      <td>760507625</td>\n",
       "      <td>2776345279</td>\n",
       "      <td>12</td>\n",
       "      <td>2009</td>\n",
       "    </tr>\n",
       "    <tr>\n",
       "      <th>1</th>\n",
       "      <td>2</td>\n",
       "      <td>Pirates of the Caribbean: On Stranger Tides</td>\n",
       "      <td>410600000</td>\n",
       "      <td>241063875</td>\n",
       "      <td>1045663875</td>\n",
       "      <td>5</td>\n",
       "      <td>2011</td>\n",
       "    </tr>\n",
       "    <tr>\n",
       "      <th>2</th>\n",
       "      <td>3</td>\n",
       "      <td>Dark Phoenix</td>\n",
       "      <td>350000000</td>\n",
       "      <td>42762350</td>\n",
       "      <td>149762350</td>\n",
       "      <td>6</td>\n",
       "      <td>2019</td>\n",
       "    </tr>\n",
       "    <tr>\n",
       "      <th>3</th>\n",
       "      <td>4</td>\n",
       "      <td>Avengers: Age of Ultron</td>\n",
       "      <td>330600000</td>\n",
       "      <td>459005868</td>\n",
       "      <td>1403013963</td>\n",
       "      <td>5</td>\n",
       "      <td>2015</td>\n",
       "    </tr>\n",
       "    <tr>\n",
       "      <th>4</th>\n",
       "      <td>5</td>\n",
       "      <td>Star Wars Ep. VIII: The Last Jedi</td>\n",
       "      <td>317000000</td>\n",
       "      <td>620181382</td>\n",
       "      <td>1316721747</td>\n",
       "      <td>12</td>\n",
       "      <td>2017</td>\n",
       "    </tr>\n",
       "  </tbody>\n",
       "</table>\n",
       "</div>"
      ],
      "text/plain": [
       "   id                                        movie  production_budget  \\\n",
       "0   1                                       Avatar          425000000   \n",
       "1   2  Pirates of the Caribbean: On Stranger Tides          410600000   \n",
       "2   3                                 Dark Phoenix          350000000   \n",
       "3   4                      Avengers: Age of Ultron          330600000   \n",
       "4   5            Star Wars Ep. VIII: The Last Jedi          317000000   \n",
       "\n",
       "   domestic_gross  worldwide_gross  month_released  year  \n",
       "0       760507625       2776345279              12  2009  \n",
       "1       241063875       1045663875               5  2011  \n",
       "2        42762350        149762350               6  2019  \n",
       "3       459005868       1403013963               5  2015  \n",
       "4       620181382       1316721747              12  2017  "
      ]
     },
     "execution_count": 289,
     "metadata": {},
     "output_type": "execute_result"
    }
   ],
   "source": [
    "tnMovieBudgets.head()"
   ]
  },
  {
   "cell_type": "code",
   "execution_count": 519,
   "metadata": {},
   "outputs": [],
   "source": [
    "# creating new column 'total gross with adjusted values'\n",
    "tnMovieBudgets['total_gross'] = tnMovieBudgets['worldwide_adj'] + tnMovieBudgets['domestic_adj']\n"
   ]
  },
  {
   "cell_type": "markdown",
   "metadata": {},
   "source": [
    "# Cleaning bomMovieGross"
   ]
  },
  {
   "cell_type": "code",
   "execution_count": 290,
   "metadata": {
    "scrolled": true
   },
   "outputs": [
    {
     "data": {
      "text/html": [
       "<div>\n",
       "<style scoped>\n",
       "    .dataframe tbody tr th:only-of-type {\n",
       "        vertical-align: middle;\n",
       "    }\n",
       "\n",
       "    .dataframe tbody tr th {\n",
       "        vertical-align: top;\n",
       "    }\n",
       "\n",
       "    .dataframe thead th {\n",
       "        text-align: right;\n",
       "    }\n",
       "</style>\n",
       "<table border=\"1\" class=\"dataframe\">\n",
       "  <thead>\n",
       "    <tr style=\"text-align: right;\">\n",
       "      <th></th>\n",
       "      <th>title</th>\n",
       "      <th>studio</th>\n",
       "      <th>domestic_gross</th>\n",
       "      <th>foreign_gross</th>\n",
       "      <th>year</th>\n",
       "    </tr>\n",
       "  </thead>\n",
       "  <tbody>\n",
       "    <tr>\n",
       "      <th>0</th>\n",
       "      <td>Toy Story 3</td>\n",
       "      <td>BV</td>\n",
       "      <td>415000000.0</td>\n",
       "      <td>652000000</td>\n",
       "      <td>2010</td>\n",
       "    </tr>\n",
       "    <tr>\n",
       "      <th>1</th>\n",
       "      <td>Alice in Wonderland (2010)</td>\n",
       "      <td>BV</td>\n",
       "      <td>334200000.0</td>\n",
       "      <td>691300000</td>\n",
       "      <td>2010</td>\n",
       "    </tr>\n",
       "    <tr>\n",
       "      <th>2</th>\n",
       "      <td>Harry Potter and the Deathly Hallows Part 1</td>\n",
       "      <td>WB</td>\n",
       "      <td>296000000.0</td>\n",
       "      <td>664300000</td>\n",
       "      <td>2010</td>\n",
       "    </tr>\n",
       "    <tr>\n",
       "      <th>3</th>\n",
       "      <td>Inception</td>\n",
       "      <td>WB</td>\n",
       "      <td>292600000.0</td>\n",
       "      <td>535700000</td>\n",
       "      <td>2010</td>\n",
       "    </tr>\n",
       "    <tr>\n",
       "      <th>4</th>\n",
       "      <td>Shrek Forever After</td>\n",
       "      <td>P/DW</td>\n",
       "      <td>238700000.0</td>\n",
       "      <td>513900000</td>\n",
       "      <td>2010</td>\n",
       "    </tr>\n",
       "  </tbody>\n",
       "</table>\n",
       "</div>"
      ],
      "text/plain": [
       "                                         title studio  domestic_gross  \\\n",
       "0                                  Toy Story 3     BV     415000000.0   \n",
       "1                   Alice in Wonderland (2010)     BV     334200000.0   \n",
       "2  Harry Potter and the Deathly Hallows Part 1     WB     296000000.0   \n",
       "3                                    Inception     WB     292600000.0   \n",
       "4                          Shrek Forever After   P/DW     238700000.0   \n",
       "\n",
       "  foreign_gross  year  \n",
       "0     652000000  2010  \n",
       "1     691300000  2010  \n",
       "2     664300000  2010  \n",
       "3     535700000  2010  \n",
       "4     513900000  2010  "
      ]
     },
     "execution_count": 290,
     "metadata": {},
     "output_type": "execute_result"
    }
   ],
   "source": [
    "bomMovieGross.head()"
   ]
  },
  {
   "cell_type": "code",
   "execution_count": 291,
   "metadata": {},
   "outputs": [],
   "source": [
    "bomMovieGross['foreign_gross'].fillna(value=0, inplace=True)"
   ]
  },
  {
   "cell_type": "code",
   "execution_count": 292,
   "metadata": {},
   "outputs": [],
   "source": [
    "bomMovieGross['foreign_gross'] = bomMovieGross['foreign_gross'].apply(lambda x: float(str(x).replace(',','')))\n"
   ]
  },
  {
   "cell_type": "markdown",
   "metadata": {},
   "source": [
    "# Adjusting all money values for inflation using CPI package\n"
   ]
  },
  {
   "cell_type": "code",
   "execution_count": 293,
   "metadata": {},
   "outputs": [],
   "source": [
    "# bomMovieGross\n",
    "\n",
    "bomMovieGross['domestic_adj'] = bomMovieGross.apply(lambda x: cpi.inflate(x.domestic_gross, x.year), axis=1)\n",
    "\n",
    "bomMovieGross['foreign_adj'] = bomMovieGross.apply(lambda x: cpi.inflate(x.foreign_gross, x.year), axis=1)"
   ]
  },
  {
   "cell_type": "code",
   "execution_count": 294,
   "metadata": {},
   "outputs": [],
   "source": [
    "bomMovieGross.rename(mapper={'title' : 'primary_title'}, axis=1, inplace=True)"
   ]
  },
  {
   "cell_type": "code",
   "execution_count": 295,
   "metadata": {},
   "outputs": [
    {
     "data": {
      "text/html": [
       "<div>\n",
       "<style scoped>\n",
       "    .dataframe tbody tr th:only-of-type {\n",
       "        vertical-align: middle;\n",
       "    }\n",
       "\n",
       "    .dataframe tbody tr th {\n",
       "        vertical-align: top;\n",
       "    }\n",
       "\n",
       "    .dataframe thead th {\n",
       "        text-align: right;\n",
       "    }\n",
       "</style>\n",
       "<table border=\"1\" class=\"dataframe\">\n",
       "  <thead>\n",
       "    <tr style=\"text-align: right;\">\n",
       "      <th></th>\n",
       "      <th>primary_title</th>\n",
       "      <th>studio</th>\n",
       "      <th>domestic_gross</th>\n",
       "      <th>foreign_gross</th>\n",
       "      <th>year</th>\n",
       "      <th>domestic_adj</th>\n",
       "      <th>foreign_adj</th>\n",
       "    </tr>\n",
       "  </thead>\n",
       "  <tbody>\n",
       "    <tr>\n",
       "      <th>0</th>\n",
       "      <td>Toy Story 3</td>\n",
       "      <td>BV</td>\n",
       "      <td>415000000.0</td>\n",
       "      <td>652000000.0</td>\n",
       "      <td>2010</td>\n",
       "      <td>4.925641e+08</td>\n",
       "      <td>7.738598e+08</td>\n",
       "    </tr>\n",
       "    <tr>\n",
       "      <th>1</th>\n",
       "      <td>Alice in Wonderland (2010)</td>\n",
       "      <td>BV</td>\n",
       "      <td>334200000.0</td>\n",
       "      <td>691300000.0</td>\n",
       "      <td>2010</td>\n",
       "      <td>3.966625e+08</td>\n",
       "      <td>8.205050e+08</td>\n",
       "    </tr>\n",
       "    <tr>\n",
       "      <th>2</th>\n",
       "      <td>Harry Potter and the Deathly Hallows Part 1</td>\n",
       "      <td>WB</td>\n",
       "      <td>296000000.0</td>\n",
       "      <td>664300000.0</td>\n",
       "      <td>2010</td>\n",
       "      <td>3.513229e+08</td>\n",
       "      <td>7.884587e+08</td>\n",
       "    </tr>\n",
       "    <tr>\n",
       "      <th>3</th>\n",
       "      <td>Inception</td>\n",
       "      <td>WB</td>\n",
       "      <td>292600000.0</td>\n",
       "      <td>535700000.0</td>\n",
       "      <td>2010</td>\n",
       "      <td>3.472874e+08</td>\n",
       "      <td>6.358231e+08</td>\n",
       "    </tr>\n",
       "    <tr>\n",
       "      <th>4</th>\n",
       "      <td>Shrek Forever After</td>\n",
       "      <td>P/DW</td>\n",
       "      <td>238700000.0</td>\n",
       "      <td>513900000.0</td>\n",
       "      <td>2010</td>\n",
       "      <td>2.833134e+08</td>\n",
       "      <td>6.099487e+08</td>\n",
       "    </tr>\n",
       "  </tbody>\n",
       "</table>\n",
       "</div>"
      ],
      "text/plain": [
       "                                 primary_title studio  domestic_gross  \\\n",
       "0                                  Toy Story 3     BV     415000000.0   \n",
       "1                   Alice in Wonderland (2010)     BV     334200000.0   \n",
       "2  Harry Potter and the Deathly Hallows Part 1     WB     296000000.0   \n",
       "3                                    Inception     WB     292600000.0   \n",
       "4                          Shrek Forever After   P/DW     238700000.0   \n",
       "\n",
       "   foreign_gross  year  domestic_adj   foreign_adj  \n",
       "0    652000000.0  2010  4.925641e+08  7.738598e+08  \n",
       "1    691300000.0  2010  3.966625e+08  8.205050e+08  \n",
       "2    664300000.0  2010  3.513229e+08  7.884587e+08  \n",
       "3    535700000.0  2010  3.472874e+08  6.358231e+08  \n",
       "4    513900000.0  2010  2.833134e+08  6.099487e+08  "
      ]
     },
     "execution_count": 295,
     "metadata": {},
     "output_type": "execute_result"
    }
   ],
   "source": [
    "bomMovieGross.head()"
   ]
  },
  {
   "cell_type": "code",
   "execution_count": 296,
   "metadata": {},
   "outputs": [
    {
     "data": {
      "text/plain": [
       "dtype('int64')"
      ]
     },
     "execution_count": 296,
     "metadata": {},
     "output_type": "execute_result"
    }
   ],
   "source": [
    "bomMovieGross['year'].dtype"
   ]
  },
  {
   "cell_type": "code",
   "execution_count": 297,
   "metadata": {},
   "outputs": [
    {
     "data": {
      "text/plain": [
       "251.107"
      ]
     },
     "execution_count": 297,
     "metadata": {},
     "output_type": "execute_result"
    }
   ],
   "source": [
    "# found that no CPI exists after 2018\n",
    "cpi.get(2018)"
   ]
  },
  {
   "cell_type": "code",
   "execution_count": 298,
   "metadata": {},
   "outputs": [],
   "source": [
    "# tnMovieBudgets\n",
    "tnMovieYA = tnMovieBudgets[tnMovieBudgets['year']<2019]\n",
    "\n",
    "tnMovieBudgets['domestic_adj'] = tnMovieYA.apply(lambda x: cpi.inflate(x.domestic_gross, x.year), axis=1)\n",
    "\n",
    "tnMovieBudgets['worldwide_adj'] = tnMovieYA.apply(lambda x: cpi.inflate(x.worldwide_gross, x.year), axis=1)\n",
    "\n",
    "tnMovieBudgets['budget_adj'] = tnMovieYA.apply(lambda x: cpi.inflate(x.production_budget, x.year), axis=1)\n"
   ]
  },
  {
   "cell_type": "code",
   "execution_count": 299,
   "metadata": {
    "scrolled": true
   },
   "outputs": [
    {
     "data": {
      "text/html": [
       "<div>\n",
       "<style scoped>\n",
       "    .dataframe tbody tr th:only-of-type {\n",
       "        vertical-align: middle;\n",
       "    }\n",
       "\n",
       "    .dataframe tbody tr th {\n",
       "        vertical-align: top;\n",
       "    }\n",
       "\n",
       "    .dataframe thead th {\n",
       "        text-align: right;\n",
       "    }\n",
       "</style>\n",
       "<table border=\"1\" class=\"dataframe\">\n",
       "  <thead>\n",
       "    <tr style=\"text-align: right;\">\n",
       "      <th></th>\n",
       "      <th>id</th>\n",
       "      <th>movie</th>\n",
       "      <th>production_budget</th>\n",
       "      <th>domestic_gross</th>\n",
       "      <th>worldwide_gross</th>\n",
       "      <th>month_released</th>\n",
       "      <th>year</th>\n",
       "      <th>domestic_adj</th>\n",
       "      <th>worldwide_adj</th>\n",
       "      <th>budget_adj</th>\n",
       "    </tr>\n",
       "  </thead>\n",
       "  <tbody>\n",
       "    <tr>\n",
       "      <th>0</th>\n",
       "      <td>1</td>\n",
       "      <td>Avatar</td>\n",
       "      <td>425000000</td>\n",
       "      <td>760507625</td>\n",
       "      <td>2776345279</td>\n",
       "      <td>12</td>\n",
       "      <td>2009</td>\n",
       "      <td>9.174536e+08</td>\n",
       "      <td>3.349300e+09</td>\n",
       "      <td>5.127072e+08</td>\n",
       "    </tr>\n",
       "    <tr>\n",
       "      <th>1</th>\n",
       "      <td>2</td>\n",
       "      <td>Pirates of the Caribbean: On Stranger Tides</td>\n",
       "      <td>410600000</td>\n",
       "      <td>241063875</td>\n",
       "      <td>1045663875</td>\n",
       "      <td>5</td>\n",
       "      <td>2011</td>\n",
       "      <td>2.773640e+08</td>\n",
       "      <td>1.203123e+09</td>\n",
       "      <td>4.724294e+08</td>\n",
       "    </tr>\n",
       "    <tr>\n",
       "      <th>2</th>\n",
       "      <td>3</td>\n",
       "      <td>Dark Phoenix</td>\n",
       "      <td>350000000</td>\n",
       "      <td>42762350</td>\n",
       "      <td>149762350</td>\n",
       "      <td>6</td>\n",
       "      <td>2019</td>\n",
       "      <td>NaN</td>\n",
       "      <td>NaN</td>\n",
       "      <td>NaN</td>\n",
       "    </tr>\n",
       "    <tr>\n",
       "      <th>3</th>\n",
       "      <td>4</td>\n",
       "      <td>Avengers: Age of Ultron</td>\n",
       "      <td>330600000</td>\n",
       "      <td>459005868</td>\n",
       "      <td>1403013963</td>\n",
       "      <td>5</td>\n",
       "      <td>2015</td>\n",
       "      <td>5.012120e+08</td>\n",
       "      <td>1.532023e+09</td>\n",
       "      <td>3.609991e+08</td>\n",
       "    </tr>\n",
       "    <tr>\n",
       "      <th>4</th>\n",
       "      <td>5</td>\n",
       "      <td>Star Wars Ep. VIII: The Last Jedi</td>\n",
       "      <td>317000000</td>\n",
       "      <td>620181382</td>\n",
       "      <td>1316721747</td>\n",
       "      <td>12</td>\n",
       "      <td>2017</td>\n",
       "      <td>6.548212e+08</td>\n",
       "      <td>1.390266e+09</td>\n",
       "      <td>3.347058e+08</td>\n",
       "    </tr>\n",
       "  </tbody>\n",
       "</table>\n",
       "</div>"
      ],
      "text/plain": [
       "   id                                        movie  production_budget  \\\n",
       "0   1                                       Avatar          425000000   \n",
       "1   2  Pirates of the Caribbean: On Stranger Tides          410600000   \n",
       "2   3                                 Dark Phoenix          350000000   \n",
       "3   4                      Avengers: Age of Ultron          330600000   \n",
       "4   5            Star Wars Ep. VIII: The Last Jedi          317000000   \n",
       "\n",
       "   domestic_gross  worldwide_gross  month_released  year  domestic_adj  \\\n",
       "0       760507625       2776345279              12  2009  9.174536e+08   \n",
       "1       241063875       1045663875               5  2011  2.773640e+08   \n",
       "2        42762350        149762350               6  2019           NaN   \n",
       "3       459005868       1403013963               5  2015  5.012120e+08   \n",
       "4       620181382       1316721747              12  2017  6.548212e+08   \n",
       "\n",
       "   worldwide_adj    budget_adj  \n",
       "0   3.349300e+09  5.127072e+08  \n",
       "1   1.203123e+09  4.724294e+08  \n",
       "2            NaN           NaN  \n",
       "3   1.532023e+09  3.609991e+08  \n",
       "4   1.390266e+09  3.347058e+08  "
      ]
     },
     "execution_count": 299,
     "metadata": {},
     "output_type": "execute_result"
    }
   ],
   "source": [
    "tnMovieBudgets.head()"
   ]
  },
  {
   "cell_type": "code",
   "execution_count": 300,
   "metadata": {},
   "outputs": [],
   "source": [
    "# Fill domestic/worldwide adjusted NaNs with original price-- the CPI adjuster does not adjust\n",
    "# for any years after 2018.\n",
    "\n",
    "tnMovieBudgets['domestic_adj'].fillna(value=tnMovieBudgets['domestic_gross'], inplace=True)\n"
   ]
  },
  {
   "cell_type": "code",
   "execution_count": 301,
   "metadata": {},
   "outputs": [],
   "source": [
    "tnMovieBudgets['worldwide_adj'].fillna(value=tnMovieBudgets['worldwide_gross'], inplace=True)"
   ]
  },
  {
   "cell_type": "code",
   "execution_count": 302,
   "metadata": {},
   "outputs": [],
   "source": [
    "tnMovieBudgets['budget_adj'].fillna(value=tnMovieBudgets['production_budget'], inplace=True)"
   ]
  },
  {
   "cell_type": "markdown",
   "metadata": {
    "scrolled": true
   },
   "source": [
    "# Cleaning tmdbMovies"
   ]
  },
  {
   "cell_type": "code",
   "execution_count": 303,
   "metadata": {},
   "outputs": [
    {
     "data": {
      "text/html": [
       "<div>\n",
       "<style scoped>\n",
       "    .dataframe tbody tr th:only-of-type {\n",
       "        vertical-align: middle;\n",
       "    }\n",
       "\n",
       "    .dataframe tbody tr th {\n",
       "        vertical-align: top;\n",
       "    }\n",
       "\n",
       "    .dataframe thead th {\n",
       "        text-align: right;\n",
       "    }\n",
       "</style>\n",
       "<table border=\"1\" class=\"dataframe\">\n",
       "  <thead>\n",
       "    <tr style=\"text-align: right;\">\n",
       "      <th></th>\n",
       "      <th>Unnamed: 0</th>\n",
       "      <th>genre_ids</th>\n",
       "      <th>id</th>\n",
       "      <th>original_language</th>\n",
       "      <th>original_title</th>\n",
       "      <th>popularity</th>\n",
       "      <th>release_date</th>\n",
       "      <th>title</th>\n",
       "      <th>vote_average</th>\n",
       "      <th>vote_count</th>\n",
       "    </tr>\n",
       "  </thead>\n",
       "  <tbody>\n",
       "    <tr>\n",
       "      <th>0</th>\n",
       "      <td>0</td>\n",
       "      <td>[12, 14, 10751]</td>\n",
       "      <td>12444</td>\n",
       "      <td>en</td>\n",
       "      <td>Harry Potter and the Deathly Hallows: Part 1</td>\n",
       "      <td>33.533</td>\n",
       "      <td>2010-11-19</td>\n",
       "      <td>Harry Potter and the Deathly Hallows: Part 1</td>\n",
       "      <td>7.7</td>\n",
       "      <td>10788</td>\n",
       "    </tr>\n",
       "    <tr>\n",
       "      <th>1</th>\n",
       "      <td>1</td>\n",
       "      <td>[14, 12, 16, 10751]</td>\n",
       "      <td>10191</td>\n",
       "      <td>en</td>\n",
       "      <td>How to Train Your Dragon</td>\n",
       "      <td>28.734</td>\n",
       "      <td>2010-03-26</td>\n",
       "      <td>How to Train Your Dragon</td>\n",
       "      <td>7.7</td>\n",
       "      <td>7610</td>\n",
       "    </tr>\n",
       "    <tr>\n",
       "      <th>2</th>\n",
       "      <td>2</td>\n",
       "      <td>[12, 28, 878]</td>\n",
       "      <td>10138</td>\n",
       "      <td>en</td>\n",
       "      <td>Iron Man 2</td>\n",
       "      <td>28.515</td>\n",
       "      <td>2010-05-07</td>\n",
       "      <td>Iron Man 2</td>\n",
       "      <td>6.8</td>\n",
       "      <td>12368</td>\n",
       "    </tr>\n",
       "    <tr>\n",
       "      <th>3</th>\n",
       "      <td>3</td>\n",
       "      <td>[16, 35, 10751]</td>\n",
       "      <td>862</td>\n",
       "      <td>en</td>\n",
       "      <td>Toy Story</td>\n",
       "      <td>28.005</td>\n",
       "      <td>1995-11-22</td>\n",
       "      <td>Toy Story</td>\n",
       "      <td>7.9</td>\n",
       "      <td>10174</td>\n",
       "    </tr>\n",
       "    <tr>\n",
       "      <th>4</th>\n",
       "      <td>4</td>\n",
       "      <td>[28, 878, 12]</td>\n",
       "      <td>27205</td>\n",
       "      <td>en</td>\n",
       "      <td>Inception</td>\n",
       "      <td>27.920</td>\n",
       "      <td>2010-07-16</td>\n",
       "      <td>Inception</td>\n",
       "      <td>8.3</td>\n",
       "      <td>22186</td>\n",
       "    </tr>\n",
       "  </tbody>\n",
       "</table>\n",
       "</div>"
      ],
      "text/plain": [
       "   Unnamed: 0            genre_ids     id original_language  \\\n",
       "0           0      [12, 14, 10751]  12444                en   \n",
       "1           1  [14, 12, 16, 10751]  10191                en   \n",
       "2           2        [12, 28, 878]  10138                en   \n",
       "3           3      [16, 35, 10751]    862                en   \n",
       "4           4        [28, 878, 12]  27205                en   \n",
       "\n",
       "                                 original_title  popularity release_date  \\\n",
       "0  Harry Potter and the Deathly Hallows: Part 1      33.533   2010-11-19   \n",
       "1                      How to Train Your Dragon      28.734   2010-03-26   \n",
       "2                                    Iron Man 2      28.515   2010-05-07   \n",
       "3                                     Toy Story      28.005   1995-11-22   \n",
       "4                                     Inception      27.920   2010-07-16   \n",
       "\n",
       "                                          title  vote_average  vote_count  \n",
       "0  Harry Potter and the Deathly Hallows: Part 1           7.7       10788  \n",
       "1                      How to Train Your Dragon           7.7        7610  \n",
       "2                                    Iron Man 2           6.8       12368  \n",
       "3                                     Toy Story           7.9       10174  \n",
       "4                                     Inception           8.3       22186  "
      ]
     },
     "execution_count": 303,
     "metadata": {},
     "output_type": "execute_result"
    }
   ],
   "source": [
    "tmdbMovies.head()"
   ]
  },
  {
   "cell_type": "code",
   "execution_count": 304,
   "metadata": {},
   "outputs": [],
   "source": [
    "tmdbMovies.drop('Unnamed: 0', axis=1, inplace=True)\n",
    "# don't run again"
   ]
  },
  {
   "cell_type": "code",
   "execution_count": 305,
   "metadata": {},
   "outputs": [],
   "source": [
    "tmdbMovies.drop('original_title', axis=1, inplace=True)"
   ]
  },
  {
   "cell_type": "code",
   "execution_count": 306,
   "metadata": {},
   "outputs": [],
   "source": [
    "tmdbMovies.drop('original_language', axis=1, inplace=True)"
   ]
  },
  {
   "cell_type": "code",
   "execution_count": 308,
   "metadata": {},
   "outputs": [
    {
     "data": {
      "text/plain": [
       "Index(['genre_ids', 'id', 'popularity', 'release_date', 'title',\n",
       "       'vote_average', 'vote_count'],\n",
       "      dtype='object')"
      ]
     },
     "execution_count": 308,
     "metadata": {},
     "output_type": "execute_result"
    }
   ],
   "source": [
    "tmdbMovies.columns"
   ]
  },
  {
   "cell_type": "code",
   "execution_count": 309,
   "metadata": {},
   "outputs": [],
   "source": [
    "# rename title column to match imdb data\n",
    "tmdbMovies.rename(mapper={'title' : 'primary_title'}, axis=1, inplace=True)"
   ]
  },
  {
   "cell_type": "markdown",
   "metadata": {},
   "source": [
    "# Cleaning IMDB Data"
   ]
  },
  {
   "cell_type": "code",
   "execution_count": 310,
   "metadata": {},
   "outputs": [
    {
     "data": {
      "text/plain": [
       "(           nconst         primary_name  birth_year  death_year  \\\n",
       " 0       nm0061671    Mary Ellen Bauder         NaN         NaN   \n",
       " 1       nm0061865         Joseph Bauer         NaN         NaN   \n",
       " 2       nm0062070           Bruce Baum         NaN         NaN   \n",
       " 3       nm0062195         Axel Baumann         NaN         NaN   \n",
       " 4       nm0062798          Pete Baxter         NaN         NaN   \n",
       " ...           ...                  ...         ...         ...   \n",
       " 606643  nm9990381         Susan Grobes         NaN         NaN   \n",
       " 606644  nm9990690          Joo Yeon So         NaN         NaN   \n",
       " 606645  nm9991320       Madeline Smith         NaN         NaN   \n",
       " 606646  nm9991786  Michelle Modigliani         NaN         NaN   \n",
       " 606647  nm9993380       Pegasus Envoyé         NaN         NaN   \n",
       " \n",
       "                                       primary_profession  \\\n",
       " 0              miscellaneous,production_manager,producer   \n",
       " 1             composer,music_department,sound_department   \n",
       " 2                             miscellaneous,actor,writer   \n",
       " 3       camera_department,cinematographer,art_department   \n",
       " 4       production_designer,art_department,set_decorator   \n",
       " ...                                                  ...   \n",
       " 606643                                           actress   \n",
       " 606644                                           actress   \n",
       " 606645                                           actress   \n",
       " 606646                                          producer   \n",
       " 606647                             director,actor,writer   \n",
       " \n",
       "                                known_for_titles  \n",
       " 0       tt0837562,tt2398241,tt0844471,tt0118553  \n",
       " 1       tt0896534,tt6791238,tt0287072,tt1682940  \n",
       " 2       tt1470654,tt0363631,tt0104030,tt0102898  \n",
       " 3       tt0114371,tt2004304,tt1618448,tt1224387  \n",
       " 4       tt0452644,tt0452692,tt3458030,tt2178256  \n",
       " ...                                         ...  \n",
       " 606643                                      NaN  \n",
       " 606644                      tt9090932,tt8737130  \n",
       " 606645                      tt8734436,tt9615610  \n",
       " 606646                                      NaN  \n",
       " 606647                                tt8743182  \n",
       " \n",
       " [606648 rows x 6 columns],\n",
       "            tconst                                primary_title  \\\n",
       " 0       tt0063540                                    Sunghursh   \n",
       " 1       tt0066787              One Day Before the Rainy Season   \n",
       " 2       tt0069049                   The Other Side of the Wind   \n",
       " 3       tt0069204                              Sabse Bada Sukh   \n",
       " 4       tt0100275                     The Wandering Soap Opera   \n",
       " ...           ...                                          ...   \n",
       " 146139  tt9916538                          Kuambil Lagi Hatiku   \n",
       " 146140  tt9916622  Rodolpho Teóphilo - O Legado de um Pioneiro   \n",
       " 146141  tt9916706                              Dankyavar Danka   \n",
       " 146142  tt9916730                                       6 Gunn   \n",
       " 146143  tt9916754               Chico Albuquerque - Revelações   \n",
       " \n",
       "                                      original_title  start_year  \\\n",
       " 0                                         Sunghursh        2013   \n",
       " 1                                   Ashad Ka Ek Din        2019   \n",
       " 2                        The Other Side of the Wind        2018   \n",
       " 3                                   Sabse Bada Sukh        2018   \n",
       " 4                             La Telenovela Errante        2017   \n",
       " ...                                             ...         ...   \n",
       " 146139                          Kuambil Lagi Hatiku        2019   \n",
       " 146140  Rodolpho Teóphilo - O Legado de um Pioneiro        2015   \n",
       " 146141                              Dankyavar Danka        2013   \n",
       " 146142                                       6 Gunn        2017   \n",
       " 146143               Chico Albuquerque - Revelações        2013   \n",
       " \n",
       "         runtime_minutes                genres  \n",
       " 0                 175.0    Action,Crime,Drama  \n",
       " 1                 114.0       Biography,Drama  \n",
       " 2                 122.0                 Drama  \n",
       " 3                   NaN          Comedy,Drama  \n",
       " 4                  80.0  Comedy,Drama,Fantasy  \n",
       " ...                 ...                   ...  \n",
       " 146139            123.0                 Drama  \n",
       " 146140              NaN           Documentary  \n",
       " 146141              NaN                Comedy  \n",
       " 146142            116.0                   NaN  \n",
       " 146143              NaN           Documentary  \n",
       " \n",
       " [146144 rows x 6 columns],\n",
       "          title_id  ordering                                    title region  \\\n",
       " 0       tt0369610        10                            Джурасик свят     BG   \n",
       " 1       tt0369610        11                        Jurashikku warudo     JP   \n",
       " 2       tt0369610        12  Jurassic World: O Mundo dos Dinossauros     BR   \n",
       " 3       tt0369610        13                  O Mundo dos Dinossauros     BR   \n",
       " 4       tt0369610        14                           Jurassic World     FR   \n",
       " ...           ...       ...                                      ...    ...   \n",
       " 331698  tt9827784         2                       Sayonara kuchibiru    NaN   \n",
       " 331699  tt9827784         3                            Farewell Song    XWW   \n",
       " 331700  tt9880178         1                              La atención    NaN   \n",
       " 331701  tt9880178         2                              La atención     ES   \n",
       " 331702  tt9880178         3                            The Attention    XWW   \n",
       " \n",
       "        language        types   attributes  is_original_title  \n",
       " 0            bg          NaN          NaN                0.0  \n",
       " 1           NaN  imdbDisplay          NaN                0.0  \n",
       " 2           NaN  imdbDisplay          NaN                0.0  \n",
       " 3           NaN          NaN  short title                0.0  \n",
       " 4           NaN  imdbDisplay          NaN                0.0  \n",
       " ...         ...          ...          ...                ...  \n",
       " 331698      NaN     original          NaN                1.0  \n",
       " 331699       en  imdbDisplay          NaN                0.0  \n",
       " 331700      NaN     original          NaN                1.0  \n",
       " 331701      NaN          NaN          NaN                0.0  \n",
       " 331702       en  imdbDisplay          NaN                0.0  \n",
       " \n",
       " [331703 rows x 8 columns],\n",
       "            tconst                      directors              writers\n",
       " 0       tt0285252                      nm0899854            nm0899854\n",
       " 1       tt0438973                            NaN  nm0175726,nm1802864\n",
       " 2       tt0462036                      nm1940585            nm1940585\n",
       " 3       tt0835418                      nm0151540  nm0310087,nm0841532\n",
       " 4       tt0878654  nm0089502,nm2291498,nm2292011            nm0284943\n",
       " ...           ...                            ...                  ...\n",
       " 146139  tt8999974                     nm10122357           nm10122357\n",
       " 146140  tt9001390                      nm6711477            nm6711477\n",
       " 146141  tt9001494          nm10123242,nm10123248                  NaN\n",
       " 146142  tt9004986                      nm4993825            nm4993825\n",
       " 146143  tt9010172                            NaN            nm8352242\n",
       " \n",
       " [146144 rows x 3 columns],\n",
       "             tconst  ordering      nconst  category       job  \\\n",
       " 0        tt0111414         1   nm0246005     actor       NaN   \n",
       " 1        tt0111414         2   nm0398271  director       NaN   \n",
       " 2        tt0111414         3   nm3739909  producer  producer   \n",
       " 3        tt0323808        10   nm0059247    editor       NaN   \n",
       " 4        tt0323808         1   nm3579312   actress       NaN   \n",
       " ...            ...       ...         ...       ...       ...   \n",
       " 1028181  tt9692684         1   nm0186469     actor       NaN   \n",
       " 1028182  tt9692684         2   nm4929530      self       NaN   \n",
       " 1028183  tt9692684         3  nm10441594  director       NaN   \n",
       " 1028184  tt9692684         4   nm6009913    writer    writer   \n",
       " 1028185  tt9692684         5  nm10441595  producer  producer   \n",
       " \n",
       "                    characters  \n",
       " 0                 [\"The Man\"]  \n",
       " 1                         NaN  \n",
       " 2                         NaN  \n",
       " 3                         NaN  \n",
       " 4            [\"Beth Boothby\"]  \n",
       " ...                       ...  \n",
       " 1028181  [\"Ebenezer Scrooge\"]  \n",
       " 1028182   [\"Herself\",\"Regan\"]  \n",
       " 1028183                   NaN  \n",
       " 1028184                   NaN  \n",
       " 1028185                   NaN  \n",
       " \n",
       " [1028186 rows x 6 columns],\n",
       "            tconst  averagerating  numvotes\n",
       " 0      tt10356526            8.3        31\n",
       " 1      tt10384606            8.9       559\n",
       " 2       tt1042974            6.4        20\n",
       " 3       tt1043726            4.2     50352\n",
       " 4       tt1060240            6.5        21\n",
       " ...           ...            ...       ...\n",
       " 73851   tt9805820            8.1        25\n",
       " 73852   tt9844256            7.5        24\n",
       " 73853   tt9851050            4.7        14\n",
       " 73854   tt9886934            7.0         5\n",
       " 73855   tt9894098            6.3       128\n",
       " \n",
       " [73856 rows x 3 columns])"
      ]
     },
     "execution_count": 310,
     "metadata": {},
     "output_type": "execute_result"
    }
   ],
   "source": [
    "imdbNameBasics, imdbTitleBasics, imdbTitleAkas, imdbTitleCrew, imdbTitlePrincipals, imdbTitleRatings,"
   ]
  },
  {
   "cell_type": "code",
   "execution_count": 311,
   "metadata": {
    "scrolled": true
   },
   "outputs": [
    {
     "data": {
      "text/html": [
       "<div>\n",
       "<style scoped>\n",
       "    .dataframe tbody tr th:only-of-type {\n",
       "        vertical-align: middle;\n",
       "    }\n",
       "\n",
       "    .dataframe tbody tr th {\n",
       "        vertical-align: top;\n",
       "    }\n",
       "\n",
       "    .dataframe thead th {\n",
       "        text-align: right;\n",
       "    }\n",
       "</style>\n",
       "<table border=\"1\" class=\"dataframe\">\n",
       "  <thead>\n",
       "    <tr style=\"text-align: right;\">\n",
       "      <th></th>\n",
       "      <th>nconst</th>\n",
       "      <th>primary_name</th>\n",
       "      <th>birth_year</th>\n",
       "      <th>death_year</th>\n",
       "      <th>primary_profession</th>\n",
       "      <th>known_for_titles</th>\n",
       "    </tr>\n",
       "  </thead>\n",
       "  <tbody>\n",
       "    <tr>\n",
       "      <th>0</th>\n",
       "      <td>nm0061671</td>\n",
       "      <td>Mary Ellen Bauder</td>\n",
       "      <td>NaN</td>\n",
       "      <td>NaN</td>\n",
       "      <td>miscellaneous,production_manager,producer</td>\n",
       "      <td>tt0837562,tt2398241,tt0844471,tt0118553</td>\n",
       "    </tr>\n",
       "    <tr>\n",
       "      <th>1</th>\n",
       "      <td>nm0061865</td>\n",
       "      <td>Joseph Bauer</td>\n",
       "      <td>NaN</td>\n",
       "      <td>NaN</td>\n",
       "      <td>composer,music_department,sound_department</td>\n",
       "      <td>tt0896534,tt6791238,tt0287072,tt1682940</td>\n",
       "    </tr>\n",
       "    <tr>\n",
       "      <th>2</th>\n",
       "      <td>nm0062070</td>\n",
       "      <td>Bruce Baum</td>\n",
       "      <td>NaN</td>\n",
       "      <td>NaN</td>\n",
       "      <td>miscellaneous,actor,writer</td>\n",
       "      <td>tt1470654,tt0363631,tt0104030,tt0102898</td>\n",
       "    </tr>\n",
       "    <tr>\n",
       "      <th>3</th>\n",
       "      <td>nm0062195</td>\n",
       "      <td>Axel Baumann</td>\n",
       "      <td>NaN</td>\n",
       "      <td>NaN</td>\n",
       "      <td>camera_department,cinematographer,art_department</td>\n",
       "      <td>tt0114371,tt2004304,tt1618448,tt1224387</td>\n",
       "    </tr>\n",
       "    <tr>\n",
       "      <th>4</th>\n",
       "      <td>nm0062798</td>\n",
       "      <td>Pete Baxter</td>\n",
       "      <td>NaN</td>\n",
       "      <td>NaN</td>\n",
       "      <td>production_designer,art_department,set_decorator</td>\n",
       "      <td>tt0452644,tt0452692,tt3458030,tt2178256</td>\n",
       "    </tr>\n",
       "  </tbody>\n",
       "</table>\n",
       "</div>"
      ],
      "text/plain": [
       "      nconst       primary_name  birth_year  death_year  \\\n",
       "0  nm0061671  Mary Ellen Bauder         NaN         NaN   \n",
       "1  nm0061865       Joseph Bauer         NaN         NaN   \n",
       "2  nm0062070         Bruce Baum         NaN         NaN   \n",
       "3  nm0062195       Axel Baumann         NaN         NaN   \n",
       "4  nm0062798        Pete Baxter         NaN         NaN   \n",
       "\n",
       "                                 primary_profession  \\\n",
       "0         miscellaneous,production_manager,producer   \n",
       "1        composer,music_department,sound_department   \n",
       "2                        miscellaneous,actor,writer   \n",
       "3  camera_department,cinematographer,art_department   \n",
       "4  production_designer,art_department,set_decorator   \n",
       "\n",
       "                          known_for_titles  \n",
       "0  tt0837562,tt2398241,tt0844471,tt0118553  \n",
       "1  tt0896534,tt6791238,tt0287072,tt1682940  \n",
       "2  tt1470654,tt0363631,tt0104030,tt0102898  \n",
       "3  tt0114371,tt2004304,tt1618448,tt1224387  \n",
       "4  tt0452644,tt0452692,tt3458030,tt2178256  "
      ]
     },
     "execution_count": 311,
     "metadata": {},
     "output_type": "execute_result"
    }
   ],
   "source": [
    "imdbNameBasics.head()"
   ]
  },
  {
   "cell_type": "code",
   "execution_count": 312,
   "metadata": {
    "scrolled": false
   },
   "outputs": [
    {
     "data": {
      "text/html": [
       "<div>\n",
       "<style scoped>\n",
       "    .dataframe tbody tr th:only-of-type {\n",
       "        vertical-align: middle;\n",
       "    }\n",
       "\n",
       "    .dataframe tbody tr th {\n",
       "        vertical-align: top;\n",
       "    }\n",
       "\n",
       "    .dataframe thead th {\n",
       "        text-align: right;\n",
       "    }\n",
       "</style>\n",
       "<table border=\"1\" class=\"dataframe\">\n",
       "  <thead>\n",
       "    <tr style=\"text-align: right;\">\n",
       "      <th></th>\n",
       "      <th>tconst</th>\n",
       "      <th>primary_title</th>\n",
       "      <th>original_title</th>\n",
       "      <th>start_year</th>\n",
       "      <th>runtime_minutes</th>\n",
       "      <th>genres</th>\n",
       "    </tr>\n",
       "  </thead>\n",
       "  <tbody>\n",
       "    <tr>\n",
       "      <th>0</th>\n",
       "      <td>tt0063540</td>\n",
       "      <td>Sunghursh</td>\n",
       "      <td>Sunghursh</td>\n",
       "      <td>2013</td>\n",
       "      <td>175.0</td>\n",
       "      <td>Action,Crime,Drama</td>\n",
       "    </tr>\n",
       "    <tr>\n",
       "      <th>1</th>\n",
       "      <td>tt0066787</td>\n",
       "      <td>One Day Before the Rainy Season</td>\n",
       "      <td>Ashad Ka Ek Din</td>\n",
       "      <td>2019</td>\n",
       "      <td>114.0</td>\n",
       "      <td>Biography,Drama</td>\n",
       "    </tr>\n",
       "    <tr>\n",
       "      <th>2</th>\n",
       "      <td>tt0069049</td>\n",
       "      <td>The Other Side of the Wind</td>\n",
       "      <td>The Other Side of the Wind</td>\n",
       "      <td>2018</td>\n",
       "      <td>122.0</td>\n",
       "      <td>Drama</td>\n",
       "    </tr>\n",
       "    <tr>\n",
       "      <th>3</th>\n",
       "      <td>tt0069204</td>\n",
       "      <td>Sabse Bada Sukh</td>\n",
       "      <td>Sabse Bada Sukh</td>\n",
       "      <td>2018</td>\n",
       "      <td>NaN</td>\n",
       "      <td>Comedy,Drama</td>\n",
       "    </tr>\n",
       "    <tr>\n",
       "      <th>4</th>\n",
       "      <td>tt0100275</td>\n",
       "      <td>The Wandering Soap Opera</td>\n",
       "      <td>La Telenovela Errante</td>\n",
       "      <td>2017</td>\n",
       "      <td>80.0</td>\n",
       "      <td>Comedy,Drama,Fantasy</td>\n",
       "    </tr>\n",
       "  </tbody>\n",
       "</table>\n",
       "</div>"
      ],
      "text/plain": [
       "      tconst                    primary_title              original_title  \\\n",
       "0  tt0063540                        Sunghursh                   Sunghursh   \n",
       "1  tt0066787  One Day Before the Rainy Season             Ashad Ka Ek Din   \n",
       "2  tt0069049       The Other Side of the Wind  The Other Side of the Wind   \n",
       "3  tt0069204                  Sabse Bada Sukh             Sabse Bada Sukh   \n",
       "4  tt0100275         The Wandering Soap Opera       La Telenovela Errante   \n",
       "\n",
       "   start_year  runtime_minutes                genres  \n",
       "0        2013            175.0    Action,Crime,Drama  \n",
       "1        2019            114.0       Biography,Drama  \n",
       "2        2018            122.0                 Drama  \n",
       "3        2018              NaN          Comedy,Drama  \n",
       "4        2017             80.0  Comedy,Drama,Fantasy  "
      ]
     },
     "execution_count": 312,
     "metadata": {},
     "output_type": "execute_result"
    }
   ],
   "source": [
    "imdbTitleBasics.head()"
   ]
  },
  {
   "cell_type": "code",
   "execution_count": 313,
   "metadata": {
    "scrolled": false
   },
   "outputs": [
    {
     "data": {
      "text/plain": [
       "Home                               24\n",
       "Broken                             20\n",
       "The Return                         20\n",
       "Alone                              16\n",
       "Homecoming                         16\n",
       "                                   ..\n",
       "Girl's Play                         1\n",
       "MAMIL: Middle Aged Men in Lycra     1\n",
       "Das Hotelzimmer                     1\n",
       "Fear Valley                         1\n",
       "Dow South Player University         1\n",
       "Name: primary_title, Length: 136071, dtype: int64"
      ]
     },
     "execution_count": 313,
     "metadata": {},
     "output_type": "execute_result"
    }
   ],
   "source": [
    "imdbTitleBasics['primary_title'].value_counts()"
   ]
  },
  {
   "cell_type": "code",
   "execution_count": 314,
   "metadata": {
    "scrolled": true
   },
   "outputs": [
    {
     "data": {
      "text/html": [
       "<div>\n",
       "<style scoped>\n",
       "    .dataframe tbody tr th:only-of-type {\n",
       "        vertical-align: middle;\n",
       "    }\n",
       "\n",
       "    .dataframe tbody tr th {\n",
       "        vertical-align: top;\n",
       "    }\n",
       "\n",
       "    .dataframe thead th {\n",
       "        text-align: right;\n",
       "    }\n",
       "</style>\n",
       "<table border=\"1\" class=\"dataframe\">\n",
       "  <thead>\n",
       "    <tr style=\"text-align: right;\">\n",
       "      <th></th>\n",
       "      <th>tconst</th>\n",
       "      <th>primary_title</th>\n",
       "      <th>original_title</th>\n",
       "      <th>start_year</th>\n",
       "      <th>runtime_minutes</th>\n",
       "      <th>genres</th>\n",
       "      <th>title_equal</th>\n",
       "    </tr>\n",
       "  </thead>\n",
       "  <tbody>\n",
       "    <tr>\n",
       "      <th>0</th>\n",
       "      <td>tt0063540</td>\n",
       "      <td>Sunghursh</td>\n",
       "      <td>Sunghursh</td>\n",
       "      <td>2013</td>\n",
       "      <td>175.0</td>\n",
       "      <td>Action,Crime,Drama</td>\n",
       "      <td>True</td>\n",
       "    </tr>\n",
       "    <tr>\n",
       "      <th>1</th>\n",
       "      <td>tt0066787</td>\n",
       "      <td>One Day Before the Rainy Season</td>\n",
       "      <td>Ashad Ka Ek Din</td>\n",
       "      <td>2019</td>\n",
       "      <td>114.0</td>\n",
       "      <td>Biography,Drama</td>\n",
       "      <td>False</td>\n",
       "    </tr>\n",
       "    <tr>\n",
       "      <th>2</th>\n",
       "      <td>tt0069049</td>\n",
       "      <td>The Other Side of the Wind</td>\n",
       "      <td>The Other Side of the Wind</td>\n",
       "      <td>2018</td>\n",
       "      <td>122.0</td>\n",
       "      <td>Drama</td>\n",
       "      <td>True</td>\n",
       "    </tr>\n",
       "    <tr>\n",
       "      <th>3</th>\n",
       "      <td>tt0069204</td>\n",
       "      <td>Sabse Bada Sukh</td>\n",
       "      <td>Sabse Bada Sukh</td>\n",
       "      <td>2018</td>\n",
       "      <td>NaN</td>\n",
       "      <td>Comedy,Drama</td>\n",
       "      <td>True</td>\n",
       "    </tr>\n",
       "    <tr>\n",
       "      <th>4</th>\n",
       "      <td>tt0100275</td>\n",
       "      <td>The Wandering Soap Opera</td>\n",
       "      <td>La Telenovela Errante</td>\n",
       "      <td>2017</td>\n",
       "      <td>80.0</td>\n",
       "      <td>Comedy,Drama,Fantasy</td>\n",
       "      <td>False</td>\n",
       "    </tr>\n",
       "  </tbody>\n",
       "</table>\n",
       "</div>"
      ],
      "text/plain": [
       "      tconst                    primary_title              original_title  \\\n",
       "0  tt0063540                        Sunghursh                   Sunghursh   \n",
       "1  tt0066787  One Day Before the Rainy Season             Ashad Ka Ek Din   \n",
       "2  tt0069049       The Other Side of the Wind  The Other Side of the Wind   \n",
       "3  tt0069204                  Sabse Bada Sukh             Sabse Bada Sukh   \n",
       "4  tt0100275         The Wandering Soap Opera       La Telenovela Errante   \n",
       "\n",
       "   start_year  runtime_minutes                genres  title_equal  \n",
       "0        2013            175.0    Action,Crime,Drama         True  \n",
       "1        2019            114.0       Biography,Drama        False  \n",
       "2        2018            122.0                 Drama         True  \n",
       "3        2018              NaN          Comedy,Drama         True  \n",
       "4        2017             80.0  Comedy,Drama,Fantasy        False  "
      ]
     },
     "execution_count": 314,
     "metadata": {},
     "output_type": "execute_result"
    }
   ],
   "source": [
    "# may use to create list of all possible titles when joining certain dataframes...\n",
    "imdbTitleBasics['title_equal'] = (imdbTitleBasics['original_title'] == imdbTitleBasics['primary_title'])\n",
    "\n",
    "imdbTitleBasics.head()"
   ]
  },
  {
   "cell_type": "code",
   "execution_count": 315,
   "metadata": {},
   "outputs": [
    {
     "data": {
      "text/plain": [
       "True     131640\n",
       "False     14504\n",
       "Name: title_equal, dtype: int64"
      ]
     },
     "execution_count": 315,
     "metadata": {},
     "output_type": "execute_result"
    }
   ],
   "source": [
    "imdbTitleBasics['title_equal'].value_counts()"
   ]
  },
  {
   "cell_type": "code",
   "execution_count": 316,
   "metadata": {
    "scrolled": true
   },
   "outputs": [
    {
     "data": {
      "text/html": [
       "<div>\n",
       "<style scoped>\n",
       "    .dataframe tbody tr th:only-of-type {\n",
       "        vertical-align: middle;\n",
       "    }\n",
       "\n",
       "    .dataframe tbody tr th {\n",
       "        vertical-align: top;\n",
       "    }\n",
       "\n",
       "    .dataframe thead th {\n",
       "        text-align: right;\n",
       "    }\n",
       "</style>\n",
       "<table border=\"1\" class=\"dataframe\">\n",
       "  <thead>\n",
       "    <tr style=\"text-align: right;\">\n",
       "      <th></th>\n",
       "      <th>title_id</th>\n",
       "      <th>ordering</th>\n",
       "      <th>title</th>\n",
       "      <th>region</th>\n",
       "      <th>language</th>\n",
       "      <th>types</th>\n",
       "      <th>attributes</th>\n",
       "      <th>is_original_title</th>\n",
       "    </tr>\n",
       "  </thead>\n",
       "  <tbody>\n",
       "    <tr>\n",
       "      <th>0</th>\n",
       "      <td>tt0369610</td>\n",
       "      <td>10</td>\n",
       "      <td>Джурасик свят</td>\n",
       "      <td>BG</td>\n",
       "      <td>bg</td>\n",
       "      <td>NaN</td>\n",
       "      <td>NaN</td>\n",
       "      <td>0.0</td>\n",
       "    </tr>\n",
       "    <tr>\n",
       "      <th>1</th>\n",
       "      <td>tt0369610</td>\n",
       "      <td>11</td>\n",
       "      <td>Jurashikku warudo</td>\n",
       "      <td>JP</td>\n",
       "      <td>NaN</td>\n",
       "      <td>imdbDisplay</td>\n",
       "      <td>NaN</td>\n",
       "      <td>0.0</td>\n",
       "    </tr>\n",
       "    <tr>\n",
       "      <th>2</th>\n",
       "      <td>tt0369610</td>\n",
       "      <td>12</td>\n",
       "      <td>Jurassic World: O Mundo dos Dinossauros</td>\n",
       "      <td>BR</td>\n",
       "      <td>NaN</td>\n",
       "      <td>imdbDisplay</td>\n",
       "      <td>NaN</td>\n",
       "      <td>0.0</td>\n",
       "    </tr>\n",
       "    <tr>\n",
       "      <th>3</th>\n",
       "      <td>tt0369610</td>\n",
       "      <td>13</td>\n",
       "      <td>O Mundo dos Dinossauros</td>\n",
       "      <td>BR</td>\n",
       "      <td>NaN</td>\n",
       "      <td>NaN</td>\n",
       "      <td>short title</td>\n",
       "      <td>0.0</td>\n",
       "    </tr>\n",
       "    <tr>\n",
       "      <th>4</th>\n",
       "      <td>tt0369610</td>\n",
       "      <td>14</td>\n",
       "      <td>Jurassic World</td>\n",
       "      <td>FR</td>\n",
       "      <td>NaN</td>\n",
       "      <td>imdbDisplay</td>\n",
       "      <td>NaN</td>\n",
       "      <td>0.0</td>\n",
       "    </tr>\n",
       "  </tbody>\n",
       "</table>\n",
       "</div>"
      ],
      "text/plain": [
       "    title_id  ordering                                    title region  \\\n",
       "0  tt0369610        10                            Джурасик свят     BG   \n",
       "1  tt0369610        11                        Jurashikku warudo     JP   \n",
       "2  tt0369610        12  Jurassic World: O Mundo dos Dinossauros     BR   \n",
       "3  tt0369610        13                  O Mundo dos Dinossauros     BR   \n",
       "4  tt0369610        14                           Jurassic World     FR   \n",
       "\n",
       "  language        types   attributes  is_original_title  \n",
       "0       bg          NaN          NaN                0.0  \n",
       "1      NaN  imdbDisplay          NaN                0.0  \n",
       "2      NaN  imdbDisplay          NaN                0.0  \n",
       "3      NaN          NaN  short title                0.0  \n",
       "4      NaN  imdbDisplay          NaN                0.0  "
      ]
     },
     "execution_count": 316,
     "metadata": {},
     "output_type": "execute_result"
    }
   ],
   "source": [
    "imdbTitleAkas.head()"
   ]
  },
  {
   "cell_type": "code",
   "execution_count": 317,
   "metadata": {},
   "outputs": [],
   "source": [
    "# rename title_id to tconst to allow for appending\n",
    "imdbTitleAkas.rename(mapper={'title_id' : 'tconst'}, axis=1, inplace=True)\n",
    "\n",
    "#already ran"
   ]
  },
  {
   "cell_type": "code",
   "execution_count": 318,
   "metadata": {},
   "outputs": [
    {
     "data": {
      "text/html": [
       "<div>\n",
       "<style scoped>\n",
       "    .dataframe tbody tr th:only-of-type {\n",
       "        vertical-align: middle;\n",
       "    }\n",
       "\n",
       "    .dataframe tbody tr th {\n",
       "        vertical-align: top;\n",
       "    }\n",
       "\n",
       "    .dataframe thead th {\n",
       "        text-align: right;\n",
       "    }\n",
       "</style>\n",
       "<table border=\"1\" class=\"dataframe\">\n",
       "  <thead>\n",
       "    <tr style=\"text-align: right;\">\n",
       "      <th></th>\n",
       "      <th>tconst</th>\n",
       "      <th>ordering</th>\n",
       "      <th>title</th>\n",
       "      <th>region</th>\n",
       "      <th>language</th>\n",
       "      <th>types</th>\n",
       "      <th>attributes</th>\n",
       "      <th>is_original_title</th>\n",
       "    </tr>\n",
       "  </thead>\n",
       "  <tbody>\n",
       "    <tr>\n",
       "      <th>0</th>\n",
       "      <td>tt0369610</td>\n",
       "      <td>10</td>\n",
       "      <td>Джурасик свят</td>\n",
       "      <td>BG</td>\n",
       "      <td>bg</td>\n",
       "      <td>NaN</td>\n",
       "      <td>NaN</td>\n",
       "      <td>0.0</td>\n",
       "    </tr>\n",
       "    <tr>\n",
       "      <th>1</th>\n",
       "      <td>tt0369610</td>\n",
       "      <td>11</td>\n",
       "      <td>Jurashikku warudo</td>\n",
       "      <td>JP</td>\n",
       "      <td>NaN</td>\n",
       "      <td>imdbDisplay</td>\n",
       "      <td>NaN</td>\n",
       "      <td>0.0</td>\n",
       "    </tr>\n",
       "    <tr>\n",
       "      <th>2</th>\n",
       "      <td>tt0369610</td>\n",
       "      <td>12</td>\n",
       "      <td>Jurassic World: O Mundo dos Dinossauros</td>\n",
       "      <td>BR</td>\n",
       "      <td>NaN</td>\n",
       "      <td>imdbDisplay</td>\n",
       "      <td>NaN</td>\n",
       "      <td>0.0</td>\n",
       "    </tr>\n",
       "    <tr>\n",
       "      <th>3</th>\n",
       "      <td>tt0369610</td>\n",
       "      <td>13</td>\n",
       "      <td>O Mundo dos Dinossauros</td>\n",
       "      <td>BR</td>\n",
       "      <td>NaN</td>\n",
       "      <td>NaN</td>\n",
       "      <td>short title</td>\n",
       "      <td>0.0</td>\n",
       "    </tr>\n",
       "    <tr>\n",
       "      <th>4</th>\n",
       "      <td>tt0369610</td>\n",
       "      <td>14</td>\n",
       "      <td>Jurassic World</td>\n",
       "      <td>FR</td>\n",
       "      <td>NaN</td>\n",
       "      <td>imdbDisplay</td>\n",
       "      <td>NaN</td>\n",
       "      <td>0.0</td>\n",
       "    </tr>\n",
       "  </tbody>\n",
       "</table>\n",
       "</div>"
      ],
      "text/plain": [
       "      tconst  ordering                                    title region  \\\n",
       "0  tt0369610        10                            Джурасик свят     BG   \n",
       "1  tt0369610        11                        Jurashikku warudo     JP   \n",
       "2  tt0369610        12  Jurassic World: O Mundo dos Dinossauros     BR   \n",
       "3  tt0369610        13                  O Mundo dos Dinossauros     BR   \n",
       "4  tt0369610        14                           Jurassic World     FR   \n",
       "\n",
       "  language        types   attributes  is_original_title  \n",
       "0       bg          NaN          NaN                0.0  \n",
       "1      NaN  imdbDisplay          NaN                0.0  \n",
       "2      NaN  imdbDisplay          NaN                0.0  \n",
       "3      NaN          NaN  short title                0.0  \n",
       "4      NaN  imdbDisplay          NaN                0.0  "
      ]
     },
     "execution_count": 318,
     "metadata": {},
     "output_type": "execute_result"
    }
   ],
   "source": [
    "imdbTitleAkas.head()"
   ]
  },
  {
   "cell_type": "code",
   "execution_count": 319,
   "metadata": {},
   "outputs": [
    {
     "data": {
      "text/plain": [
       "US     51490\n",
       "XWW    18467\n",
       "RU     13817\n",
       "DE     11634\n",
       "FR     10990\n",
       "       ...  \n",
       "WF         1\n",
       "SB         1\n",
       "XNA        1\n",
       "NC         1\n",
       "MQ         1\n",
       "Name: region, Length: 213, dtype: int64"
      ]
     },
     "execution_count": 319,
     "metadata": {},
     "output_type": "execute_result"
    }
   ],
   "source": [
    "imdbTitleAkas['region'].value_counts()"
   ]
  },
  {
   "cell_type": "code",
   "execution_count": 320,
   "metadata": {},
   "outputs": [
    {
     "data": {
      "text/html": [
       "<div>\n",
       "<style scoped>\n",
       "    .dataframe tbody tr th:only-of-type {\n",
       "        vertical-align: middle;\n",
       "    }\n",
       "\n",
       "    .dataframe tbody tr th {\n",
       "        vertical-align: top;\n",
       "    }\n",
       "\n",
       "    .dataframe thead th {\n",
       "        text-align: right;\n",
       "    }\n",
       "</style>\n",
       "<table border=\"1\" class=\"dataframe\">\n",
       "  <thead>\n",
       "    <tr style=\"text-align: right;\">\n",
       "      <th></th>\n",
       "      <th>tconst</th>\n",
       "      <th>directors</th>\n",
       "      <th>writers</th>\n",
       "    </tr>\n",
       "  </thead>\n",
       "  <tbody>\n",
       "    <tr>\n",
       "      <th>0</th>\n",
       "      <td>tt0285252</td>\n",
       "      <td>nm0899854</td>\n",
       "      <td>nm0899854</td>\n",
       "    </tr>\n",
       "    <tr>\n",
       "      <th>1</th>\n",
       "      <td>tt0438973</td>\n",
       "      <td>NaN</td>\n",
       "      <td>nm0175726,nm1802864</td>\n",
       "    </tr>\n",
       "    <tr>\n",
       "      <th>2</th>\n",
       "      <td>tt0462036</td>\n",
       "      <td>nm1940585</td>\n",
       "      <td>nm1940585</td>\n",
       "    </tr>\n",
       "    <tr>\n",
       "      <th>3</th>\n",
       "      <td>tt0835418</td>\n",
       "      <td>nm0151540</td>\n",
       "      <td>nm0310087,nm0841532</td>\n",
       "    </tr>\n",
       "    <tr>\n",
       "      <th>4</th>\n",
       "      <td>tt0878654</td>\n",
       "      <td>nm0089502,nm2291498,nm2292011</td>\n",
       "      <td>nm0284943</td>\n",
       "    </tr>\n",
       "  </tbody>\n",
       "</table>\n",
       "</div>"
      ],
      "text/plain": [
       "      tconst                      directors              writers\n",
       "0  tt0285252                      nm0899854            nm0899854\n",
       "1  tt0438973                            NaN  nm0175726,nm1802864\n",
       "2  tt0462036                      nm1940585            nm1940585\n",
       "3  tt0835418                      nm0151540  nm0310087,nm0841532\n",
       "4  tt0878654  nm0089502,nm2291498,nm2292011            nm0284943"
      ]
     },
     "execution_count": 320,
     "metadata": {},
     "output_type": "execute_result"
    }
   ],
   "source": [
    "imdbTitleCrew.head()"
   ]
  },
  {
   "cell_type": "code",
   "execution_count": 321,
   "metadata": {},
   "outputs": [
    {
     "data": {
      "text/html": [
       "<div>\n",
       "<style scoped>\n",
       "    .dataframe tbody tr th:only-of-type {\n",
       "        vertical-align: middle;\n",
       "    }\n",
       "\n",
       "    .dataframe tbody tr th {\n",
       "        vertical-align: top;\n",
       "    }\n",
       "\n",
       "    .dataframe thead th {\n",
       "        text-align: right;\n",
       "    }\n",
       "</style>\n",
       "<table border=\"1\" class=\"dataframe\">\n",
       "  <thead>\n",
       "    <tr style=\"text-align: right;\">\n",
       "      <th></th>\n",
       "      <th>tconst</th>\n",
       "      <th>ordering</th>\n",
       "      <th>nconst</th>\n",
       "      <th>category</th>\n",
       "      <th>job</th>\n",
       "      <th>characters</th>\n",
       "    </tr>\n",
       "  </thead>\n",
       "  <tbody>\n",
       "    <tr>\n",
       "      <th>0</th>\n",
       "      <td>tt0111414</td>\n",
       "      <td>1</td>\n",
       "      <td>nm0246005</td>\n",
       "      <td>actor</td>\n",
       "      <td>NaN</td>\n",
       "      <td>[\"The Man\"]</td>\n",
       "    </tr>\n",
       "    <tr>\n",
       "      <th>1</th>\n",
       "      <td>tt0111414</td>\n",
       "      <td>2</td>\n",
       "      <td>nm0398271</td>\n",
       "      <td>director</td>\n",
       "      <td>NaN</td>\n",
       "      <td>NaN</td>\n",
       "    </tr>\n",
       "    <tr>\n",
       "      <th>2</th>\n",
       "      <td>tt0111414</td>\n",
       "      <td>3</td>\n",
       "      <td>nm3739909</td>\n",
       "      <td>producer</td>\n",
       "      <td>producer</td>\n",
       "      <td>NaN</td>\n",
       "    </tr>\n",
       "    <tr>\n",
       "      <th>3</th>\n",
       "      <td>tt0323808</td>\n",
       "      <td>10</td>\n",
       "      <td>nm0059247</td>\n",
       "      <td>editor</td>\n",
       "      <td>NaN</td>\n",
       "      <td>NaN</td>\n",
       "    </tr>\n",
       "    <tr>\n",
       "      <th>4</th>\n",
       "      <td>tt0323808</td>\n",
       "      <td>1</td>\n",
       "      <td>nm3579312</td>\n",
       "      <td>actress</td>\n",
       "      <td>NaN</td>\n",
       "      <td>[\"Beth Boothby\"]</td>\n",
       "    </tr>\n",
       "  </tbody>\n",
       "</table>\n",
       "</div>"
      ],
      "text/plain": [
       "      tconst  ordering     nconst  category       job        characters\n",
       "0  tt0111414         1  nm0246005     actor       NaN       [\"The Man\"]\n",
       "1  tt0111414         2  nm0398271  director       NaN               NaN\n",
       "2  tt0111414         3  nm3739909  producer  producer               NaN\n",
       "3  tt0323808        10  nm0059247    editor       NaN               NaN\n",
       "4  tt0323808         1  nm3579312   actress       NaN  [\"Beth Boothby\"]"
      ]
     },
     "execution_count": 321,
     "metadata": {},
     "output_type": "execute_result"
    }
   ],
   "source": [
    "imdbTitlePrincipals.head()"
   ]
  },
  {
   "cell_type": "code",
   "execution_count": 322,
   "metadata": {},
   "outputs": [
    {
     "data": {
      "text/html": [
       "<div>\n",
       "<style scoped>\n",
       "    .dataframe tbody tr th:only-of-type {\n",
       "        vertical-align: middle;\n",
       "    }\n",
       "\n",
       "    .dataframe tbody tr th {\n",
       "        vertical-align: top;\n",
       "    }\n",
       "\n",
       "    .dataframe thead th {\n",
       "        text-align: right;\n",
       "    }\n",
       "</style>\n",
       "<table border=\"1\" class=\"dataframe\">\n",
       "  <thead>\n",
       "    <tr style=\"text-align: right;\">\n",
       "      <th></th>\n",
       "      <th>tconst</th>\n",
       "      <th>averagerating</th>\n",
       "      <th>numvotes</th>\n",
       "    </tr>\n",
       "  </thead>\n",
       "  <tbody>\n",
       "    <tr>\n",
       "      <th>0</th>\n",
       "      <td>tt10356526</td>\n",
       "      <td>8.3</td>\n",
       "      <td>31</td>\n",
       "    </tr>\n",
       "    <tr>\n",
       "      <th>1</th>\n",
       "      <td>tt10384606</td>\n",
       "      <td>8.9</td>\n",
       "      <td>559</td>\n",
       "    </tr>\n",
       "    <tr>\n",
       "      <th>2</th>\n",
       "      <td>tt1042974</td>\n",
       "      <td>6.4</td>\n",
       "      <td>20</td>\n",
       "    </tr>\n",
       "    <tr>\n",
       "      <th>3</th>\n",
       "      <td>tt1043726</td>\n",
       "      <td>4.2</td>\n",
       "      <td>50352</td>\n",
       "    </tr>\n",
       "    <tr>\n",
       "      <th>4</th>\n",
       "      <td>tt1060240</td>\n",
       "      <td>6.5</td>\n",
       "      <td>21</td>\n",
       "    </tr>\n",
       "  </tbody>\n",
       "</table>\n",
       "</div>"
      ],
      "text/plain": [
       "       tconst  averagerating  numvotes\n",
       "0  tt10356526            8.3        31\n",
       "1  tt10384606            8.9       559\n",
       "2   tt1042974            6.4        20\n",
       "3   tt1043726            4.2     50352\n",
       "4   tt1060240            6.5        21"
      ]
     },
     "execution_count": 322,
     "metadata": {},
     "output_type": "execute_result"
    }
   ],
   "source": [
    "imdbTitleRatings.head()"
   ]
  },
  {
   "cell_type": "markdown",
   "metadata": {},
   "source": [
    "Time to smush these Data frames together along the **tconst** column:"
   ]
  },
  {
   "cell_type": "code",
   "execution_count": 323,
   "metadata": {},
   "outputs": [],
   "source": [
    "imdb_dfs = [imdbTitleBasics, imdbTitleAkas, imdbTitleCrew, imdbTitlePrincipals, imdbTitleRatings]"
   ]
  },
  {
   "cell_type": "code",
   "execution_count": 324,
   "metadata": {},
   "outputs": [
    {
     "data": {
      "text/plain": [
       "5"
      ]
     },
     "execution_count": 324,
     "metadata": {},
     "output_type": "execute_result"
    }
   ],
   "source": [
    "len(imdb_dfs)"
   ]
  },
  {
   "cell_type": "code",
   "execution_count": 325,
   "metadata": {},
   "outputs": [],
   "source": [
    "# maybe clean this up later with a for loop?\n",
    "imdb_master = pd.merge(\n",
    "                    pd.merge(\n",
    "                            pd.merge(\n",
    "                                    pd.merge(\n",
    "                                        imdb_dfs[0], imdb_dfs[1], on='tconst', how = 'outer'\n",
    "                                        ), \n",
    "                                imdb_dfs[2], on='tconst', how = 'outer'\n",
    "                                ), \n",
    "                        imdb_dfs[3], on='tconst', how = 'outer', suffixes=('_akas', '_princ')\n",
    "                        ),\n",
    "                  imdb_dfs[4], on='tconst', how = 'outer')"
   ]
  },
  {
   "cell_type": "code",
   "execution_count": 326,
   "metadata": {
    "scrolled": true
   },
   "outputs": [
    {
     "data": {
      "text/plain": [
       "2975785"
      ]
     },
     "execution_count": 326,
     "metadata": {},
     "output_type": "execute_result"
    }
   ],
   "source": [
    "len(imdb_master)"
   ]
  },
  {
   "cell_type": "code",
   "execution_count": 327,
   "metadata": {},
   "outputs": [],
   "source": [
    "# remove any movies with start year after 2021\n",
    "imdb_master = imdb_master.loc[imdb_master['start_year'] <= 2021]"
   ]
  },
  {
   "cell_type": "markdown",
   "metadata": {},
   "source": [
    "### Merging in tmdbMovies by 'primary_title'"
   ]
  },
  {
   "cell_type": "code",
   "execution_count": 328,
   "metadata": {},
   "outputs": [],
   "source": [
    "imdb_master = pd.merge(imdb_master, tmdbMovies, on='primary_title', how = 'outer')"
   ]
  },
  {
   "cell_type": "code",
   "execution_count": 329,
   "metadata": {},
   "outputs": [],
   "source": [
    "imdb_master.drop_duplicates(subset=['tconst'], inplace=True)\n",
    "# already ran"
   ]
  },
  {
   "cell_type": "code",
   "execution_count": 330,
   "metadata": {},
   "outputs": [
    {
     "data": {
      "text/html": [
       "<div>\n",
       "<style scoped>\n",
       "    .dataframe tbody tr th:only-of-type {\n",
       "        vertical-align: middle;\n",
       "    }\n",
       "\n",
       "    .dataframe tbody tr th {\n",
       "        vertical-align: top;\n",
       "    }\n",
       "\n",
       "    .dataframe thead th {\n",
       "        text-align: right;\n",
       "    }\n",
       "</style>\n",
       "<table border=\"1\" class=\"dataframe\">\n",
       "  <thead>\n",
       "    <tr style=\"text-align: right;\">\n",
       "      <th></th>\n",
       "      <th>tconst</th>\n",
       "      <th>primary_title</th>\n",
       "      <th>original_title</th>\n",
       "      <th>start_year</th>\n",
       "      <th>runtime_minutes</th>\n",
       "      <th>genres</th>\n",
       "      <th>title_equal</th>\n",
       "      <th>ordering_akas</th>\n",
       "      <th>title</th>\n",
       "      <th>region</th>\n",
       "      <th>...</th>\n",
       "      <th>job</th>\n",
       "      <th>characters</th>\n",
       "      <th>averagerating</th>\n",
       "      <th>numvotes</th>\n",
       "      <th>genre_ids</th>\n",
       "      <th>id</th>\n",
       "      <th>popularity</th>\n",
       "      <th>release_date</th>\n",
       "      <th>vote_average</th>\n",
       "      <th>vote_count</th>\n",
       "    </tr>\n",
       "  </thead>\n",
       "  <tbody>\n",
       "    <tr>\n",
       "      <th>0</th>\n",
       "      <td>tt0063540</td>\n",
       "      <td>Sunghursh</td>\n",
       "      <td>Sunghursh</td>\n",
       "      <td>2013.0</td>\n",
       "      <td>175.0</td>\n",
       "      <td>Action,Crime,Drama</td>\n",
       "      <td>True</td>\n",
       "      <td>1.0</td>\n",
       "      <td>Sangharsh</td>\n",
       "      <td>IN</td>\n",
       "      <td>...</td>\n",
       "      <td>NaN</td>\n",
       "      <td>NaN</td>\n",
       "      <td>7.0</td>\n",
       "      <td>77.0</td>\n",
       "      <td>NaN</td>\n",
       "      <td>NaN</td>\n",
       "      <td>NaN</td>\n",
       "      <td>NaN</td>\n",
       "      <td>NaN</td>\n",
       "      <td>NaN</td>\n",
       "    </tr>\n",
       "    <tr>\n",
       "      <th>50</th>\n",
       "      <td>tt0066787</td>\n",
       "      <td>One Day Before the Rainy Season</td>\n",
       "      <td>Ashad Ka Ek Din</td>\n",
       "      <td>2019.0</td>\n",
       "      <td>114.0</td>\n",
       "      <td>Biography,Drama</td>\n",
       "      <td>False</td>\n",
       "      <td>1.0</td>\n",
       "      <td>One Day Before the Rainy Season</td>\n",
       "      <td>XWW</td>\n",
       "      <td>...</td>\n",
       "      <td>NaN</td>\n",
       "      <td>NaN</td>\n",
       "      <td>7.2</td>\n",
       "      <td>43.0</td>\n",
       "      <td>NaN</td>\n",
       "      <td>NaN</td>\n",
       "      <td>NaN</td>\n",
       "      <td>NaN</td>\n",
       "      <td>NaN</td>\n",
       "      <td>NaN</td>\n",
       "    </tr>\n",
       "    <tr>\n",
       "      <th>78</th>\n",
       "      <td>tt0069049</td>\n",
       "      <td>The Other Side of the Wind</td>\n",
       "      <td>The Other Side of the Wind</td>\n",
       "      <td>2018.0</td>\n",
       "      <td>122.0</td>\n",
       "      <td>Drama</td>\n",
       "      <td>True</td>\n",
       "      <td>10.0</td>\n",
       "      <td>La otra cara del viento</td>\n",
       "      <td>VE</td>\n",
       "      <td>...</td>\n",
       "      <td>NaN</td>\n",
       "      <td>NaN</td>\n",
       "      <td>6.9</td>\n",
       "      <td>4517.0</td>\n",
       "      <td>[35, 18]</td>\n",
       "      <td>299782.0</td>\n",
       "      <td>9.8</td>\n",
       "      <td>2018-11-02</td>\n",
       "      <td>7.0</td>\n",
       "      <td>64.0</td>\n",
       "    </tr>\n",
       "    <tr>\n",
       "      <th>208</th>\n",
       "      <td>tt0069204</td>\n",
       "      <td>Sabse Bada Sukh</td>\n",
       "      <td>Sabse Bada Sukh</td>\n",
       "      <td>2018.0</td>\n",
       "      <td>NaN</td>\n",
       "      <td>Comedy,Drama</td>\n",
       "      <td>True</td>\n",
       "      <td>1.0</td>\n",
       "      <td>Subse Bada Sukh</td>\n",
       "      <td>IN</td>\n",
       "      <td>...</td>\n",
       "      <td>NaN</td>\n",
       "      <td>[\"Lalloo\"]</td>\n",
       "      <td>6.1</td>\n",
       "      <td>13.0</td>\n",
       "      <td>NaN</td>\n",
       "      <td>NaN</td>\n",
       "      <td>NaN</td>\n",
       "      <td>NaN</td>\n",
       "      <td>NaN</td>\n",
       "      <td>NaN</td>\n",
       "    </tr>\n",
       "    <tr>\n",
       "      <th>238</th>\n",
       "      <td>tt0100275</td>\n",
       "      <td>The Wandering Soap Opera</td>\n",
       "      <td>La Telenovela Errante</td>\n",
       "      <td>2017.0</td>\n",
       "      <td>80.0</td>\n",
       "      <td>Comedy,Drama,Fantasy</td>\n",
       "      <td>False</td>\n",
       "      <td>1.0</td>\n",
       "      <td>La Telenovela Errante</td>\n",
       "      <td>NaN</td>\n",
       "      <td>...</td>\n",
       "      <td>NaN</td>\n",
       "      <td>NaN</td>\n",
       "      <td>6.5</td>\n",
       "      <td>119.0</td>\n",
       "      <td>NaN</td>\n",
       "      <td>NaN</td>\n",
       "      <td>NaN</td>\n",
       "      <td>NaN</td>\n",
       "      <td>NaN</td>\n",
       "      <td>NaN</td>\n",
       "    </tr>\n",
       "  </tbody>\n",
       "</table>\n",
       "<p>5 rows × 29 columns</p>\n",
       "</div>"
      ],
      "text/plain": [
       "        tconst                    primary_title              original_title  \\\n",
       "0    tt0063540                        Sunghursh                   Sunghursh   \n",
       "50   tt0066787  One Day Before the Rainy Season             Ashad Ka Ek Din   \n",
       "78   tt0069049       The Other Side of the Wind  The Other Side of the Wind   \n",
       "208  tt0069204                  Sabse Bada Sukh             Sabse Bada Sukh   \n",
       "238  tt0100275         The Wandering Soap Opera       La Telenovela Errante   \n",
       "\n",
       "     start_year  runtime_minutes                genres title_equal  \\\n",
       "0        2013.0            175.0    Action,Crime,Drama        True   \n",
       "50       2019.0            114.0       Biography,Drama       False   \n",
       "78       2018.0            122.0                 Drama        True   \n",
       "208      2018.0              NaN          Comedy,Drama        True   \n",
       "238      2017.0             80.0  Comedy,Drama,Fantasy       False   \n",
       "\n",
       "     ordering_akas                            title region  ...  job  \\\n",
       "0              1.0                        Sangharsh     IN  ...  NaN   \n",
       "50             1.0  One Day Before the Rainy Season    XWW  ...  NaN   \n",
       "78            10.0          La otra cara del viento     VE  ...  NaN   \n",
       "208            1.0                  Subse Bada Sukh     IN  ...  NaN   \n",
       "238            1.0            La Telenovela Errante    NaN  ...  NaN   \n",
       "\n",
       "     characters averagerating  numvotes genre_ids        id  popularity  \\\n",
       "0           NaN           7.0      77.0       NaN       NaN         NaN   \n",
       "50          NaN           7.2      43.0       NaN       NaN         NaN   \n",
       "78          NaN           6.9    4517.0  [35, 18]  299782.0         9.8   \n",
       "208  [\"Lalloo\"]           6.1      13.0       NaN       NaN         NaN   \n",
       "238         NaN           6.5     119.0       NaN       NaN         NaN   \n",
       "\n",
       "    release_date vote_average vote_count  \n",
       "0            NaN          NaN        NaN  \n",
       "50           NaN          NaN        NaN  \n",
       "78    2018-11-02          7.0       64.0  \n",
       "208          NaN          NaN        NaN  \n",
       "238          NaN          NaN        NaN  \n",
       "\n",
       "[5 rows x 29 columns]"
      ]
     },
     "execution_count": 330,
     "metadata": {},
     "output_type": "execute_result"
    }
   ],
   "source": [
    "imdb_master.head()"
   ]
  },
  {
   "cell_type": "markdown",
   "metadata": {},
   "source": [
    "**Making IMDB_master with BOM GROSS**"
   ]
  },
  {
   "cell_type": "code",
   "execution_count": 331,
   "metadata": {},
   "outputs": [
    {
     "data": {
      "text/html": [
       "<div>\n",
       "<style scoped>\n",
       "    .dataframe tbody tr th:only-of-type {\n",
       "        vertical-align: middle;\n",
       "    }\n",
       "\n",
       "    .dataframe tbody tr th {\n",
       "        vertical-align: top;\n",
       "    }\n",
       "\n",
       "    .dataframe thead th {\n",
       "        text-align: right;\n",
       "    }\n",
       "</style>\n",
       "<table border=\"1\" class=\"dataframe\">\n",
       "  <thead>\n",
       "    <tr style=\"text-align: right;\">\n",
       "      <th></th>\n",
       "      <th>tconst</th>\n",
       "      <th>primary_title</th>\n",
       "      <th>original_title</th>\n",
       "      <th>start_year</th>\n",
       "      <th>runtime_minutes</th>\n",
       "      <th>genres</th>\n",
       "      <th>title_equal</th>\n",
       "      <th>ordering_akas</th>\n",
       "      <th>title</th>\n",
       "      <th>region</th>\n",
       "      <th>...</th>\n",
       "      <th>popularity</th>\n",
       "      <th>release_date</th>\n",
       "      <th>vote_average</th>\n",
       "      <th>vote_count</th>\n",
       "      <th>studio</th>\n",
       "      <th>domestic_gross</th>\n",
       "      <th>foreign_gross</th>\n",
       "      <th>year</th>\n",
       "      <th>domestic_adj</th>\n",
       "      <th>foreign_adj</th>\n",
       "    </tr>\n",
       "  </thead>\n",
       "  <tbody>\n",
       "    <tr>\n",
       "      <th>0</th>\n",
       "      <td>tt0063540</td>\n",
       "      <td>Sunghursh</td>\n",
       "      <td>Sunghursh</td>\n",
       "      <td>2013.0</td>\n",
       "      <td>175.0</td>\n",
       "      <td>Action,Crime,Drama</td>\n",
       "      <td>True</td>\n",
       "      <td>1.0</td>\n",
       "      <td>Sangharsh</td>\n",
       "      <td>IN</td>\n",
       "      <td>...</td>\n",
       "      <td>NaN</td>\n",
       "      <td>NaN</td>\n",
       "      <td>NaN</td>\n",
       "      <td>NaN</td>\n",
       "      <td>NaN</td>\n",
       "      <td>NaN</td>\n",
       "      <td>NaN</td>\n",
       "      <td>NaN</td>\n",
       "      <td>NaN</td>\n",
       "      <td>NaN</td>\n",
       "    </tr>\n",
       "    <tr>\n",
       "      <th>1</th>\n",
       "      <td>tt0066787</td>\n",
       "      <td>One Day Before the Rainy Season</td>\n",
       "      <td>Ashad Ka Ek Din</td>\n",
       "      <td>2019.0</td>\n",
       "      <td>114.0</td>\n",
       "      <td>Biography,Drama</td>\n",
       "      <td>False</td>\n",
       "      <td>1.0</td>\n",
       "      <td>One Day Before the Rainy Season</td>\n",
       "      <td>XWW</td>\n",
       "      <td>...</td>\n",
       "      <td>NaN</td>\n",
       "      <td>NaN</td>\n",
       "      <td>NaN</td>\n",
       "      <td>NaN</td>\n",
       "      <td>NaN</td>\n",
       "      <td>NaN</td>\n",
       "      <td>NaN</td>\n",
       "      <td>NaN</td>\n",
       "      <td>NaN</td>\n",
       "      <td>NaN</td>\n",
       "    </tr>\n",
       "    <tr>\n",
       "      <th>2</th>\n",
       "      <td>tt0069049</td>\n",
       "      <td>The Other Side of the Wind</td>\n",
       "      <td>The Other Side of the Wind</td>\n",
       "      <td>2018.0</td>\n",
       "      <td>122.0</td>\n",
       "      <td>Drama</td>\n",
       "      <td>True</td>\n",
       "      <td>10.0</td>\n",
       "      <td>La otra cara del viento</td>\n",
       "      <td>VE</td>\n",
       "      <td>...</td>\n",
       "      <td>9.8</td>\n",
       "      <td>2018-11-02</td>\n",
       "      <td>7.0</td>\n",
       "      <td>64.0</td>\n",
       "      <td>NaN</td>\n",
       "      <td>NaN</td>\n",
       "      <td>NaN</td>\n",
       "      <td>NaN</td>\n",
       "      <td>NaN</td>\n",
       "      <td>NaN</td>\n",
       "    </tr>\n",
       "    <tr>\n",
       "      <th>3</th>\n",
       "      <td>tt0069204</td>\n",
       "      <td>Sabse Bada Sukh</td>\n",
       "      <td>Sabse Bada Sukh</td>\n",
       "      <td>2018.0</td>\n",
       "      <td>NaN</td>\n",
       "      <td>Comedy,Drama</td>\n",
       "      <td>True</td>\n",
       "      <td>1.0</td>\n",
       "      <td>Subse Bada Sukh</td>\n",
       "      <td>IN</td>\n",
       "      <td>...</td>\n",
       "      <td>NaN</td>\n",
       "      <td>NaN</td>\n",
       "      <td>NaN</td>\n",
       "      <td>NaN</td>\n",
       "      <td>NaN</td>\n",
       "      <td>NaN</td>\n",
       "      <td>NaN</td>\n",
       "      <td>NaN</td>\n",
       "      <td>NaN</td>\n",
       "      <td>NaN</td>\n",
       "    </tr>\n",
       "    <tr>\n",
       "      <th>4</th>\n",
       "      <td>tt0100275</td>\n",
       "      <td>The Wandering Soap Opera</td>\n",
       "      <td>La Telenovela Errante</td>\n",
       "      <td>2017.0</td>\n",
       "      <td>80.0</td>\n",
       "      <td>Comedy,Drama,Fantasy</td>\n",
       "      <td>False</td>\n",
       "      <td>1.0</td>\n",
       "      <td>La Telenovela Errante</td>\n",
       "      <td>NaN</td>\n",
       "      <td>...</td>\n",
       "      <td>NaN</td>\n",
       "      <td>NaN</td>\n",
       "      <td>NaN</td>\n",
       "      <td>NaN</td>\n",
       "      <td>NaN</td>\n",
       "      <td>NaN</td>\n",
       "      <td>NaN</td>\n",
       "      <td>NaN</td>\n",
       "      <td>NaN</td>\n",
       "      <td>NaN</td>\n",
       "    </tr>\n",
       "  </tbody>\n",
       "</table>\n",
       "<p>5 rows × 35 columns</p>\n",
       "</div>"
      ],
      "text/plain": [
       "      tconst                    primary_title              original_title  \\\n",
       "0  tt0063540                        Sunghursh                   Sunghursh   \n",
       "1  tt0066787  One Day Before the Rainy Season             Ashad Ka Ek Din   \n",
       "2  tt0069049       The Other Side of the Wind  The Other Side of the Wind   \n",
       "3  tt0069204                  Sabse Bada Sukh             Sabse Bada Sukh   \n",
       "4  tt0100275         The Wandering Soap Opera       La Telenovela Errante   \n",
       "\n",
       "   start_year  runtime_minutes                genres title_equal  \\\n",
       "0      2013.0            175.0    Action,Crime,Drama        True   \n",
       "1      2019.0            114.0       Biography,Drama       False   \n",
       "2      2018.0            122.0                 Drama        True   \n",
       "3      2018.0              NaN          Comedy,Drama        True   \n",
       "4      2017.0             80.0  Comedy,Drama,Fantasy       False   \n",
       "\n",
       "   ordering_akas                            title region  ... popularity  \\\n",
       "0            1.0                        Sangharsh     IN  ...        NaN   \n",
       "1            1.0  One Day Before the Rainy Season    XWW  ...        NaN   \n",
       "2           10.0          La otra cara del viento     VE  ...        9.8   \n",
       "3            1.0                  Subse Bada Sukh     IN  ...        NaN   \n",
       "4            1.0            La Telenovela Errante    NaN  ...        NaN   \n",
       "\n",
       "  release_date vote_average  vote_count studio domestic_gross  foreign_gross  \\\n",
       "0          NaN          NaN         NaN    NaN            NaN            NaN   \n",
       "1          NaN          NaN         NaN    NaN            NaN            NaN   \n",
       "2   2018-11-02          7.0        64.0    NaN            NaN            NaN   \n",
       "3          NaN          NaN         NaN    NaN            NaN            NaN   \n",
       "4          NaN          NaN         NaN    NaN            NaN            NaN   \n",
       "\n",
       "  year domestic_adj foreign_adj  \n",
       "0  NaN          NaN         NaN  \n",
       "1  NaN          NaN         NaN  \n",
       "2  NaN          NaN         NaN  \n",
       "3  NaN          NaN         NaN  \n",
       "4  NaN          NaN         NaN  \n",
       "\n",
       "[5 rows x 35 columns]"
      ]
     },
     "execution_count": 331,
     "metadata": {},
     "output_type": "execute_result"
    }
   ],
   "source": [
    "imdb_BOM = pd.merge(imdb_master, bomMovieGross, on='primary_title', how='outer')\n",
    "imdb_BOM.head()"
   ]
  },
  {
   "cell_type": "code",
   "execution_count": 332,
   "metadata": {},
   "outputs": [
    {
     "data": {
      "text/plain": [
       "146102"
      ]
     },
     "execution_count": 332,
     "metadata": {},
     "output_type": "execute_result"
    }
   ],
   "source": [
    "len(imdb_master)"
   ]
  },
  {
   "cell_type": "code",
   "execution_count": 333,
   "metadata": {},
   "outputs": [
    {
     "data": {
      "text/plain": [
       "146885"
      ]
     },
     "execution_count": 333,
     "metadata": {},
     "output_type": "execute_result"
    }
   ],
   "source": [
    "len(imdb_BOM)"
   ]
  },
  {
   "cell_type": "code",
   "execution_count": 334,
   "metadata": {},
   "outputs": [],
   "source": [
    "imdb_BOM.fillna(value='Unknown', inplace=True)"
   ]
  },
  {
   "cell_type": "code",
   "execution_count": 335,
   "metadata": {},
   "outputs": [
    {
     "data": {
      "text/plain": [
       "4112"
      ]
     },
     "execution_count": 335,
     "metadata": {},
     "output_type": "execute_result"
    }
   ],
   "source": [
    "imdb_BOM['domestic_adj'][imdb_BOM['domestic_adj']!='Unknown'].value_counts().values.sum()"
   ]
  },
  {
   "cell_type": "code",
   "execution_count": 336,
   "metadata": {
    "scrolled": true
   },
   "outputs": [
    {
     "data": {
      "text/plain": [
       "4147"
      ]
     },
     "execution_count": 336,
     "metadata": {},
     "output_type": "execute_result"
    }
   ],
   "source": [
    "# contains the most values\n",
    "imdb_BOM['foreign_adj'][imdb_BOM['foreign_adj']!='Unknown'].value_counts().values.sum()"
   ]
  },
  {
   "cell_type": "code",
   "execution_count": 337,
   "metadata": {},
   "outputs": [
    {
     "data": {
      "text/plain": [
       "3326"
      ]
     },
     "execution_count": 337,
     "metadata": {},
     "output_type": "execute_result"
    }
   ],
   "source": [
    "len(imdb_BOM[(imdb_BOM['foreign_adj']!='Unknown')&(imdb_BOM['genres']!='Unknown')])"
   ]
  },
  {
   "cell_type": "code",
   "execution_count": 338,
   "metadata": {},
   "outputs": [],
   "source": [
    "# Clean up genres column \n",
    "imdb_BOM['genres'] = imdb_BOM['genres'].apply(\n",
    "    lambda x: x.split(',') if (',' in x) else ([x] if (x != 'Unknown') else x)\n",
    "    )"
   ]
  },
  {
   "cell_type": "code",
   "execution_count": 339,
   "metadata": {
    "scrolled": false
   },
   "outputs": [
    {
     "data": {
      "text/plain": [
       "0      [Action, Crime, Drama]\n",
       "1          [Biography, Drama]\n",
       "2                     [Drama]\n",
       "3             [Comedy, Drama]\n",
       "4    [Comedy, Drama, Fantasy]\n",
       "Name: genres, dtype: object"
      ]
     },
     "execution_count": 339,
     "metadata": {},
     "output_type": "execute_result"
    }
   ],
   "source": [
    "imdb_BOM['genres'].head()"
   ]
  },
  {
   "cell_type": "code",
   "execution_count": 340,
   "metadata": {},
   "outputs": [],
   "source": [
    "# Merge Movie Budgets onto imdb_BOM\n",
    "imdb_BOM_tn = pd.merge(imdb_BOM, tnMoviesAdj, on='primary_title')"
   ]
  },
  {
   "cell_type": "code",
   "execution_count": 341,
   "metadata": {},
   "outputs": [],
   "source": [
    "imdb_BOM_tn.fillna(value='Unknown', inplace=True)"
   ]
  },
  {
   "cell_type": "code",
   "execution_count": 342,
   "metadata": {
    "scrolled": true
   },
   "outputs": [
    {
     "data": {
      "text/plain": [
       "3896"
      ]
     },
     "execution_count": 342,
     "metadata": {},
     "output_type": "execute_result"
    }
   ],
   "source": [
    "len(imdb_BOM_tn['primary_title'])"
   ]
  },
  {
   "cell_type": "code",
   "execution_count": 343,
   "metadata": {},
   "outputs": [],
   "source": [
    "imdb_BOM_tn.replace(\n",
    "    to_replace=imdb_BOM_tn['popularity'][imdb_BOM_tn['popularity']!='Unknown'],\n",
    "    value=0.0,\n",
    "    inplace=True\n",
    "    )"
   ]
  },
  {
   "cell_type": "code",
   "execution_count": 344,
   "metadata": {},
   "outputs": [
    {
     "data": {
      "text/plain": [
       "0         4.705\n",
       "1       Unknown\n",
       "2         6.576\n",
       "3         6.576\n",
       "4         8.919\n",
       "         ...   \n",
       "3891    Unknown\n",
       "3892    Unknown\n",
       "3893    Unknown\n",
       "3894    Unknown\n",
       "3895    Unknown\n",
       "Name: popularity, Length: 3896, dtype: object"
      ]
     },
     "execution_count": 344,
     "metadata": {},
     "output_type": "execute_result"
    }
   ],
   "source": [
    "imdb_BOM_tn['popularity'].apply(lambda x: float(x) if x !='Unknown' else x)"
   ]
  },
  {
   "cell_type": "code",
   "execution_count": 345,
   "metadata": {},
   "outputs": [
    {
     "data": {
      "text/plain": [
       "count     2992.0\n",
       "unique    1603.0\n",
       "top          0.6\n",
       "freq       289.0\n",
       "Name: popularity, dtype: float64"
      ]
     },
     "execution_count": 345,
     "metadata": {},
     "output_type": "execute_result"
    }
   ],
   "source": [
    "# for the future - finding a way to consolidate all the lengths \n",
    "# for different levels of the data frame\n",
    "\n",
    "imdb_BOM_tn['popularity'][imdb_BOM_tn['popularity']!='Unknown'].describe(include='all')"
   ]
  },
  {
   "cell_type": "code",
   "execution_count": 346,
   "metadata": {
    "scrolled": true
   },
   "outputs": [
    {
     "data": {
      "text/plain": [
       "2992"
      ]
     },
     "execution_count": 346,
     "metadata": {},
     "output_type": "execute_result"
    }
   ],
   "source": [
    "imdb_BOM_tn['popularity'][imdb_BOM_tn['popularity']!='Unknown'].count()"
   ]
  },
  {
   "cell_type": "code",
   "execution_count": 347,
   "metadata": {},
   "outputs": [
    {
     "data": {
      "text/plain": [
       "2992"
      ]
     },
     "execution_count": 347,
     "metadata": {},
     "output_type": "execute_result"
    }
   ],
   "source": [
    "imdb_master_money['popularity'][imdb_master_money['popularity']!='Unknown'].count()"
   ]
  },
  {
   "cell_type": "code",
   "execution_count": 348,
   "metadata": {},
   "outputs": [
    {
     "data": {
      "text/plain": [
       "0.6"
      ]
     },
     "execution_count": 348,
     "metadata": {},
     "output_type": "execute_result"
    }
   ],
   "source": [
    "# exploring range of popularity column\n",
    "imdb_BOM_tn['popularity'][imdb_BOM_tn['popularity']!='Unknown'].min()"
   ]
  },
  {
   "cell_type": "code",
   "execution_count": 349,
   "metadata": {},
   "outputs": [
    {
     "data": {
      "text/plain": [
       "80.773"
      ]
     },
     "execution_count": 349,
     "metadata": {},
     "output_type": "execute_result"
    }
   ],
   "source": [
    "imdb_BOM_tn['popularity'][imdb_BOM_tn['popularity']!='Unknown'].max()"
   ]
  },
  {
   "cell_type": "code",
   "execution_count": 401,
   "metadata": {},
   "outputs": [
    {
     "data": {
      "text/plain": [
       "1682"
      ]
     },
     "execution_count": 401,
     "metadata": {},
     "output_type": "execute_result"
    }
   ],
   "source": [
    "# Creating column 'total_BOM_gross' (total gross but with Box Office Mojo data instead of tnMovieBudgets)\n",
    "\n",
    "imdb_BOM_tn['total_BOM_gross'] = imdb_BOM_tn['domestic_adj_y'][imdb_BOM_tn['domestic_adj_y']!='Unknown'] + imdb_BOM_tn['foreign_adj'][imdb_BOM_tn['foreign_adj']!='Unknown']\n",
    "\n",
    "imdb_BOM_tn['total_BOM_gross'].fillna(value='Unknown', inplace=True)\n",
    "\n",
    "imdb_BOM_tn['total_BOM_gross'][imdb_BOM_tn['total_BOM_gross']!='Unknown'].value_counts().sum()\n"
   ]
  },
  {
   "cell_type": "code",
   "execution_count": 402,
   "metadata": {},
   "outputs": [
    {
     "data": {
      "text/plain": [
       "['Action',\n",
       " 'Animation',\n",
       " 'Comedy',\n",
       " 'Adventure',\n",
       " 'Fantasy',\n",
       " 'Mystery',\n",
       " 'Drama',\n",
       " 'Romance',\n",
       " 'Documentary',\n",
       " 'Crime',\n",
       " 'Sci-Fi',\n",
       " 'Family',\n",
       " 'Thriller',\n",
       " 'Horror',\n",
       " 'Biography',\n",
       " 'History',\n",
       " 'News',\n",
       " 'War',\n",
       " 'Sport',\n",
       " 'Music',\n",
       " 'Musical',\n",
       " 'Western',\n",
       " 'Reality-TV']"
      ]
     },
     "execution_count": 402,
     "metadata": {},
     "output_type": "execute_result"
    }
   ],
   "source": [
    "genres = []\n",
    "for movie in imdb_BOM_tn['genres']:\n",
    "    if type(movie)==list:\n",
    "        for genre in movie:\n",
    "            if genre not in genres:\n",
    "                genres.append(genre)\n",
    "                \n",
    "genres"
   ]
  },
  {
   "cell_type": "code",
   "execution_count": 403,
   "metadata": {},
   "outputs": [],
   "source": [
    "# find the top 10 genres with BOM_tn\n",
    "# make genre dictionary\n",
    "genre_dict_2 = {}\n"
   ]
  },
  {
   "cell_type": "code",
   "execution_count": 404,
   "metadata": {},
   "outputs": [
    {
     "data": {
      "text/plain": [
       "'Reality-TV'"
      ]
     },
     "execution_count": 404,
     "metadata": {},
     "output_type": "execute_result"
    }
   ],
   "source": [
    "#removed\n",
    "genres.pop(-1)"
   ]
  },
  {
   "cell_type": "code",
   "execution_count": 405,
   "metadata": {},
   "outputs": [],
   "source": [
    "for genre in genres:\n",
    "    genre_dict_2[genre] = imdb_BOM_tn.iloc[genre_contained(genre, imdb_BOM_tn)]"
   ]
  },
  {
   "cell_type": "code",
   "execution_count": 408,
   "metadata": {
    "scrolled": true
   },
   "outputs": [
    {
     "data": {
      "text/plain": [
       "[('Drama', 1817),\n",
       " ('Comedy', 842),\n",
       " ('Action', 710),\n",
       " ('Thriller', 594),\n",
       " ('Documentary', 499),\n",
       " ('Adventure', 490),\n",
       " ('Horror', 415),\n",
       " ('Crime', 398),\n",
       " ('Romance', 372),\n",
       " ('Mystery', 249),\n",
       " ('Biography', 248),\n",
       " ('Sci-Fi', 229),\n",
       " ('Family', 204),\n",
       " ('Fantasy', 202),\n",
       " ('Animation', 148)]"
      ]
     },
     "execution_count": 408,
     "metadata": {},
     "output_type": "execute_result"
    }
   ],
   "source": [
    "# top 15 genres by their frequency in the DataFrame (how many movies classified with this descriptor)\n",
    "top_15_genres = {i:len(genre_dict_2[i]) for i in genres}\n",
    "sorted_top_15_genres = sorted(top_15_genres.items(), key=lambda kv: kv[1], reverse=True)[:15]\n",
    "sorted_top_15_genres"
   ]
  },
  {
   "cell_type": "code",
   "execution_count": 409,
   "metadata": {},
   "outputs": [],
   "source": [
    "# split above tuple list into lists\n",
    "top_genre_ct_names = [name[0] for name in sorted_top_15_genres]\n",
    "top_genre_cts = [name[1] for name in sorted_top_15_genres]"
   ]
  },
  {
   "cell_type": "code",
   "execution_count": 410,
   "metadata": {
    "scrolled": true
   },
   "outputs": [
    {
     "data": {
      "text/plain": [
       "[('Adventure', 15.849670644391395),\n",
       " ('Sci-Fi', 14.345203124999998),\n",
       " ('Fantasy', 14.015947674418602),\n",
       " ('Action', 13.435757024793395),\n",
       " ('Animation', 13.135606299212599),\n",
       " ('Musical', 10.57488),\n",
       " ('Crime', 10.242686956521734),\n",
       " ('Comedy', 9.783019774011308),\n",
       " ('Mystery', 9.461259999999992),\n",
       " ('News', 9.405199999999999),\n",
       " ('Biography', 9.351870813397127),\n",
       " ('Family', 9.19519230769231),\n",
       " ('Western', 8.6081),\n",
       " ('Thriller', 8.605823170731703),\n",
       " ('History', 8.564258823529412),\n",
       " ('Music', 8.364701492537312),\n",
       " ('Romance', 8.276813504823155),\n",
       " ('Drama', 8.089868055555574),\n",
       " ('Horror', 7.978852691218126),\n",
       " ('Sport', 6.140416666666668),\n",
       " ('War', 5.647642857142857),\n",
       " ('Documentary', 5.6210893371757935)]"
      ]
     },
     "execution_count": 410,
     "metadata": {},
     "output_type": "execute_result"
    }
   ],
   "source": [
    "# measuring top genres by popularity column\n",
    "\n",
    "top_genres_popularity = {i:genre_dict_2[i]['popularity'][genre_dict_2[i]['popularity']!='Unknown'].mean() for i in genres}\n",
    "sorted_top_genres_popularity = sorted(top_genres_popularity.items(), key=lambda kv: kv[1], reverse=True)\n",
    "sorted_top_genres_popularity"
   ]
  },
  {
   "cell_type": "code",
   "execution_count": 411,
   "metadata": {},
   "outputs": [
    {
     "name": "stdout",
     "output_type": "stream",
     "text": [
      "['Adventure', 'Sci-Fi', 'Fantasy', 'Action', 'Animation', 'Musical', 'Crime', 'Comedy', 'Mystery', 'News', 'Biography', 'Family', 'Western', 'Thriller', 'History']\n"
     ]
    }
   ],
   "source": [
    "most_popular_names = [name[0] for name in sorted_top_genres_popularity][:15]\n",
    "most_popular_avgs = [avg[1] for avg in sorted_top_genres_popularity][:15]\n",
    "\n",
    "print(most_popular_names)\n",
    "# note for later - you can use the df.str.contains() to search for series with certain strings"
   ]
  },
  {
   "cell_type": "markdown",
   "metadata": {},
   "source": [
    "### Grouping IMDB master"
   ]
  },
  {
   "cell_type": "code",
   "execution_count": 503,
   "metadata": {},
   "outputs": [
    {
     "data": {
      "text/html": [
       "<div>\n",
       "<style scoped>\n",
       "    .dataframe tbody tr th:only-of-type {\n",
       "        vertical-align: middle;\n",
       "    }\n",
       "\n",
       "    .dataframe tbody tr th {\n",
       "        vertical-align: top;\n",
       "    }\n",
       "\n",
       "    .dataframe thead th {\n",
       "        text-align: right;\n",
       "    }\n",
       "</style>\n",
       "<table border=\"1\" class=\"dataframe\">\n",
       "  <thead>\n",
       "    <tr style=\"text-align: right;\">\n",
       "      <th></th>\n",
       "      <th></th>\n",
       "      <th>start_year</th>\n",
       "      <th>runtime_minutes</th>\n",
       "      <th>ordering_akas</th>\n",
       "      <th>is_original_title</th>\n",
       "      <th>ordering_princ</th>\n",
       "      <th>averagerating</th>\n",
       "      <th>numvotes</th>\n",
       "      <th>id</th>\n",
       "      <th>popularity</th>\n",
       "      <th>vote_average</th>\n",
       "      <th>vote_count</th>\n",
       "    </tr>\n",
       "    <tr>\n",
       "      <th>tconst</th>\n",
       "      <th>title</th>\n",
       "      <th></th>\n",
       "      <th></th>\n",
       "      <th></th>\n",
       "      <th></th>\n",
       "      <th></th>\n",
       "      <th></th>\n",
       "      <th></th>\n",
       "      <th></th>\n",
       "      <th></th>\n",
       "      <th></th>\n",
       "      <th></th>\n",
       "    </tr>\n",
       "  </thead>\n",
       "  <tbody>\n",
       "    <tr>\n",
       "      <th>tt0063540</th>\n",
       "      <th>Sangharsh</th>\n",
       "      <td>2013.0</td>\n",
       "      <td>175.0</td>\n",
       "      <td>1.0</td>\n",
       "      <td>0.0</td>\n",
       "      <td>10.0</td>\n",
       "      <td>7.0</td>\n",
       "      <td>77.0</td>\n",
       "      <td>NaN</td>\n",
       "      <td>NaN</td>\n",
       "      <td>NaN</td>\n",
       "      <td>NaN</td>\n",
       "    </tr>\n",
       "    <tr>\n",
       "      <th>tt0066787</th>\n",
       "      <th>One Day Before the Rainy Season</th>\n",
       "      <td>2019.0</td>\n",
       "      <td>114.0</td>\n",
       "      <td>1.0</td>\n",
       "      <td>0.0</td>\n",
       "      <td>1.0</td>\n",
       "      <td>7.2</td>\n",
       "      <td>43.0</td>\n",
       "      <td>NaN</td>\n",
       "      <td>NaN</td>\n",
       "      <td>NaN</td>\n",
       "      <td>NaN</td>\n",
       "    </tr>\n",
       "    <tr>\n",
       "      <th>tt0069049</th>\n",
       "      <th>La otra cara del viento</th>\n",
       "      <td>2018.0</td>\n",
       "      <td>122.0</td>\n",
       "      <td>10.0</td>\n",
       "      <td>0.0</td>\n",
       "      <td>10.0</td>\n",
       "      <td>6.9</td>\n",
       "      <td>4517.0</td>\n",
       "      <td>299782.0</td>\n",
       "      <td>9.8</td>\n",
       "      <td>7.0</td>\n",
       "      <td>64.0</td>\n",
       "    </tr>\n",
       "    <tr>\n",
       "      <th>tt0069204</th>\n",
       "      <th>Subse Bada Sukh</th>\n",
       "      <td>2018.0</td>\n",
       "      <td>NaN</td>\n",
       "      <td>1.0</td>\n",
       "      <td>0.0</td>\n",
       "      <td>10.0</td>\n",
       "      <td>6.1</td>\n",
       "      <td>13.0</td>\n",
       "      <td>NaN</td>\n",
       "      <td>NaN</td>\n",
       "      <td>NaN</td>\n",
       "      <td>NaN</td>\n",
       "    </tr>\n",
       "    <tr>\n",
       "      <th>tt0100275</th>\n",
       "      <th>La Telenovela Errante</th>\n",
       "      <td>2017.0</td>\n",
       "      <td>80.0</td>\n",
       "      <td>1.0</td>\n",
       "      <td>1.0</td>\n",
       "      <td>10.0</td>\n",
       "      <td>6.5</td>\n",
       "      <td>119.0</td>\n",
       "      <td>NaN</td>\n",
       "      <td>NaN</td>\n",
       "      <td>NaN</td>\n",
       "      <td>NaN</td>\n",
       "    </tr>\n",
       "  </tbody>\n",
       "</table>\n",
       "</div>"
      ],
      "text/plain": [
       "                                           start_year  runtime_minutes  \\\n",
       "tconst    title                                                          \n",
       "tt0063540 Sangharsh                            2013.0            175.0   \n",
       "tt0066787 One Day Before the Rainy Season      2019.0            114.0   \n",
       "tt0069049 La otra cara del viento              2018.0            122.0   \n",
       "tt0069204 Subse Bada Sukh                      2018.0              NaN   \n",
       "tt0100275 La Telenovela Errante                2017.0             80.0   \n",
       "\n",
       "                                           ordering_akas  is_original_title  \\\n",
       "tconst    title                                                               \n",
       "tt0063540 Sangharsh                                  1.0                0.0   \n",
       "tt0066787 One Day Before the Rainy Season            1.0                0.0   \n",
       "tt0069049 La otra cara del viento                   10.0                0.0   \n",
       "tt0069204 Subse Bada Sukh                            1.0                0.0   \n",
       "tt0100275 La Telenovela Errante                      1.0                1.0   \n",
       "\n",
       "                                           ordering_princ  averagerating  \\\n",
       "tconst    title                                                            \n",
       "tt0063540 Sangharsh                                  10.0            7.0   \n",
       "tt0066787 One Day Before the Rainy Season             1.0            7.2   \n",
       "tt0069049 La otra cara del viento                    10.0            6.9   \n",
       "tt0069204 Subse Bada Sukh                            10.0            6.1   \n",
       "tt0100275 La Telenovela Errante                      10.0            6.5   \n",
       "\n",
       "                                           numvotes        id  popularity  \\\n",
       "tconst    title                                                             \n",
       "tt0063540 Sangharsh                            77.0       NaN         NaN   \n",
       "tt0066787 One Day Before the Rainy Season      43.0       NaN         NaN   \n",
       "tt0069049 La otra cara del viento            4517.0  299782.0         9.8   \n",
       "tt0069204 Subse Bada Sukh                      13.0       NaN         NaN   \n",
       "tt0100275 La Telenovela Errante               119.0       NaN         NaN   \n",
       "\n",
       "                                           vote_average  vote_count  \n",
       "tconst    title                                                      \n",
       "tt0063540 Sangharsh                                 NaN         NaN  \n",
       "tt0066787 One Day Before the Rainy Season           NaN         NaN  \n",
       "tt0069049 La otra cara del viento                   7.0        64.0  \n",
       "tt0069204 Subse Bada Sukh                           NaN         NaN  \n",
       "tt0100275 La Telenovela Errante                     NaN         NaN  "
      ]
     },
     "execution_count": 503,
     "metadata": {},
     "output_type": "execute_result"
    }
   ],
   "source": [
    "# By movie title\n",
    "def get_perc(grp_obj): # saw this on stack overflow, don't understand it\n",
    "    gr_size = grp_obj.size()\n",
    "    return gr_size / gr_size.sum()\n",
    "\n",
    "grouped_titles = imdb_master.groupby(by=['tconst', 'title']).mean()\n",
    "grouped_titles.head()"
   ]
  },
  {
   "cell_type": "code",
   "execution_count": 508,
   "metadata": {
    "scrolled": true
   },
   "outputs": [
    {
     "data": {
      "text/plain": [
       "2017.0    17504\n",
       "2016.0    17272\n",
       "2018.0    16849\n",
       "2015.0    16243\n",
       "2014.0    15589\n",
       "2013.0    14709\n",
       "2012.0    13787\n",
       "2011.0    12900\n",
       "2010.0    11849\n",
       "2019.0     8379\n",
       "2020.0      937\n",
       "2021.0       83\n",
       "Name: start_year, dtype: int64"
      ]
     },
     "execution_count": 508,
     "metadata": {},
     "output_type": "execute_result"
    }
   ],
   "source": [
    "imdb_master['start_year'].value_counts()"
   ]
  },
  {
   "cell_type": "markdown",
   "metadata": {},
   "source": [
    "## Creating imdb_master_money (with tnMovieBudgets)"
   ]
  },
  {
   "cell_type": "code",
   "execution_count": 360,
   "metadata": {},
   "outputs": [
    {
     "data": {
      "text/plain": [
       "Index(['id', 'movie', 'production_budget', 'domestic_gross', 'worldwide_gross',\n",
       "       'month_released', 'year', 'domestic_adj', 'worldwide_adj',\n",
       "       'budget_adj'],\n",
       "      dtype='object')"
      ]
     },
     "execution_count": 360,
     "metadata": {},
     "output_type": "execute_result"
    }
   ],
   "source": [
    "tnMovieBudgets.columns"
   ]
  },
  {
   "cell_type": "code",
   "execution_count": 361,
   "metadata": {},
   "outputs": [],
   "source": [
    "tnMovieBudgets.rename(mapper={'movie' : 'primary_title'}, axis=1, inplace=True)"
   ]
  },
  {
   "cell_type": "code",
   "execution_count": 534,
   "metadata": {},
   "outputs": [],
   "source": [
    "tnMoviesAdj = tnMovieBudgets[['primary_title', 'month_released', 'year', 'domestic_adj', 'worldwide_adj', 'budget_adj', 'total_gross']]"
   ]
  },
  {
   "cell_type": "code",
   "execution_count": 535,
   "metadata": {},
   "outputs": [],
   "source": [
    "imdb_master_money = pd.merge(imdb_master, tnMoviesAdj, on='primary_title')"
   ]
  },
  {
   "cell_type": "code",
   "execution_count": 536,
   "metadata": {},
   "outputs": [
    {
     "data": {
      "text/plain": [
       "False    3816\n",
       "Name: worldwide_adj, dtype: int64"
      ]
     },
     "execution_count": 536,
     "metadata": {},
     "output_type": "execute_result"
    }
   ],
   "source": [
    "# checking for NaNs\n",
    "imdb_master_money['worldwide_adj'].isna().value_counts()"
   ]
  },
  {
   "cell_type": "code",
   "execution_count": 537,
   "metadata": {},
   "outputs": [],
   "source": [
    "# fill NaN values with 'Unknown'\n",
    "imdb_master_money.fillna(value='Unknown', inplace=True)"
   ]
  },
  {
   "cell_type": "code",
   "execution_count": 538,
   "metadata": {},
   "outputs": [
    {
     "data": {
      "text/html": [
       "<div>\n",
       "<style scoped>\n",
       "    .dataframe tbody tr th:only-of-type {\n",
       "        vertical-align: middle;\n",
       "    }\n",
       "\n",
       "    .dataframe tbody tr th {\n",
       "        vertical-align: top;\n",
       "    }\n",
       "\n",
       "    .dataframe thead th {\n",
       "        text-align: right;\n",
       "    }\n",
       "</style>\n",
       "<table border=\"1\" class=\"dataframe\">\n",
       "  <thead>\n",
       "    <tr style=\"text-align: right;\">\n",
       "      <th></th>\n",
       "      <th>tconst</th>\n",
       "      <th>primary_title</th>\n",
       "      <th>original_title</th>\n",
       "      <th>start_year</th>\n",
       "      <th>runtime_minutes</th>\n",
       "      <th>genres</th>\n",
       "      <th>title_equal</th>\n",
       "      <th>ordering_akas</th>\n",
       "      <th>title</th>\n",
       "      <th>region</th>\n",
       "      <th>...</th>\n",
       "      <th>popularity</th>\n",
       "      <th>release_date</th>\n",
       "      <th>vote_average</th>\n",
       "      <th>vote_count</th>\n",
       "      <th>month_released</th>\n",
       "      <th>year</th>\n",
       "      <th>domestic_adj</th>\n",
       "      <th>worldwide_adj</th>\n",
       "      <th>budget_adj</th>\n",
       "      <th>total_gross</th>\n",
       "    </tr>\n",
       "  </thead>\n",
       "  <tbody>\n",
       "    <tr>\n",
       "      <th>0</th>\n",
       "      <td>tt0249516</td>\n",
       "      <td>Foodfight!</td>\n",
       "      <td>Foodfight!</td>\n",
       "      <td>2012</td>\n",
       "      <td>91</td>\n",
       "      <td>Action,Animation,Comedy</td>\n",
       "      <td>True</td>\n",
       "      <td>10</td>\n",
       "      <td>Foodfight!</td>\n",
       "      <td>FI</td>\n",
       "      <td>...</td>\n",
       "      <td>4.705</td>\n",
       "      <td>2013-05-07</td>\n",
       "      <td>2.1</td>\n",
       "      <td>46</td>\n",
       "      <td>12</td>\n",
       "      <td>2012</td>\n",
       "      <td>0.000000e+00</td>\n",
       "      <td>8.308546e+04</td>\n",
       "      <td>5.072648e+07</td>\n",
       "      <td>8.308546e+04</td>\n",
       "    </tr>\n",
       "    <tr>\n",
       "      <th>1</th>\n",
       "      <td>tt0293429</td>\n",
       "      <td>Mortal Kombat</td>\n",
       "      <td>Mortal Kombat</td>\n",
       "      <td>2021</td>\n",
       "      <td>Unknown</td>\n",
       "      <td>Action,Adventure,Fantasy</td>\n",
       "      <td>True</td>\n",
       "      <td>1</td>\n",
       "      <td>Mortal Kombat</td>\n",
       "      <td>Unknown</td>\n",
       "      <td>...</td>\n",
       "      <td>Unknown</td>\n",
       "      <td>Unknown</td>\n",
       "      <td>Unknown</td>\n",
       "      <td>Unknown</td>\n",
       "      <td>8</td>\n",
       "      <td>1995</td>\n",
       "      <td>1.196122e+08</td>\n",
       "      <td>2.074109e+08</td>\n",
       "      <td>3.396470e+07</td>\n",
       "      <td>3.270231e+08</td>\n",
       "    </tr>\n",
       "    <tr>\n",
       "      <th>3</th>\n",
       "      <td>tt3844362</td>\n",
       "      <td>The Overnight</td>\n",
       "      <td>The Overnight</td>\n",
       "      <td>2015</td>\n",
       "      <td>79</td>\n",
       "      <td>Comedy,Mystery</td>\n",
       "      <td>True</td>\n",
       "      <td>10</td>\n",
       "      <td>Éjjeli találkozó</td>\n",
       "      <td>HU</td>\n",
       "      <td>...</td>\n",
       "      <td>6.576</td>\n",
       "      <td>2015-06-19</td>\n",
       "      <td>6</td>\n",
       "      <td>200</td>\n",
       "      <td>6</td>\n",
       "      <td>2015</td>\n",
       "      <td>1.211856e+06</td>\n",
       "      <td>1.273211e+06</td>\n",
       "      <td>2.183902e+05</td>\n",
       "      <td>2.485067e+06</td>\n",
       "    </tr>\n",
       "    <tr>\n",
       "      <th>4</th>\n",
       "      <td>tt0337692</td>\n",
       "      <td>On the Road</td>\n",
       "      <td>On the Road</td>\n",
       "      <td>2012</td>\n",
       "      <td>124</td>\n",
       "      <td>Adventure,Drama,Romance</td>\n",
       "      <td>True</td>\n",
       "      <td>10</td>\n",
       "      <td>En el camino</td>\n",
       "      <td>AR</td>\n",
       "      <td>...</td>\n",
       "      <td>8.919</td>\n",
       "      <td>2012-12-21</td>\n",
       "      <td>5.6</td>\n",
       "      <td>518</td>\n",
       "      <td>3</td>\n",
       "      <td>2013</td>\n",
       "      <td>8.008268e+05</td>\n",
       "      <td>1.034691e+07</td>\n",
       "      <td>2.777455e+07</td>\n",
       "      <td>1.114774e+07</td>\n",
       "    </tr>\n",
       "    <tr>\n",
       "      <th>5</th>\n",
       "      <td>tt2404548</td>\n",
       "      <td>On the Road</td>\n",
       "      <td>On the Road</td>\n",
       "      <td>2011</td>\n",
       "      <td>90</td>\n",
       "      <td>Drama</td>\n",
       "      <td>True</td>\n",
       "      <td>1</td>\n",
       "      <td>On the Road</td>\n",
       "      <td>AM</td>\n",
       "      <td>...</td>\n",
       "      <td>8.919</td>\n",
       "      <td>2012-12-21</td>\n",
       "      <td>5.6</td>\n",
       "      <td>518</td>\n",
       "      <td>3</td>\n",
       "      <td>2013</td>\n",
       "      <td>8.008268e+05</td>\n",
       "      <td>1.034691e+07</td>\n",
       "      <td>2.777455e+07</td>\n",
       "      <td>1.114774e+07</td>\n",
       "    </tr>\n",
       "    <tr>\n",
       "      <th>...</th>\n",
       "      <td>...</td>\n",
       "      <td>...</td>\n",
       "      <td>...</td>\n",
       "      <td>...</td>\n",
       "      <td>...</td>\n",
       "      <td>...</td>\n",
       "      <td>...</td>\n",
       "      <td>...</td>\n",
       "      <td>...</td>\n",
       "      <td>...</td>\n",
       "      <td>...</td>\n",
       "      <td>...</td>\n",
       "      <td>...</td>\n",
       "      <td>...</td>\n",
       "      <td>...</td>\n",
       "      <td>...</td>\n",
       "      <td>...</td>\n",
       "      <td>...</td>\n",
       "      <td>...</td>\n",
       "      <td>...</td>\n",
       "      <td>...</td>\n",
       "    </tr>\n",
       "    <tr>\n",
       "      <th>3810</th>\n",
       "      <td>tt9678962</td>\n",
       "      <td>Fuel</td>\n",
       "      <td>Fuel</td>\n",
       "      <td>2018</td>\n",
       "      <td>Unknown</td>\n",
       "      <td>Documentary,Sport</td>\n",
       "      <td>True</td>\n",
       "      <td>Unknown</td>\n",
       "      <td>Unknown</td>\n",
       "      <td>Unknown</td>\n",
       "      <td>...</td>\n",
       "      <td>Unknown</td>\n",
       "      <td>Unknown</td>\n",
       "      <td>Unknown</td>\n",
       "      <td>Unknown</td>\n",
       "      <td>11</td>\n",
       "      <td>2008</td>\n",
       "      <td>2.094681e+05</td>\n",
       "      <td>2.094681e+05</td>\n",
       "      <td>3.005195e+06</td>\n",
       "      <td>4.189362e+05</td>\n",
       "    </tr>\n",
       "    <tr>\n",
       "      <th>3811</th>\n",
       "      <td>tt9729206</td>\n",
       "      <td>Diner</td>\n",
       "      <td>Diner</td>\n",
       "      <td>2019</td>\n",
       "      <td>Unknown</td>\n",
       "      <td>Crime</td>\n",
       "      <td>True</td>\n",
       "      <td>Unknown</td>\n",
       "      <td>Unknown</td>\n",
       "      <td>Unknown</td>\n",
       "      <td>...</td>\n",
       "      <td>Unknown</td>\n",
       "      <td>Unknown</td>\n",
       "      <td>Unknown</td>\n",
       "      <td>Unknown</td>\n",
       "      <td>4</td>\n",
       "      <td>1982</td>\n",
       "      <td>3.377392e+07</td>\n",
       "      <td>3.377392e+07</td>\n",
       "      <td>1.340990e+07</td>\n",
       "      <td>6.754783e+07</td>\n",
       "    </tr>\n",
       "    <tr>\n",
       "      <th>3812</th>\n",
       "      <td>tt9805168</td>\n",
       "      <td>Traitor</td>\n",
       "      <td>Traitor</td>\n",
       "      <td>2015</td>\n",
       "      <td>110</td>\n",
       "      <td>Action,Drama,Romance</td>\n",
       "      <td>True</td>\n",
       "      <td>Unknown</td>\n",
       "      <td>Unknown</td>\n",
       "      <td>Unknown</td>\n",
       "      <td>...</td>\n",
       "      <td>Unknown</td>\n",
       "      <td>Unknown</td>\n",
       "      <td>Unknown</td>\n",
       "      <td>Unknown</td>\n",
       "      <td>8</td>\n",
       "      <td>2008</td>\n",
       "      <td>2.828589e+07</td>\n",
       "      <td>3.351661e+07</td>\n",
       "      <td>2.644572e+07</td>\n",
       "      <td>6.180250e+07</td>\n",
       "    </tr>\n",
       "    <tr>\n",
       "      <th>3813</th>\n",
       "      <td>tt9844102</td>\n",
       "      <td>Ray</td>\n",
       "      <td>Ray</td>\n",
       "      <td>2018</td>\n",
       "      <td>111</td>\n",
       "      <td>Crime</td>\n",
       "      <td>True</td>\n",
       "      <td>Unknown</td>\n",
       "      <td>Unknown</td>\n",
       "      <td>Unknown</td>\n",
       "      <td>...</td>\n",
       "      <td>Unknown</td>\n",
       "      <td>Unknown</td>\n",
       "      <td>Unknown</td>\n",
       "      <td>Unknown</td>\n",
       "      <td>10</td>\n",
       "      <td>2004</td>\n",
       "      <td>1.031764e+08</td>\n",
       "      <td>1.710195e+08</td>\n",
       "      <td>5.480381e+07</td>\n",
       "      <td>2.741959e+08</td>\n",
       "    </tr>\n",
       "    <tr>\n",
       "      <th>3814</th>\n",
       "      <td>tt9893078</td>\n",
       "      <td>Sublime</td>\n",
       "      <td>Sublime</td>\n",
       "      <td>2019</td>\n",
       "      <td>Unknown</td>\n",
       "      <td>Documentary</td>\n",
       "      <td>True</td>\n",
       "      <td>Unknown</td>\n",
       "      <td>Unknown</td>\n",
       "      <td>Unknown</td>\n",
       "      <td>...</td>\n",
       "      <td>Unknown</td>\n",
       "      <td>Unknown</td>\n",
       "      <td>Unknown</td>\n",
       "      <td>Unknown</td>\n",
       "      <td>3</td>\n",
       "      <td>2007</td>\n",
       "      <td>0.000000e+00</td>\n",
       "      <td>0.000000e+00</td>\n",
       "      <td>2.246818e+06</td>\n",
       "      <td>0.000000e+00</td>\n",
       "    </tr>\n",
       "  </tbody>\n",
       "</table>\n",
       "<p>3743 rows × 35 columns</p>\n",
       "</div>"
      ],
      "text/plain": [
       "         tconst  primary_title original_title start_year runtime_minutes  \\\n",
       "0     tt0249516     Foodfight!     Foodfight!       2012              91   \n",
       "1     tt0293429  Mortal Kombat  Mortal Kombat       2021         Unknown   \n",
       "3     tt3844362  The Overnight  The Overnight       2015              79   \n",
       "4     tt0337692    On the Road    On the Road       2012             124   \n",
       "5     tt2404548    On the Road    On the Road       2011              90   \n",
       "...         ...            ...            ...        ...             ...   \n",
       "3810  tt9678962           Fuel           Fuel       2018         Unknown   \n",
       "3811  tt9729206          Diner          Diner       2019         Unknown   \n",
       "3812  tt9805168        Traitor        Traitor       2015             110   \n",
       "3813  tt9844102            Ray            Ray       2018             111   \n",
       "3814  tt9893078        Sublime        Sublime       2019         Unknown   \n",
       "\n",
       "                        genres title_equal ordering_akas             title  \\\n",
       "0      Action,Animation,Comedy        True            10        Foodfight!   \n",
       "1     Action,Adventure,Fantasy        True             1     Mortal Kombat   \n",
       "3               Comedy,Mystery        True            10  Éjjeli találkozó   \n",
       "4      Adventure,Drama,Romance        True            10      En el camino   \n",
       "5                        Drama        True             1       On the Road   \n",
       "...                        ...         ...           ...               ...   \n",
       "3810         Documentary,Sport        True       Unknown           Unknown   \n",
       "3811                     Crime        True       Unknown           Unknown   \n",
       "3812      Action,Drama,Romance        True       Unknown           Unknown   \n",
       "3813                     Crime        True       Unknown           Unknown   \n",
       "3814               Documentary        True       Unknown           Unknown   \n",
       "\n",
       "       region  ... popularity release_date vote_average vote_count  \\\n",
       "0          FI  ...      4.705   2013-05-07          2.1         46   \n",
       "1     Unknown  ...    Unknown      Unknown      Unknown    Unknown   \n",
       "3          HU  ...      6.576   2015-06-19            6        200   \n",
       "4          AR  ...      8.919   2012-12-21          5.6        518   \n",
       "5          AM  ...      8.919   2012-12-21          5.6        518   \n",
       "...       ...  ...        ...          ...          ...        ...   \n",
       "3810  Unknown  ...    Unknown      Unknown      Unknown    Unknown   \n",
       "3811  Unknown  ...    Unknown      Unknown      Unknown    Unknown   \n",
       "3812  Unknown  ...    Unknown      Unknown      Unknown    Unknown   \n",
       "3813  Unknown  ...    Unknown      Unknown      Unknown    Unknown   \n",
       "3814  Unknown  ...    Unknown      Unknown      Unknown    Unknown   \n",
       "\n",
       "     month_released  year  domestic_adj worldwide_adj    budget_adj  \\\n",
       "0                12  2012  0.000000e+00  8.308546e+04  5.072648e+07   \n",
       "1                 8  1995  1.196122e+08  2.074109e+08  3.396470e+07   \n",
       "3                 6  2015  1.211856e+06  1.273211e+06  2.183902e+05   \n",
       "4                 3  2013  8.008268e+05  1.034691e+07  2.777455e+07   \n",
       "5                 3  2013  8.008268e+05  1.034691e+07  2.777455e+07   \n",
       "...             ...   ...           ...           ...           ...   \n",
       "3810             11  2008  2.094681e+05  2.094681e+05  3.005195e+06   \n",
       "3811              4  1982  3.377392e+07  3.377392e+07  1.340990e+07   \n",
       "3812              8  2008  2.828589e+07  3.351661e+07  2.644572e+07   \n",
       "3813             10  2004  1.031764e+08  1.710195e+08  5.480381e+07   \n",
       "3814              3  2007  0.000000e+00  0.000000e+00  2.246818e+06   \n",
       "\n",
       "       total_gross  \n",
       "0     8.308546e+04  \n",
       "1     3.270231e+08  \n",
       "3     2.485067e+06  \n",
       "4     1.114774e+07  \n",
       "5     1.114774e+07  \n",
       "...            ...  \n",
       "3810  4.189362e+05  \n",
       "3811  6.754783e+07  \n",
       "3812  6.180250e+07  \n",
       "3813  2.741959e+08  \n",
       "3814  0.000000e+00  \n",
       "\n",
       "[3743 rows x 35 columns]"
      ]
     },
     "execution_count": 538,
     "metadata": {},
     "output_type": "execute_result"
    }
   ],
   "source": [
    "imdb_master_money[(imdb_master_money['budget_adj']!='Unknown')&(imdb_master_money['genres']!='Unknown')]"
   ]
  },
  {
   "cell_type": "markdown",
   "metadata": {},
   "source": [
    "### Let's talk about genre ( grouping movies by genre )"
   ]
  },
  {
   "cell_type": "code",
   "execution_count": 539,
   "metadata": {},
   "outputs": [
    {
     "data": {
      "text/plain": [
       "'Adventure,Drama,Romance'"
      ]
     },
     "execution_count": 539,
     "metadata": {},
     "output_type": "execute_result"
    }
   ],
   "source": [
    "# need to convert genres to list\n",
    "imdb_master_money['genres'][4]"
   ]
  },
  {
   "cell_type": "code",
   "execution_count": 540,
   "metadata": {},
   "outputs": [],
   "source": [
    "imdb_master_money['genres'] = imdb_master_money['genres'].apply(\n",
    "    lambda x: x.split(',') if (',' in x) else ([x] if (x != 'Unknown') else x)\n",
    "    )\n"
   ]
  },
  {
   "cell_type": "code",
   "execution_count": 541,
   "metadata": {
    "scrolled": true
   },
   "outputs": [
    {
     "data": {
      "text/plain": [
       "0        [Action, Animation, Comedy]\n",
       "1       [Action, Adventure, Fantasy]\n",
       "2                            Unknown\n",
       "3                  [Comedy, Mystery]\n",
       "4        [Adventure, Drama, Romance]\n",
       "                    ...             \n",
       "3811                         [Crime]\n",
       "3812        [Action, Drama, Romance]\n",
       "3813                         [Crime]\n",
       "3814                   [Documentary]\n",
       "3815                         Unknown\n",
       "Name: genres, Length: 3816, dtype: object"
      ]
     },
     "execution_count": 541,
     "metadata": {},
     "output_type": "execute_result"
    }
   ],
   "source": [
    "imdb_master_money['genres']"
   ]
  },
  {
   "cell_type": "code",
   "execution_count": 542,
   "metadata": {
    "scrolled": false
   },
   "outputs": [
    {
     "data": {
      "text/plain": [
       "['Action',\n",
       " 'Animation',\n",
       " 'Comedy',\n",
       " 'Adventure',\n",
       " 'Fantasy',\n",
       " 'Mystery',\n",
       " 'Drama',\n",
       " 'Romance',\n",
       " 'Documentary',\n",
       " 'Crime',\n",
       " 'Sci-Fi',\n",
       " 'Family',\n",
       " 'Thriller',\n",
       " 'Horror',\n",
       " 'Biography',\n",
       " 'History',\n",
       " 'News',\n",
       " 'War',\n",
       " 'Sport',\n",
       " 'Music',\n",
       " 'Musical',\n",
       " 'Western',\n",
       " 'Reality-TV']"
      ]
     },
     "execution_count": 542,
     "metadata": {},
     "output_type": "execute_result"
    }
   ],
   "source": [
    "# let's find all the different genres\n",
    "genres = []\n",
    "for movie in imdb_master_money['genres']:\n",
    "    if type(movie)==list:\n",
    "        for genre in movie:\n",
    "            if genre not in genres:\n",
    "                genres.append(genre)\n",
    "                \n",
    "genres"
   ]
  },
  {
   "cell_type": "code",
   "execution_count": 543,
   "metadata": {},
   "outputs": [
    {
     "data": {
      "text/plain": [
       "23"
      ]
     },
     "execution_count": 543,
     "metadata": {},
     "output_type": "execute_result"
    }
   ],
   "source": [
    "len(genres)"
   ]
  },
  {
   "cell_type": "code",
   "execution_count": 544,
   "metadata": {},
   "outputs": [],
   "source": [
    "# create a dictionary pairing each genre with the DataFrame of movies that are classified as that genre\n",
    "\n",
    "genre_dict = {}\n",
    "\n",
    "# a function to determine whether or not a movie's genre column contains a given genre-- add docstring later\n",
    "def genre_contained(genre, df):\n",
    "    index_list = []\n",
    "    truth_teller = 'None'\n",
    "    ctr = 0\n",
    "    for row in df['genres']:\n",
    "        if type(row) == list:\n",
    "            for i in row:\n",
    "                #print(row)\n",
    "                if i == genre:\n",
    "                    truth_teller = True\n",
    "                    index_list.append(ctr) # should i add continue here\n",
    "                    #print(truth_teller)\n",
    "                else:\n",
    "                    truth_teller = False\n",
    "                    #print(truth_teller)\n",
    "        ctr += 1\n",
    "    return index_list\n",
    "                  \n",
    "# genre_contained(genres[0], imdb_master_money) --> a test"
   ]
  },
  {
   "cell_type": "code",
   "execution_count": 545,
   "metadata": {},
   "outputs": [],
   "source": [
    "for genre in genres:\n",
    "    genre_dict[genre] = imdb_master_money.iloc[genre_contained(genre, imdb_master_money)]"
   ]
  },
  {
   "cell_type": "code",
   "execution_count": 517,
   "metadata": {
    "scrolled": true
   },
   "outputs": [
    {
     "data": {
      "text/html": [
       "<div>\n",
       "<style scoped>\n",
       "    .dataframe tbody tr th:only-of-type {\n",
       "        vertical-align: middle;\n",
       "    }\n",
       "\n",
       "    .dataframe tbody tr th {\n",
       "        vertical-align: top;\n",
       "    }\n",
       "\n",
       "    .dataframe thead th {\n",
       "        text-align: right;\n",
       "    }\n",
       "</style>\n",
       "<table border=\"1\" class=\"dataframe\">\n",
       "  <thead>\n",
       "    <tr style=\"text-align: right;\">\n",
       "      <th></th>\n",
       "      <th>tconst</th>\n",
       "      <th>primary_title</th>\n",
       "      <th>original_title</th>\n",
       "      <th>start_year</th>\n",
       "      <th>runtime_minutes</th>\n",
       "      <th>genres</th>\n",
       "      <th>title_equal</th>\n",
       "      <th>ordering_akas</th>\n",
       "      <th>title</th>\n",
       "      <th>region</th>\n",
       "      <th>...</th>\n",
       "      <th>id</th>\n",
       "      <th>popularity</th>\n",
       "      <th>release_date</th>\n",
       "      <th>vote_average</th>\n",
       "      <th>vote_count</th>\n",
       "      <th>month_released</th>\n",
       "      <th>year</th>\n",
       "      <th>domestic_adj</th>\n",
       "      <th>worldwide_adj</th>\n",
       "      <th>budget_adj</th>\n",
       "    </tr>\n",
       "  </thead>\n",
       "  <tbody>\n",
       "    <tr>\n",
       "      <th>1</th>\n",
       "      <td>tt0293429</td>\n",
       "      <td>Mortal Kombat</td>\n",
       "      <td>Mortal Kombat</td>\n",
       "      <td>2021</td>\n",
       "      <td>Unknown</td>\n",
       "      <td>[Action, Adventure, Fantasy]</td>\n",
       "      <td>True</td>\n",
       "      <td>1</td>\n",
       "      <td>Mortal Kombat</td>\n",
       "      <td>Unknown</td>\n",
       "      <td>...</td>\n",
       "      <td>Unknown</td>\n",
       "      <td>Unknown</td>\n",
       "      <td>Unknown</td>\n",
       "      <td>Unknown</td>\n",
       "      <td>Unknown</td>\n",
       "      <td>8</td>\n",
       "      <td>1995</td>\n",
       "      <td>1.196122e+08</td>\n",
       "      <td>2.074109e+08</td>\n",
       "      <td>3.396470e+07</td>\n",
       "    </tr>\n",
       "    <tr>\n",
       "      <th>2</th>\n",
       "      <td>tt0326592</td>\n",
       "      <td>The Overnight</td>\n",
       "      <td>The Overnight</td>\n",
       "      <td>2010</td>\n",
       "      <td>88</td>\n",
       "      <td>Unknown</td>\n",
       "      <td>True</td>\n",
       "      <td>1</td>\n",
       "      <td>A Bellman, a Hooker, and a Rabbi...</td>\n",
       "      <td>US</td>\n",
       "      <td>...</td>\n",
       "      <td>308024</td>\n",
       "      <td>6.576</td>\n",
       "      <td>2015-06-19</td>\n",
       "      <td>6</td>\n",
       "      <td>200</td>\n",
       "      <td>6</td>\n",
       "      <td>2015</td>\n",
       "      <td>1.211856e+06</td>\n",
       "      <td>1.273211e+06</td>\n",
       "      <td>2.183902e+05</td>\n",
       "    </tr>\n",
       "    <tr>\n",
       "      <th>4</th>\n",
       "      <td>tt0337692</td>\n",
       "      <td>On the Road</td>\n",
       "      <td>On the Road</td>\n",
       "      <td>2012</td>\n",
       "      <td>124</td>\n",
       "      <td>[Adventure, Drama, Romance]</td>\n",
       "      <td>True</td>\n",
       "      <td>10</td>\n",
       "      <td>En el camino</td>\n",
       "      <td>AR</td>\n",
       "      <td>...</td>\n",
       "      <td>83770</td>\n",
       "      <td>8.919</td>\n",
       "      <td>2012-12-21</td>\n",
       "      <td>5.6</td>\n",
       "      <td>518</td>\n",
       "      <td>3</td>\n",
       "      <td>2013</td>\n",
       "      <td>8.008268e+05</td>\n",
       "      <td>1.034691e+07</td>\n",
       "      <td>2.777455e+07</td>\n",
       "    </tr>\n",
       "    <tr>\n",
       "      <th>5</th>\n",
       "      <td>tt2404548</td>\n",
       "      <td>On the Road</td>\n",
       "      <td>On the Road</td>\n",
       "      <td>2011</td>\n",
       "      <td>90</td>\n",
       "      <td>[Drama]</td>\n",
       "      <td>True</td>\n",
       "      <td>1</td>\n",
       "      <td>On the Road</td>\n",
       "      <td>AM</td>\n",
       "      <td>...</td>\n",
       "      <td>83770</td>\n",
       "      <td>8.919</td>\n",
       "      <td>2012-12-21</td>\n",
       "      <td>5.6</td>\n",
       "      <td>518</td>\n",
       "      <td>3</td>\n",
       "      <td>2013</td>\n",
       "      <td>8.008268e+05</td>\n",
       "      <td>1.034691e+07</td>\n",
       "      <td>2.777455e+07</td>\n",
       "    </tr>\n",
       "    <tr>\n",
       "      <th>7</th>\n",
       "      <td>tt4339118</td>\n",
       "      <td>On the Road</td>\n",
       "      <td>On the Road</td>\n",
       "      <td>2014</td>\n",
       "      <td>89</td>\n",
       "      <td>[Drama]</td>\n",
       "      <td>True</td>\n",
       "      <td>1</td>\n",
       "      <td>Wo zai lu shang zui ai ni</td>\n",
       "      <td>CN</td>\n",
       "      <td>...</td>\n",
       "      <td>83770</td>\n",
       "      <td>8.919</td>\n",
       "      <td>2012-12-21</td>\n",
       "      <td>5.6</td>\n",
       "      <td>518</td>\n",
       "      <td>3</td>\n",
       "      <td>2013</td>\n",
       "      <td>8.008268e+05</td>\n",
       "      <td>1.034691e+07</td>\n",
       "      <td>2.777455e+07</td>\n",
       "    </tr>\n",
       "  </tbody>\n",
       "</table>\n",
       "<p>5 rows × 34 columns</p>\n",
       "</div>"
      ],
      "text/plain": [
       "      tconst  primary_title original_title start_year runtime_minutes  \\\n",
       "1  tt0293429  Mortal Kombat  Mortal Kombat       2021         Unknown   \n",
       "2  tt0326592  The Overnight  The Overnight       2010              88   \n",
       "4  tt0337692    On the Road    On the Road       2012             124   \n",
       "5  tt2404548    On the Road    On the Road       2011              90   \n",
       "7  tt4339118    On the Road    On the Road       2014              89   \n",
       "\n",
       "                         genres title_equal ordering_akas  \\\n",
       "1  [Action, Adventure, Fantasy]        True             1   \n",
       "2                       Unknown        True             1   \n",
       "4   [Adventure, Drama, Romance]        True            10   \n",
       "5                       [Drama]        True             1   \n",
       "7                       [Drama]        True             1   \n",
       "\n",
       "                                 title   region  ...       id popularity  \\\n",
       "1                        Mortal Kombat  Unknown  ...  Unknown    Unknown   \n",
       "2  A Bellman, a Hooker, and a Rabbi...       US  ...   308024      6.576   \n",
       "4                         En el camino       AR  ...    83770      8.919   \n",
       "5                          On the Road       AM  ...    83770      8.919   \n",
       "7            Wo zai lu shang zui ai ni       CN  ...    83770      8.919   \n",
       "\n",
       "  release_date vote_average vote_count month_released  year  domestic_adj  \\\n",
       "1      Unknown      Unknown    Unknown              8  1995  1.196122e+08   \n",
       "2   2015-06-19            6        200              6  2015  1.211856e+06   \n",
       "4   2012-12-21          5.6        518              3  2013  8.008268e+05   \n",
       "5   2012-12-21          5.6        518              3  2013  8.008268e+05   \n",
       "7   2012-12-21          5.6        518              3  2013  8.008268e+05   \n",
       "\n",
       "  worldwide_adj    budget_adj  \n",
       "1  2.074109e+08  3.396470e+07  \n",
       "2  1.273211e+06  2.183902e+05  \n",
       "4  1.034691e+07  2.777455e+07  \n",
       "5  1.034691e+07  2.777455e+07  \n",
       "7  1.034691e+07  2.777455e+07  \n",
       "\n",
       "[5 rows x 34 columns]"
      ]
     },
     "execution_count": 517,
     "metadata": {},
     "output_type": "execute_result"
    }
   ],
   "source": [
    "# Determine which year data to use\n",
    "imdb_master_money[imdb_master_money['start_year']!=imdb_master_money['year']].head()"
   ]
  },
  {
   "cell_type": "code",
   "execution_count": 499,
   "metadata": {},
   "outputs": [
    {
     "data": {
      "text/plain": [
       "0.12762054507337525"
      ]
     },
     "execution_count": 499,
     "metadata": {},
     "output_type": "execute_result"
    }
   ],
   "source": [
    "imdb_master_money['year'][imdb_master_money['year']<2000].value_counts().sum() / imdb_master_money['year'].value_counts().sum()\n",
    "\n"
   ]
  },
  {
   "cell_type": "markdown",
   "metadata": {},
   "source": [
    "# Graphs"
   ]
  },
  {
   "cell_type": "code",
   "execution_count": null,
   "metadata": {},
   "outputs": [],
   "source": [
    "# SOME HELPFUL FUNCS:"
   ]
  },
  {
   "cell_type": "code",
   "execution_count": 602,
   "metadata": {},
   "outputs": [
    {
     "data": {
      "text/plain": [
       "'1'"
      ]
     },
     "execution_count": 602,
     "metadata": {},
     "output_type": "execute_result"
    }
   ],
   "source": [
    "dicty = {'1':'a', '2':'b', '3':'c'}\n",
    "dicty = list(dicty.keys())"
   ]
  },
  {
   "cell_type": "code",
   "execution_count": 692,
   "metadata": {},
   "outputs": [],
   "source": [
    "# for determining if prime number - returns original or modified number\n",
    "def un_prime(amount):\n",
    "    if amount > 7:\n",
    "        for i in range(2,amount):\n",
    "            if (amount % i) == 0:\n",
    "                return amount\n",
    "            else:\n",
    "                amount = amount+1\n",
    "                if (amount % i) == 0:\n",
    "                    return amount\n",
    "    else:    \n",
    "        print(\"Error: amount must be larger than 7\")"
   ]
  },
  {
   "cell_type": "code",
   "execution_count": 698,
   "metadata": {},
   "outputs": [],
   "source": [
    "un_prime(11)"
   ]
  },
  {
   "cell_type": "code",
   "execution_count": 687,
   "metadata": {},
   "outputs": [],
   "source": [
    "# for calculation differences between factors\n",
    "def diff_calc(amount):\n",
    "    factor2 = []\n",
    "    factor1 = []\n",
    "    factor_diffs = []\n",
    "    for i in range(1, amount + 1):\n",
    "        if amount % i == 0:\n",
    "            factor1.append(i)\n",
    "            factor2.append(amount // i)\n",
    "\n",
    "    for i in range(0, len(factor1)):\n",
    "        factor_diffs.append(abs(factor2[i] - factor1[i]))\n",
    "\n",
    "    return {'min_diff': min(factor_diffs), 'amount': amount, 'factor1': factor1, 'factor2':factor2, 'factor_diffs':factor_diffs, 'under_5': (min(factor_diffs) < 5)}\n",
    "\n"
   ]
  },
  {
   "cell_type": "code",
   "execution_count": 707,
   "metadata": {},
   "outputs": [
    {
     "data": {
      "text/plain": [
       "{'min_diff': 9,\n",
       " 'amount': 22,\n",
       " 'factor1': [1, 2, 11, 22],\n",
       " 'factor2': [22, 11, 2, 1],\n",
       " 'factor_diffs': [21, 9, 9, 21],\n",
       " 'under_5': False}"
      ]
     },
     "execution_count": 707,
     "metadata": {},
     "output_type": "execute_result"
    }
   ],
   "source": [
    "diff_calc(un_prime(22))"
   ]
  },
  {
   "cell_type": "code",
   "execution_count": 708,
   "metadata": {},
   "outputs": [],
   "source": [
    "# for keeping min difference under 5 - changes amount until min-differences < 5\n",
    "def diff_under_5(info_dict):\n",
    "    while info_dict['under_5'] == False:\n",
    "        print(\"we're starting with\", info_dict['amount'])\n",
    "        print('another iteration')\n",
    "        info_dict['amount'] = info_dict['amount'] + 1\n",
    "        print(info_dict['amount'])\n",
    "        info_dict = diff_calc(info_dict['amount'])\n",
    "    return info_dict\n",
    "            \n",
    "            \n",
    "            "
   ]
  },
  {
   "cell_type": "code",
   "execution_count": 742,
   "metadata": {},
   "outputs": [
    {
     "data": {
      "text/plain": [
       "{'min_diff': 2,\n",
       " 'amount': 24,\n",
       " 'factor1': [1, 2, 3, 4, 6, 8, 12, 24],\n",
       " 'factor2': [24, 12, 8, 6, 4, 3, 2, 1],\n",
       " 'factor_diffs': [23, 10, 5, 2, 2, 5, 10, 23],\n",
       " 'under_5': True}"
      ]
     },
     "execution_count": 742,
     "metadata": {},
     "output_type": "execute_result"
    }
   ],
   "source": [
    "test_dict = diff_under_5(diff_calc(un_prime(23)))\n",
    "test_dict"
   ]
  },
  {
   "cell_type": "code",
   "execution_count": 743,
   "metadata": {},
   "outputs": [],
   "source": [
    "# for determining the shape of subplot matrix: returns shape as [rows, cols]\n",
    "def nRowCol(info_dict):\n",
    "    shape = []\n",
    "    \n",
    "    for i in range(0, len(info_dict['factor_diffs'])):\n",
    "        if info_dict['factor_diffs'][i] == info_dict['min_diff']:\n",
    "            if info_dict['factor1'][i] >= info_dict['factor2'][i]:\n",
    "                if (info_dict['factor1'][i] / info_dict['factor2'][i]) > 5:\n",
    "                    info_dict['row'] = info_dict['factor2'][i]\n",
    "                    info_dict['column'] = info_dict['factor1'][i]\n",
    "                    return [info_dict['row'], info_dict['column']]\n",
    "                else:\n",
    "                    info_dict['row'] = info_dict['factor1'][i]\n",
    "                    info_dict['column'] = info_dict['factor2'][i]\n",
    "                    return [info_dict['row'], info_dict['column']]\n",
    "            else:\n",
    "                if (info_dict['factor1'][i] / info_dict['factor2'][i]) > 5:\n",
    "                    info_dict['row'] = info_dict['factor2'][i]\n",
    "                    info_dict['column'] = info_dict['factor1'][i]\n",
    "                    return [info_dict['row'], info_dict['column']]\n",
    "                else:\n",
    "                    info_dict['row'] = info_dict['factor1'][i]\n",
    "                    info_dict['column'] = info_dict['factor2'][i]\n",
    "                    return [info_dict['row'], info_dict['column']]"
   ]
  },
  {
   "cell_type": "markdown",
   "metadata": {},
   "source": [
    "**Graphing most popular genres**"
   ]
  },
  {
   "cell_type": "code",
   "execution_count": 166,
   "metadata": {
    "scrolled": true
   },
   "outputs": [
    {
     "name": "stderr",
     "output_type": "stream",
     "text": [
      "<ipython-input-166-47a97df911ec>:12: UserWarning: FixedFormatter should only be used together with FixedLocator\n",
      "  ax1.set_xticklabels(top_genre_ct_names, rotation = 45)\n",
      "<ipython-input-166-47a97df911ec>:13: UserWarning: FixedFormatter should only be used together with FixedLocator\n",
      "  ax2.set_xticklabels(most_popular_names, rotation = 45)\n"
     ]
    },
    {
     "data": {
      "text/plain": [
       "Text(0.5, 1.0, 'Most Popular Genres by IMDB Popularity Rating')"
      ]
     },
     "execution_count": 166,
     "metadata": {},
     "output_type": "execute_result"
    },
    {
     "data": {
      "image/png": "[encoded data removed]",
      "text/plain": [
       "<Figure size 1152x432 with 2 Axes>"
      ]
     },
     "metadata": {
      "needs_background": "light"
     },
     "output_type": "display_data"
    }
   ],
   "source": [
    "popular_genres1, (ax1,ax2) = plt.subplots(nrows=1, ncols=2, figsize=(16,6))\n",
    "###############\n",
    "\n",
    "ax1.bar(top_genre_ct_names, top_genre_cts, color='firebrick')\n",
    "ax2.bar(most_popular_names, most_popular_avgs, color='yellowgreen')\n",
    "# x and y vals; use bottom parameter to make stacked\n",
    "ax2.set_xlabel('Genres')\n",
    "ax2.set_ylabel('Popularity')\n",
    "ax1.set_xlabel('Genres')\n",
    "ax1.set_ylabel('Frequency')\n",
    "\n",
    "ax1.set_xticklabels(top_genre_ct_names, rotation = 45)\n",
    "ax2.set_xticklabels(most_popular_names, rotation = 45)\n",
    "\n",
    "ax1.set_title('Most Popular Genres by Frequency')\n",
    "ax2.set_title('Most Popular Genres by IMDB Popularity Rating')\n"
   ]
  },
  {
   "cell_type": "code",
   "execution_count": 764,
   "metadata": {},
   "outputs": [
    {
     "data": {
      "text/plain": [
       "[4, 6]"
      ]
     },
     "execution_count": 764,
     "metadata": {},
     "output_type": "execute_result"
    }
   ],
   "source": [
    "figgy = nRowCol(test_dict)\n",
    "figgy"
   ]
  },
  {
   "cell_type": "markdown",
   "metadata": {},
   "source": [
    "MONTH NAMES:"
   ]
  },
  {
   "cell_type": "code",
   "execution_count": 420,
   "metadata": {},
   "outputs": [],
   "source": [
    "month_names = ['Jan', 'Feb', 'Mar', 'Apr','May','Jun','July','Aug','Sept','Oct','Nov','Dec']"
   ]
  },
  {
   "cell_type": "markdown",
   "metadata": {},
   "source": [
    "GRAPHING 23 SUBPLOTS for EACH GENRE"
   ]
  },
  {
   "cell_type": "code",
   "execution_count": 763,
   "metadata": {
    "scrolled": true
   },
   "outputs": [
    {
     "data": {
      "text/plain": [
       "Text(0.5, 1.0, 'Total Gross per Month per Genre')"
      ]
     },
     "execution_count": 763,
     "metadata": {},
     "output_type": "execute_result"
    },
    {
     "data": {
      "image/png": "[encoded data removed]",
      "text/plain": [
       "<Figure size 1296x1008 with 24 Axes>"
      ]
     },
     "metadata": {
      "needs_background": "light"
     },
     "output_type": "display_data"
    }
   ],
   "source": [
    "fig, ax = plt.subplots(nrows=figgy[0], ncols=figgy[1], figsize=(18,14))\n",
    "###############\n",
    "mean_dom_grosses = [genre_dict['Adventure'][genre_dict['Adventure']['month_released']==i]['domestic_adj'].mean()\n",
    "                   for i in months]\n",
    "\n",
    "mean_ww_grosses = [genre_dict['Adventure'][genre_dict['Adventure']['month_released']==i]['worldwide_adj'].mean()\n",
    "                   for i in months]\n",
    "\n",
    "# x and y vals\n",
    "ad1 = ax[0][0].bar(months, mean_dom_grosses)   \n",
    "ad2 = ax[0][0].bar(months, mean_ww_grosses, bottom=mean_dom_grosses) # use bottom parameter to make stacked\n",
    "ax[0][0].set_title('Adventure')\n",
    "ax[0][0].set_xlabel('Month')\n",
    "ax[0][0].set_ylabel('Average Total Gross (Billions)')\n",
    "###############\n",
    "\n",
    "\n",
    "mean_dom_grosses1 = [genre_dict['Action'][genre_dict['Action']['month_released']==i]['domestic_adj'].mean()\n",
    "                   for i in months]\n",
    "\n",
    "mean_ww_grosses1 = [genre_dict['Action'][genre_dict['Action']['month_released']==i]['worldwide_adj'].mean()\n",
    "                   for i in months]\n",
    "\n",
    "# x and y vals\n",
    "ad1 = ax[0][1].bar(months, mean_dom_grosses1)   \n",
    "ad2 = ax[0][1].bar(months, mean_ww_grosses1, bottom=mean_dom_grosses1) # use bottom parameter to make stacked\n",
    "ax[0][1].set_title('Action')\n",
    "ax[0][1].set_xlabel('Month')\n",
    "ax[0][1].set_ylabel('Average Total Gross (Billions)')\n",
    "###############\n",
    "\n",
    "mean_dom_grosses2 = [genre_dict['Animation'][genre_dict['Animation']['month_released']==i]['domestic_adj'].mean()\n",
    "                   for i in months]\n",
    "\n",
    "mean_ww_grosses2 = [genre_dict['Animation'][genre_dict['Animation']['month_released']==i]['worldwide_adj'].mean()\n",
    "                   for i in months]\n",
    "\n",
    "# x and y vals\n",
    "ad1 = ax[0][2].bar(months, mean_dom_grosses2)   \n",
    "ad2 = ax[0][2].bar(months, mean_ww_grosses2, bottom=mean_dom_grosses2) # use bottom parameter to make stacked\n",
    "ax[0][2].set_title('Animation')\n",
    "ax[0][2].set_xlabel('Month')\n",
    "ax[0][2].set_ylabel('Average Total Gross (Billions)')\n",
    "###############\n",
    "\n",
    "mean_dom_grosses3 = [genre_dict['Comedy'][genre_dict['Comedy']['month_released']==i]['domestic_adj'].mean()\n",
    "                   for i in months]\n",
    "\n",
    "mean_ww_grosses3 = [genre_dict['Comedy'][genre_dict['Comedy']['month_released']==i]['worldwide_adj'].mean()\n",
    "                   for i in months]\n",
    "\n",
    "# x and y vals\n",
    "ad1 = ax[0][3].bar(months, mean_dom_grosses3)   \n",
    "ad2 = ax[0][3].bar(months, mean_ww_grosses3, bottom=mean_dom_grosses3) # use bottom parameter to make stacked\n",
    "ax[0][3].set_title('Comedy')\n",
    "ax[0][3].set_xlabel('Month')\n",
    "ax[0][3].set_ylabel('Average Total Gross (Billions)')\n",
    "###############\n",
    "\n",
    "mean_dom_grosses4 = [genre_dict['Fantasy'][genre_dict['Fantasy']['month_released']==i]['domestic_adj'].mean()\n",
    "                   for i in months]\n",
    "\n",
    "mean_ww_grosses4 = [genre_dict['Fantasy'][genre_dict['Fantasy']['month_released']==i]['worldwide_adj'].mean()\n",
    "                   for i in months]\n",
    "\n",
    "# x and y vals\n",
    "ad1 = ax[0][4].bar(months, mean_dom_grosses4)   \n",
    "ad2 = ax[0][4].bar(months, mean_ww_grosses4, bottom=mean_dom_grosses4) # use bottom parameter to make stacked\n",
    "ax[0][4].set_title('Fantasy')\n",
    "ax[0][4].set_xlabel('Month')\n",
    "ax[0][4].set_ylabel('Average Total Gross (Billions)')\n",
    "###############\n",
    "\n",
    "mean_dom_grosses5 = [genre_dict['Mystery'][genre_dict['Mystery']['month_released']==i]['domestic_adj'].mean()\n",
    "                   for i in months]\n",
    "\n",
    "mean_ww_grosses5 = [genre_dict['Mystery'][genre_dict['Mystery']['month_released']==i]['worldwide_adj'].mean()\n",
    "                   for i in months]\n",
    "\n",
    "# x and y vals\n",
    "ad1 = ax[0][5].bar(months, mean_dom_grosses5)   \n",
    "ad2 = ax[0][5].bar(months, mean_ww_grosses5, bottom=mean_dom_grosses5) # use bottom parameter to make stacked\n",
    "ax[0][5].set_title('Mystery')\n",
    "ax[0][5].set_xlabel('Month')\n",
    "ax[0][5].set_ylabel('Average Total Gross (Billions)')\n",
    "###############\n",
    "\n",
    "mean_dom_grosses6 = [genre_dict['Drama'][genre_dict['Drama']['month_released']==i]['domestic_adj'].mean()\n",
    "                   for i in months]\n",
    "\n",
    "mean_ww_grosses6 = [genre_dict['Drama'][genre_dict['Drama']['month_released']==i]['worldwide_adj'].mean()\n",
    "                   for i in months]\n",
    "\n",
    "# x and y vals\n",
    "ad1 = ax[1][0].bar(months, mean_dom_grosses6)   \n",
    "ad2 = ax[1][0].bar(months, mean_ww_grosses6, bottom=mean_dom_grosses6) # use bottom parameter to make stacked\n",
    "ax[1][0].set_title('Drama')\n",
    "ax[1][0].set_xlabel('Month')\n",
    "ax[1][0].set_ylabel('Average Total Gross (Billions)')\n",
    "###############\n",
    "\n",
    "mean_dom_grosses7 = [genre_dict['Romance'][genre_dict['Romance']['month_released']==i]['domestic_adj'].mean()\n",
    "                   for i in months]\n",
    "\n",
    "mean_ww_grosses7 = [genre_dict['Romance'][genre_dict['Romance']['month_released']==i]['worldwide_adj'].mean()\n",
    "                   for i in months]\n",
    "\n",
    "# x and y vals\n",
    "ad1 = ax[1][1].bar(months, mean_dom_grosses7)   \n",
    "ad2 = ax[1][1].bar(months, mean_ww_grosses7, bottom=mean_dom_grosses7) # use bottom parameter to make stacked\n",
    "ax[1][1].set_title('Romance')\n",
    "ax[1][1].set_xlabel('Month')\n",
    "ax[1][1].set_ylabel('Average Total Gross (Billions)')\n",
    "###############\n",
    "\n",
    "mean_dom_grosses8 = [genre_dict['Documentary'][genre_dict['Documentary']['month_released']==i]['domestic_adj'].mean()\n",
    "                   for i in months]\n",
    "\n",
    "mean_ww_grosses8 = [genre_dict['Documentary'][genre_dict['Documentary']['month_released']==i]['worldwide_adj'].mean()\n",
    "                   for i in months]\n",
    "\n",
    "# x and y vals\n",
    "ad1 = ax[1][2].bar(months, mean_dom_grosses8)   \n",
    "ad2 = ax[1][2].bar(months, mean_ww_grosses8, bottom=mean_dom_grosses8) # use bottom parameter to make stacked\n",
    "ax[1][2].set_title('Documentary')\n",
    "ax[1][2].set_xlabel('Month')\n",
    "ax[1][2].set_ylabel('Average Total Gross (Billions)')\n",
    "###############\n",
    "\n",
    "mean_dom_grosses9 = [genre_dict['Crime'][genre_dict['Crime']['month_released']==i]['domestic_adj'].mean()\n",
    "                   for i in months]\n",
    "\n",
    "mean_ww_grosses9 = [genre_dict['Crime'][genre_dict['Crime']['month_released']==i]['worldwide_adj'].mean()\n",
    "                   for i in months]\n",
    "\n",
    "# x and y vals\n",
    "ad1 = ax[1][3].bar(months, mean_dom_grosses9)   \n",
    "ad2 = ax[1][3].bar(months, mean_ww_grosses9, bottom=mean_dom_grosses9) # use bottom parameter to make stacked\n",
    "ax[1][3].set_title('Crime')\n",
    "ax[1][3].set_xlabel('Month')\n",
    "ax[1][3].set_ylabel('Average Total Gross (Billions)')\n",
    "###############\n",
    "\n",
    "mean_dom_grosses10 = [genre_dict['Sci-Fi'][genre_dict['Sci-Fi']['month_released']==i]['domestic_adj'].mean()\n",
    "                   for i in months]\n",
    "\n",
    "mean_ww_grosses10 = [genre_dict['Sci-Fi'][genre_dict['Sci-Fi']['month_released']==i]['worldwide_adj'].mean()\n",
    "                   for i in months]\n",
    "\n",
    "# x and y vals\n",
    "ad1 = ax[1][4].bar(months, mean_dom_grosses10)   \n",
    "ad2 = ax[1][4].bar(months, mean_ww_grosses10, bottom=mean_dom_grosses10) # use bottom parameter to make stacked\n",
    "ax[1][4].set_title('Sci-Fi')\n",
    "ax[1][4].set_xlabel('Month')\n",
    "ax[1][4].set_ylabel('Average Total Gross (Billions)')\n",
    "###############\n",
    "\n",
    "mean_dom_grosses11 = [genre_dict['Family'][genre_dict['Family']['month_released']==i]['domestic_adj'].mean()\n",
    "                   for i in months]\n",
    "\n",
    "mean_ww_grosses11 = [genre_dict['Family'][genre_dict['Family']['month_released']==i]['worldwide_adj'].mean()\n",
    "                   for i in months]\n",
    "\n",
    "# x and y vals\n",
    "ad1 = ax[1][5].bar(months, mean_dom_grosses11)   \n",
    "ad2 = ax[1][5].bar(months, mean_ww_grosses11, bottom=mean_dom_grosses11) # use bottom parameter to make stacked\n",
    "ax[1][5].set_title('Family')\n",
    "ax[1][5].set_xlabel('Month')\n",
    "ax[1][5].set_ylabel('Average Total Gross (Billions)')\n",
    "###############\n",
    "\n",
    "mean_dom_grosses12 = [genre_dict['Thriller'][genre_dict['Thriller']['month_released']==i]['domestic_adj'].mean()\n",
    "                   for i in months]\n",
    "\n",
    "mean_ww_grosses12 = [genre_dict['Thriller'][genre_dict['Thriller']['month_released']==i]['worldwide_adj'].mean()\n",
    "                   for i in months]\n",
    "\n",
    "# x and y vals\n",
    "ad1 = ax[2][0].bar(months, mean_dom_grosses12)   \n",
    "ad2 = ax[2][0].bar(months, mean_ww_grosses12, bottom=mean_dom_grosses12) # use bottom parameter to make stacked\n",
    "ax[2][0].set_title('Thriller')\n",
    "ax[2][0].set_xlabel('Month')\n",
    "ax[2][0].set_ylabel('Average Total Gross (Billions)')\n",
    "###############\n",
    "\n",
    "mean_dom_grosses13 = [genre_dict['Horror'][genre_dict['Horror']['month_released']==i]['domestic_adj'].mean()\n",
    "                   for i in months]\n",
    "\n",
    "mean_ww_grosses13 = [genre_dict['Horror'][genre_dict['Horror']['month_released']==i]['worldwide_adj'].mean()\n",
    "                   for i in months]\n",
    "\n",
    "# x and y vals\n",
    "ad1 = ax[2][1].bar(months, mean_dom_grosses13)   \n",
    "ad2 = ax[2][1].bar(months, mean_ww_grosses13, bottom=mean_dom_grosses13) # use bottom parameter to make stacked\n",
    "ax[2][1].set_title('Horror')\n",
    "ax[2][1].set_xlabel('Month')\n",
    "ax[2][1].set_ylabel('Average Total Gross (Billions)')\n",
    "###############\n",
    "\n",
    "mean_dom_grosses14 = [genre_dict['Biography'][genre_dict['Biography']['month_released']==i]['domestic_adj'].mean()\n",
    "                   for i in months]\n",
    "\n",
    "mean_ww_grosses14 = [genre_dict['Biography'][genre_dict['Biography']['month_released']==i]['worldwide_adj'].mean()\n",
    "                   for i in months]\n",
    "\n",
    "# x and y vals\n",
    "ad1 = ax[2][2].bar(months, mean_dom_grosses14)   \n",
    "ad2 = ax[2][2].bar(months, mean_ww_grosses14, bottom=mean_dom_grosses14) # use bottom parameter to make stacked\n",
    "ax[2][2].set_title('Biography')\n",
    "ax[2][2].set_xlabel('Month')\n",
    "ax[2][2].set_ylabel('Average Total Gross (Billions)')\n",
    "###############\n",
    "\n",
    "mean_dom_grosses15 = [genre_dict['History'][genre_dict['History']['month_released']==i]['domestic_adj'].mean()\n",
    "                   for i in months]\n",
    "\n",
    "mean_ww_grosses15 = [genre_dict['History'][genre_dict['History']['month_released']==i]['worldwide_adj'].mean()\n",
    "                   for i in months]\n",
    "\n",
    "# x and y vals\n",
    "ad1 = ax[2][3].bar(months, mean_dom_grosses15)   \n",
    "ad2 = ax[2][3].bar(months, mean_ww_grosses15, bottom=mean_dom_grosses15) # use bottom parameter to make stacked\n",
    "ax[2][3].set_title('History')\n",
    "ax[2][3].set_xlabel('Month')\n",
    "ax[2][3].set_ylabel('Average Total Gross (Billions)')\n",
    "###############\n",
    "\n",
    "mean_dom_grosses16 = [genre_dict['News'][genre_dict['News']['month_released']==i]['domestic_adj'].mean()\n",
    "                   for i in months]\n",
    "\n",
    "mean_ww_grosses16 = [genre_dict['News'][genre_dict['News']['month_released']==i]['worldwide_adj'].mean()\n",
    "                   for i in months]\n",
    "\n",
    "# x and y vals\n",
    "ad1 = ax[2][4].bar(months, mean_dom_grosses16)   \n",
    "ad2 = ax[2][4].bar(months, mean_ww_grosses16, bottom=mean_dom_grosses16) # use bottom parameter to make stacked\n",
    "ax[2][4].set_title('News')\n",
    "ax[2][4].set_xlabel('Month')\n",
    "ax[2][4].set_ylabel('Average Total Gross (Billions)')\n",
    "###############\n",
    "\n",
    "mean_dom_grosses17 = [genre_dict['War'][genre_dict['War']['month_released']==i]['domestic_adj'].mean()\n",
    "                   for i in months]\n",
    "\n",
    "mean_ww_grosses17 = [genre_dict['War'][genre_dict['War']['month_released']==i]['worldwide_adj'].mean()\n",
    "                   for i in months]\n",
    "\n",
    "# x and y vals\n",
    "ad1 = ax[2][5].bar(months, mean_dom_grosses17)   \n",
    "ad2 = ax[2][5].bar(months, mean_ww_grosses17, bottom=mean_dom_grosses17) # use bottom parameter to make stacked\n",
    "ax[2][5].set_title('War')\n",
    "ax[2][5].set_xlabel('Month')\n",
    "ax[2][5].set_ylabel('Average Total Gross (Billions)')\n",
    "###############\n",
    "\n",
    "mean_dom_grosses18 = [genre_dict['Sport'][genre_dict['Sport']['month_released']==i]['domestic_adj'].mean()\n",
    "                   for i in months]\n",
    "\n",
    "mean_ww_grosses18 = [genre_dict['Sport'][genre_dict['Sport']['month_released']==i]['worldwide_adj'].mean()\n",
    "                   for i in months]\n",
    "\n",
    "# x and y vals\n",
    "ad1 = ax[3][0].bar(months, mean_dom_grosses18)   \n",
    "ad2 = ax[3][0].bar(months, mean_ww_grosses18, bottom=mean_dom_grosses18) # use bottom parameter to make stacked\n",
    "ax[3][0].set_title('Sport')\n",
    "ax[3][0].set_xlabel('Month')\n",
    "ax[3][0].set_ylabel('Average Total Gross (Billions)')\n",
    "###############\n",
    "\n",
    "mean_dom_grosses19 = [genre_dict['Music'][genre_dict['Music']['month_released']==i]['domestic_adj'].mean()\n",
    "                   for i in months]\n",
    "\n",
    "mean_ww_grosses19 = [genre_dict['Music'][genre_dict['Music']['month_released']==i]['worldwide_adj'].mean()\n",
    "                   for i in months]\n",
    "\n",
    "# x and y vals\n",
    "ad1 = ax[3][1].bar(months, mean_dom_grosses19)   \n",
    "ad2 = ax[3][1].bar(months, mean_ww_grosses19, bottom=mean_dom_grosses19) # use bottom parameter to make stacked\n",
    "ax[3][1].set_title('Music')\n",
    "ax[3][1].set_xlabel('Month')\n",
    "ax[3][1].set_ylabel('Average Total Gross (Billions)')\n",
    "###############\n",
    "\n",
    "mean_dom_grosses20 = [genre_dict['Musical'][genre_dict['Musical']['month_released']==i]['domestic_adj'].mean()\n",
    "                   for i in months]\n",
    "\n",
    "mean_ww_grosses20 = [genre_dict['Musical'][genre_dict['Musical']['month_released']==i]['worldwide_adj'].mean()\n",
    "                   for i in months]\n",
    "\n",
    "# x and y vals\n",
    "ad1 = ax[3][2].bar(months, mean_dom_grosses20)   \n",
    "ad2 = ax[3][2].bar(months, mean_ww_grosses20, bottom=mean_dom_grosses20) # use bottom parameter to make stacked\n",
    "ax[3][2].set_title('Musical')\n",
    "ax[3][2].set_xlabel('Month')\n",
    "ax[3][2].set_ylabel('Average Total Gross (Billions)')\n",
    "###############\n",
    "\n",
    "mean_dom_grosses21 = [genre_dict['Western'][genre_dict['Western']['month_released']==i]['domestic_adj'].mean()\n",
    "                   for i in months]\n",
    "\n",
    "mean_ww_grosses21 = [genre_dict['Western'][genre_dict['Western']['month_released']==i]['worldwide_adj'].mean()\n",
    "                   for i in months]\n",
    "\n",
    "# x and y vals\n",
    "ad1 = ax[3][3].bar(months, mean_dom_grosses21)   \n",
    "ad2 = ax[3][3].bar(months, mean_ww_grosses21, bottom=mean_dom_grosses21) # use bottom parameter to make stacked\n",
    "ax[3][3].set_title('Western')\n",
    "ax[3][3].set_xlabel('Month')\n",
    "ax[3][3].set_ylabel('Average Total Gross (Billions)')\n",
    "###############\n",
    "# found out that Reality TV only had one value, so got rid of it in list of genres\n",
    "mean_dom_grosses22 = [genre_dict['Reality-TV'][genre_dict['Reality-TV']['month_released']==i]['domestic_adj'].mean()\n",
    "                   for i in months]\n",
    "\n",
    "mean_ww_grosses22 = [genre_dict['Reality-TV'][genre_dict['Reality-TV']['month_released']==i]['worldwide_adj'].mean()\n",
    "                   for i in months]\n",
    "\n",
    "# x and y vals\n",
    "ad1 = ax[3][4].bar(months, mean_dom_grosses22)   \n",
    "ad2 = ax[3][4].bar(months, mean_ww_grosses22, bottom=mean_dom_grosses22) # use bottom parameter to make stacked\n",
    "ax[3][4].set_title('Reality-TV')\n",
    "ax[3][4].set_xlabel('Month')\n",
    "ax[3][4].set_ylabel('Average Total Gross (Billions)')\n",
    "###############\n",
    "\n",
    "fig.subplots_adjust(wspace=.5, hspace=.5)\n",
    "\n",
    "plt.title('Total Gross per Month per Genre')\n"
   ]
  },
  {
   "cell_type": "code",
   "execution_count": 500,
   "metadata": {},
   "outputs": [],
   "source": [
    "# Double bar graph to compare a genre's avg monthly gross vs the average"
   ]
  },
  {
   "cell_type": "code",
   "execution_count": 546,
   "metadata": {},
   "outputs": [
    {
     "data": {
      "text/plain": [
       "Index(['tconst', 'primary_title', 'original_title', 'start_year',\n",
       "       'runtime_minutes', 'genres', 'title_equal', 'ordering_akas', 'title',\n",
       "       'region', 'language', 'types', 'attributes', 'is_original_title',\n",
       "       'directors', 'writers', 'ordering_princ', 'nconst', 'category', 'job',\n",
       "       'characters', 'averagerating', 'numvotes', 'genre_ids', 'id',\n",
       "       'popularity', 'release_date', 'vote_average', 'vote_count',\n",
       "       'month_released', 'year', 'domestic_adj', 'worldwide_adj', 'budget_adj',\n",
       "       'total_gross'],\n",
       "      dtype='object')"
      ]
     },
     "execution_count": 546,
     "metadata": {},
     "output_type": "execute_result"
    }
   ],
   "source": [
    "genre_dict['Animation'].columns"
   ]
  },
  {
   "cell_type": "code",
   "execution_count": 548,
   "metadata": {},
   "outputs": [
    {
     "data": {
      "text/plain": [
       "<matplotlib.legend.Legend at 0x7fa30cd96520>"
      ]
     },
     "execution_count": 548,
     "metadata": {},
     "output_type": "execute_result"
    },
    {
     "data": {
      "image/png": "[encoded data removed]",
      "text/plain": [
       "<Figure size 576x288 with 1 Axes>"
      ]
     },
     "metadata": {
      "needs_background": "light"
     },
     "output_type": "display_data"
    }
   ],
   "source": [
    "# ANIMATION and avg COMPARE\n",
    "total_gross_avgs_animation = [genre_dict['Animation']['total_gross'][\n",
    "    (genre_dict['Animation']['month_released']==i)&(genre_dict['Animation']['total_gross']!='Unknown')].mean() for i in months\n",
    "    ]\n",
    "\n",
    "w = 0.4\n",
    "bar1 = np.arange(len(months))\n",
    "bar2 = [i+w for i in bar1]\n",
    "\n",
    "plt.figure(figsize=(8,4))\n",
    "\n",
    "plt.bar(bar1, total_gross_avgs_animation, width=w, color='darkgreen', label='Animation Averages', align='center')\n",
    "plt.bar(bar2, mean_total_grosses, width=w, color='mediumturquoise', label='Averages (all genres)', align='center')\n",
    "\n",
    "month_tix = [i for i in range(0,12)]\n",
    "plt.xticks(month_tix, month_names, rotation=45)\n",
    "\n",
    "# x and y vals; use bottom parameter to make stacked\n",
    "plt.xlabel('Month')\n",
    "plt.ylabel('Average Total Gross (billions)')\n",
    "plt.title('Comparing Animation Genre Monthly Gross to Average Monthly Gross')\n",
    "plt.legend()\n"
   ]
  },
  {
   "cell_type": "code",
   "execution_count": 549,
   "metadata": {},
   "outputs": [
    {
     "data": {
      "text/plain": [
       "<matplotlib.legend.Legend at 0x7fa30f6b7580>"
      ]
     },
     "execution_count": 549,
     "metadata": {},
     "output_type": "execute_result"
    },
    {
     "data": {
      "image/png": "[encoded data removed]",
      "text/plain": [
       "<Figure size 576x288 with 1 Axes>"
      ]
     },
     "metadata": {
      "needs_background": "light"
     },
     "output_type": "display_data"
    }
   ],
   "source": [
    "# Adventure and avg COMPARE\n",
    "\n",
    "total_gross_avgs_adventure = [genre_dict['Adventure']['total_gross'][\n",
    "    (genre_dict['Adventure']['month_released']==i)&(genre_dict['Adventure']['total_gross']!='Unknown')].mean() for i in months\n",
    "    ]\n",
    "\n",
    "w = 0.4\n",
    "bar1 = np.arange(len(months))\n",
    "bar2 = [i+w for i in bar1]\n",
    "\n",
    "plt.figure(figsize=(8,4))\n",
    "\n",
    "plt.bar(bar1, total_gross_avgs_animation, width=w, color='orange', label='Adventure Averages', align='center')\n",
    "plt.bar(bar2, mean_total_grosses, width=w, color='mediumturquoise', label='Averages (all genres)', align='center')\n",
    "\n",
    "month_tix = [i for i in range(0,12)]\n",
    "plt.xticks(month_tix, month_names, rotation=45)\n",
    "\n",
    "# x and y vals; use bottom parameter to make stacked\n",
    "plt.xlabel('Month')\n",
    "plt.ylabel('Average Total Gross (billions)')\n",
    "plt.title('Comparing Adventure Genre Monthly Gross to Average Monthly Gross')\n",
    "plt.legend()"
   ]
  },
  {
   "cell_type": "code",
   "execution_count": 552,
   "metadata": {},
   "outputs": [
    {
     "data": {
      "text/plain": [
       "<matplotlib.legend.Legend at 0x7fa310454490>"
      ]
     },
     "execution_count": 552,
     "metadata": {},
     "output_type": "execute_result"
    },
    {
     "data": {
      "image/png": "[encoded data removed]",
      "text/plain": [
       "<Figure size 576x288 with 1 Axes>"
      ]
     },
     "metadata": {
      "needs_background": "light"
     },
     "output_type": "display_data"
    }
   ],
   "source": [
    "# Comedy and avg COMPARE\n",
    "\n",
    "total_gross_avgs_adventure = [genre_dict['Comedy']['total_gross'][\n",
    "    (genre_dict['Comedy']['month_released']==i)&(genre_dict['Comedy']['total_gross']!='Unknown')].mean() for i in months\n",
    "    ]\n",
    "\n",
    "w = 0.4\n",
    "bar1 = np.arange(len(months))\n",
    "bar2 = [i+w for i in bar1]\n",
    "\n",
    "plt.figure(figsize=(8,4))\n",
    "\n",
    "plt.bar(bar1, total_gross_avgs_animation, width=w, color='firebrick', label='Comedy Averages', align='center')\n",
    "plt.bar(bar2, mean_total_grosses, width=w, color='mediumturquoise', label='Averages (all genres)', align='center')\n",
    "\n",
    "month_tix = [i for i in range(0,12)]\n",
    "plt.xticks(month_tix, month_names, rotation=45)\n",
    "\n",
    "# x and y vals; use bottom parameter to make stacked\n",
    "plt.xlabel('Month')\n",
    "plt.ylabel('Average Total Gross (billions)')\n",
    "plt.title('Comparing Comedy Genre Monthly Gross to Average Monthly Gross')\n",
    "plt.legend()"
   ]
  },
  {
   "cell_type": "code",
   "execution_count": 555,
   "metadata": {},
   "outputs": [
    {
     "data": {
      "text/plain": [
       "<matplotlib.legend.Legend at 0x7fa310838ee0>"
      ]
     },
     "execution_count": 555,
     "metadata": {},
     "output_type": "execute_result"
    },
    {
     "data": {
      "image/png": "[encoded data removed]",
      "text/plain": [
       "<Figure size 576x288 with 1 Axes>"
      ]
     },
     "metadata": {
      "needs_background": "light"
     },
     "output_type": "display_data"
    }
   ],
   "source": [
    "# Drama and avg COMPARE\n",
    "\n",
    "total_gross_avgs_adventure = [genre_dict['Drama']['total_gross'][\n",
    "    (genre_dict['Drama']['month_released']==i)&(genre_dict['Drama']['total_gross']!='Unknown')].mean() for i in months\n",
    "    ]\n",
    "\n",
    "w = 0.4\n",
    "bar1 = np.arange(len(months))\n",
    "bar2 = [i+w for i in bar1]\n",
    "\n",
    "plt.figure(figsize=(8,4))\n",
    "\n",
    "plt.bar(bar1, total_gross_avgs_animation, width=w, color='mediumpurple', label='Drama Averages', align='center')\n",
    "plt.bar(bar2, mean_total_grosses, width=w, color='mediumturquoise', label='Averages (all genres)', align='center')\n",
    "\n",
    "month_tix = [i for i in range(0,12)]\n",
    "plt.xticks(month_tix, month_names, rotation=45)\n",
    "\n",
    "# x and y vals; use bottom parameter to make stacked\n",
    "plt.xlabel('Month')\n",
    "plt.ylabel('Average Total Gross (billions)')\n",
    "plt.title('Comparing Drama Genre Monthly Gross to Average Monthly Gross')\n",
    "plt.legend()"
   ]
  },
  {
   "cell_type": "code",
   "execution_count": 557,
   "metadata": {},
   "outputs": [
    {
     "data": {
      "text/plain": [
       "<matplotlib.legend.Legend at 0x7fa310a86820>"
      ]
     },
     "execution_count": 557,
     "metadata": {},
     "output_type": "execute_result"
    },
    {
     "data": {
      "image/png": "[encoded data removed]",
      "text/plain": [
       "<Figure size 576x288 with 1 Axes>"
      ]
     },
     "metadata": {
      "needs_background": "light"
     },
     "output_type": "display_data"
    }
   ],
   "source": [
    "# Fantasy and avg COMPARE\n",
    "\n",
    "total_gross_avgs_adventure = [genre_dict['Fantasy']['total_gross'][\n",
    "    (genre_dict['Fantasy']['month_released']==i)&(genre_dict['Fantasy']['total_gross']!='Unknown')].mean() for i in months\n",
    "    ]\n",
    "\n",
    "w = 0.4\n",
    "bar1 = np.arange(len(months))\n",
    "bar2 = [i+w for i in bar1]\n",
    "\n",
    "plt.figure(figsize=(8,4))\n",
    "\n",
    "plt.bar(bar1, total_gross_avgs_animation, width=w, color='forestgreen', label='Fantasy Averages', align='center')\n",
    "plt.bar(bar2, mean_total_grosses, width=w, color='mediumturquoise', label='Averages (all genres)', align='center')\n",
    "\n",
    "month_tix = [i for i in range(0,12)]\n",
    "plt.xticks(month_tix, month_names, rotation=45)\n",
    "\n",
    "# x and y vals; use bottom parameter to make stacked\n",
    "plt.xlabel('Month')\n",
    "plt.ylabel('Average Total Gross (billions)')\n",
    "plt.title('Comparing Fantasy Genre Monthly Gross to Average Monthly Gross')\n",
    "plt.legend()"
   ]
  },
  {
   "cell_type": "code",
   "execution_count": 558,
   "metadata": {},
   "outputs": [
    {
     "data": {
      "text/plain": [
       "<matplotlib.legend.Legend at 0x7fa310ba5ac0>"
      ]
     },
     "execution_count": 558,
     "metadata": {},
     "output_type": "execute_result"
    },
    {
     "data": {
      "image/png": "[encoded data removed]",
      "text/plain": [
       "<Figure size 576x288 with 1 Axes>"
      ]
     },
     "metadata": {
      "needs_background": "light"
     },
     "output_type": "display_data"
    }
   ],
   "source": [
    "# Romance and avg COMPARE\n",
    "\n",
    "total_gross_avgs_adventure = [genre_dict['Romance']['total_gross'][\n",
    "    (genre_dict['Romance']['month_released']==i)&(genre_dict['Romance']['total_gross']!='Unknown')].mean() for i in months\n",
    "    ]\n",
    "\n",
    "w = 0.4\n",
    "bar1 = np.arange(len(months))\n",
    "bar2 = [i+w for i in bar1]\n",
    "\n",
    "plt.figure(figsize=(8,4))\n",
    "\n",
    "plt.bar(bar1, total_gross_avgs_animation, width=w, color='brown', label='Romance Averages', align='center')\n",
    "plt.bar(bar2, mean_total_grosses, width=w, color='mediumturquoise', label='Averages (all genres)', align='center')\n",
    "\n",
    "month_tix = [i for i in range(0,12)]\n",
    "plt.xticks(month_tix, month_names, rotation=45)\n",
    "\n",
    "# x and y vals; use bottom parameter to make stacked\n",
    "plt.xlabel('Month')\n",
    "plt.ylabel('Average Total Gross (billions)')\n",
    "plt.title('Comparing Romance Genre Monthly Gross to Average Monthly Gross')\n",
    "plt.legend()"
   ]
  },
  {
   "cell_type": "code",
   "execution_count": null,
   "metadata": {},
   "outputs": [],
   "source": []
  },
  {
   "cell_type": "code",
   "execution_count": 190,
   "metadata": {},
   "outputs": [
    {
     "data": {
      "image/png": "[encoded data removed]",
      "text/plain": [
       "<Figure size 720x432 with 1 Axes>"
      ]
     },
     "metadata": {
      "needs_background": "light"
     },
     "output_type": "display_data"
    }
   ],
   "source": [
    "# FAMLEE\n",
    "fig, ax = plt.subplots(nrows=1, ncols=1, figsize=(10,6))\n",
    "\n",
    "months = [i for i in range(1,13)]\n",
    "\n",
    "mean_dom_grosses = [genre_dict['Family'][genre_dict['Family']['month_released']==i]['domestic_adj'].mean()\n",
    "                   for i in months]\n",
    "\n",
    "mean_ww_grosses = [genre_dict['Family'][genre_dict['Family']['month_released']==i]['worldwide_adj'].mean()\n",
    "                   for i in months]\n",
    "\n",
    "# x and y vals\n",
    "ad1 = ax.bar(months, mean_dom_grosses)   \n",
    "ad2 = ax.bar(months, mean_ww_grosses, bottom=mean_dom_grosses) # use bottom parameter to make stacked\n",
    "ax.set_title('Family')\n",
    "ax.set_xlabel('Month')\n",
    "ax.set_ylabel('Average Total Gross (Billions)')\n",
    "ax.legend((ad1[0], ad2[0]), ('Domestic Gross', 'Worldwide Gross'))\n",
    "\n",
    "\n",
    "fig.savefig('Family_movies.png')"
   ]
  },
  {
   "cell_type": "code",
   "execution_count": 189,
   "metadata": {},
   "outputs": [
    {
     "data": {
      "image/png": "[encoded data removed]",
      "text/plain": [
       "<Figure size 720x432 with 1 Axes>"
      ]
     },
     "metadata": {
      "needs_background": "light"
     },
     "output_type": "display_data"
    }
   ],
   "source": [
    "# ROMANTS\n",
    "fig, ax = plt.subplots(nrows=1, ncols=1, figsize=(10,6))\n",
    "\n",
    "months = [i for i in range(1,13)]\n",
    "\n",
    "mean_dom_grosses = [genre_dict['Romance'][genre_dict['Romance']['month_released']==i]['domestic_adj'].mean()\n",
    "                   for i in months]\n",
    "\n",
    "mean_ww_grosses = [genre_dict['Romance'][genre_dict['Romance']['month_released']==i]['worldwide_adj'].mean()\n",
    "                   for i in months]\n",
    "\n",
    "# x and y vals\n",
    "ad1 = ax.bar(months, mean_dom_grosses)   \n",
    "ad2 = ax.bar(months, mean_ww_grosses, bottom=mean_dom_grosses) # use bottom parameter to make stacked\n",
    "ax.set_title('Romance')\n",
    "ax.set_xlabel('Month')\n",
    "ax.set_ylabel('Average Total Gross (Billions)')\n",
    "ax.legend((ad1[0], ad2[0]), ('Domestic Gross', 'Worldwide Gross'))\n",
    "\n",
    "\n",
    "fig.savefig('Romance_movies.png')"
   ]
  },
  {
   "cell_type": "code",
   "execution_count": 188,
   "metadata": {},
   "outputs": [
    {
     "data": {
      "image/png": "[encoded data removed]",
      "text/plain": [
       "<Figure size 720x432 with 1 Axes>"
      ]
     },
     "metadata": {
      "needs_background": "light"
     },
     "output_type": "display_data"
    }
   ],
   "source": [
    "#DRAYMA\n",
    "fig, ax = plt.subplots(nrows=1, ncols=1, figsize=(10,6))\n",
    "\n",
    "months = [i for i in range(1,13)]\n",
    "\n",
    "mean_dom_grosses = [genre_dict['Drama'][genre_dict['Drama']['month_released']==i]['domestic_adj'].mean()\n",
    "                   for i in months]\n",
    "\n",
    "mean_ww_grosses = [genre_dict['Drama'][genre_dict['Drama']['month_released']==i]['worldwide_adj'].mean()\n",
    "                   for i in months]\n",
    "\n",
    "# x and y vals\n",
    "ad1 = ax.bar(months, mean_dom_grosses)   \n",
    "ad2 = ax.bar(months, mean_ww_grosses, bottom=mean_dom_grosses) # use bottom parameter to make stacked\n",
    "ax.set_title('Drama')\n",
    "ax.set_xlabel('Month')\n",
    "ax.set_ylabel('Average Total Gross (Billions)')\n",
    "ax.legend((ad1[0], ad2[0]), ('Domestic Gross', 'Worldwide Gross'))\n",
    "\n",
    "\n",
    "fig.savefig('Drama_movies.png')"
   ]
  },
  {
   "cell_type": "code",
   "execution_count": 187,
   "metadata": {},
   "outputs": [
    {
     "data": {
      "image/png": "[encoded data removed]",
      "text/plain": [
       "<Figure size 720x432 with 1 Axes>"
      ]
     },
     "metadata": {
      "needs_background": "light"
     },
     "output_type": "display_data"
    }
   ],
   "source": [
    "# FANTASY\n",
    "fig, ax = plt.subplots(nrows=1, ncols=1, figsize=(10,6))\n",
    "\n",
    "months = [i for i in range(1,13)]\n",
    "\n",
    "mean_dom_grosses = [genre_dict['Fantasy'][genre_dict['Fantasy']['month_released']==i]['domestic_adj'].mean()\n",
    "                   for i in months]\n",
    "\n",
    "mean_ww_grosses = [genre_dict['Fantasy'][genre_dict['Fantasy']['month_released']==i]['worldwide_adj'].mean()\n",
    "                   for i in months]\n",
    "\n",
    "# x and y vals\n",
    "ad1 = ax.bar(months, mean_dom_grosses)   \n",
    "ad2 = ax.bar(months, mean_ww_grosses, bottom=mean_dom_grosses) # use bottom parameter to make stacked\n",
    "ax.set_title('Fantasy')\n",
    "ax.set_xlabel('Month')\n",
    "ax.set_ylabel('Average Total Gross (Billions)')\n",
    "ax.legend((ad1[0], ad2[0]), ('Domestic Gross', 'Worldwide Gross'))\n",
    "\n",
    "\n",
    "fig.savefig('Fantasy_movies.png')"
   ]
  },
  {
   "cell_type": "code",
   "execution_count": 186,
   "metadata": {},
   "outputs": [
    {
     "data": {
      "image/png": "[encoded data removed]",
      "text/plain": [
       "<Figure size 720x432 with 1 Axes>"
      ]
     },
     "metadata": {
      "needs_background": "light"
     },
     "output_type": "display_data"
    }
   ],
   "source": [
    "# COMEDY\n",
    "fig, ax = plt.subplots(nrows=1, ncols=1, figsize=(10,6))\n",
    "\n",
    "months = [i for i in range(1,13)]\n",
    "\n",
    "mean_dom_grosses = [genre_dict['Comedy'][genre_dict['Comedy']['month_released']==i]['domestic_adj'].mean()\n",
    "                   for i in months]\n",
    "\n",
    "mean_ww_grosses = [genre_dict['Comedy'][genre_dict['Comedy']['month_released']==i]['worldwide_adj'].mean()\n",
    "                   for i in months]\n",
    "\n",
    "# x and y vals\n",
    "ad1 = ax.bar(months, mean_dom_grosses)   \n",
    "ad2 = ax.bar(months, mean_ww_grosses, bottom=mean_dom_grosses) # use bottom parameter to make stacked\n",
    "ax.set_title('Comedy')\n",
    "ax.set_xlabel('Month')\n",
    "ax.set_ylabel('Average Total Gross (Billions)')\n",
    "ax.legend((ad1[0], ad2[0]), ('Domestic Gross', 'Worldwide Gross'))\n",
    "\n",
    "\n",
    "fig.savefig('Comedy_movies.png')"
   ]
  },
  {
   "cell_type": "code",
   "execution_count": 185,
   "metadata": {},
   "outputs": [
    {
     "data": {
      "image/png": "[encoded data removed]",
      "text/plain": [
       "<Figure size 720x432 with 1 Axes>"
      ]
     },
     "metadata": {
      "needs_background": "light"
     },
     "output_type": "display_data"
    }
   ],
   "source": [
    "# ANIMATED MOVIES\n",
    "fig, ax = plt.subplots(nrows=1, ncols=1, figsize=(10,6))\n",
    "\n",
    "months = [i for i in range(1,13)]\n",
    "\n",
    "mean_dom_grosses = [genre_dict['Animation'][genre_dict['Animation']['month_released']==i]['domestic_adj'].mean()\n",
    "                   for i in months]\n",
    "\n",
    "mean_ww_grosses = [genre_dict['Animation'][genre_dict['Animation']['month_released']==i]['worldwide_adj'].mean()\n",
    "                   for i in months]\n",
    "\n",
    "# x and y vals\n",
    "ad1 = ax.bar(months, mean_dom_grosses)   \n",
    "ad2 = ax.bar(months, mean_ww_grosses, bottom=mean_dom_grosses) # use bottom parameter to make stacked\n",
    "ax.set_title('Animation')\n",
    "ax.set_xlabel('Month')\n",
    "ax.set_ylabel('Average Total Gross (Billions)')\n",
    "ax.legend((ad1[0], ad2[0]), ('Domestic Gross', 'Worldwide Gross'))\n",
    "\n",
    "\n",
    "fig.savefig('Animated_movies.png')"
   ]
  },
  {
   "cell_type": "code",
   "execution_count": 177,
   "metadata": {},
   "outputs": [
    {
     "data": {
      "image/png": "[encoded data removed]",
      "text/plain": [
       "<Figure size 720x432 with 1 Axes>"
      ]
     },
     "metadata": {
      "needs_background": "light"
     },
     "output_type": "display_data"
    }
   ],
   "source": [
    "## ACTION MOVIES\n",
    "fig, ax = plt.subplots(nrows=1, ncols=1, figsize=(10,6))\n",
    "\n",
    "mean_dom_grosses = [genre_dict['Action'][genre_dict['Action']['month_released']==i]['domestic_adj'].mean()\n",
    "                   for i in months]\n",
    "\n",
    "mean_ww_grosses = [genre_dict['Action'][genre_dict['Action']['month_released']==i]['worldwide_adj'].mean()\n",
    "                   for i in months]\n",
    "\n",
    "# x and y vals\n",
    "ad1 = ax.bar(months, mean_dom_grosses)   \n",
    "ad2 = ax.bar(months, mean_ww_grosses, bottom=mean_dom_grosses) # use bottom parameter to make stacked\n",
    "ax.set_title('Action')\n",
    "ax.set_xlabel('Month')\n",
    "ax.set_ylabel('Average Total Gross (Billions)')\n",
    "ax.legend((ad1[0], ad2[0]), ('Domestic Gross', 'Worldwide Gross'))\n",
    "\n",
    "fig.savefig('Action_movies.png')"
   ]
  },
  {
   "cell_type": "code",
   "execution_count": 173,
   "metadata": {},
   "outputs": [
    {
     "data": {
      "image/png": "[encoded data removed]",
      "text/plain": [
       "<Figure size 720x432 with 1 Axes>"
      ]
     },
     "metadata": {
      "needs_background": "light"
     },
     "output_type": "display_data"
    }
   ],
   "source": [
    "## ADVENTURE MOVIES\n",
    "fig, ax = plt.subplots(nrows=1, ncols=1, figsize=(10,6))\n",
    "\n",
    "mean_dom_grosses = [genre_dict['Adventure'][genre_dict['Adventure']['month_released']==i]['domestic_adj'].mean()\n",
    "                   for i in months]\n",
    "\n",
    "mean_ww_grosses = [genre_dict['Adventure'][genre_dict['Adventure']['month_released']==i]['worldwide_adj'].mean()\n",
    "                   for i in months]\n",
    "\n",
    "# x and y vals\n",
    "ad1 = ax.bar(months, mean_dom_grosses)   \n",
    "ad2 = ax.bar(months, mean_ww_grosses, bottom=mean_dom_grosses) # use bottom parameter to make stacked\n",
    "ax.set_title('Adventure')\n",
    "ax.set_xlabel('Month')\n",
    "ax.set_ylabel('Average Total Gross (Billions)')\n",
    "ax.legend((ad1[0], ad2[0]), ('Domestic Gross', 'Worldwide Gross'))\n",
    "\n",
    "fig.savefig('Adventure_movies.png')"
   ]
  },
  {
   "cell_type": "code",
   "execution_count": 503,
   "metadata": {
    "scrolled": true
   },
   "outputs": [
    {
     "data": {
      "text/plain": [
       "Text(0, 0.5, 'Average Domestic Gross (Billions?)')"
      ]
     },
     "execution_count": 503,
     "metadata": {},
     "output_type": "execute_result"
    },
    {
     "data": {
      "image/png": "[encoded data removed]",
      "text/plain": [
       "<Figure size 720x432 with 1 Axes>"
      ]
     },
     "metadata": {
      "needs_background": "light"
     },
     "output_type": "display_data"
    }
   ],
   "source": [
    "# comparing month released to mean DOMESTIC gross (using domestic_adj)\n",
    "month_avg, ax = plt.subplots(figsize=(10,6))\n",
    "months = [sorted(tnMovieBudgets['month_released'].value_counts().index)[i] \n",
    "     for i in range(0, len(tnMovieBudgets['month_released'].value_counts().index))]\n",
    "mean_dom_grosses = [tnMovieBudgets[tnMovieBudgets['month_released']==i]['domestic_adj'].mean() for i in range(1,13)]                                                                                               \n",
    "ax.bar(months, mean_dom_grosses, color='green')   \n",
    "ax.set_title('Average Domestic Gross per Month')\n",
    "ax.set_xlabel('Month')\n",
    "ax.set_ylabel('Average Domestic Gross (Billions?)')"
   ]
  },
  {
   "cell_type": "code",
   "execution_count": 88,
   "metadata": {},
   "outputs": [
    {
     "data": {
      "text/html": [
       "<div>\n",
       "<style scoped>\n",
       "    .dataframe tbody tr th:only-of-type {\n",
       "        vertical-align: middle;\n",
       "    }\n",
       "\n",
       "    .dataframe tbody tr th {\n",
       "        vertical-align: top;\n",
       "    }\n",
       "\n",
       "    .dataframe thead th {\n",
       "        text-align: right;\n",
       "    }\n",
       "</style>\n",
       "<table border=\"1\" class=\"dataframe\">\n",
       "  <thead>\n",
       "    <tr style=\"text-align: right;\">\n",
       "      <th></th>\n",
       "      <th>id</th>\n",
       "      <th>release_date</th>\n",
       "      <th>movie</th>\n",
       "      <th>production_budget</th>\n",
       "      <th>domestic_gross</th>\n",
       "      <th>worldwide_gross</th>\n",
       "      <th>month_released</th>\n",
       "      <th>year_released</th>\n",
       "    </tr>\n",
       "  </thead>\n",
       "  <tbody>\n",
       "    <tr>\n",
       "      <th>0</th>\n",
       "      <td>1</td>\n",
       "      <td>2009-12-18</td>\n",
       "      <td>Avatar</td>\n",
       "      <td>425000000</td>\n",
       "      <td>760507625.0</td>\n",
       "      <td>2.776345e+09</td>\n",
       "      <td>12</td>\n",
       "      <td>2009</td>\n",
       "    </tr>\n",
       "    <tr>\n",
       "      <th>1</th>\n",
       "      <td>2</td>\n",
       "      <td>2011-05-20</td>\n",
       "      <td>Pirates of the Caribbean: On Stranger Tides</td>\n",
       "      <td>410600000</td>\n",
       "      <td>241063875.0</td>\n",
       "      <td>1.045664e+09</td>\n",
       "      <td>5</td>\n",
       "      <td>2011</td>\n",
       "    </tr>\n",
       "    <tr>\n",
       "      <th>2</th>\n",
       "      <td>3</td>\n",
       "      <td>2019-06-07</td>\n",
       "      <td>Dark Phoenix</td>\n",
       "      <td>350000000</td>\n",
       "      <td>42762350.0</td>\n",
       "      <td>1.497624e+08</td>\n",
       "      <td>6</td>\n",
       "      <td>2019</td>\n",
       "    </tr>\n",
       "    <tr>\n",
       "      <th>3</th>\n",
       "      <td>4</td>\n",
       "      <td>2015-05-01</td>\n",
       "      <td>Avengers: Age of Ultron</td>\n",
       "      <td>330600000</td>\n",
       "      <td>459005868.0</td>\n",
       "      <td>1.403014e+09</td>\n",
       "      <td>5</td>\n",
       "      <td>2015</td>\n",
       "    </tr>\n",
       "    <tr>\n",
       "      <th>4</th>\n",
       "      <td>5</td>\n",
       "      <td>2017-12-15</td>\n",
       "      <td>Star Wars Ep. VIII: The Last Jedi</td>\n",
       "      <td>317000000</td>\n",
       "      <td>620181382.0</td>\n",
       "      <td>1.316722e+09</td>\n",
       "      <td>12</td>\n",
       "      <td>2017</td>\n",
       "    </tr>\n",
       "    <tr>\n",
       "      <th>...</th>\n",
       "      <td>...</td>\n",
       "      <td>...</td>\n",
       "      <td>...</td>\n",
       "      <td>...</td>\n",
       "      <td>...</td>\n",
       "      <td>...</td>\n",
       "      <td>...</td>\n",
       "      <td>...</td>\n",
       "    </tr>\n",
       "    <tr>\n",
       "      <th>5777</th>\n",
       "      <td>78</td>\n",
       "      <td>2018-12-31</td>\n",
       "      <td>Red 11</td>\n",
       "      <td>7000</td>\n",
       "      <td>NaN</td>\n",
       "      <td>NaN</td>\n",
       "      <td>12</td>\n",
       "      <td>2018</td>\n",
       "    </tr>\n",
       "    <tr>\n",
       "      <th>5778</th>\n",
       "      <td>79</td>\n",
       "      <td>1999-04-02</td>\n",
       "      <td>Following</td>\n",
       "      <td>6000</td>\n",
       "      <td>48482.0</td>\n",
       "      <td>2.404950e+05</td>\n",
       "      <td>4</td>\n",
       "      <td>1999</td>\n",
       "    </tr>\n",
       "    <tr>\n",
       "      <th>5779</th>\n",
       "      <td>80</td>\n",
       "      <td>2005-07-13</td>\n",
       "      <td>Return to the Land of Wonders</td>\n",
       "      <td>5000</td>\n",
       "      <td>1338.0</td>\n",
       "      <td>1.338000e+03</td>\n",
       "      <td>7</td>\n",
       "      <td>2005</td>\n",
       "    </tr>\n",
       "    <tr>\n",
       "      <th>5780</th>\n",
       "      <td>81</td>\n",
       "      <td>2015-09-29</td>\n",
       "      <td>A Plague So Pleasant</td>\n",
       "      <td>1400</td>\n",
       "      <td>NaN</td>\n",
       "      <td>NaN</td>\n",
       "      <td>9</td>\n",
       "      <td>2015</td>\n",
       "    </tr>\n",
       "    <tr>\n",
       "      <th>5781</th>\n",
       "      <td>82</td>\n",
       "      <td>2005-08-05</td>\n",
       "      <td>My Date With Drew</td>\n",
       "      <td>1100</td>\n",
       "      <td>181041.0</td>\n",
       "      <td>1.810410e+05</td>\n",
       "      <td>8</td>\n",
       "      <td>2005</td>\n",
       "    </tr>\n",
       "  </tbody>\n",
       "</table>\n",
       "<p>5782 rows × 8 columns</p>\n",
       "</div>"
      ],
      "text/plain": [
       "      id release_date                                        movie  \\\n",
       "0      1   2009-12-18                                       Avatar   \n",
       "1      2   2011-05-20  Pirates of the Caribbean: On Stranger Tides   \n",
       "2      3   2019-06-07                                 Dark Phoenix   \n",
       "3      4   2015-05-01                      Avengers: Age of Ultron   \n",
       "4      5   2017-12-15            Star Wars Ep. VIII: The Last Jedi   \n",
       "...   ..          ...                                          ...   \n",
       "5777  78   2018-12-31                                       Red 11   \n",
       "5778  79   1999-04-02                                    Following   \n",
       "5779  80   2005-07-13                Return to the Land of Wonders   \n",
       "5780  81   2015-09-29                         A Plague So Pleasant   \n",
       "5781  82   2005-08-05                            My Date With Drew   \n",
       "\n",
       "      production_budget  domestic_gross  worldwide_gross  month_released  \\\n",
       "0             425000000     760507625.0     2.776345e+09              12   \n",
       "1             410600000     241063875.0     1.045664e+09               5   \n",
       "2             350000000      42762350.0     1.497624e+08               6   \n",
       "3             330600000     459005868.0     1.403014e+09               5   \n",
       "4             317000000     620181382.0     1.316722e+09              12   \n",
       "...                 ...             ...              ...             ...   \n",
       "5777               7000             NaN              NaN              12   \n",
       "5778               6000         48482.0     2.404950e+05               4   \n",
       "5779               5000          1338.0     1.338000e+03               7   \n",
       "5780               1400             NaN              NaN               9   \n",
       "5781               1100        181041.0     1.810410e+05               8   \n",
       "\n",
       "      year_released  \n",
       "0              2009  \n",
       "1              2011  \n",
       "2              2019  \n",
       "3              2015  \n",
       "4              2017  \n",
       "...             ...  \n",
       "5777           2018  \n",
       "5778           1999  \n",
       "5779           2005  \n",
       "5780           2015  \n",
       "5781           2005  \n",
       "\n",
       "[5782 rows x 8 columns]"
      ]
     },
     "execution_count": 88,
     "metadata": {},
     "output_type": "execute_result"
    }
   ],
   "source": [
    "# comparing mean gross without zeros\n",
    "tnMovies_noz = tnMovieBudgets.replace(0, np.NaN)\n",
    "tnMovies_noz"
   ]
  },
  {
   "cell_type": "code",
   "execution_count": 205,
   "metadata": {},
   "outputs": [],
   "source": [
    "# month_avg, ax = plt.subplots(figsize=(10,6))\n",
    "months = [sorted(tnMovies_noz['month_released'].value_counts().index)[i] \n",
    "     for i in range(0, len(tnMovies_noz['month_released'].value_counts().index))]\n",
    "#mean_dom_grosses1 = [tnMovies_noz[tnMovies_noz['month_released']==i]['domestic_adj'].mean(skipna=True) for i in range(1,13)]                                                                                               \n",
    "#ax.bar(x, mean_dom_grosses1, color='indigo')   \n",
    "#ax.set_title('Average Domestic Gross per Month, without outliers')\n",
    "#ax.set_xlabel('Month')\n",
    "#ax.set_ylabel('Average Domestic Gross (Hundred Millions)')\n",
    "\n",
    "# ***this graph of means have the same values as the other, but why?***"
   ]
  },
  {
   "cell_type": "code",
   "execution_count": 504,
   "metadata": {},
   "outputs": [
    {
     "data": {
      "text/plain": [
       "Text(0, 0.5, 'Average Worldwide Gross (Billions)')"
      ]
     },
     "execution_count": 504,
     "metadata": {},
     "output_type": "execute_result"
    },
    {
     "data": {
      "image/png": "[encoded data removed]",
      "text/plain": [
       "<Figure size 720x432 with 1 Axes>"
      ]
     },
     "metadata": {
      "needs_background": "light"
     },
     "output_type": "display_data"
    }
   ],
   "source": [
    "# comparing month released to mean WORLDWIDE gross\n",
    "month_avg, ax = plt.subplots(figsize=(10,6))\n",
    "months = [sorted(tnMovieBudgets['month_released'].value_counts().index)[i] \n",
    "     for i in range(0, len(tnMovieBudgets['month_released'].value_counts().index))]\n",
    "mean_ww_grosses = [tnMovieBudgets[tnMovieBudgets['month_released']==i]['worldwide_adj'].mean() for i in range(1,13)]                                                                                               \n",
    "ax.bar(months, mean_ww_grosses, color='indigo')   \n",
    "ax.set_title('Average Worldwide Gross per Month')\n",
    "ax.set_xlabel('Month')\n",
    "ax.set_ylabel('Average Worldwide Gross (Billions)')\n",
    "\n",
    "# change y labels to be clearer"
   ]
  },
  {
   "cell_type": "code",
   "execution_count": 674,
   "metadata": {},
   "outputs": [
    {
     "data": {
      "image/png": "[encoded data removed]",
      "text/plain": [
       "<Figure size 720x432 with 2 Axes>"
      ]
     },
     "metadata": {
      "needs_background": "light"
     },
     "output_type": "display_data"
    }
   ],
   "source": [
    "# comparing month released to mean WORLDWIDE + DOMESTIC, 2 plots\n",
    "\n",
    "\n",
    "month_avg, (ax1, ax2) = plt.subplots(ncols=2, sharex=True, sharey=True, figsize=(10,6))\n",
    "\n",
    "# x and y values\n",
    "months = [sorted(tnMovieBudgets['month_released'].value_counts().index)[i] \n",
    "     for i in range(0, len(tnMovieBudgets['month_released'].value_counts().index))]\n",
    "mean_total_grosses = [tnMovieBudgets[tnMovieBudgets['month_released']==i]['total_gross'].mean() for i in range(1,13)]\n",
    "\n",
    "# setting up the graph 1\n",
    "ax1.bar(months, mean_total_grosses, color='grey')   \n",
    "ax1.set_title('Average Total Gross per Month')\n",
    "ax1.set_xlabel('Month')\n",
    "ax1.set_ylabel('Average Total Gross (Billions)')\n",
    "\n",
    "# setting up graph 2\n",
    "p1 = ax2.bar(months, mean_dom_grosses)   \n",
    "p2 = ax2.bar(months, mean_ww_grosses, bottom=mean_dom_grosses) # use bottom parameter to make stacked\n",
    "ax2.set_title('Average Total Gross per Month')\n",
    "ax2.set_xlabel('Month')\n",
    "ax2.set_ylabel('Average Total Gross (Hundred Million)')\n",
    "\n",
    "ax2.legend((p1[0], p2[0]), ('Domestic Gross', 'Worldwide Gross'))\n",
    "\n",
    "plt.show()\n",
    "popular_genres.savefig('avg_monthly_gross.png')\n",
    "\n",
    "# may want to relabel xticks"
   ]
  },
  {
   "cell_type": "code",
   "execution_count": 93,
   "metadata": {},
   "outputs": [],
   "source": [
    "# comparing budget and net gross\n"
   ]
  },
  {
   "cell_type": "code",
   "execution_count": null,
   "metadata": {},
   "outputs": [],
   "source": [
    "# Measure the highest differences between worldwide and domestic gross (international appeal)"
   ]
  },
  {
   "cell_type": "code",
   "execution_count": 603,
   "metadata": {
    "scrolled": true
   },
   "outputs": [
    {
     "name": "stderr",
     "output_type": "stream",
     "text": [
      "<ipython-input-603-d0e2542ec849>:25: UserWarning: FixedFormatter should only be used together with FixedLocator\n",
      "  ax1.set_xticklabels(top_genre_ct_names, rotation = 45)\n",
      "<ipython-input-603-d0e2542ec849>:26: UserWarning: FixedFormatter should only be used together with FixedLocator\n",
      "  ax2.set_xticklabels(top_genre_ct_names, rotation = 45)\n"
     ]
    },
    {
     "data": {
      "image/png": "[encoded data removed]",
      "text/plain": [
       "<Figure size 1152x216 with 2 Axes>"
      ]
     },
     "metadata": {
      "needs_background": "light"
     },
     "output_type": "display_data"
    }
   ],
   "source": [
    "# top 15 genres average worldwide and domestic gross (2 charts)\n",
    "popular_genres, (ax1,ax2) = plt.subplots(nrows=1, ncols=2, figsize=(16,3))\n",
    "###############\n",
    "\n",
    "domestic_avgs = [genre_dict_2[i]['domestic_adj_x'][genre_dict_2[i]['domestic_adj_x']!='Unknown'].mean() \n",
    "                 for i in top_genre_ct_names]\n",
    "ww_avgs = [genre_dict_2[i]['worldwide_adj'].mean() for i in top_genre_ct_names]\n",
    "\n",
    "# try a list comprehension for this (and if statement)\n",
    "color_list = [\"mediumseagreen\",\"mediumseagreen\",\"mediumseagreen\",\"mediumseagreen\",\"mediumseagreen\",\n",
    "              \"rebeccapurple\",\"mediumseagreen\",\"mediumseagreen\",\"mediumseagreen\",\"mediumseagreen\",\n",
    "             \"mediumseagreen\", \"rebeccapurple\",\"mediumseagreen\",\"mediumseagreen\",\"rebeccapurple\"]\n",
    "color_list2 = [\"cornflowerblue\",\"cornflowerblue\",\"cornflowerblue\",\"cornflowerblue\",\"cornflowerblue\",\n",
    "              \"rebeccapurple\",\"cornflowerblue\",\"cornflowerblue\",\"cornflowerblue\",\"cornflowerblue\",\n",
    "             \"cornflowerblue\", \"cornflowerblue\",\"cornflowerblue\",\"rebeccapurple\",\"rebeccapurple\"]\n",
    "\n",
    "ax1.bar(top_genre_ct_names, domestic_avgs, color=color_list)\n",
    "ax2.bar(top_genre_ct_names, ww_avgs, color=color_list2)\n",
    "# x and y vals; use bottom parameter to make stacked\n",
    "ax2.set_xlabel('Genres')\n",
    "ax2.set_ylabel('Average Worldwide Gross')\n",
    "ax1.set_xlabel('Genres')\n",
    "ax1.set_ylabel('Average Domestic Gross')\n",
    "\n",
    "ax1.set_xticklabels(top_genre_ct_names, rotation = 45)\n",
    "ax2.set_xticklabels(top_genre_ct_names, rotation = 45)\n",
    "\n",
    "ax1.set_title('Top 15 Genres Average Domestic Gross')\n",
    "ax2.set_title('Top 15 Genres Average Worldwide Gross ')\n",
    "\n",
    "popular_genres.savefig('genre_avg_gross.png')\n",
    "# notice that Western worldwide gross is less"
   ]
  },
  {
   "cell_type": "markdown",
   "metadata": {},
   "source": [
    "### Average gross revenue for movie per genre"
   ]
  },
  {
   "cell_type": "code",
   "execution_count": 210,
   "metadata": {},
   "outputs": [
    {
     "data": {
      "text/html": [
       "<div>\n",
       "<style scoped>\n",
       "    .dataframe tbody tr th:only-of-type {\n",
       "        vertical-align: middle;\n",
       "    }\n",
       "\n",
       "    .dataframe tbody tr th {\n",
       "        vertical-align: top;\n",
       "    }\n",
       "\n",
       "    .dataframe thead th {\n",
       "        text-align: right;\n",
       "    }\n",
       "</style>\n",
       "<table border=\"1\" class=\"dataframe\">\n",
       "  <thead>\n",
       "    <tr style=\"text-align: right;\">\n",
       "      <th></th>\n",
       "      <th>tconst</th>\n",
       "      <th>primary_title</th>\n",
       "      <th>original_title</th>\n",
       "      <th>start_year</th>\n",
       "      <th>runtime_minutes</th>\n",
       "      <th>genres</th>\n",
       "      <th>title_equal</th>\n",
       "      <th>ordering_akas</th>\n",
       "      <th>title</th>\n",
       "      <th>region</th>\n",
       "      <th>...</th>\n",
       "      <th>foreign_gross</th>\n",
       "      <th>year_x</th>\n",
       "      <th>domestic_adj_x</th>\n",
       "      <th>foreign_adj</th>\n",
       "      <th>month_released</th>\n",
       "      <th>year_y</th>\n",
       "      <th>domestic_adj_y</th>\n",
       "      <th>worldwide_adj</th>\n",
       "      <th>budget_adj</th>\n",
       "      <th>total_BOM_gross</th>\n",
       "    </tr>\n",
       "  </thead>\n",
       "  <tbody>\n",
       "    <tr>\n",
       "      <th>2292</th>\n",
       "      <td>tt7255884</td>\n",
       "      <td>Hush</td>\n",
       "      <td>Hush</td>\n",
       "      <td>2016</td>\n",
       "      <td>80</td>\n",
       "      <td>[Documentary, Drama, Reality-TV]</td>\n",
       "      <td>True</td>\n",
       "      <td>1</td>\n",
       "      <td>Hush</td>\n",
       "      <td>ID</td>\n",
       "      <td>...</td>\n",
       "      <td>Unknown</td>\n",
       "      <td>Unknown</td>\n",
       "      <td>Unknown</td>\n",
       "      <td>Unknown</td>\n",
       "      <td>4</td>\n",
       "      <td>2016</td>\n",
       "      <td>0.0</td>\n",
       "      <td>0.0</td>\n",
       "      <td>1.078348e+06</td>\n",
       "      <td>NaN</td>\n",
       "    </tr>\n",
       "  </tbody>\n",
       "</table>\n",
       "<p>1 rows × 41 columns</p>\n",
       "</div>"
      ],
      "text/plain": [
       "         tconst primary_title original_title start_year runtime_minutes  \\\n",
       "2292  tt7255884          Hush           Hush       2016              80   \n",
       "\n",
       "                                genres title_equal ordering_akas title region  \\\n",
       "2292  [Documentary, Drama, Reality-TV]        True             1  Hush     ID   \n",
       "\n",
       "      ... foreign_gross   year_x domestic_adj_x foreign_adj month_released  \\\n",
       "2292  ...       Unknown  Unknown        Unknown     Unknown              4   \n",
       "\n",
       "     year_y domestic_adj_y worldwide_adj    budget_adj total_BOM_gross  \n",
       "2292   2016            0.0           0.0  1.078348e+06             NaN  \n",
       "\n",
       "[1 rows x 41 columns]"
      ]
     },
     "execution_count": 210,
     "metadata": {},
     "output_type": "execute_result"
    }
   ],
   "source": [
    "#removing Reality-TV from genre dict and genres list\n",
    "genre_dict_2.pop('Reality-TV')"
   ]
  },
  {
   "cell_type": "code",
   "execution_count": 669,
   "metadata": {},
   "outputs": [],
   "source": [
    "genres.append('Western')\n",
    "genres"
   ]
  },
  {
   "cell_type": "code",
   "execution_count": 664,
   "metadata": {},
   "outputs": [
    {
     "ename": "KeyError",
     "evalue": "'Reality-TV'",
     "output_type": "error",
     "traceback": [
      "\u001b[0;31m---------------------------------------------------------------------------\u001b[0m",
      "\u001b[0;31mKeyError\u001b[0m                                  Traceback (most recent call last)",
      "\u001b[0;32m<ipython-input-664-18847e672e8f>\u001b[0m in \u001b[0;36m<module>\u001b[0;34m\u001b[0m\n\u001b[1;32m      2\u001b[0m \u001b[0;31m###############\u001b[0m\u001b[0;34m\u001b[0m\u001b[0;34m\u001b[0m\u001b[0;34m\u001b[0m\u001b[0m\n\u001b[1;32m      3\u001b[0m \u001b[0;34m\u001b[0m\u001b[0m\n\u001b[0;32m----> 4\u001b[0;31m total_gross_avgs = [genre_dict_2[i]['total_BOM_gross'][genre_dict_2[i]['total_BOM_gross']!='Unknown'].mean() \n\u001b[0m\u001b[1;32m      5\u001b[0m                  for i in genres]\n\u001b[1;32m      6\u001b[0m \u001b[0mlc\u001b[0m \u001b[0;34m=\u001b[0m \u001b[0;34m[\u001b[0m\u001b[0;36m0\u001b[0m\u001b[0;34m,\u001b[0m\u001b[0;36m1\u001b[0m\u001b[0;34m,\u001b[0m\u001b[0;36m3\u001b[0m\u001b[0;34m,\u001b[0m\u001b[0;36m4\u001b[0m\u001b[0;34m,\u001b[0m\u001b[0;36m10\u001b[0m\u001b[0;34m]\u001b[0m\u001b[0;34m\u001b[0m\u001b[0;34m\u001b[0m\u001b[0m\n",
      "\u001b[0;32m<ipython-input-664-18847e672e8f>\u001b[0m in \u001b[0;36m<listcomp>\u001b[0;34m(.0)\u001b[0m\n\u001b[1;32m      2\u001b[0m \u001b[0;31m###############\u001b[0m\u001b[0;34m\u001b[0m\u001b[0;34m\u001b[0m\u001b[0;34m\u001b[0m\u001b[0m\n\u001b[1;32m      3\u001b[0m \u001b[0;34m\u001b[0m\u001b[0m\n\u001b[0;32m----> 4\u001b[0;31m total_gross_avgs = [genre_dict_2[i]['total_BOM_gross'][genre_dict_2[i]['total_BOM_gross']!='Unknown'].mean() \n\u001b[0m\u001b[1;32m      5\u001b[0m                  for i in genres]\n\u001b[1;32m      6\u001b[0m \u001b[0mlc\u001b[0m \u001b[0;34m=\u001b[0m \u001b[0;34m[\u001b[0m\u001b[0;36m0\u001b[0m\u001b[0;34m,\u001b[0m\u001b[0;36m1\u001b[0m\u001b[0;34m,\u001b[0m\u001b[0;36m3\u001b[0m\u001b[0;34m,\u001b[0m\u001b[0;36m4\u001b[0m\u001b[0;34m,\u001b[0m\u001b[0;36m10\u001b[0m\u001b[0;34m]\u001b[0m\u001b[0;34m\u001b[0m\u001b[0;34m\u001b[0m\u001b[0m\n",
      "\u001b[0;31mKeyError\u001b[0m: 'Reality-TV'"
     ]
    },
    {
     "data": {
      "image/png": "[encoded data removed]",
      "text/plain": [
       "<Figure size 936x504 with 1 Axes>"
      ]
     },
     "metadata": {
      "needs_background": "light"
     },
     "output_type": "display_data"
    }
   ],
   "source": [
    "popular_genres, ax = plt.subplots(nrows=1, ncols=1, figsize=(13,7))\n",
    "###############\n",
    "\n",
    "total_gross_avgs = [genre_dict_2[i]['total_BOM_gross'][genre_dict_2[i]['total_BOM_gross']!='Unknown'].mean() \n",
    "                 for i in genres]\n",
    "lc = [0,1,3,4,10]\n",
    "color_list = ['palevioletred' if i in lc else 'skyblue' for i in range(0,len(genres))]\n",
    "\n",
    "ax.bar(genres, total_gross_avgs, color=color_list)\n",
    "\n",
    "# x and y vals; use bottom parameter to make stacked\n",
    "ax.set_xlabel('Genres')\n",
    "ax.set_ylabel('Average Total Gross')\n",
    "\n",
    "ax.set_xticklabels(genres, rotation = 45)\n",
    "\n",
    "ax.set_title('Average Total Gross per Genre')\n",
    "\n",
    "popular_genres.savefig('avg_gross_per_genre.png')"
   ]
  },
  {
   "cell_type": "code",
   "execution_count": 248,
   "metadata": {
    "scrolled": true
   },
   "outputs": [
    {
     "name": "stdout",
     "output_type": "stream",
     "text": [
      "False\n",
      "3.02400509068617 2.7033637020543266 2.5647159050024415\n"
     ]
    }
   ],
   "source": [
    "# Calculate sum of top 3 in graph above vs sum of the other genres\n",
    "oth = [i for i in range(0, len(genres))]\n",
    "\n",
    "for index in lc:\n",
    "    del oth[index]\n",
    "\n",
    "       \n",
    "total_gross_avg3 = sum(list(map(total_gross_avgs.__getitem__, lc)))\n",
    "others_gross_avg = sum(list(map(total_gross_avgs.__getitem__,oth)))\n",
    "\n",
    "print(total_gross_avg3 > others_gross_avg)# False\n",
    "\n",
    "# Animation avg is __ more the avg of those under the top 3\n",
    "\n",
    "animation_compare = total_gross_avgs[1] / (others_gross_avg / len(oth))\n",
    "adventure_compare = total_gross_avgs[3] / (others_gross_avg / len(oth))\n",
    "scifi_compare = total_gross_avgs[10] / (others_gross_avg / len(oth)) \n",
    "print(animation_compare, adventure_compare, scifi_compare)"
   ]
  },
  {
   "cell_type": "code",
   "execution_count": null,
   "metadata": {},
   "outputs": [],
   "source": [
    "# Genre gross compared against average gross for a given month"
   ]
  },
  {
   "cell_type": "markdown",
   "metadata": {},
   "source": [
    "### Which genres are the most common for each month"
   ]
  },
  {
   "cell_type": "code",
   "execution_count": 443,
   "metadata": {},
   "outputs": [],
   "source": [
    "# first, let's append some usable \"genre combos\" to the genre dict \n",
    "def genre_contained_combos(df):\n",
    "    combo_dict = {}\n",
    "    \n",
    "    combo_list = [(\"Romance\",\"Comedy\"), (\"Animation\",\"Comedy\"), (\"Adventure\",\"Comedy\"), \n",
    "                  (\"Adventure\",\"Drama\"), (\"Romance\",\"Drama\"), (\"Animation\", \"Drama\"), \n",
    "                 (\"Family\", \"Comedy\"), (\"Family\", \"Drama\")]\n",
    "    \n",
    "    for k in range(0, len(combo_list)):\n",
    "        pair_name = combo_list[k][0] + '/' + combo_list[k][1]\n",
    "        index_list = []\n",
    "        ctr = 0\n",
    "        rel_genres = ['Romance', 'Comedy', 'Animation', 'Drama', 'Adventure', 'Family']\n",
    "        for row in df['genres']:\n",
    "            if type(row) == list:\n",
    "                row_pair_keepr = []\n",
    "                for i in row:\n",
    "                    #print(row)\n",
    "                    if i in rel_genres:\n",
    "                        row_pair_keepr.append(i)\n",
    "                        if len(row_pair_keepr) == 2:\n",
    "                            if (row_pair_keepr[0] in combo_list[k]) & (row_pair_keepr[1] in combo_list[k]):\n",
    "                                index_list.append(ctr)                 \n",
    "            ctr += 1\n",
    "        combo_dict[pair_name] = imdb_BOM_tn.iloc[index_list]\n",
    "        \n",
    "    return combo_dict"
   ]
  },
  {
   "cell_type": "code",
   "execution_count": 444,
   "metadata": {},
   "outputs": [],
   "source": [
    "genre_dict_3 = genre_contained_combos(imdb_BOM_tn)"
   ]
  },
  {
   "cell_type": "code",
   "execution_count": 445,
   "metadata": {},
   "outputs": [],
   "source": [
    "genre_dict_3.update(genre_dict_2)\n",
    "#imdb_BOM_tn[('Romance' in imdb_BOM_tn['genres']) & ('Comedy' in imdb_BOM_tn['genres'])],"
   ]
  },
  {
   "cell_type": "code",
   "execution_count": 446,
   "metadata": {
    "scrolled": true
   },
   "outputs": [
    {
     "data": {
      "text/plain": [
       "dict_keys(['Romance/Comedy', 'Animation/Comedy', 'Adventure/Comedy', 'Adventure/Drama', 'Romance/Drama', 'Animation/Drama', 'Family/Comedy', 'Family/Drama', 'Action', 'Animation', 'Comedy', 'Adventure', 'Fantasy', 'Mystery', 'Drama', 'Romance', 'Documentary', 'Crime', 'Sci-Fi', 'Family', 'Thriller', 'Horror', 'Biography', 'History', 'News', 'War', 'Sport', 'Music', 'Musical', 'Western'])"
      ]
     },
     "execution_count": 446,
     "metadata": {},
     "output_type": "execute_result"
    }
   ],
   "source": [
    "genre_dict_3.keys()"
   ]
  },
  {
   "cell_type": "code",
   "execution_count": 416,
   "metadata": {},
   "outputs": [
    {
     "data": {
      "text/plain": [
       "167"
      ]
     },
     "execution_count": 416,
     "metadata": {},
     "output_type": "execute_result"
    }
   ],
   "source": [
    "len(genre_dict_3['Romance/Drama'])"
   ]
  },
  {
   "cell_type": "markdown",
   "metadata": {},
   "source": [
    "MAKING GRAPH BELOW"
   ]
  },
  {
   "cell_type": "code",
   "execution_count": 463,
   "metadata": {
    "scrolled": true
   },
   "outputs": [
    {
     "data": {
      "text/plain": [
       "Text(0.5, 1.0, 'Romance/Comedy vs Romance/Drama Average Total Gross per Month')"
      ]
     },
     "execution_count": 463,
     "metadata": {},
     "output_type": "execute_result"
    },
    {
     "data": {
      "image/png": "[encoded data removed]",
      "text/plain": [
       "<Figure size 576x288 with 1 Axes>"
      ]
     },
     "metadata": {
      "needs_background": "light"
     },
     "output_type": "display_data"
    }
   ],
   "source": [
    "# Romance/Comedy vs Romance Drama TOTAL GROSS\n",
    "\n",
    "###############\n",
    "\n",
    "total_gross_avgs_comedy = [genre_dict_3['Romance/Comedy']['total_BOM_gross'][\n",
    "    (genre_dict_3['Romance/Comedy']['month_released']==i)&(genre_dict_3['Romance/Comedy']['total_BOM_gross']!='Unknown')].mean() for i in months\n",
    "    ]\n",
    "\n",
    "total_gross_avgs_drama = [genre_dict_3['Romance/Drama']['total_BOM_gross'][\n",
    "    (genre_dict_3['Romance/Drama']['month_released']==i)&(genre_dict_3['Romance/Drama']['total_BOM_gross']!='Unknown')].mean() for i in months\n",
    "    ]\n",
    "w = 0.4\n",
    "bar1 = np.arange(len(months))\n",
    "bar2 = [i+w for i in bar1]\n",
    "\n",
    "plt.figure(figsize=(8,4))\n",
    "\n",
    "plt.bar(bar1, total_gross_avgs_comedy, width=w, color='darkred', label='Romance/Comedy', align='center')\n",
    "plt.bar(bar2, total_gross_avgs_drama, width=w, color='indigo', label='Romance/Drama', align='center')\n",
    "\n",
    "month_tix = [i for i in range(0,12)]\n",
    "plt.xticks(month_tix, month_names, rotation=45)\n",
    "\n",
    "# x and y vals; use bottom parameter to make stacked\n",
    "plt.xlabel('Month')\n",
    "plt.ylabel('Average Total Gross (billions)')\n",
    "plt.legend()\n",
    "\n",
    "plt.title('Romance/Comedy vs Romance/Drama Average Total Gross per Month')"
   ]
  },
  {
   "cell_type": "code",
   "execution_count": 453,
   "metadata": {},
   "outputs": [
    {
     "data": {
      "text/plain": [
       "5"
      ]
     },
     "execution_count": 453,
     "metadata": {},
     "output_type": "execute_result"
    }
   ],
   "source": [
    "# there are barely any movies that fit this criteria...\n",
    "len(genre_dict_3['Animation/Drama'])"
   ]
  },
  {
   "cell_type": "code",
   "execution_count": 670,
   "metadata": {
    "scrolled": true
   },
   "outputs": [
    {
     "data": {
      "text/plain": [
       "Text(0.5, 1.0, 'Animation/Comedy Total Gross per Month')"
      ]
     },
     "execution_count": 670,
     "metadata": {},
     "output_type": "execute_result"
    },
    {
     "data": {
      "image/png": "[encoded data removed]",
      "text/plain": [
       "<Figure size 720x432 with 1 Axes>"
      ]
     },
     "metadata": {
      "needs_background": "light"
     },
     "output_type": "display_data"
    }
   ],
   "source": [
    "# Animation Comedy vs Animation Drama TOTAL GROSS\n",
    "\n",
    "\n",
    "total_gross_avgs_comedy = [genre_dict_3['Animation/Comedy']['total_BOM_gross'][\n",
    "    (genre_dict_3['Animation/Comedy']['month_released']==i)&(genre_dict_3['Animation/Comedy']['total_BOM_gross']!='Unknown')].mean() for i in months\n",
    "    ]\n",
    "\n",
    "total_gross_avgs_drama = [genre_dict_3['Animation/Drama']['total_BOM_gross'][\n",
    "    (genre_dict_3['Animation/Drama']['month_released']==i)&(genre_dict_3['Animation/Drama']['total_BOM_gross']!='Unknown')].mean() for i in months\n",
    "    ]\n",
    "\n",
    "\n",
    "plt.figure(figsize=(10,6))\n",
    "\n",
    "plt.bar(bar1, total_gross_avgs_comedy, width=w, color='lime', label='Animation/Comedy', align='center')\n",
    "\n",
    "month_tix = [i for i in range(0,12)]\n",
    "plt.xticks(month_tix, month_names, rotation=45)\n",
    "\n",
    "# x and y vals; use bottom parameter to make stacked\n",
    "plt.xlabel('Month')\n",
    "plt.ylabel('Average Total Gross (Hundred Millions)')\n",
    "\n",
    "\n",
    "plt.title('Animation/Comedy Total Gross per Month')\n"
   ]
  },
  {
   "cell_type": "code",
   "execution_count": 673,
   "metadata": {},
   "outputs": [
    {
     "data": {
      "text/html": [
       "<div>\n",
       "<style scoped>\n",
       "    .dataframe tbody tr th:only-of-type {\n",
       "        vertical-align: middle;\n",
       "    }\n",
       "\n",
       "    .dataframe tbody tr th {\n",
       "        vertical-align: top;\n",
       "    }\n",
       "\n",
       "    .dataframe thead th {\n",
       "        text-align: right;\n",
       "    }\n",
       "</style>\n",
       "<table border=\"1\" class=\"dataframe\">\n",
       "  <thead>\n",
       "    <tr style=\"text-align: right;\">\n",
       "      <th></th>\n",
       "      <th>tconst</th>\n",
       "      <th>primary_title</th>\n",
       "      <th>original_title</th>\n",
       "      <th>start_year</th>\n",
       "      <th>runtime_minutes</th>\n",
       "      <th>genres</th>\n",
       "      <th>title_equal</th>\n",
       "      <th>ordering_akas</th>\n",
       "      <th>title</th>\n",
       "      <th>region</th>\n",
       "      <th>...</th>\n",
       "      <th>foreign_gross</th>\n",
       "      <th>year_x</th>\n",
       "      <th>domestic_adj_x</th>\n",
       "      <th>foreign_adj</th>\n",
       "      <th>month_released</th>\n",
       "      <th>year_y</th>\n",
       "      <th>domestic_adj_y</th>\n",
       "      <th>worldwide_adj</th>\n",
       "      <th>budget_adj</th>\n",
       "      <th>total_BOM_gross</th>\n",
       "    </tr>\n",
       "  </thead>\n",
       "  <tbody>\n",
       "    <tr>\n",
       "      <th>823</th>\n",
       "      <td>tt1323594</td>\n",
       "      <td>Despicable Me</td>\n",
       "      <td>Despicable Me</td>\n",
       "      <td>2010</td>\n",
       "      <td>95</td>\n",
       "      <td>[Animation, Comedy, Family]</td>\n",
       "      <td>True</td>\n",
       "      <td>10</td>\n",
       "      <td>Ganuv Al Hayareach</td>\n",
       "      <td>IL</td>\n",
       "      <td>...</td>\n",
       "      <td>2.916e+08</td>\n",
       "      <td>2010</td>\n",
       "      <td>2.98506e+08</td>\n",
       "      <td>3.461e+08</td>\n",
       "      <td>7</td>\n",
       "      <td>2010</td>\n",
       "      <td>2.985223e+08</td>\n",
       "      <td>6.450389e+08</td>\n",
       "      <td>8.189621e+07</td>\n",
       "      <td>6.44623e+08</td>\n",
       "    </tr>\n",
       "  </tbody>\n",
       "</table>\n",
       "<p>1 rows × 41 columns</p>\n",
       "</div>"
      ],
      "text/plain": [
       "        tconst  primary_title original_title start_year runtime_minutes  \\\n",
       "823  tt1323594  Despicable Me  Despicable Me       2010              95   \n",
       "\n",
       "                          genres title_equal ordering_akas  \\\n",
       "823  [Animation, Comedy, Family]        True            10   \n",
       "\n",
       "                  title region  ... foreign_gross year_x domestic_adj_x  \\\n",
       "823  Ganuv Al Hayareach     IL  ...     2.916e+08   2010    2.98506e+08   \n",
       "\n",
       "    foreign_adj month_released year_y domestic_adj_y worldwide_adj  \\\n",
       "823   3.461e+08              7   2010   2.985223e+08  6.450389e+08   \n",
       "\n",
       "       budget_adj total_BOM_gross  \n",
       "823  8.189621e+07     6.44623e+08  \n",
       "\n",
       "[1 rows x 41 columns]"
      ]
     },
     "execution_count": 673,
     "metadata": {},
     "output_type": "execute_result"
    }
   ],
   "source": [
    "genre_dict_3['Animation/Comedy'][genre_dict_3['Animation/Comedy']['month_released']==7]"
   ]
  },
  {
   "cell_type": "code",
   "execution_count": 460,
   "metadata": {},
   "outputs": [
    {
     "data": {
      "text/plain": [
       "Text(0.5, 1.0, 'Adventure/Comedy vs Adventure/Drama Average Total Gross per Month')"
      ]
     },
     "execution_count": 460,
     "metadata": {},
     "output_type": "execute_result"
    },
    {
     "data": {
      "image/png": "[encoded data removed]",
      "text/plain": [
       "<Figure size 720x432 with 1 Axes>"
      ]
     },
     "metadata": {
      "needs_background": "light"
     },
     "output_type": "display_data"
    }
   ],
   "source": [
    "# Adventure Comedy vs Adventure Drama TOTAL GROSS\n",
    "\n",
    "total_gross_avgs_comedy = [genre_dict_3['Adventure/Comedy']['total_BOM_gross'][\n",
    "    (genre_dict_3['Adventure/Comedy']['month_released']==i)&(genre_dict_3['Adventure/Comedy']['total_BOM_gross']!='Unknown')].mean() for i in months\n",
    "    ]\n",
    "\n",
    "total_gross_avgs_drama = [genre_dict_3['Adventure/Drama']['total_BOM_gross'][\n",
    "    (genre_dict_3['Adventure/Drama']['month_released']==i)&(genre_dict_3['Adventure/Drama']['total_BOM_gross']!='Unknown')].mean() for i in months\n",
    "    ]\n",
    "w = 0.4\n",
    "bar1 = np.arange(len(months))\n",
    "bar2 = [i+w for i in bar1]\n",
    "\n",
    "plt.figure(figsize=(10,6))\n",
    "\n",
    "plt.bar(bar1, total_gross_avgs_comedy, width=w, color='orange', label='Adventure/Comedy', align='center')\n",
    "plt.bar(bar2, total_gross_avgs_drama, width=w, color='brown', label='Adventure/Drama', align='center')\n",
    "\n",
    "month_tix = [i for i in range(0,12)]\n",
    "plt.xticks(month_tix, month_names, rotation=45)\n",
    "\n",
    "# x and y vals; use bottom parameter to make stacked\n",
    "plt.xlabel('Month')\n",
    "plt.ylabel('Average Total Gross (billions)')\n",
    "plt.legend()\n",
    "\n",
    "plt.title('Adventure/Comedy vs Adventure/Drama Average Total Gross per Month')"
   ]
  },
  {
   "cell_type": "code",
   "execution_count": null,
   "metadata": {},
   "outputs": [],
   "source": [
    "# Adventure Comedy vs Adventure Drama MOVIE COUNT"
   ]
  },
  {
   "cell_type": "code",
   "execution_count": 459,
   "metadata": {},
   "outputs": [
    {
     "data": {
      "text/plain": [
       "Text(0.5, 1.0, 'Family/Comedy vs Family/Drama Average Total Gross per Month')"
      ]
     },
     "execution_count": 459,
     "metadata": {},
     "output_type": "execute_result"
    },
    {
     "data": {
      "image/png": "[encoded data removed]",
      "text/plain": [
       "<Figure size 720x432 with 1 Axes>"
      ]
     },
     "metadata": {
      "needs_background": "light"
     },
     "output_type": "display_data"
    }
   ],
   "source": [
    "# Family Comedy vs Family Drama TOTAL GROSS\n",
    "\n",
    "total_gross_avgs_comedy = [genre_dict_3['Family/Comedy']['total_BOM_gross'][\n",
    "    (genre_dict_3['Family/Comedy']['month_released']==i)&(genre_dict_3['Family/Comedy']['total_BOM_gross']!='Unknown')].mean() for i in months\n",
    "    ]\n",
    "\n",
    "total_gross_avgs_drama = [genre_dict_3['Family/Drama']['total_BOM_gross'][\n",
    "    (genre_dict_3['Family/Drama']['month_released']==i)&(genre_dict_3['Family/Drama']['total_BOM_gross']!='Unknown')].mean() for i in months\n",
    "    ]\n",
    "w = 0.4\n",
    "bar1 = np.arange(len(months))\n",
    "bar2 = [i+w for i in bar1]\n",
    "\n",
    "plt.figure(figsize=(10,6))\n",
    "\n",
    "plt.bar(bar1, total_gross_avgs_comedy, width=w, color='deepskyblue', label='Family/Comedy', align='center')\n",
    "plt.bar(bar2, total_gross_avgs_drama, width=w, color='darkslategrey', label='Family/Drama', align='center')\n",
    "\n",
    "month_tix = [i for i in range(0,12)]\n",
    "plt.xticks(month_tix, month_names, rotation=45)\n",
    "\n",
    "# x and y vals; use bottom parameter to make stacked\n",
    "plt.xlabel('Month')\n",
    "plt.ylabel('Average Total Gross (billions)')\n",
    "plt.legend()\n",
    "\n",
    "plt.title('Family/Comedy vs Family/Drama Average Total Gross per Month')"
   ]
  },
  {
   "cell_type": "markdown",
   "metadata": {},
   "source": [
    "Here is the source for the double bar graph code : https://www.youtube.com/watch?v=ZjQCPMO7LBE"
   ]
  },
  {
   "cell_type": "markdown",
   "metadata": {},
   "source": [
    "### Genre gross profit per year 2010-now"
   ]
  },
  {
   "cell_type": "code",
   "execution_count": 458,
   "metadata": {},
   "outputs": [
    {
     "data": {
      "text/plain": [
       "487"
      ]
     },
     "execution_count": 458,
     "metadata": {},
     "output_type": "execute_result"
    }
   ],
   "source": [
    "imdb_BOM_tn['year_y'].value_counts().sum() - imdb_BOM_tn['year_y'][imdb_BOM_tn['year_y']>1999].value_counts().sum()\n",
    "\n"
   ]
  },
  {
   "cell_type": "code",
   "execution_count": 486,
   "metadata": {},
   "outputs": [
    {
     "data": {
      "text/plain": [
       "[2010, 2011, 2012, 2013, 2014, 2015, 2016, 2017, 2018]"
      ]
     },
     "execution_count": 486,
     "metadata": {},
     "output_type": "execute_result"
    }
   ],
   "source": [
    "year_list = sorted(list(imdb_BOM_tn['year_y'][(imdb_BOM_tn['year_y']>2009) & (imdb_BOM_tn['year_y']<2019)].value_counts().index))\n",
    "\n",
    "year_list"
   ]
  },
  {
   "cell_type": "markdown",
   "metadata": {},
   "source": [
    "For line chart, used this as a guide: https://python-graph-gallery.com/122-multiple-lines-chart/"
   ]
  },
  {
   "cell_type": "code",
   "execution_count": 661,
   "metadata": {
    "scrolled": false
   },
   "outputs": [
    {
     "data": {
      "text/plain": [
       "Text(0.5, 1.0, 'Average Total Gross for the TOP 5 Genres between 2010-2018')"
      ]
     },
     "execution_count": 661,
     "metadata": {},
     "output_type": "execute_result"
    },
    {
     "data": {
      "image/png": "[encoded data removed]",
      "text/plain": [
       "<Figure size 576x288 with 1 Axes>"
      ]
     },
     "metadata": {
      "needs_background": "light"
     },
     "output_type": "display_data"
    }
   ],
   "source": [
    "# LINE GRAPH for TOP 5 Genres Avg Total Gross 1999-now\n",
    "\n",
    "adventure = [genre_dict_3['Adventure'][(genre_dict_3['Adventure']['year_y']==i)&(genre_dict_3['Adventure']['total_BOM_gross']!='Unknown')]['total_BOM_gross'].mean() for i in year_list]\n",
    "animation = [genre_dict_3['Animation'][(genre_dict_3['Animation']['year_y']==i)&(genre_dict_3['Animation']['total_BOM_gross']!='Unknown')]['total_BOM_gross'].mean() for i in year_list]\n",
    "scifi = [genre_dict_3['Sci-Fi'][(genre_dict_3['Sci-Fi']['year_y']==i)&(genre_dict_3['Sci-Fi']['total_BOM_gross']!='Unknown')]['total_BOM_gross'].mean() for i in year_list]\n",
    "fantasy = [genre_dict_3['Fantasy'][(genre_dict_3['Fantasy']['year_y']==i)&(genre_dict_3['Fantasy']['total_BOM_gross']!='Unknown')]['total_BOM_gross'].mean() for i in year_list]\n",
    "action = [genre_dict_3['Action'][(genre_dict_3['Action']['year_y']==i)&(genre_dict_3['Action']['total_BOM_gross']!='Unknown')]['total_BOM_gross'].mean() for i in year_list]\n",
    "\n",
    "plt.figure(figsize=(8,4))\n",
    "\n",
    "plt.plot( year_list, adventure, marker='o', markerfacecolor='limegreen', markersize=6, color='limegreen', label='Adventure', linewidth=4)\n",
    "plt.plot( year_list, animation, marker='o', markerfacecolor='orange', markersize=6, color='orange', label='Animation', linewidth=4)\n",
    "plt.plot( year_list, scifi, marker='o', markerfacecolor='mediumorchid', markersize=6, color='mediumorchid', label='Sci-Fi', linewidth=4)\n",
    "plt.plot( year_list, fantasy, marker='o', markerfacecolor='maroon', markersize=6, color='maroon', label='Fantasy', linewidth=4)\n",
    "plt.plot( year_list, action, marker='o', markerfacecolor='darkgoldenrod', markersize=6, color='darkgoldenrod', label='Action', linewidth=4)\n",
    "\n",
    "year_tix = year_list\n",
    "plt.xticks(year_list, year_list, rotation=45)\n",
    "\n",
    "# x and y vals; use bottom parameter to make stacked\n",
    "plt.xlabel('Year')\n",
    "plt.ylabel('Average Total Gross (Hundred Million)')\n",
    "plt.legend()\n",
    "\n",
    "plt.title('Average Total Gross for the TOP 5 Genres between 2010-2018')\n",
    "\n",
    "# These numbers are adjusted for inflation, so positive trends are not affected"
   ]
  },
  {
   "cell_type": "code",
   "execution_count": 600,
   "metadata": {},
   "outputs": [
    {
     "data": {
      "text/plain": [
       "Text(0.5, 1.0, 'Average Total Gross for Sci-Fi Movies (each year between 2010-2018)')"
      ]
     },
     "execution_count": 600,
     "metadata": {},
     "output_type": "execute_result"
    },
    {
     "data": {
      "image/png": "[encoded data removed]",
      "text/plain": [
       "<Figure size 576x288 with 1 Axes>"
      ]
     },
     "metadata": {
      "needs_background": "light"
     },
     "output_type": "display_data"
    }
   ],
   "source": [
    "# Now that we see that Sci Fi is the only discernable trend, let's just graph Sci-Fi\n",
    "\n",
    "scifi = [genre_dict_3['Sci-Fi'][(genre_dict_3['Sci-Fi']['year_y']==i)&(genre_dict_3['Sci-Fi']['total_BOM_gross']!='Unknown')]['total_BOM_gross'].mean() for i in year_list]\n",
    "\n",
    "plt.figure(figsize=(8,4))\n",
    "\n",
    "plt.plot( year_list, scifi, marker='o', markerfacecolor='mediumorchid', markersize=6, color='mediumorchid', label='Sci-Fi', linewidth=4)\n",
    "\n",
    "year_tix = year_list\n",
    "plt.xticks(year_list, year_list, rotation=45)\n",
    "\n",
    "# x and y vals; use bottom parameter to make stacked\n",
    "plt.xlabel('Year')\n",
    "plt.ylabel('Average Total Gross (billions)')\n",
    "\n",
    "plt.title(\"Average Total Gross for Sci-Fi Movies (each year between 2010-2018)\", size=14)\n"
   ]
  },
  {
   "cell_type": "markdown",
   "metadata": {},
   "source": [
    "### Analyzing Data per STUDIO"
   ]
  },
  {
   "cell_type": "code",
   "execution_count": 114,
   "metadata": {},
   "outputs": [
    {
     "data": {
      "text/plain": [
       "['IFC',\n",
       " 'Fox',\n",
       " 'Uni.',\n",
       " 'FD',\n",
       " 'BV',\n",
       " 'P/DW',\n",
       " 'LGF',\n",
       " 'Wein.',\n",
       " 'RTWC',\n",
       " 'WB',\n",
       " 'Over.',\n",
       " 'Sony',\n",
       " 'Par.',\n",
       " 'W/Dim.',\n",
       " 'FoxS',\n",
       " 'A24',\n",
       " 'CBS',\n",
       " 'Rela.',\n",
       " 'WB (NL)',\n",
       " 'Sum.',\n",
       " 'Osci.',\n",
       " 'Focus',\n",
       " 'SGem',\n",
       " 'EOne',\n",
       " 'SMod',\n",
       " 'SPC',\n",
       " 'LG/S',\n",
       " 'Mira.',\n",
       " 'RAtt.',\n",
       " 'ORF',\n",
       " 'OMNI/FSR',\n",
       " 'App.',\n",
       " 'Magn.',\n",
       " 'Amazon',\n",
       " 'FCW',\n",
       " 'DR',\n",
       " 'Free',\n",
       " 'BG',\n",
       " 'STX',\n",
       " 'Gold.',\n",
       " 'ATO',\n",
       " 'Relbig.',\n",
       " 'BST',\n",
       " 'Anch.',\n",
       " 'MGM',\n",
       " 'TriS',\n",
       " 'UTV',\n",
       " 'Drft.',\n",
       " 'MNE',\n",
       " 'WHE',\n",
       " 'KE',\n",
       " 'Viv.',\n",
       " 'Jan.',\n",
       " '3D',\n",
       " 'MBox',\n",
       " 'Eros',\n",
       " 'ParV',\n",
       " 'ALP',\n",
       " 'VE',\n",
       " 'P4',\n",
       " 'LD',\n",
       " 'Yash',\n",
       " 'BH Tilt',\n",
       " 'IM',\n",
       " 'Studio 8',\n",
       " 'PH',\n",
       " 'TFA',\n",
       " 'ENTMP',\n",
       " 'Alc',\n",
       " 'Strand',\n",
       " 'Saban',\n",
       " 'CE',\n",
       " 'Trib.',\n",
       " 'EC',\n",
       " 'BSC',\n",
       " 'Cohen',\n",
       " 'ELS',\n",
       " 'PNT',\n",
       " 'Annapurna',\n",
       " 'LGP',\n",
       " 'Cleopatra',\n",
       " 'PFR',\n",
       " 'BBC',\n",
       " 'Affirm',\n",
       " 'Orch.',\n",
       " 'GrtIndia',\n",
       " 'RLJ',\n",
       " 'Neon',\n",
       " 'Global Road',\n",
       " 'NM',\n",
       " 'IW',\n",
       " 'Scre.',\n",
       " 'Kino',\n",
       " 'First',\n",
       " 'GK',\n",
       " 'NFC',\n",
       " 'Mont.',\n",
       " 'IVP',\n",
       " 'CJ']"
      ]
     },
     "execution_count": 114,
     "metadata": {},
     "output_type": "execute_result"
    }
   ],
   "source": [
    "# List of studios\n",
    "studio_list = []\n",
    "for studio in imdb_BOM_tn['studio'][imdb_BOM_tn['studio']!='Unknown']:\n",
    "    if studio not in studio_list:\n",
    "        studio_list.append(studio)\n",
    "                \n",
    "studio_list\n"
   ]
  },
  {
   "cell_type": "code",
   "execution_count": null,
   "metadata": {},
   "outputs": [],
   "source": [
    "# Differences in STUDIO mean gross per year\n",
    "###############\n",
    "\n",
    "years = [genre_dict_2[i]['domestic_adj_y'].mean() for i in top_genre_ct_names]\n",
    "avg_gross = [genre_dict_2[i]['worldwide_adj'].mean() for i in top_genre_ct_names]\n",
    "\n",
    "plt.plot( 'x', 'y1', data=df, marker='o', markerfacecolor='blue', markersize=12, color='skyblue', linewidth=4)\n",
    "plt.plot( 'x', 'y2', data=df, marker='', color='olive', linewidth=2)\n",
    "plt.plot( 'x', 'y3', data=df, marker='', color='olive', linewidth=2, linestyle='dashed', label=\"toto\")\n",
    "plt.legend()\n",
    "\n",
    "\n",
    "# x and y vals; use bottom parameter to make stacked\n",
    "ax.set_xlabel('Year')\n",
    "ax.set_ylabel('Average Total Gross')\n",
    "\n",
    "ax.set_xticklabels(years, rotation = 45)\n",
    "\n",
    "ax.set_title('Top 15 Genres Average Domestic Gross')"
   ]
  },
  {
   "cell_type": "code",
   "execution_count": 132,
   "metadata": {},
   "outputs": [],
   "source": [
    "studios_dict = {studio_list[i]:imdb_BOM_tn['total_BOM_gross'][imdb_BOM_tn['studio']==studio_list[i]].mean() for i in range(0, len(studio_list))}\n",
    "sorted_top_15_genres = sorted(studios_dict.items(), key=lambda kv: kv[1], reverse=True)[:15]\n",
    "\n",
    "top_15_studio_names = [sorted_top_15_genres[i][0] for i in range(0, len(sorted_top_15_genres))]\n",
    "top_15_studio_avgs = [sorted_top_15_genres[i][1] for i in range(0, len(sorted_top_15_genres))]\n"
   ]
  },
  {
   "cell_type": "code",
   "execution_count": 137,
   "metadata": {
    "scrolled": true
   },
   "outputs": [
    {
     "name": "stderr",
     "output_type": "stream",
     "text": [
      "<ipython-input-137-8cc3e5746fe9>:15: UserWarning: FixedFormatter should only be used together with FixedLocator\n",
      "  ax.set_xticklabels(top_15_studio_names, rotation = 45)\n"
     ]
    },
    {
     "data": {
      "text/plain": [
       "Text(0.5, 1.0, 'Top 15 Studios by Avg Total Gross')"
      ]
     },
     "execution_count": 137,
     "metadata": {},
     "output_type": "execute_result"
    },
    {
     "data": {
      "image/png": "[encoded data removed]",
      "text/plain": [
       "<Figure size 1152x432 with 1 Axes>"
      ]
     },
     "metadata": {
      "needs_background": "light"
     },
     "output_type": "display_data"
    }
   ],
   "source": [
    "# Studio average total Gross\n",
    "\n",
    "studio_grosses, ax = plt.subplots(nrows=1, ncols=1, figsize=(16,6))\n",
    "###############\n",
    "\n",
    "top_studios = top_15_studio_names\n",
    "studio_avgs = top_15_studio_avgs\n",
    "\n",
    "ax.bar(top_studios, studio_avgs)\n",
    "\n",
    "# x and y vals; use bottom parameter to make stacked\n",
    "ax.set_xlabel('Studio Abbr')\n",
    "ax.set_ylabel('Average Total Gross (billions)')\n",
    "\n",
    "ax.set_xticklabels(top_15_studio_names, rotation = 45)\n",
    "\n",
    "ax.set_title('Top 15 Studios by Avg Total Gross')\n",
    "\n",
    "# P/DW == Pixar and Dreamworks\n",
    "# BV == ???"
   ]
  },
  {
   "cell_type": "code",
   "execution_count": 561,
   "metadata": {},
   "outputs": [
    {
     "data": {
      "text/html": [
       "<div>\n",
       "<style scoped>\n",
       "    .dataframe tbody tr th:only-of-type {\n",
       "        vertical-align: middle;\n",
       "    }\n",
       "\n",
       "    .dataframe tbody tr th {\n",
       "        vertical-align: top;\n",
       "    }\n",
       "\n",
       "    .dataframe thead th {\n",
       "        text-align: right;\n",
       "    }\n",
       "</style>\n",
       "<table border=\"1\" class=\"dataframe\">\n",
       "  <thead>\n",
       "    <tr style=\"text-align: right;\">\n",
       "      <th></th>\n",
       "      <th>tconst</th>\n",
       "      <th>primary_title</th>\n",
       "      <th>original_title</th>\n",
       "      <th>start_year</th>\n",
       "      <th>runtime_minutes</th>\n",
       "      <th>genres</th>\n",
       "      <th>title_equal</th>\n",
       "      <th>ordering_akas</th>\n",
       "      <th>title</th>\n",
       "      <th>region</th>\n",
       "      <th>...</th>\n",
       "      <th>foreign_gross</th>\n",
       "      <th>year_x</th>\n",
       "      <th>domestic_adj_x</th>\n",
       "      <th>foreign_adj</th>\n",
       "      <th>month_released</th>\n",
       "      <th>year_y</th>\n",
       "      <th>domestic_adj_y</th>\n",
       "      <th>worldwide_adj</th>\n",
       "      <th>budget_adj</th>\n",
       "      <th>total_BOM_gross</th>\n",
       "    </tr>\n",
       "  </thead>\n",
       "  <tbody>\n",
       "    <tr>\n",
       "      <th>17</th>\n",
       "      <td>tt0398286</td>\n",
       "      <td>Tangled</td>\n",
       "      <td>Tangled</td>\n",
       "      <td>2010</td>\n",
       "      <td>100</td>\n",
       "      <td>[Adventure, Animation, Comedy]</td>\n",
       "      <td>True</td>\n",
       "      <td>10</td>\n",
       "      <td>Raiponce</td>\n",
       "      <td>FR</td>\n",
       "      <td>...</td>\n",
       "      <td>3.91e+08</td>\n",
       "      <td>2010</td>\n",
       "      <td>2.3833e+08</td>\n",
       "      <td>4.64078e+08</td>\n",
       "      <td>11</td>\n",
       "      <td>2010</td>\n",
       "      <td>2.383559e+08</td>\n",
       "      <td>6.960907e+08</td>\n",
       "      <td>3.085944e+08</td>\n",
       "      <td>7.02434e+08</td>\n",
       "    </tr>\n",
       "    <tr>\n",
       "      <th>18</th>\n",
       "      <td>tt0401729</td>\n",
       "      <td>John Carter</td>\n",
       "      <td>John Carter</td>\n",
       "      <td>2012</td>\n",
       "      <td>132</td>\n",
       "      <td>[Action, Adventure, Sci-Fi]</td>\n",
       "      <td>True</td>\n",
       "      <td>10</td>\n",
       "      <td>Джон Картер: Мiж двох свiтiв</td>\n",
       "      <td>UA</td>\n",
       "      <td>...</td>\n",
       "      <td>2.111e+08</td>\n",
       "      <td>2012</td>\n",
       "      <td>8.24023e+07</td>\n",
       "      <td>2.37964e+08</td>\n",
       "      <td>3</td>\n",
       "      <td>2012</td>\n",
       "      <td>8.235577e+07</td>\n",
       "      <td>3.187630e+08</td>\n",
       "      <td>3.099951e+08</td>\n",
       "      <td>3.20319e+08</td>\n",
       "    </tr>\n",
       "    <tr>\n",
       "      <th>23</th>\n",
       "      <td>tt0433035</td>\n",
       "      <td>Real Steel</td>\n",
       "      <td>Real Steel</td>\n",
       "      <td>2011</td>\n",
       "      <td>127</td>\n",
       "      <td>[Action, Drama, Family]</td>\n",
       "      <td>True</td>\n",
       "      <td>10</td>\n",
       "      <td>Čelična borba</td>\n",
       "      <td>RS</td>\n",
       "      <td>...</td>\n",
       "      <td>2.138e+08</td>\n",
       "      <td>2011</td>\n",
       "      <td>9.83749e+07</td>\n",
       "      <td>2.45995e+08</td>\n",
       "      <td>10</td>\n",
       "      <td>2011</td>\n",
       "      <td>9.833263e+07</td>\n",
       "      <td>3.036162e+08</td>\n",
       "      <td>1.265641e+08</td>\n",
       "      <td>3.44327e+08</td>\n",
       "    </tr>\n",
       "    <tr>\n",
       "      <th>25</th>\n",
       "      <td>tt0435761</td>\n",
       "      <td>Toy Story 3</td>\n",
       "      <td>Toy Story 3</td>\n",
       "      <td>2010</td>\n",
       "      <td>103</td>\n",
       "      <td>[Adventure, Animation, Comedy]</td>\n",
       "      <td>True</td>\n",
       "      <td>10</td>\n",
       "      <td>Η ιστορία των παιχνιδιών 3</td>\n",
       "      <td>GR</td>\n",
       "      <td>...</td>\n",
       "      <td>6.52e+08</td>\n",
       "      <td>2010</td>\n",
       "      <td>4.92564e+08</td>\n",
       "      <td>7.7386e+08</td>\n",
       "      <td>6</td>\n",
       "      <td>2010</td>\n",
       "      <td>4.925699e+08</td>\n",
       "      <td>1.268655e+09</td>\n",
       "      <td>2.373803e+08</td>\n",
       "      <td>1.26643e+09</td>\n",
       "    </tr>\n",
       "    <tr>\n",
       "      <th>27</th>\n",
       "      <td>tt0443272</td>\n",
       "      <td>Lincoln</td>\n",
       "      <td>Lincoln</td>\n",
       "      <td>2012</td>\n",
       "      <td>150</td>\n",
       "      <td>[Biography, Drama, History]</td>\n",
       "      <td>True</td>\n",
       "      <td>10</td>\n",
       "      <td>Lincoln</td>\n",
       "      <td>HR</td>\n",
       "      <td>...</td>\n",
       "      <td>9.31e+07</td>\n",
       "      <td>2012</td>\n",
       "      <td>2.05386e+08</td>\n",
       "      <td>1.04947e+08</td>\n",
       "      <td>11</td>\n",
       "      <td>2012</td>\n",
       "      <td>2.053949e+08</td>\n",
       "      <td>3.081310e+08</td>\n",
       "      <td>7.327158e+07</td>\n",
       "      <td>3.10342e+08</td>\n",
       "    </tr>\n",
       "  </tbody>\n",
       "</table>\n",
       "<p>5 rows × 41 columns</p>\n",
       "</div>"
      ],
      "text/plain": [
       "       tconst primary_title original_title start_year runtime_minutes  \\\n",
       "17  tt0398286       Tangled        Tangled       2010             100   \n",
       "18  tt0401729   John Carter    John Carter       2012             132   \n",
       "23  tt0433035    Real Steel     Real Steel       2011             127   \n",
       "25  tt0435761   Toy Story 3    Toy Story 3       2010             103   \n",
       "27  tt0443272       Lincoln        Lincoln       2012             150   \n",
       "\n",
       "                            genres title_equal ordering_akas  \\\n",
       "17  [Adventure, Animation, Comedy]        True            10   \n",
       "18     [Action, Adventure, Sci-Fi]        True            10   \n",
       "23         [Action, Drama, Family]        True            10   \n",
       "25  [Adventure, Animation, Comedy]        True            10   \n",
       "27     [Biography, Drama, History]        True            10   \n",
       "\n",
       "                           title region  ... foreign_gross year_x  \\\n",
       "17                      Raiponce     FR  ...      3.91e+08   2010   \n",
       "18  Джон Картер: Мiж двох свiтiв     UA  ...     2.111e+08   2012   \n",
       "23                 Čelična borba     RS  ...     2.138e+08   2011   \n",
       "25    Η ιστορία των παιχνιδιών 3     GR  ...      6.52e+08   2010   \n",
       "27                       Lincoln     HR  ...      9.31e+07   2012   \n",
       "\n",
       "   domestic_adj_x  foreign_adj month_released year_y domestic_adj_y  \\\n",
       "17     2.3833e+08  4.64078e+08             11   2010   2.383559e+08   \n",
       "18    8.24023e+07  2.37964e+08              3   2012   8.235577e+07   \n",
       "23    9.83749e+07  2.45995e+08             10   2011   9.833263e+07   \n",
       "25    4.92564e+08   7.7386e+08              6   2010   4.925699e+08   \n",
       "27    2.05386e+08  1.04947e+08             11   2012   2.053949e+08   \n",
       "\n",
       "   worldwide_adj    budget_adj total_BOM_gross  \n",
       "17  6.960907e+08  3.085944e+08     7.02434e+08  \n",
       "18  3.187630e+08  3.099951e+08     3.20319e+08  \n",
       "23  3.036162e+08  1.265641e+08     3.44327e+08  \n",
       "25  1.268655e+09  2.373803e+08     1.26643e+09  \n",
       "27  3.081310e+08  7.327158e+07     3.10342e+08  \n",
       "\n",
       "[5 rows x 41 columns]"
      ]
     },
     "execution_count": 561,
     "metadata": {},
     "output_type": "execute_result"
    }
   ],
   "source": [
    "imdb_BOM_tn[imdb_BOM_tn['studio']=='BV'].head()"
   ]
  },
  {
   "cell_type": "markdown",
   "metadata": {},
   "source": [
    "### Comparing BUDGET vs TOTAL GROSS (using tnMovieBudget data)"
   ]
  },
  {
   "cell_type": "code",
   "execution_count": 568,
   "metadata": {},
   "outputs": [
    {
     "data": {
      "text/plain": [
       "3816"
      ]
     },
     "execution_count": 568,
     "metadata": {},
     "output_type": "execute_result"
    }
   ],
   "source": [
    "len(imdb_master_money['budget_adj'])"
   ]
  },
  {
   "cell_type": "code",
   "execution_count": 569,
   "metadata": {},
   "outputs": [
    {
     "data": {
      "text/plain": [
       "3816"
      ]
     },
     "execution_count": 569,
     "metadata": {},
     "output_type": "execute_result"
    }
   ],
   "source": [
    "len(imdb_master_money['total_gross'])"
   ]
  },
  {
   "cell_type": "code",
   "execution_count": 567,
   "metadata": {
    "scrolled": true
   },
   "outputs": [
    {
     "data": {
      "text/html": [
       "<div>\n",
       "<style scoped>\n",
       "    .dataframe tbody tr th:only-of-type {\n",
       "        vertical-align: middle;\n",
       "    }\n",
       "\n",
       "    .dataframe tbody tr th {\n",
       "        vertical-align: top;\n",
       "    }\n",
       "\n",
       "    .dataframe thead th {\n",
       "        text-align: right;\n",
       "    }\n",
       "</style>\n",
       "<table border=\"1\" class=\"dataframe\">\n",
       "  <thead>\n",
       "    <tr style=\"text-align: right;\">\n",
       "      <th></th>\n",
       "      <th>budget_adj</th>\n",
       "      <th>total_gross</th>\n",
       "    </tr>\n",
       "  </thead>\n",
       "  <tbody>\n",
       "    <tr>\n",
       "      <th>0</th>\n",
       "      <td>5.072648e+07</td>\n",
       "      <td>8.308546e+04</td>\n",
       "    </tr>\n",
       "    <tr>\n",
       "      <th>1</th>\n",
       "      <td>3.396470e+07</td>\n",
       "      <td>3.270231e+08</td>\n",
       "    </tr>\n",
       "    <tr>\n",
       "      <th>2</th>\n",
       "      <td>2.183902e+05</td>\n",
       "      <td>2.485067e+06</td>\n",
       "    </tr>\n",
       "    <tr>\n",
       "      <th>3</th>\n",
       "      <td>2.183902e+05</td>\n",
       "      <td>2.485067e+06</td>\n",
       "    </tr>\n",
       "    <tr>\n",
       "      <th>4</th>\n",
       "      <td>2.777455e+07</td>\n",
       "      <td>1.114774e+07</td>\n",
       "    </tr>\n",
       "    <tr>\n",
       "      <th>...</th>\n",
       "      <td>...</td>\n",
       "      <td>...</td>\n",
       "    </tr>\n",
       "    <tr>\n",
       "      <th>3811</th>\n",
       "      <td>1.340990e+07</td>\n",
       "      <td>6.754783e+07</td>\n",
       "    </tr>\n",
       "    <tr>\n",
       "      <th>3812</th>\n",
       "      <td>2.644572e+07</td>\n",
       "      <td>6.180250e+07</td>\n",
       "    </tr>\n",
       "    <tr>\n",
       "      <th>3813</th>\n",
       "      <td>5.480381e+07</td>\n",
       "      <td>2.741959e+08</td>\n",
       "    </tr>\n",
       "    <tr>\n",
       "      <th>3814</th>\n",
       "      <td>2.246818e+06</td>\n",
       "      <td>0.000000e+00</td>\n",
       "    </tr>\n",
       "    <tr>\n",
       "      <th>3815</th>\n",
       "      <td>5.094705e+07</td>\n",
       "      <td>9.447990e+08</td>\n",
       "    </tr>\n",
       "  </tbody>\n",
       "</table>\n",
       "<p>3816 rows × 2 columns</p>\n",
       "</div>"
      ],
      "text/plain": [
       "        budget_adj   total_gross\n",
       "0     5.072648e+07  8.308546e+04\n",
       "1     3.396470e+07  3.270231e+08\n",
       "2     2.183902e+05  2.485067e+06\n",
       "3     2.183902e+05  2.485067e+06\n",
       "4     2.777455e+07  1.114774e+07\n",
       "...            ...           ...\n",
       "3811  1.340990e+07  6.754783e+07\n",
       "3812  2.644572e+07  6.180250e+07\n",
       "3813  5.480381e+07  2.741959e+08\n",
       "3814  2.246818e+06  0.000000e+00\n",
       "3815  5.094705e+07  9.447990e+08\n",
       "\n",
       "[3816 rows x 2 columns]"
      ]
     },
     "execution_count": 567,
     "metadata": {},
     "output_type": "execute_result"
    }
   ],
   "source": [
    "imdb_master_money[['budget_adj', 'total_gross']]"
   ]
  },
  {
   "cell_type": "markdown",
   "metadata": {},
   "source": [
    "source code for obtaining regression slope : https://stackoverflow.com/questions/45902739/seaborn-annotate-the-linear-regression-equation"
   ]
  },
  {
   "cell_type": "code",
   "execution_count": 660,
   "metadata": {
    "scrolled": true
   },
   "outputs": [
    {
     "name": "stdout",
     "output_type": "stream",
     "text": [
      "0.7131341432169219\n"
     ]
    },
    {
     "data": {
      "image/png": "[encoded data removed]",
      "text/plain": [
       "<Figure size 432x288 with 1 Axes>"
      ]
     },
     "metadata": {
      "needs_background": "light"
     },
     "output_type": "display_data"
    }
   ],
   "source": [
    "import seaborn as sns\n",
    "from scipy import stats\n",
    "\n",
    "budget_nums = list(imdb_master_money[imdb_master_money['total_gross']<3000000000]['budget_adj'].values)\n",
    "total_gross_nums = list(imdb_master_money[imdb_master_money['total_gross']<3000000000]['total_gross'].values)\n",
    "#total_gross_nums = [imdb_master_money[imdb_master_money['total_gross']<3000000000]['total_gross'][i] for i in range(0, len(imdb_master_money[imdb_master_money['total_gross']<3000000000]))]\n",
    "\n",
    "slope, intercept, r_value, p_value, std_err = stats.linregress(budget_nums, total_gross_nums)\n",
    "\n",
    "ax = sns.regplot(x=budget_nums, y=total_gross_nums, scatter_kws={\"color\": \"mediumseagreen\"}, line_kws={\"color\": \"black\", \"label\":\"y={0:.1f}x+{1:.1f}\".format(slope,intercept)})\n",
    "ax.set(xlabel=\"Budget (Hundred Million)\", ylabel = \"Total Gross (Hundred Million)\")\n",
    "ax.set_title('Relation between Budget and Total Gross (with corresponding regression line)', size=12)\n",
    "\n",
    "ax.legend()\n",
    "\n",
    "# for PPT, point out strong correlation\n",
    "print(r_value)\n",
    "\n"
   ]
  },
  {
   "cell_type": "code",
   "execution_count": 630,
   "metadata": {
    "scrolled": true
   },
   "outputs": [
    {
     "data": {
      "text/html": [
       "<div>\n",
       "<style scoped>\n",
       "    .dataframe tbody tr th:only-of-type {\n",
       "        vertical-align: middle;\n",
       "    }\n",
       "\n",
       "    .dataframe tbody tr th {\n",
       "        vertical-align: top;\n",
       "    }\n",
       "\n",
       "    .dataframe thead th {\n",
       "        text-align: right;\n",
       "    }\n",
       "</style>\n",
       "<table border=\"1\" class=\"dataframe\">\n",
       "  <thead>\n",
       "    <tr style=\"text-align: right;\">\n",
       "      <th></th>\n",
       "      <th>tconst</th>\n",
       "      <th>primary_title</th>\n",
       "      <th>original_title</th>\n",
       "      <th>start_year</th>\n",
       "      <th>runtime_minutes</th>\n",
       "      <th>genres</th>\n",
       "      <th>title_equal</th>\n",
       "      <th>ordering_akas</th>\n",
       "      <th>title</th>\n",
       "      <th>region</th>\n",
       "      <th>...</th>\n",
       "      <th>popularity</th>\n",
       "      <th>release_date</th>\n",
       "      <th>vote_average</th>\n",
       "      <th>vote_count</th>\n",
       "      <th>month_released</th>\n",
       "      <th>year</th>\n",
       "      <th>domestic_adj</th>\n",
       "      <th>worldwide_adj</th>\n",
       "      <th>budget_adj</th>\n",
       "      <th>total_gross</th>\n",
       "    </tr>\n",
       "  </thead>\n",
       "  <tbody>\n",
       "    <tr>\n",
       "      <th>2618</th>\n",
       "      <td>tt2316801</td>\n",
       "      <td>Beauty and the Beast</td>\n",
       "      <td>La belle et la bête</td>\n",
       "      <td>2014</td>\n",
       "      <td>112</td>\n",
       "      <td>[Drama, Fantasy, Romance]</td>\n",
       "      <td>False</td>\n",
       "      <td>10</td>\n",
       "      <td>La bella y la bestia</td>\n",
       "      <td>MX</td>\n",
       "      <td>...</td>\n",
       "      <td>26.701</td>\n",
       "      <td>2012-01-13</td>\n",
       "      <td>7.7</td>\n",
       "      <td>5730</td>\n",
       "      <td>3</td>\n",
       "      <td>2017</td>\n",
       "      <td>5.321655e+08</td>\n",
       "      <td>1.329531e+09</td>\n",
       "      <td>1.689367e+08</td>\n",
       "      <td>1.861697e+09</td>\n",
       "    </tr>\n",
       "    <tr>\n",
       "      <th>2619</th>\n",
       "      <td>tt2316801</td>\n",
       "      <td>Beauty and the Beast</td>\n",
       "      <td>La belle et la bête</td>\n",
       "      <td>2014</td>\n",
       "      <td>112</td>\n",
       "      <td>[Drama, Fantasy, Romance]</td>\n",
       "      <td>False</td>\n",
       "      <td>10</td>\n",
       "      <td>La bella y la bestia</td>\n",
       "      <td>MX</td>\n",
       "      <td>...</td>\n",
       "      <td>26.701</td>\n",
       "      <td>2012-01-13</td>\n",
       "      <td>7.7</td>\n",
       "      <td>5730</td>\n",
       "      <td>11</td>\n",
       "      <td>1991</td>\n",
       "      <td>7.145944e+08</td>\n",
       "      <td>1.156158e+09</td>\n",
       "      <td>3.800455e+07</td>\n",
       "      <td>1.870752e+09</td>\n",
       "    </tr>\n",
       "    <tr>\n",
       "      <th>2620</th>\n",
       "      <td>tt2771200</td>\n",
       "      <td>Beauty and the Beast</td>\n",
       "      <td>Beauty and the Beast</td>\n",
       "      <td>2017</td>\n",
       "      <td>129</td>\n",
       "      <td>[Family, Fantasy, Musical]</td>\n",
       "      <td>True</td>\n",
       "      <td>10</td>\n",
       "      <td>Красавица и чудовище</td>\n",
       "      <td>RU</td>\n",
       "      <td>...</td>\n",
       "      <td>26.701</td>\n",
       "      <td>2012-01-13</td>\n",
       "      <td>7.7</td>\n",
       "      <td>5730</td>\n",
       "      <td>3</td>\n",
       "      <td>2017</td>\n",
       "      <td>5.321655e+08</td>\n",
       "      <td>1.329531e+09</td>\n",
       "      <td>1.689367e+08</td>\n",
       "      <td>1.861697e+09</td>\n",
       "    </tr>\n",
       "    <tr>\n",
       "      <th>2621</th>\n",
       "      <td>tt2771200</td>\n",
       "      <td>Beauty and the Beast</td>\n",
       "      <td>Beauty and the Beast</td>\n",
       "      <td>2017</td>\n",
       "      <td>129</td>\n",
       "      <td>[Family, Fantasy, Musical]</td>\n",
       "      <td>True</td>\n",
       "      <td>10</td>\n",
       "      <td>Красавица и чудовище</td>\n",
       "      <td>RU</td>\n",
       "      <td>...</td>\n",
       "      <td>26.701</td>\n",
       "      <td>2012-01-13</td>\n",
       "      <td>7.7</td>\n",
       "      <td>5730</td>\n",
       "      <td>11</td>\n",
       "      <td>1991</td>\n",
       "      <td>7.145944e+08</td>\n",
       "      <td>1.156158e+09</td>\n",
       "      <td>3.800455e+07</td>\n",
       "      <td>1.870752e+09</td>\n",
       "    </tr>\n",
       "    <tr>\n",
       "      <th>2622</th>\n",
       "      <td>tt9173998</td>\n",
       "      <td>Beauty and the Beast</td>\n",
       "      <td>Beauty and the Beast</td>\n",
       "      <td>2018</td>\n",
       "      <td>60</td>\n",
       "      <td>[Family, Fantasy, Musical]</td>\n",
       "      <td>True</td>\n",
       "      <td>Unknown</td>\n",
       "      <td>Unknown</td>\n",
       "      <td>Unknown</td>\n",
       "      <td>...</td>\n",
       "      <td>26.701</td>\n",
       "      <td>2012-01-13</td>\n",
       "      <td>7.7</td>\n",
       "      <td>5730</td>\n",
       "      <td>3</td>\n",
       "      <td>2017</td>\n",
       "      <td>5.321655e+08</td>\n",
       "      <td>1.329531e+09</td>\n",
       "      <td>1.689367e+08</td>\n",
       "      <td>1.861697e+09</td>\n",
       "    </tr>\n",
       "    <tr>\n",
       "      <th>2623</th>\n",
       "      <td>tt9173998</td>\n",
       "      <td>Beauty and the Beast</td>\n",
       "      <td>Beauty and the Beast</td>\n",
       "      <td>2018</td>\n",
       "      <td>60</td>\n",
       "      <td>[Family, Fantasy, Musical]</td>\n",
       "      <td>True</td>\n",
       "      <td>Unknown</td>\n",
       "      <td>Unknown</td>\n",
       "      <td>Unknown</td>\n",
       "      <td>...</td>\n",
       "      <td>26.701</td>\n",
       "      <td>2012-01-13</td>\n",
       "      <td>7.7</td>\n",
       "      <td>5730</td>\n",
       "      <td>11</td>\n",
       "      <td>1991</td>\n",
       "      <td>7.145944e+08</td>\n",
       "      <td>1.156158e+09</td>\n",
       "      <td>3.800455e+07</td>\n",
       "      <td>1.870752e+09</td>\n",
       "    </tr>\n",
       "  </tbody>\n",
       "</table>\n",
       "<p>6 rows × 35 columns</p>\n",
       "</div>"
      ],
      "text/plain": [
       "         tconst         primary_title        original_title start_year  \\\n",
       "2618  tt2316801  Beauty and the Beast   La belle et la bête       2014   \n",
       "2619  tt2316801  Beauty and the Beast   La belle et la bête       2014   \n",
       "2620  tt2771200  Beauty and the Beast  Beauty and the Beast       2017   \n",
       "2621  tt2771200  Beauty and the Beast  Beauty and the Beast       2017   \n",
       "2622  tt9173998  Beauty and the Beast  Beauty and the Beast       2018   \n",
       "2623  tt9173998  Beauty and the Beast  Beauty and the Beast       2018   \n",
       "\n",
       "     runtime_minutes                      genres title_equal ordering_akas  \\\n",
       "2618             112   [Drama, Fantasy, Romance]       False            10   \n",
       "2619             112   [Drama, Fantasy, Romance]       False            10   \n",
       "2620             129  [Family, Fantasy, Musical]        True            10   \n",
       "2621             129  [Family, Fantasy, Musical]        True            10   \n",
       "2622              60  [Family, Fantasy, Musical]        True       Unknown   \n",
       "2623              60  [Family, Fantasy, Musical]        True       Unknown   \n",
       "\n",
       "                     title   region  ... popularity release_date vote_average  \\\n",
       "2618  La bella y la bestia       MX  ...     26.701   2012-01-13          7.7   \n",
       "2619  La bella y la bestia       MX  ...     26.701   2012-01-13          7.7   \n",
       "2620  Красавица и чудовище       RU  ...     26.701   2012-01-13          7.7   \n",
       "2621  Красавица и чудовище       RU  ...     26.701   2012-01-13          7.7   \n",
       "2622               Unknown  Unknown  ...     26.701   2012-01-13          7.7   \n",
       "2623               Unknown  Unknown  ...     26.701   2012-01-13          7.7   \n",
       "\n",
       "     vote_count month_released  year  domestic_adj worldwide_adj  \\\n",
       "2618       5730              3  2017  5.321655e+08  1.329531e+09   \n",
       "2619       5730             11  1991  7.145944e+08  1.156158e+09   \n",
       "2620       5730              3  2017  5.321655e+08  1.329531e+09   \n",
       "2621       5730             11  1991  7.145944e+08  1.156158e+09   \n",
       "2622       5730              3  2017  5.321655e+08  1.329531e+09   \n",
       "2623       5730             11  1991  7.145944e+08  1.156158e+09   \n",
       "\n",
       "        budget_adj   total_gross  \n",
       "2618  1.689367e+08  1.861697e+09  \n",
       "2619  3.800455e+07  1.870752e+09  \n",
       "2620  1.689367e+08  1.861697e+09  \n",
       "2621  3.800455e+07  1.870752e+09  \n",
       "2622  1.689367e+08  1.861697e+09  \n",
       "2623  3.800455e+07  1.870752e+09  \n",
       "\n",
       "[6 rows x 35 columns]"
      ]
     },
     "execution_count": 630,
     "metadata": {},
     "output_type": "execute_result"
    }
   ],
   "source": [
    "titles = ['Beauty and the Beast', 'Rocky', 'Minions']\n",
    "\n",
    "imdb_master_money[imdb_master_money['primary_title']==titles[0]]\n"
   ]
  },
  {
   "cell_type": "code",
   "execution_count": 631,
   "metadata": {
    "scrolled": true
   },
   "outputs": [
    {
     "data": {
      "text/html": [
       "<div>\n",
       "<style scoped>\n",
       "    .dataframe tbody tr th:only-of-type {\n",
       "        vertical-align: middle;\n",
       "    }\n",
       "\n",
       "    .dataframe tbody tr th {\n",
       "        vertical-align: top;\n",
       "    }\n",
       "\n",
       "    .dataframe thead th {\n",
       "        text-align: right;\n",
       "    }\n",
       "</style>\n",
       "<table border=\"1\" class=\"dataframe\">\n",
       "  <thead>\n",
       "    <tr style=\"text-align: right;\">\n",
       "      <th></th>\n",
       "      <th>tconst</th>\n",
       "      <th>primary_title</th>\n",
       "      <th>original_title</th>\n",
       "      <th>start_year</th>\n",
       "      <th>runtime_minutes</th>\n",
       "      <th>genres</th>\n",
       "      <th>title_equal</th>\n",
       "      <th>ordering_akas</th>\n",
       "      <th>title</th>\n",
       "      <th>region</th>\n",
       "      <th>...</th>\n",
       "      <th>popularity</th>\n",
       "      <th>release_date</th>\n",
       "      <th>vote_average</th>\n",
       "      <th>vote_count</th>\n",
       "      <th>month_released</th>\n",
       "      <th>year</th>\n",
       "      <th>domestic_adj</th>\n",
       "      <th>worldwide_adj</th>\n",
       "      <th>budget_adj</th>\n",
       "      <th>total_gross</th>\n",
       "    </tr>\n",
       "  </thead>\n",
       "  <tbody>\n",
       "    <tr>\n",
       "      <th>3018</th>\n",
       "      <td>tt3080284</td>\n",
       "      <td>Rocky</td>\n",
       "      <td>Rocky</td>\n",
       "      <td>2013</td>\n",
       "      <td>136</td>\n",
       "      <td>[Action, Comedy, Drama]</td>\n",
       "      <td>True</td>\n",
       "      <td>1</td>\n",
       "      <td>Rocky</td>\n",
       "      <td>IN</td>\n",
       "      <td>...</td>\n",
       "      <td>Unknown</td>\n",
       "      <td>Unknown</td>\n",
       "      <td>Unknown</td>\n",
       "      <td>Unknown</td>\n",
       "      <td>11</td>\n",
       "      <td>1976</td>\n",
       "      <td>5.332468e+08</td>\n",
       "      <td>1.023418e+09</td>\n",
       "      <td>4.548524e+06</td>\n",
       "      <td>1.556665e+09</td>\n",
       "    </tr>\n",
       "    <tr>\n",
       "      <th>3019</th>\n",
       "      <td>tt9430578</td>\n",
       "      <td>Rocky</td>\n",
       "      <td>Rocky</td>\n",
       "      <td>2019</td>\n",
       "      <td>Unknown</td>\n",
       "      <td>[Action, Drama, Romance]</td>\n",
       "      <td>True</td>\n",
       "      <td>Unknown</td>\n",
       "      <td>Unknown</td>\n",
       "      <td>Unknown</td>\n",
       "      <td>...</td>\n",
       "      <td>Unknown</td>\n",
       "      <td>Unknown</td>\n",
       "      <td>Unknown</td>\n",
       "      <td>Unknown</td>\n",
       "      <td>11</td>\n",
       "      <td>1976</td>\n",
       "      <td>5.332468e+08</td>\n",
       "      <td>1.023418e+09</td>\n",
       "      <td>4.548524e+06</td>\n",
       "      <td>1.556665e+09</td>\n",
       "    </tr>\n",
       "  </tbody>\n",
       "</table>\n",
       "<p>2 rows × 35 columns</p>\n",
       "</div>"
      ],
      "text/plain": [
       "         tconst primary_title original_title start_year runtime_minutes  \\\n",
       "3018  tt3080284         Rocky          Rocky       2013             136   \n",
       "3019  tt9430578         Rocky          Rocky       2019         Unknown   \n",
       "\n",
       "                        genres title_equal ordering_akas    title   region  \\\n",
       "3018   [Action, Comedy, Drama]        True             1    Rocky       IN   \n",
       "3019  [Action, Drama, Romance]        True       Unknown  Unknown  Unknown   \n",
       "\n",
       "      ... popularity release_date vote_average vote_count month_released  \\\n",
       "3018  ...    Unknown      Unknown      Unknown    Unknown             11   \n",
       "3019  ...    Unknown      Unknown      Unknown    Unknown             11   \n",
       "\n",
       "      year  domestic_adj worldwide_adj    budget_adj   total_gross  \n",
       "3018  1976  5.332468e+08  1.023418e+09  4.548524e+06  1.556665e+09  \n",
       "3019  1976  5.332468e+08  1.023418e+09  4.548524e+06  1.556665e+09  \n",
       "\n",
       "[2 rows x 35 columns]"
      ]
     },
     "execution_count": 631,
     "metadata": {},
     "output_type": "execute_result"
    }
   ],
   "source": [
    "imdb_master_money[imdb_master_money['primary_title']==titles[1]]"
   ]
  },
  {
   "cell_type": "code",
   "execution_count": 632,
   "metadata": {
    "scrolled": false
   },
   "outputs": [
    {
     "data": {
      "text/html": [
       "<div>\n",
       "<style scoped>\n",
       "    .dataframe tbody tr th:only-of-type {\n",
       "        vertical-align: middle;\n",
       "    }\n",
       "\n",
       "    .dataframe tbody tr th {\n",
       "        vertical-align: top;\n",
       "    }\n",
       "\n",
       "    .dataframe thead th {\n",
       "        text-align: right;\n",
       "    }\n",
       "</style>\n",
       "<table border=\"1\" class=\"dataframe\">\n",
       "  <thead>\n",
       "    <tr style=\"text-align: right;\">\n",
       "      <th></th>\n",
       "      <th>tconst</th>\n",
       "      <th>primary_title</th>\n",
       "      <th>original_title</th>\n",
       "      <th>start_year</th>\n",
       "      <th>runtime_minutes</th>\n",
       "      <th>genres</th>\n",
       "      <th>title_equal</th>\n",
       "      <th>ordering_akas</th>\n",
       "      <th>title</th>\n",
       "      <th>region</th>\n",
       "      <th>...</th>\n",
       "      <th>popularity</th>\n",
       "      <th>release_date</th>\n",
       "      <th>vote_average</th>\n",
       "      <th>vote_count</th>\n",
       "      <th>month_released</th>\n",
       "      <th>year</th>\n",
       "      <th>domestic_adj</th>\n",
       "      <th>worldwide_adj</th>\n",
       "      <th>budget_adj</th>\n",
       "      <th>total_gross</th>\n",
       "    </tr>\n",
       "  </thead>\n",
       "  <tbody>\n",
       "    <tr>\n",
       "      <th>2587</th>\n",
       "      <td>tt2293640</td>\n",
       "      <td>Minions</td>\n",
       "      <td>Minions</td>\n",
       "      <td>2015</td>\n",
       "      <td>91</td>\n",
       "      <td>[Adventure, Animation, Comedy]</td>\n",
       "      <td>True</td>\n",
       "      <td>10</td>\n",
       "      <td>Suoiuiw</td>\n",
       "      <td>IT</td>\n",
       "      <td>...</td>\n",
       "      <td>9.338</td>\n",
       "      <td>2015-07-10</td>\n",
       "      <td>6.4</td>\n",
       "      <td>7343</td>\n",
       "      <td>7</td>\n",
       "      <td>2015</td>\n",
       "      <td>3.669456e+08</td>\n",
       "      <td>1.267030e+09</td>\n",
       "      <td>8.080439e+07</td>\n",
       "      <td>1.633976e+09</td>\n",
       "    </tr>\n",
       "  </tbody>\n",
       "</table>\n",
       "<p>1 rows × 35 columns</p>\n",
       "</div>"
      ],
      "text/plain": [
       "         tconst primary_title original_title start_year runtime_minutes  \\\n",
       "2587  tt2293640       Minions        Minions       2015              91   \n",
       "\n",
       "                              genres title_equal ordering_akas    title  \\\n",
       "2587  [Adventure, Animation, Comedy]        True            10  Suoiuiw   \n",
       "\n",
       "     region  ... popularity release_date vote_average vote_count  \\\n",
       "2587     IT  ...      9.338   2015-07-10          6.4       7343   \n",
       "\n",
       "     month_released  year  domestic_adj worldwide_adj    budget_adj  \\\n",
       "2587              7  2015  3.669456e+08  1.267030e+09  8.080439e+07   \n",
       "\n",
       "       total_gross  \n",
       "2587  1.633976e+09  \n",
       "\n",
       "[1 rows x 35 columns]"
      ]
     },
     "execution_count": 632,
     "metadata": {},
     "output_type": "execute_result"
    }
   ],
   "source": [
    "imdb_master_money[imdb_master_money['primary_title']==titles[2]]"
   ]
  },
  {
   "cell_type": "code",
   "execution_count": 658,
   "metadata": {},
   "outputs": [
    {
     "data": {
      "text/plain": [
       "tconst                                   tt1454468\n",
       "primary_title                              Gravity\n",
       "original_title                             Gravity\n",
       "start_year                                    2013\n",
       "runtime_minutes                                 91\n",
       "genres                   [Drama, Sci-Fi, Thriller]\n",
       "title_equal                                   True\n",
       "ordering_akas                                   10\n",
       "title                                      Gravité\n",
       "region                                          CA\n",
       "language                                        fr\n",
       "types                                  imdbDisplay\n",
       "attributes                                 Unknown\n",
       "is_original_title                                0\n",
       "directors                                nm0190859\n",
       "writers              nm0190859,nm0190861,nm0000123\n",
       "ordering_princ                                  10\n",
       "nconst                                   nm0002747\n",
       "category                                    editor\n",
       "job                                        Unknown\n",
       "characters                                 Unknown\n",
       "averagerating                                  7.7\n",
       "numvotes                                    710018\n",
       "genre_ids                            [878, 53, 18]\n",
       "id                                           49047\n",
       "popularity                                  27.836\n",
       "release_date                            2013-10-04\n",
       "vote_average                                   7.2\n",
       "vote_count                                    9586\n",
       "month_released                                  10\n",
       "year                                          2013\n",
       "domestic_adj                           3.04512e+08\n",
       "worldwide_adj                          7.70687e+08\n",
       "budget_adj                             1.22208e+08\n",
       "total_gross                             1.0752e+09\n",
       "Name: 1049, dtype: object"
      ]
     },
     "execution_count": 658,
     "metadata": {},
     "output_type": "execute_result"
    }
   ],
   "source": [
    "imdb_master_money.loc[1049]                              "
   ]
  },
  {
   "cell_type": "code",
   "execution_count": 652,
   "metadata": {
    "scrolled": true
   },
   "outputs": [
    {
     "data": {
      "text/html": [
       "<div>\n",
       "<style scoped>\n",
       "    .dataframe tbody tr th:only-of-type {\n",
       "        vertical-align: middle;\n",
       "    }\n",
       "\n",
       "    .dataframe tbody tr th {\n",
       "        vertical-align: top;\n",
       "    }\n",
       "\n",
       "    .dataframe thead th {\n",
       "        text-align: right;\n",
       "    }\n",
       "</style>\n",
       "<table border=\"1\" class=\"dataframe\">\n",
       "  <thead>\n",
       "    <tr style=\"text-align: right;\">\n",
       "      <th></th>\n",
       "      <th>tconst</th>\n",
       "      <th>primary_title</th>\n",
       "      <th>original_title</th>\n",
       "      <th>start_year</th>\n",
       "      <th>runtime_minutes</th>\n",
       "      <th>genres</th>\n",
       "      <th>title_equal</th>\n",
       "      <th>ordering_akas</th>\n",
       "      <th>title</th>\n",
       "      <th>region</th>\n",
       "      <th>...</th>\n",
       "      <th>popularity</th>\n",
       "      <th>release_date</th>\n",
       "      <th>vote_average</th>\n",
       "      <th>vote_count</th>\n",
       "      <th>month_released</th>\n",
       "      <th>year</th>\n",
       "      <th>domestic_adj</th>\n",
       "      <th>worldwide_adj</th>\n",
       "      <th>budget_adj</th>\n",
       "      <th>total_gross</th>\n",
       "    </tr>\n",
       "  </thead>\n",
       "  <tbody>\n",
       "    <tr>\n",
       "      <th>17</th>\n",
       "      <td>tt0398286</td>\n",
       "      <td>Tangled</td>\n",
       "      <td>Tangled</td>\n",
       "      <td>2010</td>\n",
       "      <td>100</td>\n",
       "      <td>[Adventure, Animation, Comedy]</td>\n",
       "      <td>True</td>\n",
       "      <td>10</td>\n",
       "      <td>Raiponce</td>\n",
       "      <td>FR</td>\n",
       "      <td>...</td>\n",
       "      <td>21.511</td>\n",
       "      <td>2010-11-24</td>\n",
       "      <td>7.5</td>\n",
       "      <td>6407</td>\n",
       "      <td>11</td>\n",
       "      <td>2010</td>\n",
       "      <td>2.383559e+08</td>\n",
       "      <td>6.960907e+08</td>\n",
       "      <td>3.085944e+08</td>\n",
       "      <td>9.344466e+08</td>\n",
       "    </tr>\n",
       "    <tr>\n",
       "      <th>25</th>\n",
       "      <td>tt0435761</td>\n",
       "      <td>Toy Story 3</td>\n",
       "      <td>Toy Story 3</td>\n",
       "      <td>2010</td>\n",
       "      <td>103</td>\n",
       "      <td>[Adventure, Animation, Comedy]</td>\n",
       "      <td>True</td>\n",
       "      <td>10</td>\n",
       "      <td>Η ιστορία των παιχνιδιών 3</td>\n",
       "      <td>GR</td>\n",
       "      <td>...</td>\n",
       "      <td>24.445</td>\n",
       "      <td>2010-06-17</td>\n",
       "      <td>7.7</td>\n",
       "      <td>8340</td>\n",
       "      <td>6</td>\n",
       "      <td>2010</td>\n",
       "      <td>4.925699e+08</td>\n",
       "      <td>1.268655e+09</td>\n",
       "      <td>2.373803e+08</td>\n",
       "      <td>1.761225e+09</td>\n",
       "    </tr>\n",
       "    <tr>\n",
       "      <th>158</th>\n",
       "      <td>tt0892769</td>\n",
       "      <td>How to Train Your Dragon</td>\n",
       "      <td>How to Train Your Dragon</td>\n",
       "      <td>2010</td>\n",
       "      <td>98</td>\n",
       "      <td>[Action, Adventure, Animation]</td>\n",
       "      <td>True</td>\n",
       "      <td>10</td>\n",
       "      <td>Como Treinar o Seu Dragão</td>\n",
       "      <td>BR</td>\n",
       "      <td>...</td>\n",
       "      <td>28.734</td>\n",
       "      <td>2010-03-26</td>\n",
       "      <td>7.7</td>\n",
       "      <td>7610</td>\n",
       "      <td>3</td>\n",
       "      <td>2010</td>\n",
       "      <td>2.582475e+08</td>\n",
       "      <td>5.873631e+08</td>\n",
       "      <td>1.958388e+08</td>\n",
       "      <td>8.456106e+08</td>\n",
       "    </tr>\n",
       "    <tr>\n",
       "      <th>159</th>\n",
       "      <td>tt0892791</td>\n",
       "      <td>Shrek Forever After</td>\n",
       "      <td>Shrek Forever After</td>\n",
       "      <td>2010</td>\n",
       "      <td>93</td>\n",
       "      <td>[Adventure, Animation, Comedy]</td>\n",
       "      <td>True</td>\n",
       "      <td>10</td>\n",
       "      <td>Shrek nüüd ja igavesti</td>\n",
       "      <td>EE</td>\n",
       "      <td>...</td>\n",
       "      <td>15.041</td>\n",
       "      <td>2010-05-16</td>\n",
       "      <td>6.1</td>\n",
       "      <td>3843</td>\n",
       "      <td>5</td>\n",
       "      <td>2010</td>\n",
       "      <td>2.833571e+08</td>\n",
       "      <td>8.975880e+08</td>\n",
       "      <td>1.958388e+08</td>\n",
       "      <td>1.180945e+09</td>\n",
       "    </tr>\n",
       "    <tr>\n",
       "      <th>823</th>\n",
       "      <td>tt1323594</td>\n",
       "      <td>Despicable Me</td>\n",
       "      <td>Despicable Me</td>\n",
       "      <td>2010</td>\n",
       "      <td>95</td>\n",
       "      <td>[Animation, Comedy, Family]</td>\n",
       "      <td>True</td>\n",
       "      <td>10</td>\n",
       "      <td>Ganuv Al Hayareach</td>\n",
       "      <td>IL</td>\n",
       "      <td>...</td>\n",
       "      <td>23.673</td>\n",
       "      <td>2010-07-09</td>\n",
       "      <td>7.2</td>\n",
       "      <td>10057</td>\n",
       "      <td>7</td>\n",
       "      <td>2010</td>\n",
       "      <td>2.985223e+08</td>\n",
       "      <td>6.450389e+08</td>\n",
       "      <td>8.189621e+07</td>\n",
       "      <td>9.435613e+08</td>\n",
       "    </tr>\n",
       "  </tbody>\n",
       "</table>\n",
       "<p>5 rows × 35 columns</p>\n",
       "</div>"
      ],
      "text/plain": [
       "        tconst             primary_title            original_title start_year  \\\n",
       "17   tt0398286                   Tangled                   Tangled       2010   \n",
       "25   tt0435761               Toy Story 3               Toy Story 3       2010   \n",
       "158  tt0892769  How to Train Your Dragon  How to Train Your Dragon       2010   \n",
       "159  tt0892791       Shrek Forever After       Shrek Forever After       2010   \n",
       "823  tt1323594             Despicable Me             Despicable Me       2010   \n",
       "\n",
       "    runtime_minutes                          genres title_equal ordering_akas  \\\n",
       "17              100  [Adventure, Animation, Comedy]        True            10   \n",
       "25              103  [Adventure, Animation, Comedy]        True            10   \n",
       "158              98  [Action, Adventure, Animation]        True            10   \n",
       "159              93  [Adventure, Animation, Comedy]        True            10   \n",
       "823              95     [Animation, Comedy, Family]        True            10   \n",
       "\n",
       "                          title region  ... popularity release_date  \\\n",
       "17                     Raiponce     FR  ...     21.511   2010-11-24   \n",
       "25   Η ιστορία των παιχνιδιών 3     GR  ...     24.445   2010-06-17   \n",
       "158   Como Treinar o Seu Dragão     BR  ...     28.734   2010-03-26   \n",
       "159      Shrek nüüd ja igavesti     EE  ...     15.041   2010-05-16   \n",
       "823          Ganuv Al Hayareach     IL  ...     23.673   2010-07-09   \n",
       "\n",
       "    vote_average vote_count month_released  year  domestic_adj worldwide_adj  \\\n",
       "17           7.5       6407             11  2010  2.383559e+08  6.960907e+08   \n",
       "25           7.7       8340              6  2010  4.925699e+08  1.268655e+09   \n",
       "158          7.7       7610              3  2010  2.582475e+08  5.873631e+08   \n",
       "159          6.1       3843              5  2010  2.833571e+08  8.975880e+08   \n",
       "823          7.2      10057              7  2010  2.985223e+08  6.450389e+08   \n",
       "\n",
       "       budget_adj   total_gross  \n",
       "17   3.085944e+08  9.344466e+08  \n",
       "25   2.373803e+08  1.761225e+09  \n",
       "158  1.958388e+08  8.456106e+08  \n",
       "159  1.958388e+08  1.180945e+09  \n",
       "823  8.189621e+07  9.435613e+08  \n",
       "\n",
       "[5 rows x 35 columns]"
      ]
     },
     "execution_count": 652,
     "metadata": {},
     "output_type": "execute_result"
    }
   ],
   "source": [
    "df_animation = genre_dict['Animation'][(genre_dict['Animation']['year']==2010)&(genre_dict['Animation']['total_gross']>600000000)]\n",
    "df_animation"
   ]
  },
  {
   "cell_type": "code",
   "execution_count": 653,
   "metadata": {},
   "outputs": [
    {
     "data": {
      "text/plain": [
       "3.028073753846154"
      ]
     },
     "execution_count": 653,
     "metadata": {},
     "output_type": "execute_result"
    }
   ],
   "source": [
    "imdb_master_money.loc[17]['total_gross'] / imdb_master_money.loc[17]['budget_adj']\n",
    "\n",
    "\n"
   ]
  },
  {
   "cell_type": "code",
   "execution_count": 653,
   "metadata": {},
   "outputs": [
    {
     "data": {
      "text/plain": [
       "3.028073753846154"
      ]
     },
     "execution_count": 653,
     "metadata": {},
     "output_type": "execute_result"
    }
   ],
   "source": [
    "imdb_master_money.loc[25]['total_gross'] / imdb_master_money.loc[25]['budget_adj']\n",
    "\n",
    "\n"
   ]
  },
  {
   "cell_type": "code",
   "execution_count": 653,
   "metadata": {},
   "outputs": [
    {
     "data": {
      "text/plain": [
       "3.028073753846154"
      ]
     },
     "execution_count": 653,
     "metadata": {},
     "output_type": "execute_result"
    }
   ],
   "source": [
    "imdb_master_money.loc[158]['total_gross'] / imdb_master_money.loc[158]['budget_adj']\n",
    "\n",
    "\n"
   ]
  },
  {
   "cell_type": "code",
   "execution_count": 659,
   "metadata": {},
   "outputs": [
    {
     "data": {
      "text/plain": [
       "11.521428376811594"
      ]
     },
     "execution_count": 659,
     "metadata": {},
     "output_type": "execute_result"
    }
   ],
   "source": [
    "imdb_master_money.loc[823]['total_gross'] / imdb_master_money.loc[823]['budget_adj']\n",
    "\n",
    "\n"
   ]
  },
  {
   "cell_type": "code",
   "execution_count": 647,
   "metadata": {},
   "outputs": [
    {
     "data": {
      "text/plain": [
       "4.262422382222223"
      ]
     },
     "execution_count": 647,
     "metadata": {},
     "output_type": "execute_result"
    }
   ],
   "source": [
    "imdb_master_money.loc[86]['total_gross'] / imdb_master_money.loc[86]['budget_adj']\n",
    "                                                                     \n",
    "                                                                     \n",
    "                                                                     "
   ]
  },
  {
   "cell_type": "code",
   "execution_count": 654,
   "metadata": {},
   "outputs": [
    {
     "data": {
      "text/plain": [
       "9.919508415384616"
      ]
     },
     "execution_count": 654,
     "metadata": {},
     "output_type": "execute_result"
    }
   ],
   "source": [
    "imdb_master_money.loc[2067]['total_gross'] / imdb_master_money.loc[2067]['budget_adj']"
   ]
  },
  {
   "cell_type": "code",
   "execution_count": 649,
   "metadata": {},
   "outputs": [
    {
     "data": {
      "text/plain": [
       "8.12192272"
      ]
     },
     "execution_count": 649,
     "metadata": {},
     "output_type": "execute_result"
    }
   ],
   "source": [
    "imdb_master_money.loc[787]['total_gross'] / imdb_master_money.loc[787]['budget_adj']"
   ]
  },
  {
   "cell_type": "code",
   "execution_count": 650,
   "metadata": {},
   "outputs": [
    {
     "data": {
      "text/plain": [
       "8.798103436363636"
      ]
     },
     "execution_count": 650,
     "metadata": {},
     "output_type": "execute_result"
    }
   ],
   "source": [
    "imdb_master_money.loc[1049]['total_gross'] / imdb_master_money.loc[1049]['budget_adj']"
   ]
  },
  {
   "cell_type": "code",
   "execution_count": 110,
   "metadata": {},
   "outputs": [
    {
     "data": {
      "text/plain": [
       "1681"
      ]
     },
     "execution_count": 110,
     "metadata": {},
     "output_type": "execute_result"
    }
   ],
   "source": [
    "imdb_BOM_tn['studio'][imdb_BOM_tn['studio']!='Unknown'].value_counts().sum()"
   ]
  },
  {
   "cell_type": "code",
   "execution_count": 582,
   "metadata": {},
   "outputs": [
    {
     "data": {
      "text/html": [
       "<div>\n",
       "<style scoped>\n",
       "    .dataframe tbody tr th:only-of-type {\n",
       "        vertical-align: middle;\n",
       "    }\n",
       "\n",
       "    .dataframe tbody tr th {\n",
       "        vertical-align: top;\n",
       "    }\n",
       "\n",
       "    .dataframe thead th {\n",
       "        text-align: right;\n",
       "    }\n",
       "</style>\n",
       "<table border=\"1\" class=\"dataframe\">\n",
       "  <thead>\n",
       "    <tr style=\"text-align: right;\">\n",
       "      <th></th>\n",
       "      <th>tconst</th>\n",
       "      <th>primary_title</th>\n",
       "      <th>original_title</th>\n",
       "      <th>start_year</th>\n",
       "      <th>runtime_minutes</th>\n",
       "      <th>genres</th>\n",
       "      <th>title_equal</th>\n",
       "      <th>ordering_akas</th>\n",
       "      <th>title</th>\n",
       "      <th>region</th>\n",
       "      <th>...</th>\n",
       "      <th>popularity</th>\n",
       "      <th>release_date</th>\n",
       "      <th>vote_average</th>\n",
       "      <th>vote_count</th>\n",
       "      <th>month_released</th>\n",
       "      <th>year</th>\n",
       "      <th>domestic_adj</th>\n",
       "      <th>worldwide_adj</th>\n",
       "      <th>budget_adj</th>\n",
       "      <th>total_gross</th>\n",
       "    </tr>\n",
       "  </thead>\n",
       "  <tbody>\n",
       "    <tr>\n",
       "      <th>2877</th>\n",
       "      <td>tt2668120</td>\n",
       "      <td>Bambi</td>\n",
       "      <td>Bambi</td>\n",
       "      <td>2013</td>\n",
       "      <td>58</td>\n",
       "      <td>[Biography, Documentary]</td>\n",
       "      <td>True</td>\n",
       "      <td>1</td>\n",
       "      <td>Bambi</td>\n",
       "      <td>FR</td>\n",
       "      <td>...</td>\n",
       "      <td>Unknown</td>\n",
       "      <td>Unknown</td>\n",
       "      <td>Unknown</td>\n",
       "      <td>Unknown</td>\n",
       "      <td>8</td>\n",
       "      <td>1942</td>\n",
       "      <td>1.632208e+09</td>\n",
       "      <td>4.255297e+09</td>\n",
       "      <td>1.362330e+07</td>\n",
       "      <td>5.887506e+09</td>\n",
       "    </tr>\n",
       "    <tr>\n",
       "      <th>3754</th>\n",
       "      <td>tt7821084</td>\n",
       "      <td>Snow White and the Seven Dwarfs</td>\n",
       "      <td>Snow White and the Seven Dwarfs</td>\n",
       "      <td>2017</td>\n",
       "      <td>49</td>\n",
       "      <td>[Animation, Family]</td>\n",
       "      <td>True</td>\n",
       "      <td>Unknown</td>\n",
       "      <td>Unknown</td>\n",
       "      <td>Unknown</td>\n",
       "      <td>...</td>\n",
       "      <td>Unknown</td>\n",
       "      <td>Unknown</td>\n",
       "      <td>Unknown</td>\n",
       "      <td>Unknown</td>\n",
       "      <td>12</td>\n",
       "      <td>1937</td>\n",
       "      <td>3.323663e+09</td>\n",
       "      <td>3.323663e+09</td>\n",
       "      <td>2.674380e+07</td>\n",
       "      <td>6.647326e+09</td>\n",
       "    </tr>\n",
       "    <tr>\n",
       "      <th>3755</th>\n",
       "      <td>tt9691476</td>\n",
       "      <td>Snow White and the Seven Dwarfs</td>\n",
       "      <td>Snow White and the Seven Dwarfs</td>\n",
       "      <td>2016</td>\n",
       "      <td>Unknown</td>\n",
       "      <td>[Comedy, Drama, Fantasy]</td>\n",
       "      <td>True</td>\n",
       "      <td>Unknown</td>\n",
       "      <td>Unknown</td>\n",
       "      <td>Unknown</td>\n",
       "      <td>...</td>\n",
       "      <td>Unknown</td>\n",
       "      <td>Unknown</td>\n",
       "      <td>Unknown</td>\n",
       "      <td>Unknown</td>\n",
       "      <td>12</td>\n",
       "      <td>1937</td>\n",
       "      <td>3.323663e+09</td>\n",
       "      <td>3.323663e+09</td>\n",
       "      <td>2.674380e+07</td>\n",
       "      <td>6.647326e+09</td>\n",
       "    </tr>\n",
       "  </tbody>\n",
       "</table>\n",
       "<p>3 rows × 35 columns</p>\n",
       "</div>"
      ],
      "text/plain": [
       "         tconst                    primary_title  \\\n",
       "2877  tt2668120                            Bambi   \n",
       "3754  tt7821084  Snow White and the Seven Dwarfs   \n",
       "3755  tt9691476  Snow White and the Seven Dwarfs   \n",
       "\n",
       "                       original_title start_year runtime_minutes  \\\n",
       "2877                            Bambi       2013              58   \n",
       "3754  Snow White and the Seven Dwarfs       2017              49   \n",
       "3755  Snow White and the Seven Dwarfs       2016         Unknown   \n",
       "\n",
       "                        genres title_equal ordering_akas    title   region  \\\n",
       "2877  [Biography, Documentary]        True             1    Bambi       FR   \n",
       "3754       [Animation, Family]        True       Unknown  Unknown  Unknown   \n",
       "3755  [Comedy, Drama, Fantasy]        True       Unknown  Unknown  Unknown   \n",
       "\n",
       "      ... popularity release_date vote_average vote_count month_released  \\\n",
       "2877  ...    Unknown      Unknown      Unknown    Unknown              8   \n",
       "3754  ...    Unknown      Unknown      Unknown    Unknown             12   \n",
       "3755  ...    Unknown      Unknown      Unknown    Unknown             12   \n",
       "\n",
       "      year  domestic_adj worldwide_adj    budget_adj   total_gross  \n",
       "2877  1942  1.632208e+09  4.255297e+09  1.362330e+07  5.887506e+09  \n",
       "3754  1937  3.323663e+09  3.323663e+09  2.674380e+07  6.647326e+09  \n",
       "3755  1937  3.323663e+09  3.323663e+09  2.674380e+07  6.647326e+09  \n",
       "\n",
       "[3 rows x 35 columns]"
      ]
     },
     "execution_count": 582,
     "metadata": {},
     "output_type": "execute_result"
    }
   ],
   "source": [
    "imdb_master_money[imdb_master_money['total_gross']>5000000000]\n",
    "\n",
    "# since these movies were made before the year 2000, we are going to remove them from the scatter plot"
   ]
  },
  {
   "cell_type": "code",
   "execution_count": null,
   "metadata": {},
   "outputs": [],
   "source": [
    "# percent of subscribers that watch new content provided by a streaming service"
   ]
  },
  {
   "cell_type": "code",
   "execution_count": null,
   "metadata": {},
   "outputs": [],
   "source": [
    "# comparing streaming services with multiple figs"
   ]
  },
  {
   "cell_type": "markdown",
   "metadata": {},
   "source": [
    "Speaker notes\n",
    "\n",
    "Intro\n",
    "\n",
    "Overview \n",
    "- we are going to go over three aspects of our insights, (read)\n",
    "- we are analyzing these aspects in relation to Total Gross - Total Gross is measured by domestic gross and worldwide gross"
   ]
  },
  {
   "cell_type": "code",
   "execution_count": null,
   "metadata": {},
   "outputs": [],
   "source": []
  }
 ],
 "metadata": {
  "kernelspec": {
   "display_name": "Python 3",
   "language": "python",
   "name": "python3"
  },
  "language_info": {
   "codemirror_mode": {
    "name": "ipython",
    "version": 3
   },
   "file_extension": ".py",
   "mimetype": "text/x-python",
   "name": "python",
   "nbconvert_exporter": "python",
   "pygments_lexer": "ipython3",
   "version": "3.8.5"
  }
 },
 "nbformat": 4,
 "nbformat_minor": 4
}
